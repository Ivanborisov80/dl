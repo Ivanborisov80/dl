{
 "cells": [
  {
   "cell_type": "markdown",
   "metadata": {},
   "source": [
    "### Лабораторная работа 3. Ансамбли, отбор признаков"
   ]
  },
  {
   "cell_type": "markdown",
   "metadata": {},
   "source": [
    "Результат лабораторной работы − отчет. Мы предпочитаем принимать отчеты в формате ноутбуков Jupyter (ipynb-файл). Постарайтесь сделать ваш отчет интересным рассказом, последовательно отвечающим на вопросы из заданий. Помимо ответов на вопросы, в отчете так же должен быть код, однако чем меньше кода, тем лучше всем: нам − меньше проверять, вам —  проще найти ошибку или дополнить эксперимент. При проверке оценивается четкость ответов на вопросы, аккуратность отчета и кода.\n",
    "\n",
    "\n",
    "### Оценивание и штрафы\n",
    "\n",
    "* Каждая из задач имеет определенную «стоимость» (указана в скобках около задачи)\n",
    "* Максимально допустимая оценка за работу — 15 баллов\n",
    "* Сдавать задание после указанного срока сдачи нельзя\n",
    "* «Похожие» решения считаются плагиатом и все задействованные студенты (в том числе те, у кого списали) не могут получить за него больше 0 баллов и понижают карму (подробнее о плагиате см. на странице курса)\n",
    "* Если вы нашли решение какого-то из заданий в открытом источнике, необходимо прислать ссылку на этот источник (скорее всего вы будете не единственным, кто это нашел, поэтому чтобы исключить подозрение в плагиате, необходима ссылка на источник)\n",
    "* Не оцениваются задания с удалёнными формулировками\n",
    "* Не оценивается лабораторная работа целиком, если она была выложена в открытый источник"
   ]
  },
  {
   "cell_type": "markdown",
   "metadata": {},
   "source": [
    "## Введение\n",
    "\n",
    "Обратившись к Питеру Флаху, перечислим еще раз три ингридиента машинного обучения: задачи, модели и признаки.\n",
    "\n",
    "Наш курс вводный, и темы извлечения признаков затрагивает очень неглубоко (на ум приходят модели мешка слов или использование дерева решений, как генератора категориального признака \"номер листа\"). \n",
    "\n",
    "На вводной лекции Саша Крайнов рассказывал вам о том, что в задачах машинного зрения применяется подход, когда одна нейронная сеть обучает и \"извлекатель признаков\" (на жаргоне -- тушка) и классификатор поверх данного слоя признаков (на жаргоне -- голову). \n",
    "В данной лабораторной работе (и сопряженным с ней конкурсе) мы возьмём предобученную нейронную сеть, входящую в набор моделей torchvision.models, и оставим от нее только \"тушку\". Таким образом у нас будет генератор признаков.\n",
    "\n",
    "Мы сгенерировали для вас dataset с извлечёнными из картинок признаками.\n",
    "\n",
    "Как вы понимаете, нет никаких гарантий, что данный набор признаков будет полезен для нашей задачи.\n",
    "\n",
    "А значит, вы сможете:\n",
    "  * применить методы отбора признаков \n",
    "  * обучить на лучших подмножествах модели, которые вы еще не испытвали в лабораторных\n",
    "    * модели на основе растояний\n",
    "    * деревья решений\n",
    "    * ансамбли над деревьями решений.\n",
    "  * отобрать лучшие модели\n",
    "  \n",
    "И получить таким образом хорошее baseline решение для конкурса."
   ]
  },
  {
   "cell_type": "code",
   "execution_count": 514,
   "metadata": {
    "ExecuteTime": {
     "end_time": "2021-05-15T15:05:41.735659Z",
     "start_time": "2021-05-15T15:05:41.726739Z"
    }
   },
   "outputs": [],
   "source": [
    "import pandas as pd\n",
    "import numpy as np\n",
    "from sklearn.feature_selection import GenericUnivariateSelect, mutual_info_classif, SelectFromModel\n",
    "from sklearn.linear_model import LogisticRegression\n",
    "from sklearn.model_selection import cross_val_score\n",
    "from sklearn.neighbors import KNeighborsClassifier\n",
    "from matplotlib import pyplot as plt\n",
    "from sklearn.ensemble import RandomForestClassifier\n",
    "from sklearn.preprocessing import MinMaxScaler\n",
    "from sklearn.decomposition import PCA\n",
    "from sklearn.feature_selection import SequentialFeatureSelector\n",
    "from sklearn.tree import DecisionTreeClassifier\n",
    "from sklearn.model_selection import StratifiedKFold\n",
    "from sklearn.inspection import permutation_importance\n",
    "from sklearn.base import BaseEstimator, ClassifierMixin\n",
    "from sklearn.ensemble import StackingClassifier\n",
    "from sklearn.pipeline import Pipeline, make_pipeline\n",
    "from random import randint\n",
    "import optuna\n",
    "import shap\n",
    "import tqdm\n",
    "from catboost import CatBoostClassifier\n",
    "\n",
    "plt.rcParams['figure.figsize'] = (14, 7)"
   ]
  },
  {
   "cell_type": "markdown",
   "metadata": {},
   "source": [
    "## Задача и Dataset"
   ]
  },
  {
   "cell_type": "markdown",
   "metadata": {},
   "source": [
    "Данные о задаче доступны в соревновании https://www.kaggle.com/t/c5b18ffd89ec43aa95477548b54f0e7e\n",
    "\n",
    "Метрика -- AUC ROC"
   ]
  },
  {
   "cell_type": "code",
   "execution_count": 3,
   "metadata": {
    "ExecuteTime": {
     "end_time": "2021-05-12T23:21:58.563156Z",
     "start_time": "2021-05-12T23:21:58.103288Z"
    }
   },
   "outputs": [
    {
     "data": {
      "text/html": [
       "<div>\n",
       "<style scoped>\n",
       "    .dataframe tbody tr th:only-of-type {\n",
       "        vertical-align: middle;\n",
       "    }\n",
       "\n",
       "    .dataframe tbody tr th {\n",
       "        vertical-align: top;\n",
       "    }\n",
       "\n",
       "    .dataframe thead th {\n",
       "        text-align: right;\n",
       "    }\n",
       "</style>\n",
       "<table border=\"1\" class=\"dataframe\">\n",
       "  <thead>\n",
       "    <tr style=\"text-align: right;\">\n",
       "      <th></th>\n",
       "      <th>A_000</th>\n",
       "      <th>A_001</th>\n",
       "      <th>A_002</th>\n",
       "      <th>A_003</th>\n",
       "      <th>A_004</th>\n",
       "      <th>A_005</th>\n",
       "      <th>A_006</th>\n",
       "      <th>A_007</th>\n",
       "      <th>A_008</th>\n",
       "      <th>A_009</th>\n",
       "      <th>...</th>\n",
       "      <th>A_502</th>\n",
       "      <th>A_503</th>\n",
       "      <th>A_504</th>\n",
       "      <th>A_505</th>\n",
       "      <th>A_506</th>\n",
       "      <th>A_507</th>\n",
       "      <th>A_508</th>\n",
       "      <th>A_509</th>\n",
       "      <th>A_510</th>\n",
       "      <th>A_511</th>\n",
       "    </tr>\n",
       "  </thead>\n",
       "  <tbody>\n",
       "    <tr>\n",
       "      <th>0</th>\n",
       "      <td>0.860262</td>\n",
       "      <td>0.973692</td>\n",
       "      <td>0.928669</td>\n",
       "      <td>0.983180</td>\n",
       "      <td>0.921490</td>\n",
       "      <td>0.893082</td>\n",
       "      <td>0.896374</td>\n",
       "      <td>1.166348</td>\n",
       "      <td>0.976090</td>\n",
       "      <td>0.934188</td>\n",
       "      <td>...</td>\n",
       "      <td>0.884115</td>\n",
       "      <td>0.825269</td>\n",
       "      <td>0.867979</td>\n",
       "      <td>0.813514</td>\n",
       "      <td>1.094121</td>\n",
       "      <td>1.041853</td>\n",
       "      <td>0.994663</td>\n",
       "      <td>0.941488</td>\n",
       "      <td>1.060160</td>\n",
       "      <td>0.937741</td>\n",
       "    </tr>\n",
       "    <tr>\n",
       "      <th>1</th>\n",
       "      <td>0.974091</td>\n",
       "      <td>0.980219</td>\n",
       "      <td>0.867670</td>\n",
       "      <td>1.028374</td>\n",
       "      <td>0.982019</td>\n",
       "      <td>0.932177</td>\n",
       "      <td>0.963477</td>\n",
       "      <td>1.156632</td>\n",
       "      <td>0.862525</td>\n",
       "      <td>0.905283</td>\n",
       "      <td>...</td>\n",
       "      <td>0.934491</td>\n",
       "      <td>0.910559</td>\n",
       "      <td>0.906479</td>\n",
       "      <td>0.850581</td>\n",
       "      <td>1.110033</td>\n",
       "      <td>0.924904</td>\n",
       "      <td>0.928172</td>\n",
       "      <td>0.940252</td>\n",
       "      <td>1.120156</td>\n",
       "      <td>0.954470</td>\n",
       "    </tr>\n",
       "    <tr>\n",
       "      <th>2</th>\n",
       "      <td>0.908975</td>\n",
       "      <td>0.910847</td>\n",
       "      <td>0.896063</td>\n",
       "      <td>1.077621</td>\n",
       "      <td>0.898831</td>\n",
       "      <td>0.947538</td>\n",
       "      <td>1.012399</td>\n",
       "      <td>1.129408</td>\n",
       "      <td>0.898499</td>\n",
       "      <td>0.961152</td>\n",
       "      <td>...</td>\n",
       "      <td>0.955161</td>\n",
       "      <td>0.965252</td>\n",
       "      <td>0.893417</td>\n",
       "      <td>0.876576</td>\n",
       "      <td>1.109091</td>\n",
       "      <td>0.940675</td>\n",
       "      <td>0.976045</td>\n",
       "      <td>0.963731</td>\n",
       "      <td>0.982111</td>\n",
       "      <td>0.905192</td>\n",
       "    </tr>\n",
       "    <tr>\n",
       "      <th>3</th>\n",
       "      <td>0.908817</td>\n",
       "      <td>0.974266</td>\n",
       "      <td>0.926658</td>\n",
       "      <td>1.039647</td>\n",
       "      <td>0.966214</td>\n",
       "      <td>0.856318</td>\n",
       "      <td>0.920029</td>\n",
       "      <td>1.056084</td>\n",
       "      <td>0.895255</td>\n",
       "      <td>0.975229</td>\n",
       "      <td>...</td>\n",
       "      <td>0.947294</td>\n",
       "      <td>0.863783</td>\n",
       "      <td>0.908302</td>\n",
       "      <td>0.889247</td>\n",
       "      <td>1.150731</td>\n",
       "      <td>0.832890</td>\n",
       "      <td>0.945889</td>\n",
       "      <td>0.994688</td>\n",
       "      <td>1.094576</td>\n",
       "      <td>0.991118</td>\n",
       "    </tr>\n",
       "    <tr>\n",
       "      <th>4</th>\n",
       "      <td>0.868417</td>\n",
       "      <td>0.919241</td>\n",
       "      <td>0.868347</td>\n",
       "      <td>0.917431</td>\n",
       "      <td>0.943406</td>\n",
       "      <td>0.874338</td>\n",
       "      <td>0.966561</td>\n",
       "      <td>1.200914</td>\n",
       "      <td>0.991275</td>\n",
       "      <td>0.943415</td>\n",
       "      <td>...</td>\n",
       "      <td>1.016494</td>\n",
       "      <td>0.880458</td>\n",
       "      <td>0.904808</td>\n",
       "      <td>0.902078</td>\n",
       "      <td>1.062960</td>\n",
       "      <td>0.960974</td>\n",
       "      <td>0.947542</td>\n",
       "      <td>0.911971</td>\n",
       "      <td>1.077786</td>\n",
       "      <td>0.916956</td>\n",
       "    </tr>\n",
       "  </tbody>\n",
       "</table>\n",
       "<p>5 rows × 512 columns</p>\n",
       "</div>"
      ],
      "text/plain": [
       "      A_000     A_001     A_002     A_003     A_004     A_005     A_006  \\\n",
       "0  0.860262  0.973692  0.928669  0.983180  0.921490  0.893082  0.896374   \n",
       "1  0.974091  0.980219  0.867670  1.028374  0.982019  0.932177  0.963477   \n",
       "2  0.908975  0.910847  0.896063  1.077621  0.898831  0.947538  1.012399   \n",
       "3  0.908817  0.974266  0.926658  1.039647  0.966214  0.856318  0.920029   \n",
       "4  0.868417  0.919241  0.868347  0.917431  0.943406  0.874338  0.966561   \n",
       "\n",
       "      A_007     A_008     A_009  ...     A_502     A_503     A_504     A_505  \\\n",
       "0  1.166348  0.976090  0.934188  ...  0.884115  0.825269  0.867979  0.813514   \n",
       "1  1.156632  0.862525  0.905283  ...  0.934491  0.910559  0.906479  0.850581   \n",
       "2  1.129408  0.898499  0.961152  ...  0.955161  0.965252  0.893417  0.876576   \n",
       "3  1.056084  0.895255  0.975229  ...  0.947294  0.863783  0.908302  0.889247   \n",
       "4  1.200914  0.991275  0.943415  ...  1.016494  0.880458  0.904808  0.902078   \n",
       "\n",
       "      A_506     A_507     A_508     A_509     A_510     A_511  \n",
       "0  1.094121  1.041853  0.994663  0.941488  1.060160  0.937741  \n",
       "1  1.110033  0.924904  0.928172  0.940252  1.120156  0.954470  \n",
       "2  1.109091  0.940675  0.976045  0.963731  0.982111  0.905192  \n",
       "3  1.150731  0.832890  0.945889  0.994688  1.094576  0.991118  \n",
       "4  1.062960  0.960974  0.947542  0.911971  1.077786  0.916956  \n",
       "\n",
       "[5 rows x 512 columns]"
      ]
     },
     "execution_count": 3,
     "metadata": {},
     "output_type": "execute_result"
    }
   ],
   "source": [
    "df_full = pd.read_csv('train.csv')\n",
    "X_full, y = df_full.drop(columns=['label']), df_full['label']\n",
    "X_full.head()"
   ]
  },
  {
   "cell_type": "code",
   "execution_count": 4,
   "metadata": {
    "ExecuteTime": {
     "end_time": "2021-05-12T23:22:02.289058Z",
     "start_time": "2021-05-12T23:22:02.103826Z"
    }
   },
   "outputs": [
    {
     "data": {
      "text/plain": [
       "(array([ 56., 229., 142.,  49.,  20.,   6.,   4.,   2.,   3.,   1.]),\n",
       " array([0.81804223, 0.8743171 , 0.93059197, 0.98686684, 1.04314171,\n",
       "        1.09941658, 1.15569146, 1.21196633, 1.2682412 , 1.32451607,\n",
       "        1.38079094]),\n",
       " <BarContainer object of 10 artists>)"
      ]
     },
     "execution_count": 4,
     "metadata": {},
     "output_type": "execute_result"
    },
    {
     "data": {
      "image/png": "[encoded data removed]",
      "text/plain": [
       "<Figure size 1008x504 with 1 Axes>"
      ]
     },
     "metadata": {
      "needs_background": "light"
     },
     "output_type": "display_data"
    }
   ],
   "source": [
    "plt.hist(X_full.mean(axis=0))"
   ]
  },
  {
   "cell_type": "markdown",
   "metadata": {},
   "source": [
    "Есть желание заранее отмасштабировать данные, чтобы алгоритмы, для которых это существенно, были с другими в равных условиях."
   ]
  },
  {
   "cell_type": "code",
   "execution_count": 5,
   "metadata": {
    "ExecuteTime": {
     "end_time": "2021-05-12T23:22:10.168284Z",
     "start_time": "2021-05-12T23:22:10.103399Z"
    }
   },
   "outputs": [
    {
     "data": {
      "text/html": [
       "<div>\n",
       "<style scoped>\n",
       "    .dataframe tbody tr th:only-of-type {\n",
       "        vertical-align: middle;\n",
       "    }\n",
       "\n",
       "    .dataframe tbody tr th {\n",
       "        vertical-align: top;\n",
       "    }\n",
       "\n",
       "    .dataframe thead th {\n",
       "        text-align: right;\n",
       "    }\n",
       "</style>\n",
       "<table border=\"1\" class=\"dataframe\">\n",
       "  <thead>\n",
       "    <tr style=\"text-align: right;\">\n",
       "      <th></th>\n",
       "      <th>A_000</th>\n",
       "      <th>A_001</th>\n",
       "      <th>A_002</th>\n",
       "      <th>A_003</th>\n",
       "      <th>A_004</th>\n",
       "      <th>A_005</th>\n",
       "      <th>A_006</th>\n",
       "      <th>A_007</th>\n",
       "      <th>A_008</th>\n",
       "      <th>A_009</th>\n",
       "      <th>...</th>\n",
       "      <th>A_502</th>\n",
       "      <th>A_503</th>\n",
       "      <th>A_504</th>\n",
       "      <th>A_505</th>\n",
       "      <th>A_506</th>\n",
       "      <th>A_507</th>\n",
       "      <th>A_508</th>\n",
       "      <th>A_509</th>\n",
       "      <th>A_510</th>\n",
       "      <th>A_511</th>\n",
       "    </tr>\n",
       "  </thead>\n",
       "  <tbody>\n",
       "    <tr>\n",
       "      <th>0</th>\n",
       "      <td>0.360837</td>\n",
       "      <td>0.632869</td>\n",
       "      <td>0.595462</td>\n",
       "      <td>0.362489</td>\n",
       "      <td>0.577529</td>\n",
       "      <td>0.650654</td>\n",
       "      <td>0.397140</td>\n",
       "      <td>0.643683</td>\n",
       "      <td>0.660644</td>\n",
       "      <td>0.524372</td>\n",
       "      <td>...</td>\n",
       "      <td>0.373843</td>\n",
       "      <td>0.334489</td>\n",
       "      <td>0.381283</td>\n",
       "      <td>0.435012</td>\n",
       "      <td>0.577473</td>\n",
       "      <td>0.686453</td>\n",
       "      <td>0.717945</td>\n",
       "      <td>0.634543</td>\n",
       "      <td>0.594547</td>\n",
       "      <td>0.452758</td>\n",
       "    </tr>\n",
       "    <tr>\n",
       "      <th>1</th>\n",
       "      <td>0.741514</td>\n",
       "      <td>0.652486</td>\n",
       "      <td>0.363845</td>\n",
       "      <td>0.500242</td>\n",
       "      <td>0.782237</td>\n",
       "      <td>0.784131</td>\n",
       "      <td>0.623618</td>\n",
       "      <td>0.617225</td>\n",
       "      <td>0.320164</td>\n",
       "      <td>0.434504</td>\n",
       "      <td>...</td>\n",
       "      <td>0.544160</td>\n",
       "      <td>0.645951</td>\n",
       "      <td>0.531172</td>\n",
       "      <td>0.556442</td>\n",
       "      <td>0.622979</td>\n",
       "      <td>0.360023</td>\n",
       "      <td>0.509758</td>\n",
       "      <td>0.630568</td>\n",
       "      <td>0.756259</td>\n",
       "      <td>0.511313</td>\n",
       "    </tr>\n",
       "    <tr>\n",
       "      <th>2</th>\n",
       "      <td>0.523748</td>\n",
       "      <td>0.443987</td>\n",
       "      <td>0.471653</td>\n",
       "      <td>0.650352</td>\n",
       "      <td>0.500898</td>\n",
       "      <td>0.836577</td>\n",
       "      <td>0.788731</td>\n",
       "      <td>0.543093</td>\n",
       "      <td>0.428018</td>\n",
       "      <td>0.608205</td>\n",
       "      <td>...</td>\n",
       "      <td>0.614046</td>\n",
       "      <td>0.845684</td>\n",
       "      <td>0.480320</td>\n",
       "      <td>0.641601</td>\n",
       "      <td>0.620283</td>\n",
       "      <td>0.404043</td>\n",
       "      <td>0.659652</td>\n",
       "      <td>0.706107</td>\n",
       "      <td>0.384174</td>\n",
       "      <td>0.338826</td>\n",
       "    </tr>\n",
       "    <tr>\n",
       "      <th>3</th>\n",
       "      <td>0.523218</td>\n",
       "      <td>0.634596</td>\n",
       "      <td>0.587826</td>\n",
       "      <td>0.534604</td>\n",
       "      <td>0.728784</td>\n",
       "      <td>0.525132</td>\n",
       "      <td>0.476977</td>\n",
       "      <td>0.343424</td>\n",
       "      <td>0.418294</td>\n",
       "      <td>0.651973</td>\n",
       "      <td>...</td>\n",
       "      <td>0.587449</td>\n",
       "      <td>0.475133</td>\n",
       "      <td>0.538268</td>\n",
       "      <td>0.683112</td>\n",
       "      <td>0.739368</td>\n",
       "      <td>0.103193</td>\n",
       "      <td>0.565232</td>\n",
       "      <td>0.805705</td>\n",
       "      <td>0.687311</td>\n",
       "      <td>0.639592</td>\n",
       "    </tr>\n",
       "    <tr>\n",
       "      <th>4</th>\n",
       "      <td>0.388109</td>\n",
       "      <td>0.469214</td>\n",
       "      <td>0.366415</td>\n",
       "      <td>0.162079</td>\n",
       "      <td>0.651648</td>\n",
       "      <td>0.586658</td>\n",
       "      <td>0.634027</td>\n",
       "      <td>0.737812</td>\n",
       "      <td>0.706171</td>\n",
       "      <td>0.553061</td>\n",
       "      <td>...</td>\n",
       "      <td>0.821411</td>\n",
       "      <td>0.536029</td>\n",
       "      <td>0.524664</td>\n",
       "      <td>0.725146</td>\n",
       "      <td>0.488358</td>\n",
       "      <td>0.460702</td>\n",
       "      <td>0.570407</td>\n",
       "      <td>0.539578</td>\n",
       "      <td>0.642054</td>\n",
       "      <td>0.380005</td>\n",
       "    </tr>\n",
       "    <tr>\n",
       "      <th>5</th>\n",
       "      <td>0.370319</td>\n",
       "      <td>0.619581</td>\n",
       "      <td>0.709963</td>\n",
       "      <td>0.519040</td>\n",
       "      <td>0.570139</td>\n",
       "      <td>0.657272</td>\n",
       "      <td>0.315212</td>\n",
       "      <td>0.513777</td>\n",
       "      <td>0.701542</td>\n",
       "      <td>0.758356</td>\n",
       "      <td>...</td>\n",
       "      <td>0.363082</td>\n",
       "      <td>0.568483</td>\n",
       "      <td>0.841092</td>\n",
       "      <td>0.355990</td>\n",
       "      <td>0.302384</td>\n",
       "      <td>0.579314</td>\n",
       "      <td>0.641528</td>\n",
       "      <td>0.542906</td>\n",
       "      <td>0.503958</td>\n",
       "      <td>0.528631</td>\n",
       "    </tr>\n",
       "    <tr>\n",
       "      <th>6</th>\n",
       "      <td>0.627770</td>\n",
       "      <td>0.591782</td>\n",
       "      <td>0.758493</td>\n",
       "      <td>0.525986</td>\n",
       "      <td>0.646399</td>\n",
       "      <td>0.375588</td>\n",
       "      <td>0.525387</td>\n",
       "      <td>0.304223</td>\n",
       "      <td>0.378038</td>\n",
       "      <td>0.607173</td>\n",
       "      <td>...</td>\n",
       "      <td>0.648715</td>\n",
       "      <td>0.598479</td>\n",
       "      <td>0.590839</td>\n",
       "      <td>0.489825</td>\n",
       "      <td>0.705311</td>\n",
       "      <td>0.628904</td>\n",
       "      <td>0.662226</td>\n",
       "      <td>0.481360</td>\n",
       "      <td>0.813659</td>\n",
       "      <td>0.553920</td>\n",
       "    </tr>\n",
       "    <tr>\n",
       "      <th>7</th>\n",
       "      <td>0.281005</td>\n",
       "      <td>0.518105</td>\n",
       "      <td>0.610326</td>\n",
       "      <td>0.355314</td>\n",
       "      <td>0.472125</td>\n",
       "      <td>0.476898</td>\n",
       "      <td>0.686359</td>\n",
       "      <td>0.703415</td>\n",
       "      <td>0.410166</td>\n",
       "      <td>0.621838</td>\n",
       "      <td>...</td>\n",
       "      <td>0.458665</td>\n",
       "      <td>0.571849</td>\n",
       "      <td>0.646470</td>\n",
       "      <td>0.438666</td>\n",
       "      <td>0.538978</td>\n",
       "      <td>0.615417</td>\n",
       "      <td>0.637284</td>\n",
       "      <td>0.665234</td>\n",
       "      <td>0.556165</td>\n",
       "      <td>0.324445</td>\n",
       "    </tr>\n",
       "    <tr>\n",
       "      <th>8</th>\n",
       "      <td>0.648819</td>\n",
       "      <td>0.629282</td>\n",
       "      <td>0.873192</td>\n",
       "      <td>0.220910</td>\n",
       "      <td>0.697100</td>\n",
       "      <td>0.801211</td>\n",
       "      <td>0.398387</td>\n",
       "      <td>0.717010</td>\n",
       "      <td>0.696349</td>\n",
       "      <td>0.552062</td>\n",
       "      <td>...</td>\n",
       "      <td>0.492569</td>\n",
       "      <td>0.770017</td>\n",
       "      <td>0.556446</td>\n",
       "      <td>0.635692</td>\n",
       "      <td>0.379803</td>\n",
       "      <td>0.557488</td>\n",
       "      <td>0.663792</td>\n",
       "      <td>0.602254</td>\n",
       "      <td>0.379236</td>\n",
       "      <td>0.425508</td>\n",
       "    </tr>\n",
       "    <tr>\n",
       "      <th>9</th>\n",
       "      <td>0.783180</td>\n",
       "      <td>0.589710</td>\n",
       "      <td>0.649417</td>\n",
       "      <td>0.483105</td>\n",
       "      <td>0.510441</td>\n",
       "      <td>0.589543</td>\n",
       "      <td>0.781572</td>\n",
       "      <td>0.662892</td>\n",
       "      <td>0.457775</td>\n",
       "      <td>0.548873</td>\n",
       "      <td>...</td>\n",
       "      <td>0.607683</td>\n",
       "      <td>0.941185</td>\n",
       "      <td>0.458550</td>\n",
       "      <td>0.636544</td>\n",
       "      <td>0.646512</td>\n",
       "      <td>0.543301</td>\n",
       "      <td>0.755932</td>\n",
       "      <td>0.722401</td>\n",
       "      <td>0.592236</td>\n",
       "      <td>0.306883</td>\n",
       "    </tr>\n",
       "  </tbody>\n",
       "</table>\n",
       "<p>10 rows × 512 columns</p>\n",
       "</div>"
      ],
      "text/plain": [
       "      A_000     A_001     A_002     A_003     A_004     A_005     A_006  \\\n",
       "0  0.360837  0.632869  0.595462  0.362489  0.577529  0.650654  0.397140   \n",
       "1  0.741514  0.652486  0.363845  0.500242  0.782237  0.784131  0.623618   \n",
       "2  0.523748  0.443987  0.471653  0.650352  0.500898  0.836577  0.788731   \n",
       "3  0.523218  0.634596  0.587826  0.534604  0.728784  0.525132  0.476977   \n",
       "4  0.388109  0.469214  0.366415  0.162079  0.651648  0.586658  0.634027   \n",
       "5  0.370319  0.619581  0.709963  0.519040  0.570139  0.657272  0.315212   \n",
       "6  0.627770  0.591782  0.758493  0.525986  0.646399  0.375588  0.525387   \n",
       "7  0.281005  0.518105  0.610326  0.355314  0.472125  0.476898  0.686359   \n",
       "8  0.648819  0.629282  0.873192  0.220910  0.697100  0.801211  0.398387   \n",
       "9  0.783180  0.589710  0.649417  0.483105  0.510441  0.589543  0.781572   \n",
       "\n",
       "      A_007     A_008     A_009  ...     A_502     A_503     A_504     A_505  \\\n",
       "0  0.643683  0.660644  0.524372  ...  0.373843  0.334489  0.381283  0.435012   \n",
       "1  0.617225  0.320164  0.434504  ...  0.544160  0.645951  0.531172  0.556442   \n",
       "2  0.543093  0.428018  0.608205  ...  0.614046  0.845684  0.480320  0.641601   \n",
       "3  0.343424  0.418294  0.651973  ...  0.587449  0.475133  0.538268  0.683112   \n",
       "4  0.737812  0.706171  0.553061  ...  0.821411  0.536029  0.524664  0.725146   \n",
       "5  0.513777  0.701542  0.758356  ...  0.363082  0.568483  0.841092  0.355990   \n",
       "6  0.304223  0.378038  0.607173  ...  0.648715  0.598479  0.590839  0.489825   \n",
       "7  0.703415  0.410166  0.621838  ...  0.458665  0.571849  0.646470  0.438666   \n",
       "8  0.717010  0.696349  0.552062  ...  0.492569  0.770017  0.556446  0.635692   \n",
       "9  0.662892  0.457775  0.548873  ...  0.607683  0.941185  0.458550  0.636544   \n",
       "\n",
       "      A_506     A_507     A_508     A_509     A_510     A_511  \n",
       "0  0.577473  0.686453  0.717945  0.634543  0.594547  0.452758  \n",
       "1  0.622979  0.360023  0.509758  0.630568  0.756259  0.511313  \n",
       "2  0.620283  0.404043  0.659652  0.706107  0.384174  0.338826  \n",
       "3  0.739368  0.103193  0.565232  0.805705  0.687311  0.639592  \n",
       "4  0.488358  0.460702  0.570407  0.539578  0.642054  0.380005  \n",
       "5  0.302384  0.579314  0.641528  0.542906  0.503958  0.528631  \n",
       "6  0.705311  0.628904  0.662226  0.481360  0.813659  0.553920  \n",
       "7  0.538978  0.615417  0.637284  0.665234  0.556165  0.324445  \n",
       "8  0.379803  0.557488  0.663792  0.602254  0.379236  0.425508  \n",
       "9  0.646512  0.543301  0.755932  0.722401  0.592236  0.306883  \n",
       "\n",
       "[10 rows x 512 columns]"
      ]
     },
     "execution_count": 5,
     "metadata": {},
     "output_type": "execute_result"
    }
   ],
   "source": [
    "scaler = MinMaxScaler()\n",
    "\n",
    "def Scale(df, train=True):\n",
    "    if train:\n",
    "        scaler.fit(df)\n",
    "    np_scaled = scaler.transform(df)\n",
    "    df_new = pd.DataFrame(np_scaled, columns=df.columns)\n",
    "    return df_new\n",
    "\n",
    "X_full = Scale(X_full)\n",
    "X_full.head(10)"
   ]
  },
  {
   "cell_type": "markdown",
   "metadata": {},
   "source": [
    "**Задание 1** (2.0 балл)\n",
    "Оцените признаки до моделирования тяжелыми моделями.\n",
    "  * Оцените связь между целевой меткой и значением признака при помощи статистических тестов, воспользщовавшись разделом [Univariate feature selection из sklearn](https://scikit-learn.org/stable/modules/feature_selection.html#univariate-feature-selection)"
   ]
  },
  {
   "cell_type": "markdown",
   "metadata": {},
   "source": [
    "Оценим значение взимной информации каждого признака с целевой меткой и взглянем на общую картину."
   ]
  },
  {
   "cell_type": "code",
   "execution_count": 6,
   "metadata": {
    "ExecuteTime": {
     "end_time": "2021-05-12T23:22:23.671464Z",
     "start_time": "2021-05-12T23:22:14.868495Z"
    }
   },
   "outputs": [
    {
     "data": {
      "text/plain": [
       "GenericUnivariateSelect(mode='k_best',\n",
       "                        score_func=<function mutual_info_classif at 0x7f4d6d22f510>)"
      ]
     },
     "execution_count": 6,
     "metadata": {},
     "output_type": "execute_result"
    }
   ],
   "source": [
    "gus = GenericUnivariateSelect(score_func=mutual_info_classif, mode='k_best')\n",
    "gus.fit(X_full, y)"
   ]
  },
  {
   "cell_type": "code",
   "execution_count": 7,
   "metadata": {
    "ExecuteTime": {
     "end_time": "2021-05-12T23:22:24.911976Z",
     "start_time": "2021-05-12T23:22:24.001065Z"
    }
   },
   "outputs": [
    {
     "data": {
      "text/plain": [
       "Text(0, 0.5, 'Mutual information')"
      ]
     },
     "execution_count": 7,
     "metadata": {},
     "output_type": "execute_result"
    },
    {
     "data": {
      "image/png": "[encoded data removed]",
      "text/plain": [
       "<Figure size 1008x504 with 1 Axes>"
      ]
     },
     "metadata": {
      "needs_background": "light"
     },
     "output_type": "display_data"
    }
   ],
   "source": [
    "plt.bar(np.arange(512), gus.scores_)\n",
    "plt.xlabel('Feature number')\n",
    "plt.ylabel('Mutual information')"
   ]
  },
  {
   "cell_type": "markdown",
   "metadata": {},
   "source": [
    "Видим, что есть неколько признаков, выделяющихся по этому показателю. Построим отдельный график для топ-20, предварительно упорядочив их."
   ]
  },
  {
   "cell_type": "code",
   "execution_count": 8,
   "metadata": {
    "ExecuteTime": {
     "end_time": "2021-05-12T23:24:43.629762Z",
     "start_time": "2021-05-12T23:24:43.365449Z"
    }
   },
   "outputs": [
    {
     "data": {
      "text/plain": [
       "Text(0, 0.5, 'Mutual information')"
      ]
     },
     "execution_count": 8,
     "metadata": {},
     "output_type": "execute_result"
    },
    {
     "data": {
      "image/png": "[encoded data removed]",
      "text/plain": [
       "<Figure size 1008x504 with 1 Axes>"
      ]
     },
     "metadata": {
      "needs_background": "light"
     },
     "output_type": "display_data"
    }
   ],
   "source": [
    "gus.set_params(param=20)\n",
    "best_scores_map = list(zip(gus.scores_[gus.get_support()], X_full.columns[gus.get_support()]))\n",
    "best_scores_map.sort(reverse=True)\n",
    "plt.bar(np.array(best_scores_map)[:, 1], np.array(best_scores_map)[:, 0].astype(float))\n",
    "plt.xlabel('Feature')\n",
    "plt.ylabel('Mutual information')"
   ]
  },
  {
   "cell_type": "markdown",
   "metadata": {},
   "source": [
    "Теперь проделаем то же самое с другой оценивающей функцией"
   ]
  },
  {
   "cell_type": "code",
   "execution_count": 9,
   "metadata": {
    "ExecuteTime": {
     "end_time": "2021-05-12T23:24:48.666748Z",
     "start_time": "2021-05-12T23:24:47.627732Z"
    }
   },
   "outputs": [
    {
     "data": {
      "text/plain": [
       "Text(0, 0.5, 'F-value')"
      ]
     },
     "execution_count": 9,
     "metadata": {},
     "output_type": "execute_result"
    },
    {
     "data": {
      "image/png": "[encoded data removed]",
      "text/plain": [
       "<Figure size 1008x504 with 1 Axes>"
      ]
     },
     "metadata": {
      "needs_background": "light"
     },
     "output_type": "display_data"
    }
   ],
   "source": [
    "gus2 = GenericUnivariateSelect(mode='k_best', param=20)\n",
    "gus2.fit(X_full, y)\n",
    "plt.bar(np.arange(512), gus2.scores_)\n",
    "plt.xlabel('Feature number')\n",
    "plt.ylabel('F-value')"
   ]
  },
  {
   "cell_type": "code",
   "execution_count": 10,
   "metadata": {
    "ExecuteTime": {
     "end_time": "2021-05-12T23:24:49.994806Z",
     "start_time": "2021-05-12T23:24:49.749734Z"
    }
   },
   "outputs": [
    {
     "data": {
      "text/plain": [
       "Text(0, 0.5, 'F-value')"
      ]
     },
     "execution_count": 10,
     "metadata": {},
     "output_type": "execute_result"
    },
    {
     "data": {
      "image/png": "[encoded data removed]",
      "text/plain": [
       "<Figure size 1008x504 with 1 Axes>"
      ]
     },
     "metadata": {
      "needs_background": "light"
     },
     "output_type": "display_data"
    }
   ],
   "source": [
    "best_scores_map = list(zip(gus2.scores_[gus2.get_support()], X_full.columns[gus2.get_support()]))\n",
    "best_scores_map.sort(reverse=True)\n",
    "plt.bar(np.array(best_scores_map)[:, 1], np.array(best_scores_map)[:, 0].astype(float))\n",
    "plt.xlabel('Feature')\n",
    "plt.ylabel('F-value')"
   ]
  },
  {
   "cell_type": "markdown",
   "metadata": {},
   "source": [
    "  * Отранжируйте признаки при помощи линейного классификатора с l1-регуляризацией (например, воспользовавшись [l1-based-feature-selection из sklearn](https://scikit-learn.org/stable/modules/feature_selection.html#l1-based-feature-selection))"
   ]
  },
  {
   "cell_type": "code",
   "execution_count": 11,
   "metadata": {
    "ExecuteTime": {
     "end_time": "2021-05-12T23:24:52.480252Z",
     "start_time": "2021-05-12T23:24:52.468614Z"
    }
   },
   "outputs": [],
   "source": [
    "def GetNBestLogRegFeatures(estimator, X, y, count, prefit=False):\n",
    "    if prefit is False:\n",
    "        estimator.fit(X, y)\n",
    "    feature_weights = list(zip(list(np.abs(estimator.coef_).reshape(-1)), X.columns[:]))\n",
    "    feature_weights.sort(reverse=True)\n",
    "    feature_weights = np.array(feature_weights[:count])\n",
    "    return np.array(feature_weights[:count])\n"
   ]
  },
  {
   "cell_type": "code",
   "execution_count": 198,
   "metadata": {
    "ExecuteTime": {
     "end_time": "2021-05-15T10:10:12.910768Z",
     "start_time": "2021-05-15T10:10:10.396870Z"
    }
   },
   "outputs": [],
   "source": [
    "log_reg_l1 = LogisticRegression(max_iter=500, penalty='l1', solver='liblinear')\n",
    "best_features = GetNBestLogRegFeatures(log_reg_l1, X_full, y, 20)"
   ]
  },
  {
   "cell_type": "code",
   "execution_count": 195,
   "metadata": {
    "ExecuteTime": {
     "end_time": "2021-05-15T10:03:51.390916Z",
     "start_time": "2021-05-15T10:03:51.139916Z"
    }
   },
   "outputs": [
    {
     "data": {
      "text/plain": [
       "Text(0, 0.5, 'Absolute weight in LogReg')"
      ]
     },
     "execution_count": 195,
     "metadata": {},
     "output_type": "execute_result"
    },
    {
     "data": {
      "image/png": "[encoded data removed]",
      "text/plain": [
       "<Figure size 1008x504 with 1 Axes>"
      ]
     },
     "metadata": {
      "needs_background": "light"
     },
     "output_type": "display_data"
    }
   ],
   "source": [
    "plt.bar(best_features[:, 1], best_features[:, 0].astype(float))\n",
    "plt.xlabel('Feature')\n",
    "plt.ylabel('Absolute weight in LogReg')"
   ]
  },
  {
   "cell_type": "markdown",
   "metadata": {
    "ExecuteTime": {
     "end_time": "2021-05-10T22:30:07.689482Z",
     "start_time": "2021-05-10T22:30:07.231244Z"
    }
   },
   "source": [
    "Заметим, что F-value и логистическая регрессия схожим образом отранжировали признаки"
   ]
  },
  {
   "cell_type": "markdown",
   "metadata": {},
   "source": [
    "Пользуясь случаем, организуем себе бейзлайн, обучив логистическую регрессию на 210 лучших признаках, согласно выше приведенному тесту."
   ]
  },
  {
   "cell_type": "code",
   "execution_count": 204,
   "metadata": {
    "ExecuteTime": {
     "end_time": "2021-05-15T10:15:12.885131Z",
     "start_time": "2021-05-15T10:15:06.122405Z"
    }
   },
   "outputs": [
    {
     "data": {
      "text/plain": [
       "0.8120228391790205"
      ]
     },
     "execution_count": 204,
     "metadata": {},
     "output_type": "execute_result"
    }
   ],
   "source": [
    "cross_val_score(log_reg, X_full[GetNBestLogRegFeatures(log_reg_l1, X_full, y, 210)[:, 1]], y,\n",
    "                scoring='roc_auc', cv=StratifiedKFold(shuffle=True, random_state=228)).mean()"
   ]
  },
  {
   "cell_type": "markdown",
   "metadata": {},
   "source": [
    "Также хотелось бы проверить качество логистической регресси с L2-регуляризацией. Отберем для нее признаки по той же схеме."
   ]
  },
  {
   "cell_type": "code",
   "execution_count": 205,
   "metadata": {
    "ExecuteTime": {
     "end_time": "2021-05-15T10:15:14.284571Z",
     "start_time": "2021-05-15T10:15:13.983144Z"
    }
   },
   "outputs": [],
   "source": [
    "log_reg_l2 = LogisticRegression(max_iter=500, penalty='l2', solver='liblinear')\n",
    "best_features = GetNBestLogRegFeatures(log_reg_l2, X_full, y, 20)"
   ]
  },
  {
   "cell_type": "code",
   "execution_count": 207,
   "metadata": {
    "ExecuteTime": {
     "end_time": "2021-05-15T10:15:20.065316Z",
     "start_time": "2021-05-15T10:15:19.122014Z"
    }
   },
   "outputs": [
    {
     "data": {
      "text/plain": [
       "0.8176359822150655"
      ]
     },
     "execution_count": 207,
     "metadata": {},
     "output_type": "execute_result"
    }
   ],
   "source": [
    "cross_val_score(log_reg_l2, X_full[GetNBestLogRegFeatures(log_reg_l2, X_full, y, 210)[:, 1]], y,\n",
    "                scoring='roc_auc', cv=StratifiedKFold(shuffle=True, random_state=228)).mean()"
   ]
  },
  {
   "cell_type": "markdown",
   "metadata": {},
   "source": [
    "**Задание 2** (0.5 балл)\n",
    "    Попробуйте снизить размерность базовго набора признаков при помощи PCA.\n",
    "    Визуализируйте первые 2 главные компоненты, раскрасив примеры меткой класса"
   ]
  },
  {
   "cell_type": "code",
   "execution_count": 15,
   "metadata": {
    "ExecuteTime": {
     "end_time": "2021-05-12T23:28:37.514851Z",
     "start_time": "2021-05-12T23:28:36.858552Z"
    }
   },
   "outputs": [
    {
     "name": "stdout",
     "output_type": "stream",
     "text": [
      "Feature 1 mean : -0.01972141543258514 0.019768868308987053\n",
      "Feature 2 mean : 0.019305629660039174 -0.019352082089442568\n"
     ]
    },
    {
     "data": {
      "image/png": "[encoded data removed]",
      "text/plain": [
       "<Figure size 1008x504 with 1 Axes>"
      ]
     },
     "metadata": {
      "needs_background": "light"
     },
     "output_type": "display_data"
    }
   ],
   "source": [
    "pca = PCA(n_components=2)\n",
    "X_reduced = pca.fit_transform(X_full, y)\n",
    "reduced_df = pd.DataFrame(np.concatenate([X_reduced, np.array(y).reshape(-1, 1)], axis=1),\n",
    "                          columns=['feature_1', 'feature_2', 'target'])\n",
    "class_0 = reduced_df[reduced_df['target'] == 0]\n",
    "class_1 = reduced_df[reduced_df['target'] == 1]\n",
    "plt.scatter(class_0['feature_1'], class_0['feature_2'], color='red', label='class 0')\n",
    "plt.scatter(class_1['feature_1'], class_1['feature_2'], color='blue', label='class 1')\n",
    "plt.xlabel('Feature 1')\n",
    "plt.ylabel('Feature 2')\n",
    "plt.legend()\n",
    "plt.title('PCA, n_components = 2')\n",
    "print('Feature 1 mean :', class_0['feature_1'].mean(), class_1['feature_1'].mean())\n",
    "print('Feature 2 mean :', class_0['feature_2'].mean(), class_1['feature_2'].mean())"
   ]
  },
  {
   "cell_type": "markdown",
   "metadata": {},
   "source": [
    "Из [учебника](https://ysda_trove.gitlab.io/ml-handbook/chapters/hyperparameters_tuning/intro) вы узнали о библиотеках подбора параметров hyperopt и optuna.\n",
    "Попробуйте применить любую из них в следующем блоке заданий."
   ]
  },
  {
   "cell_type": "markdown",
   "metadata": {},
   "source": [
    "Возможно, вы захотите воспользоваться реализацией [Sequential Feature Selection из sklearn](https://scikit-learn.org/stable/modules/feature_selection.html#sequential-feature-selection) для реализации отбора признаков, методом добавления."
   ]
  },
  {
   "cell_type": "markdown",
   "metadata": {},
   "source": [
    "**Задание 3** (2 балл)\n",
    "\n",
    "    Проведите отбор признаков, методом добавления, обучая KNN-классификатор.\n",
    "    \n",
    "    Подберите лучшие параметры на отобранных признаках.\n",
    "    \n",
    "    Проведите перестановочную оценку влияния отобранных признаков\n"
   ]
  },
  {
   "cell_type": "markdown",
   "metadata": {},
   "source": [
    "**Задание 4** (2 балл)\n",
    "    \n",
    "    Проведите отбор признаков, методом добавления, обучая решающее дерево классификации.\n",
    "    \n",
    "    Подберите лучшие параметры на отобранных признаках.\n",
    "    \n",
    "    Проведите перестановочную оценку влияния отобранных признаков\n"
   ]
  },
  {
   "cell_type": "markdown",
   "metadata": {},
   "source": [
    "**Задание 5** (2 балл)\n",
    "\n",
    "    Проведите отбор признаков, методом добавления, обучая классифкатор RandomForest .\n",
    "    \n",
    "    Подберите лучшие параметры на отобранных признаках.\n",
    "    \n",
    "    Проведите перестановочную оценку влияния отобранных признаков\n",
    "    "
   ]
  },
  {
   "cell_type": "markdown",
   "metadata": {},
   "source": [
    "Поскольку задания 3-5 очень схожи между собой, я решил объеденить их в одно, чтобы более наглядно и последовательно сравнить результаты экспериментов и обосновать выбранный подход. Для начала попробуем измерить качество алгоритмов на 10 лучших признаках, отобранных с помощью классического Sequential Feature Selector'a. Попутно обратим внимание на время, требуемое селектором для отбора этих признаков."
   ]
  },
  {
   "cell_type": "code",
   "execution_count": 16,
   "metadata": {
    "ExecuteTime": {
     "end_time": "2021-05-11T12:57:07.235071Z",
     "start_time": "2021-05-11T12:50:30.496278Z"
    }
   },
   "outputs": [
    {
     "data": {
      "text/plain": [
       "SequentialFeatureSelector(estimator=KNeighborsClassifier(),\n",
       "                          n_features_to_select=10, n_jobs=2, scoring='roc_auc')"
      ]
     },
     "execution_count": 16,
     "metadata": {},
     "output_type": "execute_result"
    }
   ],
   "source": [
    "knn = KNeighborsClassifier()\n",
    "knn_sfs = SequentialFeatureSelector(knn, n_features_to_select=10, n_jobs=2, scoring='roc_auc')\n",
    "knn_sfs.fit(X_full, y)"
   ]
  },
  {
   "cell_type": "code",
   "execution_count": 17,
   "metadata": {
    "ExecuteTime": {
     "end_time": "2021-05-11T12:57:13.362590Z",
     "start_time": "2021-05-11T12:57:13.331266Z"
    }
   },
   "outputs": [
    {
     "data": {
      "text/html": [
       "<div>\n",
       "<style scoped>\n",
       "    .dataframe tbody tr th:only-of-type {\n",
       "        vertical-align: middle;\n",
       "    }\n",
       "\n",
       "    .dataframe tbody tr th {\n",
       "        vertical-align: top;\n",
       "    }\n",
       "\n",
       "    .dataframe thead th {\n",
       "        text-align: right;\n",
       "    }\n",
       "</style>\n",
       "<table border=\"1\" class=\"dataframe\">\n",
       "  <thead>\n",
       "    <tr style=\"text-align: right;\">\n",
       "      <th></th>\n",
       "      <th>A_068</th>\n",
       "      <th>A_133</th>\n",
       "      <th>A_150</th>\n",
       "      <th>A_188</th>\n",
       "      <th>A_189</th>\n",
       "      <th>A_347</th>\n",
       "      <th>A_352</th>\n",
       "      <th>A_353</th>\n",
       "      <th>A_358</th>\n",
       "      <th>A_372</th>\n",
       "    </tr>\n",
       "  </thead>\n",
       "  <tbody>\n",
       "    <tr>\n",
       "      <th>0</th>\n",
       "      <td>0.654991</td>\n",
       "      <td>0.496058</td>\n",
       "      <td>0.744134</td>\n",
       "      <td>0.558676</td>\n",
       "      <td>0.693198</td>\n",
       "      <td>0.391260</td>\n",
       "      <td>0.679444</td>\n",
       "      <td>0.675773</td>\n",
       "      <td>0.591261</td>\n",
       "      <td>0.406965</td>\n",
       "    </tr>\n",
       "    <tr>\n",
       "      <th>1</th>\n",
       "      <td>0.595276</td>\n",
       "      <td>0.582850</td>\n",
       "      <td>0.574902</td>\n",
       "      <td>0.692201</td>\n",
       "      <td>0.566275</td>\n",
       "      <td>0.560610</td>\n",
       "      <td>0.708899</td>\n",
       "      <td>0.701561</td>\n",
       "      <td>0.519088</td>\n",
       "      <td>0.546789</td>\n",
       "    </tr>\n",
       "    <tr>\n",
       "      <th>2</th>\n",
       "      <td>0.596451</td>\n",
       "      <td>0.783633</td>\n",
       "      <td>0.438781</td>\n",
       "      <td>0.596836</td>\n",
       "      <td>0.591931</td>\n",
       "      <td>0.534775</td>\n",
       "      <td>0.812474</td>\n",
       "      <td>0.543035</td>\n",
       "      <td>0.588222</td>\n",
       "      <td>0.676262</td>\n",
       "    </tr>\n",
       "    <tr>\n",
       "      <th>3</th>\n",
       "      <td>0.648654</td>\n",
       "      <td>0.337422</td>\n",
       "      <td>0.704922</td>\n",
       "      <td>0.605693</td>\n",
       "      <td>0.646493</td>\n",
       "      <td>0.627380</td>\n",
       "      <td>0.609279</td>\n",
       "      <td>0.772726</td>\n",
       "      <td>0.546976</td>\n",
       "      <td>0.709392</td>\n",
       "    </tr>\n",
       "    <tr>\n",
       "      <th>4</th>\n",
       "      <td>0.592623</td>\n",
       "      <td>0.641685</td>\n",
       "      <td>0.631068</td>\n",
       "      <td>0.587084</td>\n",
       "      <td>0.599915</td>\n",
       "      <td>0.303047</td>\n",
       "      <td>0.569281</td>\n",
       "      <td>0.676949</td>\n",
       "      <td>0.453254</td>\n",
       "      <td>0.407625</td>\n",
       "    </tr>\n",
       "  </tbody>\n",
       "</table>\n",
       "</div>"
      ],
      "text/plain": [
       "      A_068     A_133     A_150     A_188     A_189     A_347     A_352  \\\n",
       "0  0.654991  0.496058  0.744134  0.558676  0.693198  0.391260  0.679444   \n",
       "1  0.595276  0.582850  0.574902  0.692201  0.566275  0.560610  0.708899   \n",
       "2  0.596451  0.783633  0.438781  0.596836  0.591931  0.534775  0.812474   \n",
       "3  0.648654  0.337422  0.704922  0.605693  0.646493  0.627380  0.609279   \n",
       "4  0.592623  0.641685  0.631068  0.587084  0.599915  0.303047  0.569281   \n",
       "\n",
       "      A_353     A_358     A_372  \n",
       "0  0.675773  0.591261  0.406965  \n",
       "1  0.701561  0.519088  0.546789  \n",
       "2  0.543035  0.588222  0.676262  \n",
       "3  0.772726  0.546976  0.709392  \n",
       "4  0.676949  0.453254  0.407625  "
      ]
     },
     "execution_count": 17,
     "metadata": {},
     "output_type": "execute_result"
    }
   ],
   "source": [
    "X_knn_10f = pd.DataFrame(knn_sfs.transform(X_full), columns=X_full.columns[knn_sfs.get_support()])\n",
    "X_knn_10f.head()"
   ]
  },
  {
   "cell_type": "markdown",
   "metadata": {},
   "source": [
    "(Ядро моего ноутбука имеет свойство периодически умирать, поэтому я сохраняю отобранные признаки в явном виде, чтобы, в случае смерти ядра, не проделывать долгие вычисления заново, проходите мимо)"
   ]
  },
  {
   "cell_type": "code",
   "execution_count": 16,
   "metadata": {
    "ExecuteTime": {
     "end_time": "2021-05-12T23:35:32.405089Z",
     "start_time": "2021-05-12T23:35:32.376401Z"
    }
   },
   "outputs": [
    {
     "data": {
      "text/html": [
       "<div>\n",
       "<style scoped>\n",
       "    .dataframe tbody tr th:only-of-type {\n",
       "        vertical-align: middle;\n",
       "    }\n",
       "\n",
       "    .dataframe tbody tr th {\n",
       "        vertical-align: top;\n",
       "    }\n",
       "\n",
       "    .dataframe thead th {\n",
       "        text-align: right;\n",
       "    }\n",
       "</style>\n",
       "<table border=\"1\" class=\"dataframe\">\n",
       "  <thead>\n",
       "    <tr style=\"text-align: right;\">\n",
       "      <th></th>\n",
       "      <th>A_068</th>\n",
       "      <th>A_133</th>\n",
       "      <th>A_150</th>\n",
       "      <th>A_188</th>\n",
       "      <th>A_189</th>\n",
       "      <th>A_347</th>\n",
       "      <th>A_352</th>\n",
       "      <th>A_353</th>\n",
       "      <th>A_358</th>\n",
       "      <th>A_372</th>\n",
       "    </tr>\n",
       "  </thead>\n",
       "  <tbody>\n",
       "    <tr>\n",
       "      <th>0</th>\n",
       "      <td>0.654991</td>\n",
       "      <td>0.496058</td>\n",
       "      <td>0.744134</td>\n",
       "      <td>0.558676</td>\n",
       "      <td>0.693198</td>\n",
       "      <td>0.391260</td>\n",
       "      <td>0.679444</td>\n",
       "      <td>0.675773</td>\n",
       "      <td>0.591261</td>\n",
       "      <td>0.406965</td>\n",
       "    </tr>\n",
       "    <tr>\n",
       "      <th>1</th>\n",
       "      <td>0.595276</td>\n",
       "      <td>0.582850</td>\n",
       "      <td>0.574902</td>\n",
       "      <td>0.692201</td>\n",
       "      <td>0.566275</td>\n",
       "      <td>0.560610</td>\n",
       "      <td>0.708899</td>\n",
       "      <td>0.701561</td>\n",
       "      <td>0.519088</td>\n",
       "      <td>0.546789</td>\n",
       "    </tr>\n",
       "    <tr>\n",
       "      <th>2</th>\n",
       "      <td>0.596451</td>\n",
       "      <td>0.783633</td>\n",
       "      <td>0.438781</td>\n",
       "      <td>0.596836</td>\n",
       "      <td>0.591931</td>\n",
       "      <td>0.534775</td>\n",
       "      <td>0.812474</td>\n",
       "      <td>0.543035</td>\n",
       "      <td>0.588222</td>\n",
       "      <td>0.676262</td>\n",
       "    </tr>\n",
       "    <tr>\n",
       "      <th>3</th>\n",
       "      <td>0.648654</td>\n",
       "      <td>0.337422</td>\n",
       "      <td>0.704922</td>\n",
       "      <td>0.605693</td>\n",
       "      <td>0.646493</td>\n",
       "      <td>0.627380</td>\n",
       "      <td>0.609279</td>\n",
       "      <td>0.772726</td>\n",
       "      <td>0.546976</td>\n",
       "      <td>0.709392</td>\n",
       "    </tr>\n",
       "    <tr>\n",
       "      <th>4</th>\n",
       "      <td>0.592623</td>\n",
       "      <td>0.641685</td>\n",
       "      <td>0.631068</td>\n",
       "      <td>0.587084</td>\n",
       "      <td>0.599915</td>\n",
       "      <td>0.303047</td>\n",
       "      <td>0.569281</td>\n",
       "      <td>0.676949</td>\n",
       "      <td>0.453254</td>\n",
       "      <td>0.407625</td>\n",
       "    </tr>\n",
       "  </tbody>\n",
       "</table>\n",
       "</div>"
      ],
      "text/plain": [
       "      A_068     A_133     A_150     A_188     A_189     A_347     A_352  \\\n",
       "0  0.654991  0.496058  0.744134  0.558676  0.693198  0.391260  0.679444   \n",
       "1  0.595276  0.582850  0.574902  0.692201  0.566275  0.560610  0.708899   \n",
       "2  0.596451  0.783633  0.438781  0.596836  0.591931  0.534775  0.812474   \n",
       "3  0.648654  0.337422  0.704922  0.605693  0.646493  0.627380  0.609279   \n",
       "4  0.592623  0.641685  0.631068  0.587084  0.599915  0.303047  0.569281   \n",
       "\n",
       "      A_353     A_358     A_372  \n",
       "0  0.675773  0.591261  0.406965  \n",
       "1  0.701561  0.519088  0.546789  \n",
       "2  0.543035  0.588222  0.676262  \n",
       "3  0.772726  0.546976  0.709392  \n",
       "4  0.676949  0.453254  0.407625  "
      ]
     },
     "execution_count": 16,
     "metadata": {},
     "output_type": "execute_result"
    }
   ],
   "source": [
    "# saving part\n",
    "knn = KNeighborsClassifier()\n",
    "knn_10f = ['A_068', 'A_133', 'A_150', 'A_188', 'A_189', 'A_347', 'A_352', 'A_353', 'A_358', 'A_372']\n",
    "# backup part\n",
    "X_knn_10f = X_full[knn_10f]\n",
    "X_knn_10f.head()"
   ]
  },
  {
   "cell_type": "code",
   "execution_count": 18,
   "metadata": {
    "ExecuteTime": {
     "end_time": "2021-05-11T15:55:23.703729Z",
     "start_time": "2021-05-11T15:47:28.739651Z"
    }
   },
   "outputs": [
    {
     "data": {
      "text/plain": [
       "SequentialFeatureSelector(estimator=DecisionTreeClassifier(),\n",
       "                          n_features_to_select=10, n_jobs=3, scoring='roc_auc')"
      ]
     },
     "execution_count": 18,
     "metadata": {},
     "output_type": "execute_result"
    }
   ],
   "source": [
    "dt = DecisionTreeClassifier()\n",
    "dt_sfs = SequentialFeatureSelector(dt, n_features_to_select=10, n_jobs=3, scoring='roc_auc')\n",
    "dt_sfs.fit(X_full, y)"
   ]
  },
  {
   "cell_type": "code",
   "execution_count": 20,
   "metadata": {
    "ExecuteTime": {
     "end_time": "2021-05-11T15:55:50.654670Z",
     "start_time": "2021-05-11T15:55:50.624435Z"
    }
   },
   "outputs": [
    {
     "data": {
      "text/html": [
       "<div>\n",
       "<style scoped>\n",
       "    .dataframe tbody tr th:only-of-type {\n",
       "        vertical-align: middle;\n",
       "    }\n",
       "\n",
       "    .dataframe tbody tr th {\n",
       "        vertical-align: top;\n",
       "    }\n",
       "\n",
       "    .dataframe thead th {\n",
       "        text-align: right;\n",
       "    }\n",
       "</style>\n",
       "<table border=\"1\" class=\"dataframe\">\n",
       "  <thead>\n",
       "    <tr style=\"text-align: right;\">\n",
       "      <th></th>\n",
       "      <th>A_061</th>\n",
       "      <th>A_129</th>\n",
       "      <th>A_169</th>\n",
       "      <th>A_207</th>\n",
       "      <th>A_212</th>\n",
       "      <th>A_241</th>\n",
       "      <th>A_321</th>\n",
       "      <th>A_469</th>\n",
       "      <th>A_474</th>\n",
       "      <th>A_485</th>\n",
       "    </tr>\n",
       "  </thead>\n",
       "  <tbody>\n",
       "    <tr>\n",
       "      <th>0</th>\n",
       "      <td>0.493168</td>\n",
       "      <td>0.624862</td>\n",
       "      <td>0.532255</td>\n",
       "      <td>0.452133</td>\n",
       "      <td>0.418770</td>\n",
       "      <td>0.561258</td>\n",
       "      <td>0.223518</td>\n",
       "      <td>0.371394</td>\n",
       "      <td>0.362124</td>\n",
       "      <td>0.624979</td>\n",
       "    </tr>\n",
       "    <tr>\n",
       "      <th>1</th>\n",
       "      <td>0.603907</td>\n",
       "      <td>0.528441</td>\n",
       "      <td>0.589193</td>\n",
       "      <td>0.664135</td>\n",
       "      <td>0.553063</td>\n",
       "      <td>0.652949</td>\n",
       "      <td>0.603849</td>\n",
       "      <td>0.618182</td>\n",
       "      <td>0.632021</td>\n",
       "      <td>0.767449</td>\n",
       "    </tr>\n",
       "    <tr>\n",
       "      <th>2</th>\n",
       "      <td>0.464482</td>\n",
       "      <td>0.546182</td>\n",
       "      <td>0.567809</td>\n",
       "      <td>0.560021</td>\n",
       "      <td>0.579259</td>\n",
       "      <td>0.740736</td>\n",
       "      <td>0.413821</td>\n",
       "      <td>0.680826</td>\n",
       "      <td>0.502355</td>\n",
       "      <td>0.780151</td>\n",
       "    </tr>\n",
       "    <tr>\n",
       "      <th>3</th>\n",
       "      <td>0.225694</td>\n",
       "      <td>0.636258</td>\n",
       "      <td>0.532716</td>\n",
       "      <td>0.714514</td>\n",
       "      <td>0.710472</td>\n",
       "      <td>0.552052</td>\n",
       "      <td>0.323780</td>\n",
       "      <td>0.539147</td>\n",
       "      <td>0.382428</td>\n",
       "      <td>0.289778</td>\n",
       "    </tr>\n",
       "    <tr>\n",
       "      <th>4</th>\n",
       "      <td>0.679869</td>\n",
       "      <td>0.563252</td>\n",
       "      <td>0.539908</td>\n",
       "      <td>0.513499</td>\n",
       "      <td>0.714620</td>\n",
       "      <td>0.476473</td>\n",
       "      <td>0.567722</td>\n",
       "      <td>0.689368</td>\n",
       "      <td>0.588541</td>\n",
       "      <td>0.615151</td>\n",
       "    </tr>\n",
       "  </tbody>\n",
       "</table>\n",
       "</div>"
      ],
      "text/plain": [
       "      A_061     A_129     A_169     A_207     A_212     A_241     A_321  \\\n",
       "0  0.493168  0.624862  0.532255  0.452133  0.418770  0.561258  0.223518   \n",
       "1  0.603907  0.528441  0.589193  0.664135  0.553063  0.652949  0.603849   \n",
       "2  0.464482  0.546182  0.567809  0.560021  0.579259  0.740736  0.413821   \n",
       "3  0.225694  0.636258  0.532716  0.714514  0.710472  0.552052  0.323780   \n",
       "4  0.679869  0.563252  0.539908  0.513499  0.714620  0.476473  0.567722   \n",
       "\n",
       "      A_469     A_474     A_485  \n",
       "0  0.371394  0.362124  0.624979  \n",
       "1  0.618182  0.632021  0.767449  \n",
       "2  0.680826  0.502355  0.780151  \n",
       "3  0.539147  0.382428  0.289778  \n",
       "4  0.689368  0.588541  0.615151  "
      ]
     },
     "execution_count": 20,
     "metadata": {},
     "output_type": "execute_result"
    }
   ],
   "source": [
    "X_dt_10f = pd.DataFrame(dt_sfs.transform(X_full), columns=X_full.columns[dt_sfs.get_support()])\n",
    "X_dt_10f.head()"
   ]
  },
  {
   "cell_type": "code",
   "execution_count": 17,
   "metadata": {
    "ExecuteTime": {
     "end_time": "2021-05-12T23:35:37.917334Z",
     "start_time": "2021-05-12T23:35:37.890396Z"
    }
   },
   "outputs": [
    {
     "data": {
      "text/html": [
       "<div>\n",
       "<style scoped>\n",
       "    .dataframe tbody tr th:only-of-type {\n",
       "        vertical-align: middle;\n",
       "    }\n",
       "\n",
       "    .dataframe tbody tr th {\n",
       "        vertical-align: top;\n",
       "    }\n",
       "\n",
       "    .dataframe thead th {\n",
       "        text-align: right;\n",
       "    }\n",
       "</style>\n",
       "<table border=\"1\" class=\"dataframe\">\n",
       "  <thead>\n",
       "    <tr style=\"text-align: right;\">\n",
       "      <th></th>\n",
       "      <th>A_061</th>\n",
       "      <th>A_129</th>\n",
       "      <th>A_169</th>\n",
       "      <th>A_207</th>\n",
       "      <th>A_212</th>\n",
       "      <th>A_241</th>\n",
       "      <th>A_321</th>\n",
       "      <th>A_469</th>\n",
       "      <th>A_474</th>\n",
       "      <th>A_485</th>\n",
       "    </tr>\n",
       "  </thead>\n",
       "  <tbody>\n",
       "    <tr>\n",
       "      <th>0</th>\n",
       "      <td>0.493168</td>\n",
       "      <td>0.624862</td>\n",
       "      <td>0.532255</td>\n",
       "      <td>0.452133</td>\n",
       "      <td>0.418770</td>\n",
       "      <td>0.561258</td>\n",
       "      <td>0.223518</td>\n",
       "      <td>0.371394</td>\n",
       "      <td>0.362124</td>\n",
       "      <td>0.624979</td>\n",
       "    </tr>\n",
       "    <tr>\n",
       "      <th>1</th>\n",
       "      <td>0.603907</td>\n",
       "      <td>0.528441</td>\n",
       "      <td>0.589193</td>\n",
       "      <td>0.664135</td>\n",
       "      <td>0.553063</td>\n",
       "      <td>0.652949</td>\n",
       "      <td>0.603849</td>\n",
       "      <td>0.618182</td>\n",
       "      <td>0.632021</td>\n",
       "      <td>0.767449</td>\n",
       "    </tr>\n",
       "    <tr>\n",
       "      <th>2</th>\n",
       "      <td>0.464482</td>\n",
       "      <td>0.546182</td>\n",
       "      <td>0.567809</td>\n",
       "      <td>0.560021</td>\n",
       "      <td>0.579259</td>\n",
       "      <td>0.740736</td>\n",
       "      <td>0.413821</td>\n",
       "      <td>0.680826</td>\n",
       "      <td>0.502355</td>\n",
       "      <td>0.780151</td>\n",
       "    </tr>\n",
       "    <tr>\n",
       "      <th>3</th>\n",
       "      <td>0.225694</td>\n",
       "      <td>0.636258</td>\n",
       "      <td>0.532716</td>\n",
       "      <td>0.714514</td>\n",
       "      <td>0.710472</td>\n",
       "      <td>0.552052</td>\n",
       "      <td>0.323780</td>\n",
       "      <td>0.539147</td>\n",
       "      <td>0.382428</td>\n",
       "      <td>0.289778</td>\n",
       "    </tr>\n",
       "    <tr>\n",
       "      <th>4</th>\n",
       "      <td>0.679869</td>\n",
       "      <td>0.563252</td>\n",
       "      <td>0.539908</td>\n",
       "      <td>0.513499</td>\n",
       "      <td>0.714620</td>\n",
       "      <td>0.476473</td>\n",
       "      <td>0.567722</td>\n",
       "      <td>0.689368</td>\n",
       "      <td>0.588541</td>\n",
       "      <td>0.615151</td>\n",
       "    </tr>\n",
       "  </tbody>\n",
       "</table>\n",
       "</div>"
      ],
      "text/plain": [
       "      A_061     A_129     A_169     A_207     A_212     A_241     A_321  \\\n",
       "0  0.493168  0.624862  0.532255  0.452133  0.418770  0.561258  0.223518   \n",
       "1  0.603907  0.528441  0.589193  0.664135  0.553063  0.652949  0.603849   \n",
       "2  0.464482  0.546182  0.567809  0.560021  0.579259  0.740736  0.413821   \n",
       "3  0.225694  0.636258  0.532716  0.714514  0.710472  0.552052  0.323780   \n",
       "4  0.679869  0.563252  0.539908  0.513499  0.714620  0.476473  0.567722   \n",
       "\n",
       "      A_469     A_474     A_485  \n",
       "0  0.371394  0.362124  0.624979  \n",
       "1  0.618182  0.632021  0.767449  \n",
       "2  0.680826  0.502355  0.780151  \n",
       "3  0.539147  0.382428  0.289778  \n",
       "4  0.689368  0.588541  0.615151  "
      ]
     },
     "execution_count": 17,
     "metadata": {},
     "output_type": "execute_result"
    }
   ],
   "source": [
    "# saving part\n",
    "dt = DecisionTreeClassifier()\n",
    "dt_10f = ['A_061', 'A_129', 'A_169', 'A_207', 'A_212', 'A_241', 'A_321', 'A_469', 'A_474', 'A_485']\n",
    "# backup part\n",
    "X_dt_10f = X_full[dt_10f]\n",
    "X_dt_10f.head()"
   ]
  },
  {
   "cell_type": "code",
   "execution_count": 25,
   "metadata": {
    "ExecuteTime": {
     "end_time": "2021-05-11T14:01:44.633526Z",
     "start_time": "2021-05-11T13:14:02.817970Z"
    }
   },
   "outputs": [
    {
     "data": {
      "text/plain": [
       "SequentialFeatureSelector(estimator=RandomForestClassifier(n_estimators=30,\n",
       "                                                           random_state=228),\n",
       "                          n_features_to_select=10, n_jobs=-1,\n",
       "                          scoring='roc_auc')"
      ]
     },
     "execution_count": 25,
     "metadata": {},
     "output_type": "execute_result"
    }
   ],
   "source": [
    "rf = RandomForestClassifier(n_estimators=30, random_state=228)\n",
    "rf_sfs = SequentialFeatureSelector(rf, n_features_to_select=10, n_jobs=-1, scoring='roc_auc')\n",
    "rf_sfs.fit(X_full, y)"
   ]
  },
  {
   "cell_type": "code",
   "execution_count": 26,
   "metadata": {
    "ExecuteTime": {
     "end_time": "2021-05-11T14:45:45.130682Z",
     "start_time": "2021-05-11T14:45:45.099016Z"
    }
   },
   "outputs": [
    {
     "data": {
      "text/html": [
       "<div>\n",
       "<style scoped>\n",
       "    .dataframe tbody tr th:only-of-type {\n",
       "        vertical-align: middle;\n",
       "    }\n",
       "\n",
       "    .dataframe tbody tr th {\n",
       "        vertical-align: top;\n",
       "    }\n",
       "\n",
       "    .dataframe thead th {\n",
       "        text-align: right;\n",
       "    }\n",
       "</style>\n",
       "<table border=\"1\" class=\"dataframe\">\n",
       "  <thead>\n",
       "    <tr style=\"text-align: right;\">\n",
       "      <th></th>\n",
       "      <th>A_057</th>\n",
       "      <th>A_090</th>\n",
       "      <th>A_121</th>\n",
       "      <th>A_133</th>\n",
       "      <th>A_150</th>\n",
       "      <th>A_311</th>\n",
       "      <th>A_321</th>\n",
       "      <th>A_352</th>\n",
       "      <th>A_353</th>\n",
       "      <th>A_358</th>\n",
       "    </tr>\n",
       "  </thead>\n",
       "  <tbody>\n",
       "    <tr>\n",
       "      <th>0</th>\n",
       "      <td>0.288755</td>\n",
       "      <td>0.506977</td>\n",
       "      <td>0.365878</td>\n",
       "      <td>0.496058</td>\n",
       "      <td>0.744134</td>\n",
       "      <td>0.552512</td>\n",
       "      <td>0.223518</td>\n",
       "      <td>0.679444</td>\n",
       "      <td>0.675773</td>\n",
       "      <td>0.591261</td>\n",
       "    </tr>\n",
       "    <tr>\n",
       "      <th>1</th>\n",
       "      <td>0.527373</td>\n",
       "      <td>0.503229</td>\n",
       "      <td>0.388468</td>\n",
       "      <td>0.582850</td>\n",
       "      <td>0.574902</td>\n",
       "      <td>0.169687</td>\n",
       "      <td>0.603849</td>\n",
       "      <td>0.708899</td>\n",
       "      <td>0.701561</td>\n",
       "      <td>0.519088</td>\n",
       "    </tr>\n",
       "    <tr>\n",
       "      <th>2</th>\n",
       "      <td>0.467381</td>\n",
       "      <td>0.573017</td>\n",
       "      <td>0.862363</td>\n",
       "      <td>0.783633</td>\n",
       "      <td>0.438781</td>\n",
       "      <td>0.586206</td>\n",
       "      <td>0.413821</td>\n",
       "      <td>0.812474</td>\n",
       "      <td>0.543035</td>\n",
       "      <td>0.588222</td>\n",
       "    </tr>\n",
       "    <tr>\n",
       "      <th>3</th>\n",
       "      <td>0.357576</td>\n",
       "      <td>0.590183</td>\n",
       "      <td>0.639833</td>\n",
       "      <td>0.337422</td>\n",
       "      <td>0.704922</td>\n",
       "      <td>0.324897</td>\n",
       "      <td>0.323780</td>\n",
       "      <td>0.609279</td>\n",
       "      <td>0.772726</td>\n",
       "      <td>0.546976</td>\n",
       "    </tr>\n",
       "    <tr>\n",
       "      <th>4</th>\n",
       "      <td>0.486521</td>\n",
       "      <td>0.427055</td>\n",
       "      <td>0.653476</td>\n",
       "      <td>0.641685</td>\n",
       "      <td>0.631068</td>\n",
       "      <td>0.505919</td>\n",
       "      <td>0.567722</td>\n",
       "      <td>0.569281</td>\n",
       "      <td>0.676949</td>\n",
       "      <td>0.453254</td>\n",
       "    </tr>\n",
       "  </tbody>\n",
       "</table>\n",
       "</div>"
      ],
      "text/plain": [
       "      A_057     A_090     A_121     A_133     A_150     A_311     A_321  \\\n",
       "0  0.288755  0.506977  0.365878  0.496058  0.744134  0.552512  0.223518   \n",
       "1  0.527373  0.503229  0.388468  0.582850  0.574902  0.169687  0.603849   \n",
       "2  0.467381  0.573017  0.862363  0.783633  0.438781  0.586206  0.413821   \n",
       "3  0.357576  0.590183  0.639833  0.337422  0.704922  0.324897  0.323780   \n",
       "4  0.486521  0.427055  0.653476  0.641685  0.631068  0.505919  0.567722   \n",
       "\n",
       "      A_352     A_353     A_358  \n",
       "0  0.679444  0.675773  0.591261  \n",
       "1  0.708899  0.701561  0.519088  \n",
       "2  0.812474  0.543035  0.588222  \n",
       "3  0.609279  0.772726  0.546976  \n",
       "4  0.569281  0.676949  0.453254  "
      ]
     },
     "execution_count": 26,
     "metadata": {},
     "output_type": "execute_result"
    }
   ],
   "source": [
    "X_rf_10f = pd.DataFrame(rf_sfs.transform(X_full), columns=X_full.columns[rf_sfs.get_support()])\n",
    "X_rf_10f.head()"
   ]
  },
  {
   "cell_type": "code",
   "execution_count": 18,
   "metadata": {
    "ExecuteTime": {
     "end_time": "2021-05-12T23:35:41.451489Z",
     "start_time": "2021-05-12T23:35:41.422563Z"
    }
   },
   "outputs": [
    {
     "data": {
      "text/html": [
       "<div>\n",
       "<style scoped>\n",
       "    .dataframe tbody tr th:only-of-type {\n",
       "        vertical-align: middle;\n",
       "    }\n",
       "\n",
       "    .dataframe tbody tr th {\n",
       "        vertical-align: top;\n",
       "    }\n",
       "\n",
       "    .dataframe thead th {\n",
       "        text-align: right;\n",
       "    }\n",
       "</style>\n",
       "<table border=\"1\" class=\"dataframe\">\n",
       "  <thead>\n",
       "    <tr style=\"text-align: right;\">\n",
       "      <th></th>\n",
       "      <th>A_057</th>\n",
       "      <th>A_090</th>\n",
       "      <th>A_121</th>\n",
       "      <th>A_133</th>\n",
       "      <th>A_150</th>\n",
       "      <th>A_311</th>\n",
       "      <th>A_321</th>\n",
       "      <th>A_352</th>\n",
       "      <th>A_353</th>\n",
       "      <th>A_358</th>\n",
       "    </tr>\n",
       "  </thead>\n",
       "  <tbody>\n",
       "    <tr>\n",
       "      <th>0</th>\n",
       "      <td>0.288755</td>\n",
       "      <td>0.506977</td>\n",
       "      <td>0.365878</td>\n",
       "      <td>0.496058</td>\n",
       "      <td>0.744134</td>\n",
       "      <td>0.552512</td>\n",
       "      <td>0.223518</td>\n",
       "      <td>0.679444</td>\n",
       "      <td>0.675773</td>\n",
       "      <td>0.591261</td>\n",
       "    </tr>\n",
       "    <tr>\n",
       "      <th>1</th>\n",
       "      <td>0.527373</td>\n",
       "      <td>0.503229</td>\n",
       "      <td>0.388468</td>\n",
       "      <td>0.582850</td>\n",
       "      <td>0.574902</td>\n",
       "      <td>0.169687</td>\n",
       "      <td>0.603849</td>\n",
       "      <td>0.708899</td>\n",
       "      <td>0.701561</td>\n",
       "      <td>0.519088</td>\n",
       "    </tr>\n",
       "    <tr>\n",
       "      <th>2</th>\n",
       "      <td>0.467381</td>\n",
       "      <td>0.573017</td>\n",
       "      <td>0.862363</td>\n",
       "      <td>0.783633</td>\n",
       "      <td>0.438781</td>\n",
       "      <td>0.586206</td>\n",
       "      <td>0.413821</td>\n",
       "      <td>0.812474</td>\n",
       "      <td>0.543035</td>\n",
       "      <td>0.588222</td>\n",
       "    </tr>\n",
       "    <tr>\n",
       "      <th>3</th>\n",
       "      <td>0.357576</td>\n",
       "      <td>0.590183</td>\n",
       "      <td>0.639833</td>\n",
       "      <td>0.337422</td>\n",
       "      <td>0.704922</td>\n",
       "      <td>0.324897</td>\n",
       "      <td>0.323780</td>\n",
       "      <td>0.609279</td>\n",
       "      <td>0.772726</td>\n",
       "      <td>0.546976</td>\n",
       "    </tr>\n",
       "    <tr>\n",
       "      <th>4</th>\n",
       "      <td>0.486521</td>\n",
       "      <td>0.427055</td>\n",
       "      <td>0.653476</td>\n",
       "      <td>0.641685</td>\n",
       "      <td>0.631068</td>\n",
       "      <td>0.505919</td>\n",
       "      <td>0.567722</td>\n",
       "      <td>0.569281</td>\n",
       "      <td>0.676949</td>\n",
       "      <td>0.453254</td>\n",
       "    </tr>\n",
       "  </tbody>\n",
       "</table>\n",
       "</div>"
      ],
      "text/plain": [
       "      A_057     A_090     A_121     A_133     A_150     A_311     A_321  \\\n",
       "0  0.288755  0.506977  0.365878  0.496058  0.744134  0.552512  0.223518   \n",
       "1  0.527373  0.503229  0.388468  0.582850  0.574902  0.169687  0.603849   \n",
       "2  0.467381  0.573017  0.862363  0.783633  0.438781  0.586206  0.413821   \n",
       "3  0.357576  0.590183  0.639833  0.337422  0.704922  0.324897  0.323780   \n",
       "4  0.486521  0.427055  0.653476  0.641685  0.631068  0.505919  0.567722   \n",
       "\n",
       "      A_352     A_353     A_358  \n",
       "0  0.679444  0.675773  0.591261  \n",
       "1  0.708899  0.701561  0.519088  \n",
       "2  0.812474  0.543035  0.588222  \n",
       "3  0.609279  0.772726  0.546976  \n",
       "4  0.569281  0.676949  0.453254  "
      ]
     },
     "execution_count": 18,
     "metadata": {},
     "output_type": "execute_result"
    }
   ],
   "source": [
    "# saving part\n",
    "rf = DecisionTreeClassifier()\n",
    "rf_10f = ['A_057', 'A_090', 'A_121', 'A_133', 'A_150', 'A_311', 'A_321', 'A_352', 'A_353', 'A_358']\n",
    "# backup part\n",
    "X_rf_10f = X_full[rf_10f]\n",
    "X_rf_10f.head()"
   ]
  },
  {
   "cell_type": "code",
   "execution_count": 22,
   "metadata": {
    "ExecuteTime": {
     "end_time": "2021-05-12T23:36:00.638351Z",
     "start_time": "2021-05-12T23:36:00.327545Z"
    }
   },
   "outputs": [
    {
     "name": "stdout",
     "output_type": "stream",
     "text": [
      "KNN CV Scores\n",
      "Mean = 0.6116615425867938\n",
      "Std = 0.020912369924293097\n"
     ]
    }
   ],
   "source": [
    "knn_10f_scores = cross_val_score(knn, X_knn_10f, y, scoring='roc_auc', cv=StratifiedKFold(shuffle=True))\n",
    "print('KNN CV Scores')\n",
    "print(f'Mean = {knn_10f_scores.mean()}')\n",
    "print(f'Std = {knn_10f_scores.std()}')"
   ]
  },
  {
   "cell_type": "code",
   "execution_count": 23,
   "metadata": {
    "ExecuteTime": {
     "end_time": "2021-05-12T23:36:01.621880Z",
     "start_time": "2021-05-12T23:36:01.305798Z"
    }
   },
   "outputs": [
    {
     "name": "stdout",
     "output_type": "stream",
     "text": [
      "Decision Tree CV Scores\n",
      "Mean = 0.5046814277030646\n",
      "Std = 0.009364199449234849\n"
     ]
    }
   ],
   "source": [
    "dt_10f_scores = cross_val_score(dt, X_dt_10f, y, scoring='roc_auc', cv=StratifiedKFold(shuffle=True))\n",
    "print('Decision Tree CV Scores')\n",
    "print(f'Mean = {dt_10f_scores.mean()}')\n",
    "print(f'Std = {dt_10f_scores.std()}')"
   ]
  },
  {
   "cell_type": "code",
   "execution_count": 26,
   "metadata": {
    "ExecuteTime": {
     "end_time": "2021-05-12T23:36:24.842807Z",
     "start_time": "2021-05-12T23:36:20.508642Z"
    }
   },
   "outputs": [
    {
     "name": "stdout",
     "output_type": "stream",
     "text": [
      "Random Forest CV Scores\n",
      "Mean = 0.6305824428900151\n",
      "Std = 0.019334540011698546\n"
     ]
    }
   ],
   "source": [
    "rf = RandomForestClassifier(random_state=228)\n",
    "rf_10f_scores = cross_val_score(rf, X_rf_10f, y, scoring='roc_auc', cv=StratifiedKFold(shuffle=True))\n",
    "print('Random Forest CV Scores')\n",
    "print(f'Mean = {rf_10f_scores.mean()}')\n",
    "print(f'Std = {rf_10f_scores.std()}')"
   ]
  },
  {
   "cell_type": "markdown",
   "metadata": {},
   "source": [
    "На лицо плохое качество всех алгоритмов при низкой скорости отбора признаков (к примеру, случайный лес отбирал себе 10 признаков почти час). Это мотивирует нас на некторые эвристики, позволяющие, пусть, немного пожертвовав точностью на каждом отдельном шаге, отобрать большее количество принаков за приемлемое время. Постараемся, учитывая особенности каждого алгоритма, написать собственный настраиваемый селектор, позволяющий приблизить истинное оптимальное подмножество признаков не каким-то случайным априорным образом (как взяв 10 лучших признаков в примере выше), а с помощью какого-либо разумного стоп-критерия."
   ]
  },
  {
   "cell_type": "markdown",
   "metadata": {},
   "source": [
    "Построим селектор, жадно добавляющий признаки в оптимальное множество, пока очередное добавление не даст ухудшение качества. Однако основная его идея будет состоять в следующем:\n",
    "\n",
    "* на каждой итерации мы добавляем не один признак, дающий нам наилучший прирост качества, а n_features_to_add(t) таких признаков, где t - номер итерации, а n_features_to_add - соответственно, функция, от t зависящая\n",
    "* кроме того, на каждой итерации мы также отбрасываем n_features_to_drop(t) признаков, которые, начиная с итерации t, перестают участвовать в дальнейшем отборе\n",
    "\n",
    "Такой подход позволит нам найти оптимальный баланс между точностью и скоростью подбора признаков для каждого алгоритма с помощью очень гибкой системы настройки гиперпараметров. С деталями реализации можно ознакомиться в следующей ячейке."
   ]
  },
  {
   "cell_type": "code",
   "execution_count": 27,
   "metadata": {
    "ExecuteTime": {
     "end_time": "2021-05-12T23:36:38.659270Z",
     "start_time": "2021-05-12T23:36:38.621739Z"
    }
   },
   "outputs": [],
   "source": [
    "class AdaptiveFeatureSelector:\n",
    "    def __init__(self, estimator, n_features_to_add=10, n_features_to_drop=0, min_features_selected=0,\n",
    "                 scoring='roc_auc', cv=None, verbose=False, n_jobs=1):\n",
    "        self.estimator = estimator\n",
    "        \n",
    "        if type(n_features_to_add) is int:\n",
    "            self.n_features_to_add = lambda iteration: n_features_to_add\n",
    "        else:\n",
    "            self.n_features_to_add = n_features_to_add\n",
    "        \n",
    "        if type(n_features_to_drop) is int:\n",
    "            self.n_features_to_drop = lambda iteration: n_features_to_drop\n",
    "        else:\n",
    "            self.n_features_to_drop = n_features_to_drop\n",
    "\n",
    "        self.min_features_selected = min_features_selected\n",
    "        self.cv = cv    \n",
    "        self.scoring = scoring\n",
    "        self.n_jobs = n_jobs\n",
    "        self.verbose = verbose\n",
    "        \n",
    "    \n",
    "    def fit(self, X, y):\n",
    "        self.selected_features = []\n",
    "        features = list(X.columns)\n",
    "        t = 0\n",
    "        prev_score = None\n",
    "        cv_seed = randint(1, 1000)\n",
    "        \n",
    "        while True:\n",
    "            if self.verbose:\n",
    "                print(f'Iterations passed {t}')\n",
    "                print(f'    features selected: {len(self.selected_features)}')\n",
    "                print(f'    features left in pool: {len(features)}')\n",
    "                print(f'    current score: {prev_score}')\n",
    "\n",
    "            to_add = min(self.n_features_to_add(t), len(features))\n",
    "            to_drop = self.n_features_to_drop(t)\n",
    "            if to_add == 0 or to_drop >= len(features):\n",
    "                break\n",
    "            \n",
    "            feature_scores = dict()\n",
    "            for feature in features:\n",
    "                feature_scores[feature] = \\\n",
    "                    cross_val_score(self.estimator, X[self.selected_features + [feature]], y,\n",
    "                                    cv=self.cv,\n",
    "                                    scoring=self.scoring, n_jobs=self.n_jobs).mean()\n",
    "            \n",
    "            features_sorted = list((dict(sorted(feature_scores.items(), key=lambda item: -item[1]))).keys())\n",
    "            \n",
    "            cur_score = cross_val_score(self.estimator, X[self.selected_features + features_sorted[:to_add]],\n",
    "                                        y, cv=StratifiedKFold(shuffle=True, random_state=cv_seed),\n",
    "                                        scoring=self.scoring, n_jobs=self.n_jobs).mean()\n",
    "            \n",
    "            if (prev_score is not None and cur_score <= prev_score and \\\n",
    "                len(self.selected_features) >= self.min_features_selected) or to_add == len(features):\n",
    "                for feature in features_sorted[:to_add]:\n",
    "                    cur_score = cross_val_score(self.estimator, X[self.selected_features + [feature]],\n",
    "                                                y, cv=StratifiedKFold(shuffle=True, random_state=cv_seed),\n",
    "                                                scoring=self.scoring, n_jobs = self.n_jobs).mean()\n",
    "                    if prev_score is not None and cur_score <= prev_score and \\\n",
    "                        len(self.selected_features) >= self.min_features_selected:\n",
    "                        break\n",
    "                    prev_score = cur_score\n",
    "                    self.selected_features.append(feature)\n",
    "                break\n",
    "            \n",
    "            cv_seed = randint(1, 1000)\n",
    "            prev_score = cross_val_score(self.estimator, X[self.selected_features + [feature]],\n",
    "                                                y, cv=StratifiedKFold(shuffle=True, random_state=cv_seed),\n",
    "                                                scoring=self.scoring, n_jobs = self.n_jobs).mean()\n",
    "            features = features_sorted[to_add:len(features_sorted)-to_drop]\n",
    "            self.selected_features += features_sorted[:to_add]\n",
    "            t += 1\n",
    "    \n",
    "    def transform(self, X):\n",
    "        return X[self.selected_features]\n",
    "    \n",
    "    \n",
    "    def get_features(self):\n",
    "        return self.selected_features\n"
   ]
  },
  {
   "cell_type": "markdown",
   "metadata": {},
   "source": [
    "Хочется обратить внимание на одну деталь в реализации: мы не выделяем из выборки отложенную часть, на которой, по идее, могли бы проводить контроль качества, чтобы не переобучиться под KFold. Однако ~избежать переобучения в данном подходе предлагается с помощью рандомизации разбиения выборки на фолды при кросс-валидации на этапе добавления новых признаков в оптимальный набор (собственно, когда нам и нужна объективная оценка качества).\n",
    "\n",
    "Предпочтение данному подходу было отдано в силу очень уж малого размера нашего исходного датасета: во-первых, выделение отложенной части уменьшило бы его еще сильнее, подорвав устойчивость наших моделей; а, во-вторых, при малом размере датасета, сама отложенная выборка имеет большУю вероятность оказаться непоказательной, из-за чего нам бы не очень хотелось постоянно оценивать свою модель только на ней."
   ]
  },
  {
   "cell_type": "markdown",
   "metadata": {},
   "source": [
    "Протестируем наш селектор, отобрав с помощью него лучшие 10 фичей по стратегии Sequenced Feature Selector'а, и сравним результаты с полученными ранее."
   ]
  },
  {
   "cell_type": "code",
   "execution_count": 264,
   "metadata": {
    "ExecuteTime": {
     "end_time": "2021-05-12T00:29:45.913457Z",
     "start_time": "2021-05-12T00:23:00.351942Z"
    }
   },
   "outputs": [
    {
     "name": "stdout",
     "output_type": "stream",
     "text": [
      "Iterations passed 0\n",
      "    features selected: 0\n",
      "    features left in pool: 512\n",
      "    current score: None\n",
      "Iterations passed 1\n",
      "    features selected: 1\n",
      "    features left in pool: 511\n",
      "    current score: 0.5303655050847038\n",
      "Iterations passed 2\n",
      "    features selected: 2\n",
      "    features left in pool: 510\n",
      "    current score: 0.5079298178483751\n",
      "Iterations passed 3\n",
      "    features selected: 3\n",
      "    features left in pool: 509\n",
      "    current score: 0.5269196144151816\n",
      "Iterations passed 4\n",
      "    features selected: 4\n",
      "    features left in pool: 508\n",
      "    current score: 0.5063498122222084\n",
      "Iterations passed 5\n",
      "    features selected: 5\n",
      "    features left in pool: 507\n",
      "    current score: 0.5394003716432286\n",
      "Iterations passed 6\n",
      "    features selected: 6\n",
      "    features left in pool: 506\n",
      "    current score: 0.5537671683037918\n",
      "Iterations passed 7\n",
      "    features selected: 7\n",
      "    features left in pool: 505\n",
      "    current score: 0.579555759317788\n",
      "Iterations passed 8\n",
      "    features selected: 8\n",
      "    features left in pool: 504\n",
      "    current score: 0.5771887803070708\n",
      "Iterations passed 9\n",
      "    features selected: 9\n",
      "    features left in pool: 503\n",
      "    current score: 0.5732594860486548\n",
      "Iterations passed 10\n",
      "    features selected: 10\n",
      "    features left in pool: 502\n",
      "    current score: 0.5922209579873441\n"
     ]
    }
   ],
   "source": [
    "knn = KNeighborsClassifier()\n",
    "knn_afs = AdaptiveFeatureSelector(knn, n_features_to_add=lambda t: (t < 10) * 1, n_features_to_drop=0,\n",
    "                              verbose=True, n_jobs=3)\n",
    "knn_afs.fit(X_full, y)"
   ]
  },
  {
   "cell_type": "code",
   "execution_count": 269,
   "metadata": {
    "ExecuteTime": {
     "end_time": "2021-05-12T00:36:51.348108Z",
     "start_time": "2021-05-12T00:36:51.307926Z"
    }
   },
   "outputs": [
    {
     "data": {
      "text/html": [
       "<div>\n",
       "<style scoped>\n",
       "    .dataframe tbody tr th:only-of-type {\n",
       "        vertical-align: middle;\n",
       "    }\n",
       "\n",
       "    .dataframe tbody tr th {\n",
       "        vertical-align: top;\n",
       "    }\n",
       "\n",
       "    .dataframe thead th {\n",
       "        text-align: right;\n",
       "    }\n",
       "</style>\n",
       "<table border=\"1\" class=\"dataframe\">\n",
       "  <thead>\n",
       "    <tr style=\"text-align: right;\">\n",
       "      <th></th>\n",
       "      <th>A_353</th>\n",
       "      <th>A_352</th>\n",
       "      <th>A_372</th>\n",
       "      <th>A_068</th>\n",
       "      <th>A_358</th>\n",
       "      <th>A_150</th>\n",
       "      <th>A_188</th>\n",
       "      <th>A_347</th>\n",
       "      <th>A_189</th>\n",
       "      <th>A_133</th>\n",
       "    </tr>\n",
       "  </thead>\n",
       "  <tbody>\n",
       "    <tr>\n",
       "      <th>0</th>\n",
       "      <td>0.675773</td>\n",
       "      <td>0.679444</td>\n",
       "      <td>0.406965</td>\n",
       "      <td>0.654991</td>\n",
       "      <td>0.591261</td>\n",
       "      <td>0.744134</td>\n",
       "      <td>0.558676</td>\n",
       "      <td>0.391260</td>\n",
       "      <td>0.693198</td>\n",
       "      <td>0.496058</td>\n",
       "    </tr>\n",
       "    <tr>\n",
       "      <th>1</th>\n",
       "      <td>0.701561</td>\n",
       "      <td>0.708899</td>\n",
       "      <td>0.546789</td>\n",
       "      <td>0.595276</td>\n",
       "      <td>0.519088</td>\n",
       "      <td>0.574902</td>\n",
       "      <td>0.692201</td>\n",
       "      <td>0.560610</td>\n",
       "      <td>0.566275</td>\n",
       "      <td>0.582850</td>\n",
       "    </tr>\n",
       "    <tr>\n",
       "      <th>2</th>\n",
       "      <td>0.543035</td>\n",
       "      <td>0.812474</td>\n",
       "      <td>0.676262</td>\n",
       "      <td>0.596451</td>\n",
       "      <td>0.588222</td>\n",
       "      <td>0.438781</td>\n",
       "      <td>0.596836</td>\n",
       "      <td>0.534775</td>\n",
       "      <td>0.591931</td>\n",
       "      <td>0.783633</td>\n",
       "    </tr>\n",
       "    <tr>\n",
       "      <th>3</th>\n",
       "      <td>0.772726</td>\n",
       "      <td>0.609279</td>\n",
       "      <td>0.709392</td>\n",
       "      <td>0.648654</td>\n",
       "      <td>0.546976</td>\n",
       "      <td>0.704922</td>\n",
       "      <td>0.605693</td>\n",
       "      <td>0.627380</td>\n",
       "      <td>0.646493</td>\n",
       "      <td>0.337422</td>\n",
       "    </tr>\n",
       "    <tr>\n",
       "      <th>4</th>\n",
       "      <td>0.676949</td>\n",
       "      <td>0.569281</td>\n",
       "      <td>0.407625</td>\n",
       "      <td>0.592623</td>\n",
       "      <td>0.453254</td>\n",
       "      <td>0.631068</td>\n",
       "      <td>0.587084</td>\n",
       "      <td>0.303047</td>\n",
       "      <td>0.599915</td>\n",
       "      <td>0.641685</td>\n",
       "    </tr>\n",
       "  </tbody>\n",
       "</table>\n",
       "</div>"
      ],
      "text/plain": [
       "      A_353     A_352     A_372     A_068     A_358     A_150     A_188  \\\n",
       "0  0.675773  0.679444  0.406965  0.654991  0.591261  0.744134  0.558676   \n",
       "1  0.701561  0.708899  0.546789  0.595276  0.519088  0.574902  0.692201   \n",
       "2  0.543035  0.812474  0.676262  0.596451  0.588222  0.438781  0.596836   \n",
       "3  0.772726  0.609279  0.709392  0.648654  0.546976  0.704922  0.605693   \n",
       "4  0.676949  0.569281  0.407625  0.592623  0.453254  0.631068  0.587084   \n",
       "\n",
       "      A_347     A_189     A_133  \n",
       "0  0.391260  0.693198  0.496058  \n",
       "1  0.560610  0.566275  0.582850  \n",
       "2  0.534775  0.591931  0.783633  \n",
       "3  0.627380  0.646493  0.337422  \n",
       "4  0.303047  0.599915  0.641685  "
      ]
     },
     "execution_count": 269,
     "metadata": {},
     "output_type": "execute_result"
    }
   ],
   "source": [
    "knn_afs.transform(X_full).head()"
   ]
  },
  {
   "cell_type": "code",
   "execution_count": 271,
   "metadata": {
    "ExecuteTime": {
     "end_time": "2021-05-12T00:41:35.747014Z",
     "start_time": "2021-05-12T00:41:35.739682Z"
    }
   },
   "outputs": [
    {
     "data": {
      "text/plain": [
       "True"
      ]
     },
     "execution_count": 271,
     "metadata": {},
     "output_type": "execute_result"
    }
   ],
   "source": [
    "sorted(knn_afs.get_features()) == sorted(knn_10f)"
   ]
  },
  {
   "cell_type": "markdown",
   "metadata": {},
   "source": [
    "Как видим, такой же результат был получен за такое же время. Однако насколько расширились наши возможности! Самое время ими воспользоваться и постараться построить оптимальный набор признаков для каждого из трех алгоритмов."
   ]
  },
  {
   "cell_type": "code",
   "execution_count": 309,
   "metadata": {
    "ExecuteTime": {
     "end_time": "2021-05-12T02:45:18.072397Z",
     "start_time": "2021-05-12T02:31:59.113259Z"
    }
   },
   "outputs": [
    {
     "name": "stdout",
     "output_type": "stream",
     "text": [
      "Iterations passed 0\n",
      "    features selected: 0\n",
      "    features left in pool: 512\n",
      "    current score: None\n",
      "Iterations passed 1\n",
      "    features selected: 80\n",
      "    features left in pool: 332\n",
      "    current score: 0.5235572190840221\n",
      "Iterations passed 2\n",
      "    features selected: 130\n",
      "    features left in pool: 232\n",
      "    current score: 0.5705888977106971\n",
      "Iterations passed 3\n",
      "    features selected: 160\n",
      "    features left in pool: 182\n",
      "    current score: 0.6199440359233697\n",
      "Iterations passed 4\n",
      "    features selected: 180\n",
      "    features left in pool: 152\n",
      "    current score: 0.662053604237119\n",
      "Iterations passed 5\n",
      "    features selected: 195\n",
      "    features left in pool: 132\n",
      "    current score: 0.6672215911604946\n",
      "Iterations passed 6\n",
      "    features selected: 205\n",
      "    features left in pool: 122\n",
      "    current score: 0.6693685629800501\n",
      "Iterations passed 7\n",
      "    features selected: 215\n",
      "    features left in pool: 112\n",
      "    current score: 0.6763852863369906\n",
      "Iterations passed 8\n",
      "    features selected: 225\n",
      "    features left in pool: 102\n",
      "    current score: 0.6823233230402561\n",
      "Iterations passed 9\n",
      "    features selected: 235\n",
      "    features left in pool: 92\n",
      "    current score: 0.6924862865408732\n",
      "Iterations passed 10\n",
      "    features selected: 245\n",
      "    features left in pool: 82\n",
      "    current score: 0.687990043178573\n",
      "Iterations passed 11\n",
      "    features selected: 255\n",
      "    features left in pool: 72\n",
      "    current score: 0.6910056872194463\n",
      "Iterations passed 12\n",
      "    features selected: 265\n",
      "    features left in pool: 62\n",
      "    current score: 0.6950654978129494\n",
      "Iterations passed 13\n",
      "    features selected: 275\n",
      "    features left in pool: 52\n",
      "    current score: 0.6848144496506684\n",
      "Iterations passed 14\n",
      "    features selected: 285\n",
      "    features left in pool: 42\n",
      "    current score: 0.706024026037422\n"
     ]
    }
   ],
   "source": [
    "knn = KNeighborsClassifier()\n",
    "add_list = [80, 50, 30, 20, 15]\n",
    "drop_list = [100, 50, 20, 10, 5]\n",
    "\n",
    "def adder(t):\n",
    "    if t < len(add_list):\n",
    "        return add_list[t]\n",
    "    else:\n",
    "        return 10\n",
    "\n",
    "def dropper(t):\n",
    "    if t < len(drop_list):\n",
    "        return drop_list[t]\n",
    "    else:\n",
    "        return 0\n",
    "        \n",
    "knn_afs = AdaptiveFeatureSelector(knn, n_features_to_add=adder, n_features_to_drop=dropper,\n",
    "                                  verbose=True, n_jobs=3)\n",
    "knn_afs.fit(X_full, y)"
   ]
  },
  {
   "cell_type": "code",
   "execution_count": 342,
   "metadata": {
    "ExecuteTime": {
     "end_time": "2021-05-12T04:53:31.883949Z",
     "start_time": "2021-05-12T04:53:31.276474Z"
    }
   },
   "outputs": [
    {
     "data": {
      "text/plain": [
       "0.7002599334090063"
      ]
     },
     "execution_count": 342,
     "metadata": {},
     "output_type": "execute_result"
    }
   ],
   "source": [
    "cross_val_score(knn, knn_afs.transform(X_full), y,\n",
    "                cv=StratifiedKFold(shuffle=True), scoring='roc_auc').mean()"
   ]
  },
  {
   "cell_type": "code",
   "execution_count": null,
   "metadata": {},
   "outputs": [],
   "source": [
    "X_knn = knn_afs.transform(X_full).copy()"
   ]
  },
  {
   "cell_type": "code",
   "execution_count": 107,
   "metadata": {
    "ExecuteTime": {
     "end_time": "2021-05-12T22:12:56.378574Z",
     "start_time": "2021-05-12T22:09:31.643399Z"
    }
   },
   "outputs": [
    {
     "name": "stdout",
     "output_type": "stream",
     "text": [
      "Iterations passed 0\n",
      "    features selected: 0\n",
      "    features left in pool: 512\n",
      "    current score: None\n",
      "Iterations passed 1\n",
      "    features selected: 1\n",
      "    features left in pool: 491\n",
      "    current score: 0.5183021017464563\n",
      "Iterations passed 2\n",
      "    features selected: 2\n",
      "    features left in pool: 470\n",
      "    current score: 0.5573981248462145\n",
      "Iterations passed 3\n",
      "    features selected: 3\n",
      "    features left in pool: 449\n",
      "    current score: 0.5762263671821242\n",
      "Iterations passed 4\n",
      "    features selected: 4\n",
      "    features left in pool: 428\n",
      "    current score: 0.5800853653435258\n",
      "Iterations passed 5\n",
      "    features selected: 5\n",
      "    features left in pool: 407\n",
      "    current score: 0.5988855791324914\n",
      "Iterations passed 6\n",
      "    features selected: 10\n",
      "    features left in pool: 392\n",
      "    current score: 0.5993000126103046\n",
      "Iterations passed 7\n",
      "    features selected: 15\n",
      "    features left in pool: 377\n",
      "    current score: 0.6052734920775594\n"
     ]
    }
   ],
   "source": [
    "dt = DecisionTreeClassifier(max_depth=6)\n",
    "add_list = [1, 1, 1, 1, 1, 5, 5]\n",
    "drop_list = [20, 20, 20, 20, 20, 10, 10, 10, 10, 10, 10, 10, 10]\n",
    "\n",
    "def adder(t):\n",
    "    if t < len(add_list):\n",
    "        return add_list[t]\n",
    "    else:\n",
    "        return 10\n",
    "\n",
    "def dropper(t):\n",
    "    if t < len(drop_list):\n",
    "        return drop_list[t]\n",
    "    else:\n",
    "        return 0\n",
    "\n",
    "dt_afs = AdaptiveFeatureSelector(dt, n_features_to_add=adder, n_features_to_drop=dropper,\n",
    "                                 verbose=True, n_jobs=3, min_features_selected=10)\n",
    "dt_afs.fit(X_full, y)"
   ]
  },
  {
   "cell_type": "code",
   "execution_count": 110,
   "metadata": {
    "ExecuteTime": {
     "end_time": "2021-05-12T22:13:10.574044Z",
     "start_time": "2021-05-12T22:13:10.340053Z"
    }
   },
   "outputs": [
    {
     "data": {
      "text/plain": [
       "0.6126288827113614"
      ]
     },
     "execution_count": 110,
     "metadata": {},
     "output_type": "execute_result"
    }
   ],
   "source": [
    "cross_val_score(dt, dt_afs.transform(X_full), y, cv=StratifiedKFold(shuffle=True), scoring='roc_auc').mean()"
   ]
  },
  {
   "cell_type": "code",
   "execution_count": null,
   "metadata": {},
   "outputs": [],
   "source": [
    "X_dt = dt_afs.transform(X_full).copy()"
   ]
  },
  {
   "cell_type": "code",
   "execution_count": 28,
   "metadata": {
    "ExecuteTime": {
     "end_time": "2021-05-13T00:22:38.827523Z",
     "start_time": "2021-05-12T23:38:12.931952Z"
    }
   },
   "outputs": [
    {
     "name": "stdout",
     "output_type": "stream",
     "text": [
      "Iterations passed 0\n",
      "    features selected: 0\n",
      "    features left in pool: 512\n",
      "    current score: None\n",
      "Iterations passed 1\n",
      "    features selected: 1\n",
      "    features left in pool: 431\n",
      "    current score: 0.5323065338944002\n",
      "Iterations passed 2\n",
      "    features selected: 2\n",
      "    features left in pool: 410\n",
      "    current score: 0.5682381631721428\n",
      "Iterations passed 3\n",
      "    features selected: 3\n",
      "    features left in pool: 409\n",
      "    current score: 0.6010739366062221\n",
      "Iterations passed 4\n",
      "    features selected: 4\n",
      "    features left in pool: 408\n",
      "    current score: 0.6055547029947512\n",
      "Iterations passed 5\n",
      "    features selected: 5\n",
      "    features left in pool: 407\n",
      "    current score: 0.623597335496898\n",
      "Iterations passed 6\n",
      "    features selected: 6\n",
      "    features left in pool: 406\n",
      "    current score: 0.6330804832567788\n",
      "Iterations passed 7\n",
      "    features selected: 7\n",
      "    features left in pool: 405\n",
      "    current score: 0.6415450970744756\n",
      "Iterations passed 8\n",
      "    features selected: 8\n",
      "    features left in pool: 404\n",
      "    current score: 0.6541621667243449\n",
      "Iterations passed 9\n",
      "    features selected: 9\n",
      "    features left in pool: 403\n",
      "    current score: 0.6581908287977163\n",
      "Iterations passed 10\n",
      "    features selected: 10\n",
      "    features left in pool: 402\n",
      "    current score: 0.6587968100759108\n",
      "Iterations passed 11\n",
      "    features selected: 20\n",
      "    features left in pool: 372\n",
      "    current score: 0.6577493301127972\n",
      "Iterations passed 12\n",
      "    features selected: 50\n",
      "    features left in pool: 322\n",
      "    current score: 0.6731558488193762\n",
      "Iterations passed 13\n",
      "    features selected: 100\n",
      "    features left in pool: 252\n",
      "    current score: 0.6758755986295123\n",
      "Iterations passed 14\n",
      "    features selected: 150\n",
      "    features left in pool: 182\n",
      "    current score: 0.6894608231372233\n"
     ]
    }
   ],
   "source": [
    "rf = RandomForestClassifier(n_estimators=30, max_depth=6)\n",
    "add_list = [1, 1, 1, 1, 1, 1, 1, 1, 1, 1, 10, 30, 50, 50, 30]\n",
    "drop_list = [80, 20, 0, 0, 0, 0, 0, 0, 0, 0, 20, 20, 20, 20, 20]\n",
    "\n",
    "def adder(t):\n",
    "    if t < len(add_list):\n",
    "        return add_list[t]\n",
    "    else:\n",
    "        return 20\n",
    "\n",
    "def dropper(t):\n",
    "    if t < len(drop_list):\n",
    "        return drop_list[t]\n",
    "    else:\n",
    "        return 0\n",
    "\n",
    "rf_afs = AdaptiveFeatureSelector(rf, n_features_to_add=adder, n_features_to_drop=dropper,\n",
    "                                 verbose=True, n_jobs=3, min_features_selected=50)\n",
    "rf_afs.fit(X_full, y)"
   ]
  },
  {
   "cell_type": "code",
   "execution_count": 34,
   "metadata": {
    "ExecuteTime": {
     "end_time": "2021-05-13T00:26:05.529862Z",
     "start_time": "2021-05-13T00:26:03.070036Z"
    }
   },
   "outputs": [
    {
     "data": {
      "text/plain": [
       "0.6830625978716384"
      ]
     },
     "execution_count": 34,
     "metadata": {},
     "output_type": "execute_result"
    }
   ],
   "source": [
    "cross_val_score(rf, rf_afs.transform(X_full), y, cv=StratifiedKFold(shuffle=True), scoring='roc_auc').mean()"
   ]
  },
  {
   "cell_type": "code",
   "execution_count": 67,
   "metadata": {
    "ExecuteTime": {
     "end_time": "2021-05-13T00:59:29.887880Z",
     "start_time": "2021-05-13T00:59:29.879245Z"
    }
   },
   "outputs": [],
   "source": [
    "X_rf = rf_afs.transform(X_full).copy()"
   ]
  },
  {
   "cell_type": "markdown",
   "metadata": {},
   "source": [
    "AdaptiveFeatureSelector располагает колонке в порядке их выбора (, и, таким образом, мы можем \"урезать\" получившийся датасет, взяв N его первых колонок, получив, опять же, признаковое описание, как если бы мы жадно набирали N признаков переданным в селектор способом.\n",
    "\n",
    "Выше селектор отобрал для случайного леса 150 фичей. У меня закралось сомнение, что 150 признаков в данном случае дают результат лучше, чем 50 (т.к. в другом блокноте результат был противоположный). Мы можем без труда сравнить эти 2 признаковых набора и, при необходимости, оставить в датасете 50 признаков."
   ]
  },
  {
   "cell_type": "code",
   "execution_count": 64,
   "metadata": {
    "ExecuteTime": {
     "end_time": "2021-05-13T00:57:00.375139Z",
     "start_time": "2021-05-13T00:55:37.646605Z"
    }
   },
   "outputs": [
    {
     "name": "stderr",
     "output_type": "stream",
     "text": [
      "100%|██████████| 20/20 [01:22<00:00,  4.14s/it]"
     ]
    },
    {
     "name": "stdout",
     "output_type": "stream",
     "text": [
      "50 features  17:3  150 features\n",
      "50 features average score  = 0.6841161267820419\n",
      "150 features average score = 0.6793128932075254\n",
      "50 features in average works better on 0.004803233574516508\n"
     ]
    },
    {
     "name": "stderr",
     "output_type": "stream",
     "text": [
      "\n"
     ]
    }
   ],
   "source": [
    "n_comparisons=20\n",
    "score_50_avg = 0\n",
    "score_150_avg = 0\n",
    "better_50 = 0\n",
    "for _ in tqdm.tqdm(range(n_comparisons)):\n",
    "    seed = randint(1, 10000)\n",
    "    score_50 = cross_val_score(rf, X_rf[X_rf.columns[:50]], y,\n",
    "                               cv=StratifiedKFold(shuffle=True, random_state=seed), scoring='roc_auc').mean()\n",
    "    score_150 = cross_val_score(rf, X_rf, y,\n",
    "                                cv=StratifiedKFold(shuffle=True, random_state=seed), scoring='roc_auc').mean()\n",
    "    if score_50 > score_150:\n",
    "        better_50 += 1\n",
    "    score_50_avg += score_50\n",
    "    score_150_avg += score_150\n",
    "    \n",
    "score_50_avg /= n_comparisons\n",
    "score_150_avg /= n_comparisons\n",
    "\n",
    "print(f'50 features  {better_50}:{n_comparisons - better_50}  150 features')\n",
    "print(f'50 features average score  = {score_50_avg}')\n",
    "print(f'150 features average score = {score_150_avg}')\n",
    "print(f'50 features in average works better on {score_50_avg - score_150_avg}')"
   ]
  },
  {
   "cell_type": "markdown",
   "metadata": {
    "ExecuteTime": {
     "end_time": "2021-05-13T00:34:08.245697Z",
     "start_time": "2021-05-13T00:34:03.954028Z"
    }
   },
   "source": [
    "Путем эксперимента мы установили, что на 50 признаках случайный лес работает лучше, чем на 150, так что оставим в соответствующем датасете только их."
   ]
  },
  {
   "cell_type": "code",
   "execution_count": 65,
   "metadata": {
    "ExecuteTime": {
     "end_time": "2021-05-13T00:58:13.071252Z",
     "start_time": "2021-05-13T00:58:13.064186Z"
    }
   },
   "outputs": [],
   "source": [
    "X_rf = X_rf[X_rf.columns[:50]]"
   ]
  },
  {
   "cell_type": "markdown",
   "metadata": {},
   "source": [
    "Сохраним результаты."
   ]
  },
  {
   "cell_type": "code",
   "execution_count": 46,
   "metadata": {
    "ExecuteTime": {
     "end_time": "2021-05-12T19:40:31.347602Z",
     "start_time": "2021-05-12T19:40:31.325714Z"
    }
   },
   "outputs": [
    {
     "ename": "NameError",
     "evalue": "name 'knn_afs' is not defined",
     "output_type": "error",
     "traceback": [
      "\u001b[0;31m---------------------------------------------------------------------------\u001b[0m",
      "\u001b[0;31mNameError\u001b[0m                                 Traceback (most recent call last)",
      "\u001b[0;32m<ipython-input-46-1a5c48506cd4>\u001b[0m in \u001b[0;36m<module>\u001b[0;34m\u001b[0m\n\u001b[0;32m----> 1\u001b[0;31m \u001b[0mX_knn\u001b[0m \u001b[0;34m=\u001b[0m \u001b[0mknn_afs\u001b[0m\u001b[0;34m.\u001b[0m\u001b[0mtransform\u001b[0m\u001b[0;34m(\u001b[0m\u001b[0mX_full\u001b[0m\u001b[0;34m)\u001b[0m\u001b[0;34m.\u001b[0m\u001b[0mcopy\u001b[0m\u001b[0;34m(\u001b[0m\u001b[0;34m)\u001b[0m\u001b[0;34m\u001b[0m\u001b[0;34m\u001b[0m\u001b[0m\n\u001b[0m\u001b[1;32m      2\u001b[0m \u001b[0mX_knn\u001b[0m\u001b[0;34m.\u001b[0m\u001b[0mto_csv\u001b[0m\u001b[0;34m(\u001b[0m\u001b[0;34m'X_knn.csv'\u001b[0m\u001b[0;34m)\u001b[0m\u001b[0;34m\u001b[0m\u001b[0;34m\u001b[0m\u001b[0m\n\u001b[1;32m      3\u001b[0m \u001b[0mX_dt\u001b[0m \u001b[0;34m=\u001b[0m \u001b[0mdt_afs\u001b[0m\u001b[0;34m.\u001b[0m\u001b[0mtransform\u001b[0m\u001b[0;34m(\u001b[0m\u001b[0mX_full\u001b[0m\u001b[0;34m)\u001b[0m\u001b[0;34m.\u001b[0m\u001b[0mcopy\u001b[0m\u001b[0;34m(\u001b[0m\u001b[0;34m)\u001b[0m\u001b[0;34m\u001b[0m\u001b[0;34m\u001b[0m\u001b[0m\n\u001b[1;32m      4\u001b[0m \u001b[0mX_dt\u001b[0m\u001b[0;34m.\u001b[0m\u001b[0mto_csv\u001b[0m\u001b[0;34m(\u001b[0m\u001b[0;34m'X_dt.csv'\u001b[0m\u001b[0;34m)\u001b[0m\u001b[0;34m\u001b[0m\u001b[0;34m\u001b[0m\u001b[0m\n\u001b[1;32m      5\u001b[0m \u001b[0mX_rf\u001b[0m \u001b[0;34m=\u001b[0m \u001b[0mrf_afs\u001b[0m\u001b[0;34m.\u001b[0m\u001b[0mtransform\u001b[0m\u001b[0;34m(\u001b[0m\u001b[0mX_full\u001b[0m\u001b[0;34m)\u001b[0m\u001b[0;34m.\u001b[0m\u001b[0mcopy\u001b[0m\u001b[0;34m(\u001b[0m\u001b[0;34m)\u001b[0m\u001b[0;34m\u001b[0m\u001b[0;34m\u001b[0m\u001b[0m\n",
      "\u001b[0;31mNameError\u001b[0m: name 'knn_afs' is not defined"
     ]
    }
   ],
   "source": [
    "X_knn.to_csv('X_knn.csv')\n",
    "X_dt.to_csv('X_dt.csv')\n",
    "X_rf.to_csv('X_rf.csv')"
   ]
  },
  {
   "cell_type": "code",
   "execution_count": 89,
   "metadata": {
    "ExecuteTime": {
     "end_time": "2021-05-13T01:23:28.270781Z",
     "start_time": "2021-05-13T01:23:27.823309Z"
    }
   },
   "outputs": [],
   "source": [
    "# backup cell\n",
    "X_knn = pd.read_csv('X_knn.csv').drop(columns=['Unnamed: 0'])\n",
    "X_dt = pd.read_csv('X_dt.csv').drop(columns=['Unnamed: 0'])\n",
    "X_rf = pd.read_csv('X_rf.csv').drop(columns=['Unnamed: 0'])"
   ]
  },
  {
   "cell_type": "markdown",
   "metadata": {
    "ExecuteTime": {
     "end_time": "2021-05-12T16:20:26.840905Z",
     "start_time": "2021-05-12T16:20:26.834487Z"
    }
   },
   "source": [
    "Зайемемся теперь тюнингом гиперпараметров."
   ]
  },
  {
   "cell_type": "code",
   "execution_count": 70,
   "metadata": {
    "ExecuteTime": {
     "end_time": "2021-05-13T01:01:29.164025Z",
     "start_time": "2021-05-13T01:01:29.157671Z"
    }
   },
   "outputs": [],
   "source": [
    "def knn_objective(trial):\n",
    "    n_neighbors = trial.suggest_int('n_neighbors', 1, 500)\n",
    "    weights = trial.suggest_categorical('weights', ['uniform', 'distance'])\n",
    "    p = trial.suggest_categorical('p', [1, 2])\n",
    "    leaf_size = trial.suggest_int('leaf_size', 1, 100)\n",
    "    \n",
    "    knn_clf = KNeighborsClassifier(n_neighbors=n_neighbors, weights=weights, p=p,\n",
    "                                   leaf_size=leaf_size, n_jobs=3)\n",
    "    score = cross_val_score(knn_clf, X_knn, y, n_jobs=3, scoring='roc_auc').mean()\n",
    "    return score"
   ]
  },
  {
   "cell_type": "code",
   "execution_count": 71,
   "metadata": {
    "ExecuteTime": {
     "end_time": "2021-05-13T01:04:12.176912Z",
     "start_time": "2021-05-13T01:01:29.978246Z"
    }
   },
   "outputs": [
    {
     "name": "stderr",
     "output_type": "stream",
     "text": [
      "\u001b[32m[I 2021-05-13 04:01:29,980]\u001b[0m A new study created in memory with name: no-name-e0de61d3-99c8-4664-ac12-5e3abc9dd7a0\u001b[0m\n",
      "\u001b[32m[I 2021-05-13 04:01:32,812]\u001b[0m Trial 0 finished with value: 0.7518109807463966 and parameters: {'n_neighbors': 56, 'weights': 'distance', 'p': 1, 'leaf_size': 35}. Best is trial 0 with value: 0.7518109807463966.\u001b[0m\n",
      "\u001b[32m[I 2021-05-13 04:01:34,769]\u001b[0m Trial 1 finished with value: 0.7734374910245042 and parameters: {'n_neighbors': 174, 'weights': 'distance', 'p': 1, 'leaf_size': 17}. Best is trial 1 with value: 0.7734374910245042.\u001b[0m\n",
      "\u001b[32m[I 2021-05-13 04:01:36,625]\u001b[0m Trial 2 finished with value: 0.762087446047119 and parameters: {'n_neighbors': 485, 'weights': 'distance', 'p': 1, 'leaf_size': 18}. Best is trial 1 with value: 0.7734374910245042.\u001b[0m\n",
      "\u001b[32m[I 2021-05-13 04:01:37,423]\u001b[0m Trial 3 finished with value: 0.7616328019471142 and parameters: {'n_neighbors': 372, 'weights': 'uniform', 'p': 2, 'leaf_size': 8}. Best is trial 1 with value: 0.7734374910245042.\u001b[0m\n",
      "\u001b[32m[I 2021-05-13 04:01:39,159]\u001b[0m Trial 4 finished with value: 0.7671536994178452 and parameters: {'n_neighbors': 366, 'weights': 'distance', 'p': 1, 'leaf_size': 25}. Best is trial 1 with value: 0.7734374910245042.\u001b[0m\n",
      "\u001b[32m[I 2021-05-13 04:01:39,671]\u001b[0m Trial 5 finished with value: 0.7421555273871014 and parameters: {'n_neighbors': 29, 'weights': 'distance', 'p': 2, 'leaf_size': 14}. Best is trial 1 with value: 0.7734374910245042.\u001b[0m\n",
      "\u001b[32m[I 2021-05-13 04:01:41,562]\u001b[0m Trial 6 finished with value: 0.7676507763165492 and parameters: {'n_neighbors': 353, 'weights': 'distance', 'p': 1, 'leaf_size': 38}. Best is trial 1 with value: 0.7734374910245042.\u001b[0m\n",
      "\u001b[32m[I 2021-05-13 04:01:43,181]\u001b[0m Trial 7 finished with value: 0.7538196740196867 and parameters: {'n_neighbors': 80, 'weights': 'uniform', 'p': 1, 'leaf_size': 52}. Best is trial 1 with value: 0.7734374910245042.\u001b[0m\n",
      "\u001b[32m[I 2021-05-13 04:01:44,856]\u001b[0m Trial 8 finished with value: 0.7587827061426445 and parameters: {'n_neighbors': 101, 'weights': 'uniform', 'p': 1, 'leaf_size': 34}. Best is trial 1 with value: 0.7734374910245042.\u001b[0m\n",
      "\u001b[32m[I 2021-05-13 04:01:46,567]\u001b[0m Trial 9 finished with value: 0.7685568993186254 and parameters: {'n_neighbors': 305, 'weights': 'distance', 'p': 1, 'leaf_size': 97}. Best is trial 1 with value: 0.7734374910245042.\u001b[0m\n",
      "\u001b[32m[I 2021-05-13 04:01:47,195]\u001b[0m Trial 10 finished with value: 0.7630469387099931 and parameters: {'n_neighbors': 195, 'weights': 'distance', 'p': 2, 'leaf_size': 69}. Best is trial 1 with value: 0.7734374910245042.\u001b[0m\n",
      "\u001b[32m[I 2021-05-13 04:01:48,825]\u001b[0m Trial 11 finished with value: 0.7707825082723618 and parameters: {'n_neighbors': 231, 'weights': 'distance', 'p': 1, 'leaf_size': 97}. Best is trial 1 with value: 0.7734374910245042.\u001b[0m\n",
      "\u001b[32m[I 2021-05-13 04:01:50,446]\u001b[0m Trial 12 finished with value: 0.772742643615467 and parameters: {'n_neighbors': 207, 'weights': 'distance', 'p': 1, 'leaf_size': 99}. Best is trial 1 with value: 0.7734374910245042.\u001b[0m\n",
      "\u001b[32m[I 2021-05-13 04:01:52,033]\u001b[0m Trial 13 finished with value: 0.769548165817884 and parameters: {'n_neighbors': 140, 'weights': 'distance', 'p': 1, 'leaf_size': 73}. Best is trial 1 with value: 0.7734374910245042.\u001b[0m\n",
      "\u001b[32m[I 2021-05-13 04:01:53,619]\u001b[0m Trial 14 finished with value: 0.7685009228839926 and parameters: {'n_neighbors': 156, 'weights': 'distance', 'p': 1, 'leaf_size': 2}. Best is trial 1 with value: 0.7734374910245042.\u001b[0m\n",
      "\u001b[32m[I 2021-05-13 04:01:55,270]\u001b[0m Trial 15 finished with value: 0.7693094113168331 and parameters: {'n_neighbors': 288, 'weights': 'distance', 'p': 1, 'leaf_size': 79}. Best is trial 1 with value: 0.7734374910245042.\u001b[0m\n",
      "\u001b[32m[I 2021-05-13 04:01:56,977]\u001b[0m Trial 16 finished with value: 0.7717280795003798 and parameters: {'n_neighbors': 202, 'weights': 'distance', 'p': 1, 'leaf_size': 56}. Best is trial 1 with value: 0.7734374910245042.\u001b[0m\n",
      "\u001b[32m[I 2021-05-13 04:01:57,646]\u001b[0m Trial 17 finished with value: 0.761548345806628 and parameters: {'n_neighbors': 265, 'weights': 'uniform', 'p': 2, 'leaf_size': 85}. Best is trial 1 with value: 0.7734374910245042.\u001b[0m\n",
      "\u001b[32m[I 2021-05-13 04:01:59,328]\u001b[0m Trial 18 finished with value: 0.7679884065630151 and parameters: {'n_neighbors': 145, 'weights': 'distance', 'p': 1, 'leaf_size': 60}. Best is trial 1 with value: 0.7734374910245042.\u001b[0m\n",
      "\u001b[32m[I 2021-05-13 04:02:00,875]\u001b[0m Trial 19 finished with value: 0.6994799948064202 and parameters: {'n_neighbors': 4, 'weights': 'distance', 'p': 1, 'leaf_size': 1}. Best is trial 1 with value: 0.7734374910245042.\u001b[0m\n",
      "\u001b[32m[I 2021-05-13 04:02:02,768]\u001b[0m Trial 20 finished with value: 0.7593722844249908 and parameters: {'n_neighbors': 486, 'weights': 'uniform', 'p': 1, 'leaf_size': 42}. Best is trial 1 with value: 0.7734374910245042.\u001b[0m\n",
      "\u001b[32m[I 2021-05-13 04:02:04,351]\u001b[0m Trial 21 finished with value: 0.7712001910867043 and parameters: {'n_neighbors': 179, 'weights': 'distance', 'p': 1, 'leaf_size': 54}. Best is trial 1 with value: 0.7734374910245042.\u001b[0m\n",
      "\u001b[32m[I 2021-05-13 04:02:06,156]\u001b[0m Trial 22 finished with value: 0.771075181228351 and parameters: {'n_neighbors': 226, 'weights': 'distance', 'p': 1, 'leaf_size': 86}. Best is trial 1 with value: 0.7734374910245042.\u001b[0m\n",
      "\u001b[32m[I 2021-05-13 04:02:07,948]\u001b[0m Trial 23 finished with value: 0.772742643615467 and parameters: {'n_neighbors': 207, 'weights': 'distance', 'p': 1, 'leaf_size': 25}. Best is trial 1 with value: 0.7734374910245042.\u001b[0m\n",
      "\u001b[32m[I 2021-05-13 04:02:09,729]\u001b[0m Trial 24 finished with value: 0.7657908129033417 and parameters: {'n_neighbors': 113, 'weights': 'distance', 'p': 1, 'leaf_size': 23}. Best is trial 1 with value: 0.7734374910245042.\u001b[0m\n",
      "\u001b[32m[I 2021-05-13 04:02:11,583]\u001b[0m Trial 25 finished with value: 0.7694541873607943 and parameters: {'n_neighbors': 311, 'weights': 'distance', 'p': 1, 'leaf_size': 26}. Best is trial 1 with value: 0.7734374910245042.\u001b[0m\n",
      "\u001b[32m[I 2021-05-13 04:02:13,317]\u001b[0m Trial 26 finished with value: 0.7691231522338985 and parameters: {'n_neighbors': 254, 'weights': 'distance', 'p': 1, 'leaf_size': 12}. Best is trial 1 with value: 0.7734374910245042.\u001b[0m\n",
      "\u001b[32m[I 2021-05-13 04:02:14,050]\u001b[0m Trial 27 finished with value: 0.764226056748171 and parameters: {'n_neighbors': 181, 'weights': 'distance', 'p': 2, 'leaf_size': 45}. Best is trial 1 with value: 0.7734374910245042.\u001b[0m\n",
      "\u001b[32m[I 2021-05-13 04:02:15,738]\u001b[0m Trial 28 finished with value: 0.7714305566979724 and parameters: {'n_neighbors': 210, 'weights': 'distance', 'p': 1, 'leaf_size': 29}. Best is trial 1 with value: 0.7734374910245042.\u001b[0m\n",
      "\u001b[32m[I 2021-05-13 04:02:17,544]\u001b[0m Trial 29 finished with value: 0.7556915225621421 and parameters: {'n_neighbors': 64, 'weights': 'distance', 'p': 1, 'leaf_size': 8}. Best is trial 1 with value: 0.7734374910245042.\u001b[0m\n",
      "\u001b[32m[I 2021-05-13 04:02:19,343]\u001b[0m Trial 30 finished with value: 0.7654758546125244 and parameters: {'n_neighbors': 114, 'weights': 'distance', 'p': 1, 'leaf_size': 34}. Best is trial 1 with value: 0.7734374910245042.\u001b[0m\n",
      "\u001b[32m[I 2021-05-13 04:02:21,087]\u001b[0m Trial 31 finished with value: 0.7714341005897072 and parameters: {'n_neighbors': 170, 'weights': 'distance', 'p': 1, 'leaf_size': 5}. Best is trial 1 with value: 0.7734374910245042.\u001b[0m\n",
      "\u001b[32m[I 2021-05-13 04:02:22,877]\u001b[0m Trial 32 finished with value: 0.7714305566979724 and parameters: {'n_neighbors': 210, 'weights': 'distance', 'p': 1, 'leaf_size': 18}. Best is trial 1 with value: 0.7734374910245042.\u001b[0m\n",
      "\u001b[32m[I 2021-05-13 04:02:24,660]\u001b[0m Trial 33 finished with value: 0.7699845604975882 and parameters: {'n_neighbors': 267, 'weights': 'distance', 'p': 1, 'leaf_size': 64}. Best is trial 1 with value: 0.7734374910245042.\u001b[0m\n",
      "\u001b[32m[I 2021-05-13 04:02:26,317]\u001b[0m Trial 34 finished with value: 0.7665200052276386 and parameters: {'n_neighbors': 428, 'weights': 'distance', 'p': 1, 'leaf_size': 20}. Best is trial 1 with value: 0.7734374910245042.\u001b[0m\n",
      "\u001b[32m[I 2021-05-13 04:02:27,982]\u001b[0m Trial 35 finished with value: 0.7700989735275657 and parameters: {'n_neighbors': 221, 'weights': 'distance', 'p': 1, 'leaf_size': 30}. Best is trial 1 with value: 0.7734374910245042.\u001b[0m\n",
      "\u001b[32m[I 2021-05-13 04:02:28,555]\u001b[0m Trial 36 finished with value: 0.7612211461315015 and parameters: {'n_neighbors': 127, 'weights': 'distance', 'p': 2, 'leaf_size': 46}. Best is trial 1 with value: 0.7734374910245042.\u001b[0m\n"
     ]
    },
    {
     "name": "stderr",
     "output_type": "stream",
     "text": [
      "\u001b[32m[I 2021-05-13 04:02:30,222]\u001b[0m Trial 37 finished with value: 0.7671314525093584 and parameters: {'n_neighbors': 322, 'weights': 'uniform', 'p': 1, 'leaf_size': 13}. Best is trial 1 with value: 0.7734374910245042.\u001b[0m\n",
      "\u001b[32m[I 2021-05-13 04:02:31,856]\u001b[0m Trial 38 finished with value: 0.7686595125099392 and parameters: {'n_neighbors': 241, 'weights': 'distance', 'p': 1, 'leaf_size': 90}. Best is trial 1 with value: 0.7734374910245042.\u001b[0m\n",
      "\u001b[32m[I 2021-05-13 04:02:33,426]\u001b[0m Trial 39 finished with value: 0.7614066030428491 and parameters: {'n_neighbors': 87, 'weights': 'distance', 'p': 1, 'leaf_size': 37}. Best is trial 1 with value: 0.7734374910245042.\u001b[0m\n",
      "\u001b[32m[I 2021-05-13 04:02:35,107]\u001b[0m Trial 40 finished with value: 0.7732010542382376 and parameters: {'n_neighbors': 190, 'weights': 'distance', 'p': 1, 'leaf_size': 58}. Best is trial 1 with value: 0.7734374910245042.\u001b[0m\n",
      "\u001b[32m[I 2021-05-13 04:02:36,732]\u001b[0m Trial 41 finished with value: 0.7726302692651965 and parameters: {'n_neighbors': 184, 'weights': 'distance', 'p': 1, 'leaf_size': 62}. Best is trial 1 with value: 0.7734374910245042.\u001b[0m\n",
      "\u001b[32m[I 2021-05-13 04:02:38,342]\u001b[0m Trial 42 finished with value: 0.7706463642512773 and parameters: {'n_neighbors': 168, 'weights': 'distance', 'p': 1, 'leaf_size': 65}. Best is trial 1 with value: 0.7734374910245042.\u001b[0m\n",
      "\u001b[32m[I 2021-05-13 04:02:40,075]\u001b[0m Trial 43 finished with value: 0.7727805397217302 and parameters: {'n_neighbors': 192, 'weights': 'distance', 'p': 1, 'leaf_size': 50}. Best is trial 1 with value: 0.7734374910245042.\u001b[0m\n",
      "\u001b[32m[I 2021-05-13 04:02:41,935]\u001b[0m Trial 44 finished with value: 0.7699105391089922 and parameters: {'n_neighbors': 281, 'weights': 'distance', 'p': 1, 'leaf_size': 76}. Best is trial 1 with value: 0.7734374910245042.\u001b[0m\n",
      "\u001b[32m[I 2021-05-13 04:02:43,531]\u001b[0m Trial 45 finished with value: 0.7685459887686201 and parameters: {'n_neighbors': 150, 'weights': 'distance', 'p': 1, 'leaf_size': 49}. Best is trial 1 with value: 0.7734374910245042.\u001b[0m\n",
      "\u001b[32m[I 2021-05-13 04:02:45,181]\u001b[0m Trial 46 finished with value: 0.7683680479735766 and parameters: {'n_neighbors': 243, 'weights': 'distance', 'p': 1, 'leaf_size': 16}. Best is trial 1 with value: 0.7734374910245042.\u001b[0m\n",
      "\u001b[32m[I 2021-05-13 04:02:45,797]\u001b[0m Trial 47 finished with value: 0.7599869494921012 and parameters: {'n_neighbors': 202, 'weights': 'uniform', 'p': 2, 'leaf_size': 70}. Best is trial 1 with value: 0.7734374910245042.\u001b[0m\n",
      "\u001b[32m[I 2021-05-13 04:02:47,638]\u001b[0m Trial 48 finished with value: 0.7686752268000956 and parameters: {'n_neighbors': 141, 'weights': 'distance', 'p': 1, 'leaf_size': 40}. Best is trial 1 with value: 0.7734374910245042.\u001b[0m\n",
      "\u001b[32m[I 2021-05-13 04:02:49,487]\u001b[0m Trial 49 finished with value: 0.7699460218686995 and parameters: {'n_neighbors': 161, 'weights': 'distance', 'p': 1, 'leaf_size': 100}. Best is trial 1 with value: 0.7734374910245042.\u001b[0m\n",
      "\u001b[32m[I 2021-05-13 04:02:51,361]\u001b[0m Trial 50 finished with value: 0.7727805397217302 and parameters: {'n_neighbors': 192, 'weights': 'distance', 'p': 1, 'leaf_size': 9}. Best is trial 1 with value: 0.7734374910245042.\u001b[0m\n",
      "\u001b[32m[I 2021-05-13 04:02:53,105]\u001b[0m Trial 51 finished with value: 0.7732010542382376 and parameters: {'n_neighbors': 190, 'weights': 'distance', 'p': 1, 'leaf_size': 6}. Best is trial 1 with value: 0.7734374910245042.\u001b[0m\n",
      "\u001b[32m[I 2021-05-13 04:02:54,933]\u001b[0m Trial 52 finished with value: 0.7732010542382376 and parameters: {'n_neighbors': 190, 'weights': 'distance', 'p': 1, 'leaf_size': 7}. Best is trial 1 with value: 0.7734374910245042.\u001b[0m\n",
      "\u001b[32m[I 2021-05-13 04:02:56,585]\u001b[0m Trial 53 finished with value: 0.7728750399997247 and parameters: {'n_neighbors': 189, 'weights': 'distance', 'p': 1, 'leaf_size': 8}. Best is trial 1 with value: 0.7734374910245042.\u001b[0m\n",
      "\u001b[32m[I 2021-05-13 04:02:58,238]\u001b[0m Trial 54 finished with value: 0.7714042786899376 and parameters: {'n_neighbors': 228, 'weights': 'distance', 'p': 1, 'leaf_size': 9}. Best is trial 1 with value: 0.7734374910245042.\u001b[0m\n",
      "\u001b[32m[I 2021-05-13 04:02:59,854]\u001b[0m Trial 55 finished with value: 0.7706279314009582 and parameters: {'n_neighbors': 133, 'weights': 'distance', 'p': 1, 'leaf_size': 3}. Best is trial 1 with value: 0.7734374910245042.\u001b[0m\n",
      "\u001b[32m[I 2021-05-13 04:03:01,558]\u001b[0m Trial 56 finished with value: 0.762327472504156 and parameters: {'n_neighbors': 94, 'weights': 'distance', 'p': 1, 'leaf_size': 10}. Best is trial 1 with value: 0.7734374910245042.\u001b[0m\n",
      "\u001b[32m[I 2021-05-13 04:03:03,192]\u001b[0m Trial 57 finished with value: 0.7699209602607356 and parameters: {'n_neighbors': 160, 'weights': 'distance', 'p': 1, 'leaf_size': 5}. Best is trial 1 with value: 0.7734374910245042.\u001b[0m\n",
      "\u001b[32m[I 2021-05-13 04:03:04,983]\u001b[0m Trial 58 finished with value: 0.7683498595485825 and parameters: {'n_neighbors': 182, 'weights': 'uniform', 'p': 1, 'leaf_size': 1}. Best is trial 1 with value: 0.7734374910245042.\u001b[0m\n",
      "\u001b[32m[I 2021-05-13 04:03:06,633]\u001b[0m Trial 59 finished with value: 0.7694340317294892 and parameters: {'n_neighbors': 261, 'weights': 'distance', 'p': 1, 'leaf_size': 21}. Best is trial 1 with value: 0.7734374910245042.\u001b[0m\n",
      "\u001b[32m[I 2021-05-13 04:03:07,222]\u001b[0m Trial 60 finished with value: 0.7594066456617624 and parameters: {'n_neighbors': 117, 'weights': 'distance', 'p': 2, 'leaf_size': 16}. Best is trial 1 with value: 0.7734374910245042.\u001b[0m\n",
      "\u001b[32m[I 2021-05-13 04:03:08,837]\u001b[0m Trial 61 finished with value: 0.7727388837308282 and parameters: {'n_neighbors': 191, 'weights': 'distance', 'p': 1, 'leaf_size': 57}. Best is trial 1 with value: 0.7734374910245042.\u001b[0m\n",
      "\u001b[32m[I 2021-05-13 04:03:10,575]\u001b[0m Trial 62 finished with value: 0.773057479681935 and parameters: {'n_neighbors': 195, 'weights': 'distance', 'p': 1, 'leaf_size': 6}. Best is trial 1 with value: 0.7734374910245042.\u001b[0m\n",
      "\u001b[32m[I 2021-05-13 04:03:12,309]\u001b[0m Trial 63 finished with value: 0.770048901239563 and parameters: {'n_neighbors': 220, 'weights': 'distance', 'p': 1, 'leaf_size': 6}. Best is trial 1 with value: 0.7734374910245042.\u001b[0m\n",
      "\u001b[32m[I 2021-05-13 04:03:13,901]\u001b[0m Trial 64 finished with value: 0.7686386232520542 and parameters: {'n_neighbors': 240, 'weights': 'distance', 'p': 1, 'leaf_size': 10}. Best is trial 1 with value: 0.7734374910245042.\u001b[0m\n",
      "\u001b[32m[I 2021-05-13 04:03:15,527]\u001b[0m Trial 65 finished with value: 0.772181430133928 and parameters: {'n_neighbors': 171, 'weights': 'distance', 'p': 1, 'leaf_size': 1}. Best is trial 1 with value: 0.7734374910245042.\u001b[0m\n",
      "\u001b[32m[I 2021-05-13 04:03:17,487]\u001b[0m Trial 66 finished with value: 0.7690249362475337 and parameters: {'n_neighbors': 152, 'weights': 'distance', 'p': 1, 'leaf_size': 14}. Best is trial 1 with value: 0.7734374910245042.\u001b[0m\n",
      "\u001b[32m[I 2021-05-13 04:03:19,425]\u001b[0m Trial 67 finished with value: 0.773197684573967 and parameters: {'n_neighbors': 196, 'weights': 'distance', 'p': 1, 'leaf_size': 4}. Best is trial 1 with value: 0.7734374910245042.\u001b[0m\n",
      "\u001b[32m[I 2021-05-13 04:03:21,252]\u001b[0m Trial 68 finished with value: 0.7699535087478602 and parameters: {'n_neighbors': 219, 'weights': 'distance', 'p': 1, 'leaf_size': 5}. Best is trial 1 with value: 0.7734374910245042.\u001b[0m\n",
      "\u001b[32m[I 2021-05-13 04:03:22,962]\u001b[0m Trial 69 finished with value: 0.7723804766004869 and parameters: {'n_neighbors': 204, 'weights': 'distance', 'p': 1, 'leaf_size': 3}. Best is trial 1 with value: 0.7734374910245042.\u001b[0m\n",
      "\u001b[32m[I 2021-05-13 04:03:24,811]\u001b[0m Trial 70 finished with value: 0.7659806775912235 and parameters: {'n_neighbors': 124, 'weights': 'distance', 'p': 1, 'leaf_size': 13}. Best is trial 1 with value: 0.7734374910245042.\u001b[0m\n",
      "\u001b[32m[I 2021-05-13 04:03:26,366]\u001b[0m Trial 71 finished with value: 0.773057479681935 and parameters: {'n_neighbors': 195, 'weights': 'distance', 'p': 1, 'leaf_size': 8}. Best is trial 1 with value: 0.7734374910245042.\u001b[0m\n",
      "\u001b[32m[I 2021-05-13 04:03:28,279]\u001b[0m Trial 72 finished with value: 0.7721126519174801 and parameters: {'n_neighbors': 172, 'weights': 'distance', 'p': 1, 'leaf_size': 7}. Best is trial 1 with value: 0.7734374910245042.\u001b[0m\n",
      "\u001b[32m[I 2021-05-13 04:03:29,958]\u001b[0m Trial 73 finished with value: 0.7717843896578396 and parameters: {'n_neighbors': 232, 'weights': 'distance', 'p': 1, 'leaf_size': 18}. Best is trial 1 with value: 0.7734374910245042.\u001b[0m\n"
     ]
    },
    {
     "name": "stderr",
     "output_type": "stream",
     "text": [
      "\u001b[32m[I 2021-05-13 04:03:31,683]\u001b[0m Trial 74 finished with value: 0.7677488520607909 and parameters: {'n_neighbors': 144, 'weights': 'distance', 'p': 1, 'leaf_size': 11}. Best is trial 1 with value: 0.7734374910245042.\u001b[0m\n",
      "\u001b[32m[I 2021-05-13 04:03:33,446]\u001b[0m Trial 75 finished with value: 0.7705950525234265 and parameters: {'n_neighbors': 213, 'weights': 'distance', 'p': 1, 'leaf_size': 1}. Best is trial 1 with value: 0.7734374910245042.\u001b[0m\n",
      "\u001b[32m[I 2021-05-13 04:03:35,195]\u001b[0m Trial 76 finished with value: 0.7693367794135334 and parameters: {'n_neighbors': 250, 'weights': 'distance', 'p': 1, 'leaf_size': 4}. Best is trial 1 with value: 0.7734374910245042.\u001b[0m\n",
      "\u001b[32m[I 2021-05-13 04:03:36,784]\u001b[0m Trial 77 finished with value: 0.7725126771266028 and parameters: {'n_neighbors': 197, 'weights': 'distance', 'p': 1, 'leaf_size': 16}. Best is trial 1 with value: 0.7734374910245042.\u001b[0m\n",
      "\u001b[32m[I 2021-05-13 04:03:38,603]\u001b[0m Trial 78 finished with value: 0.7700685971304762 and parameters: {'n_neighbors': 276, 'weights': 'distance', 'p': 1, 'leaf_size': 7}. Best is trial 1 with value: 0.7734374910245042.\u001b[0m\n",
      "\u001b[32m[I 2021-05-13 04:03:40,187]\u001b[0m Trial 79 finished with value: 0.7672434058594537 and parameters: {'n_neighbors': 178, 'weights': 'uniform', 'p': 1, 'leaf_size': 14}. Best is trial 1 with value: 0.7734374910245042.\u001b[0m\n",
      "\u001b[32m[I 2021-05-13 04:03:40,871]\u001b[0m Trial 80 finished with value: 0.7632920597025622 and parameters: {'n_neighbors': 156, 'weights': 'distance', 'p': 2, 'leaf_size': 8}. Best is trial 1 with value: 0.7734374910245042.\u001b[0m\n",
      "\u001b[32m[I 2021-05-13 04:03:42,594]\u001b[0m Trial 81 finished with value: 0.7723545594287563 and parameters: {'n_neighbors': 200, 'weights': 'distance', 'p': 1, 'leaf_size': 11}. Best is trial 1 with value: 0.7734374910245042.\u001b[0m\n",
      "\u001b[32m[I 2021-05-13 04:03:44,209]\u001b[0m Trial 82 finished with value: 0.7726302692651965 and parameters: {'n_neighbors': 184, 'weights': 'distance', 'p': 1, 'leaf_size': 1}. Best is trial 1 with value: 0.7734374910245042.\u001b[0m\n",
      "\u001b[32m[I 2021-05-13 04:03:45,793]\u001b[0m Trial 83 finished with value: 0.7725050786280685 and parameters: {'n_neighbors': 187, 'weights': 'distance', 'p': 1, 'leaf_size': 19}. Best is trial 1 with value: 0.7734374910245042.\u001b[0m\n",
      "\u001b[32m[I 2021-05-13 04:03:47,440]\u001b[0m Trial 84 finished with value: 0.7717843896578396 and parameters: {'n_neighbors': 232, 'weights': 'distance', 'p': 1, 'leaf_size': 8}. Best is trial 1 with value: 0.7734374910245042.\u001b[0m\n",
      "\u001b[32m[I 2021-05-13 04:03:49,037]\u001b[0m Trial 85 finished with value: 0.765608049415426 and parameters: {'n_neighbors': 106, 'weights': 'distance', 'p': 1, 'leaf_size': 59}. Best is trial 1 with value: 0.7734374910245042.\u001b[0m\n",
      "\u001b[32m[I 2021-05-13 04:03:50,664]\u001b[0m Trial 86 finished with value: 0.7707573068563578 and parameters: {'n_neighbors': 166, 'weights': 'distance', 'p': 1, 'leaf_size': 22}. Best is trial 1 with value: 0.7734374910245042.\u001b[0m\n",
      "\u001b[32m[I 2021-05-13 04:03:52,337]\u001b[0m Trial 87 finished with value: 0.7705950525234265 and parameters: {'n_neighbors': 213, 'weights': 'distance', 'p': 1, 'leaf_size': 53}. Best is trial 1 with value: 0.7734374910245042.\u001b[0m\n",
      "\u001b[32m[I 2021-05-13 04:03:53,923]\u001b[0m Trial 88 finished with value: 0.7698580299004006 and parameters: {'n_neighbors': 134, 'weights': 'distance', 'p': 1, 'leaf_size': 67}. Best is trial 1 with value: 0.7734374910245042.\u001b[0m\n",
      "\u001b[32m[I 2021-05-13 04:03:55,518]\u001b[0m Trial 89 finished with value: 0.7725126771266028 and parameters: {'n_neighbors': 197, 'weights': 'distance', 'p': 1, 'leaf_size': 46}. Best is trial 1 with value: 0.7734374910245042.\u001b[0m\n",
      "\u001b[32m[I 2021-05-13 04:03:57,131]\u001b[0m Trial 90 finished with value: 0.7725752600671297 and parameters: {'n_neighbors': 176, 'weights': 'distance', 'p': 1, 'leaf_size': 4}. Best is trial 1 with value: 0.7734374910245042.\u001b[0m\n",
      "\u001b[32m[I 2021-05-13 04:03:58,804]\u001b[0m Trial 91 finished with value: 0.7716715245536336 and parameters: {'n_neighbors': 186, 'weights': 'distance', 'p': 1, 'leaf_size': 12}. Best is trial 1 with value: 0.7734374910245042.\u001b[0m\n",
      "\u001b[32m[I 2021-05-13 04:04:00,469]\u001b[0m Trial 92 finished with value: 0.7699209602607356 and parameters: {'n_neighbors': 160, 'weights': 'distance', 'p': 1, 'leaf_size': 6}. Best is trial 1 with value: 0.7734374910245042.\u001b[0m\n",
      "\u001b[32m[I 2021-05-13 04:04:02,290]\u001b[0m Trial 93 finished with value: 0.7732010542382376 and parameters: {'n_neighbors': 190, 'weights': 'distance', 'p': 1, 'leaf_size': 16}. Best is trial 1 with value: 0.7734374910245042.\u001b[0m\n",
      "\u001b[32m[I 2021-05-13 04:04:03,913]\u001b[0m Trial 94 finished with value: 0.77233051736767 and parameters: {'n_neighbors': 209, 'weights': 'distance', 'p': 1, 'leaf_size': 26}. Best is trial 1 with value: 0.7734374910245042.\u001b[0m\n",
      "\u001b[32m[I 2021-05-13 04:04:05,694]\u001b[0m Trial 95 finished with value: 0.7713401851747909 and parameters: {'n_neighbors': 224, 'weights': 'distance', 'p': 1, 'leaf_size': 49}. Best is trial 1 with value: 0.7734374910245042.\u001b[0m\n",
      "\u001b[32m[I 2021-05-13 04:04:07,246]\u001b[0m Trial 96 finished with value: 0.7679884065630151 and parameters: {'n_neighbors': 145, 'weights': 'distance', 'p': 1, 'leaf_size': 29}. Best is trial 1 with value: 0.7734374910245042.\u001b[0m\n",
      "\u001b[32m[I 2021-05-13 04:04:08,874]\u001b[0m Trial 97 finished with value: 0.773197684573967 and parameters: {'n_neighbors': 196, 'weights': 'distance', 'p': 1, 'leaf_size': 16}. Best is trial 1 with value: 0.7734374910245042.\u001b[0m\n",
      "\u001b[32m[I 2021-05-13 04:04:10,508]\u001b[0m Trial 98 finished with value: 0.772181430133928 and parameters: {'n_neighbors': 171, 'weights': 'distance', 'p': 1, 'leaf_size': 17}. Best is trial 1 with value: 0.7734374910245042.\u001b[0m\n",
      "\u001b[32m[I 2021-05-13 04:04:12,164]\u001b[0m Trial 99 finished with value: 0.7687565827181593 and parameters: {'n_neighbors': 248, 'weights': 'distance', 'p': 1, 'leaf_size': 15}. Best is trial 1 with value: 0.7734374910245042.\u001b[0m\n"
     ]
    },
    {
     "data": {
      "text/plain": [
       "FrozenTrial(number=1, values=[0.7734374910245042], datetime_start=datetime.datetime(2021, 5, 13, 4, 1, 32, 813473), datetime_complete=datetime.datetime(2021, 5, 13, 4, 1, 34, 768039), params={'n_neighbors': 174, 'weights': 'distance', 'p': 1, 'leaf_size': 17}, distributions={'n_neighbors': IntUniformDistribution(high=500, low=1, step=1), 'weights': CategoricalDistribution(choices=('uniform', 'distance')), 'p': CategoricalDistribution(choices=(1, 2)), 'leaf_size': IntUniformDistribution(high=100, low=1, step=1)}, user_attrs={}, system_attrs={}, intermediate_values={}, trial_id=1, state=TrialState.COMPLETE, value=None)"
      ]
     },
     "execution_count": 71,
     "metadata": {},
     "output_type": "execute_result"
    }
   ],
   "source": [
    "knn_study = optuna.create_study(direction='maximize')\n",
    "knn_study.optimize(knn_objective, n_trials=100)\n",
    "knn_study.best_trial"
   ]
  },
  {
   "cell_type": "code",
   "execution_count": 72,
   "metadata": {
    "ExecuteTime": {
     "end_time": "2021-05-13T01:04:13.059086Z",
     "start_time": "2021-05-13T01:04:13.054464Z"
    }
   },
   "outputs": [
    {
     "name": "stdout",
     "output_type": "stream",
     "text": [
      "KNN\n",
      "best score = 0.7734374910245042\n",
      "best params = {'n_neighbors': 174, 'weights': 'distance', 'p': 1, 'leaf_size': 17}\n"
     ]
    }
   ],
   "source": [
    "print('KNN')\n",
    "print(f'best score = {knn_study.best_trial.values[0]}')\n",
    "print(f'best params = {knn_study.best_trial.params}')"
   ]
  },
  {
   "cell_type": "code",
   "execution_count": 73,
   "metadata": {
    "ExecuteTime": {
     "end_time": "2021-05-13T01:04:13.817199Z",
     "start_time": "2021-05-13T01:04:13.809234Z"
    }
   },
   "outputs": [],
   "source": [
    "def dt_objective(trial):\n",
    "    criterion = trial.suggest_categorical('criterion', ['gini', 'entropy'])\n",
    "    max_depth = trial.suggest_int('max_depth', 2, 12)\n",
    "    min_samples_split = trial.suggest_int('min_samples_split', 1, 100)\n",
    "    min_samples_leaf = trial.suggest_int('min_samples_leaf', 1, 100)\n",
    "    \n",
    "    dt_clf = DecisionTreeClassifier(criterion=criterion, max_depth=max_depth,\n",
    "                                    min_samples_split=min_samples_split, min_samples_leaf=min_samples_leaf)\n",
    "    score = cross_val_score(dt_clf, X_dt, y, n_jobs=3, scoring='roc_auc').mean()\n",
    "    return score"
   ]
  },
  {
   "cell_type": "code",
   "execution_count": 74,
   "metadata": {
    "ExecuteTime": {
     "end_time": "2021-05-13T01:04:26.789692Z",
     "start_time": "2021-05-13T01:04:14.584758Z"
    }
   },
   "outputs": [
    {
     "name": "stderr",
     "output_type": "stream",
     "text": [
      "\u001b[32m[I 2021-05-13 04:04:14,587]\u001b[0m A new study created in memory with name: no-name-f2899f84-c562-4ea7-ac5d-d9999c758f20\u001b[0m\n",
      "\u001b[32m[I 2021-05-13 04:04:14,710]\u001b[0m Trial 0 finished with value: 0.6200034083944703 and parameters: {'criterion': 'gini', 'max_depth': 7, 'min_samples_split': 18, 'min_samples_leaf': 50}. Best is trial 0 with value: 0.6200034083944703.\u001b[0m\n",
      "\u001b[32m[I 2021-05-13 04:04:14,814]\u001b[0m Trial 1 finished with value: 0.6113881418001783 and parameters: {'criterion': 'gini', 'max_depth': 9, 'min_samples_split': 60, 'min_samples_leaf': 89}. Best is trial 0 with value: 0.6200034083944703.\u001b[0m\n",
      "\u001b[32m[I 2021-05-13 04:04:14,975]\u001b[0m Trial 2 finished with value: 0.6209348589269491 and parameters: {'criterion': 'entropy', 'max_depth': 6, 'min_samples_split': 19, 'min_samples_leaf': 66}. Best is trial 2 with value: 0.6209348589269491.\u001b[0m\n",
      "\u001b[32m[I 2021-05-13 04:04:15,087]\u001b[0m Trial 3 finished with value: 0.6113491928128203 and parameters: {'criterion': 'gini', 'max_depth': 11, 'min_samples_split': 26, 'min_samples_leaf': 56}. Best is trial 2 with value: 0.6209348589269491.\u001b[0m\n",
      "\u001b[32m[I 2021-05-13 04:04:15,207]\u001b[0m Trial 4 finished with value: 0.6210017978212069 and parameters: {'criterion': 'gini', 'max_depth': 8, 'min_samples_split': 21, 'min_samples_leaf': 43}. Best is trial 4 with value: 0.6210017978212069.\u001b[0m\n",
      "\u001b[32m[I 2021-05-13 04:04:15,293]\u001b[0m Trial 5 finished with value: 0.5865056080113631 and parameters: {'criterion': 'entropy', 'max_depth': 2, 'min_samples_split': 25, 'min_samples_leaf': 8}. Best is trial 4 with value: 0.6210017978212069.\u001b[0m\n",
      "\u001b[32m[I 2021-05-13 04:04:15,402]\u001b[0m Trial 6 finished with value: 0.6229607329655453 and parameters: {'criterion': 'gini', 'max_depth': 6, 'min_samples_split': 76, 'min_samples_leaf': 46}. Best is trial 6 with value: 0.6229607329655453.\u001b[0m\n",
      "\u001b[32m[I 2021-05-13 04:04:15,549]\u001b[0m Trial 7 finished with value: 0.6134021646982067 and parameters: {'criterion': 'entropy', 'max_depth': 10, 'min_samples_split': 76, 'min_samples_leaf': 97}. Best is trial 6 with value: 0.6229607329655453.\u001b[0m\n",
      "\u001b[32m[I 2021-05-13 04:04:15,633]\u001b[0m Trial 8 finished with value: 0.6132224858424642 and parameters: {'criterion': 'gini', 'max_depth': 4, 'min_samples_split': 2, 'min_samples_leaf': 98}. Best is trial 6 with value: 0.6229607329655453.\u001b[0m\n",
      "\u001b[32m[I 2021-05-13 04:04:15,748]\u001b[0m Trial 9 finished with value: 0.6106872126211842 and parameters: {'criterion': 'gini', 'max_depth': 11, 'min_samples_split': 38, 'min_samples_leaf': 89}. Best is trial 6 with value: 0.6229607329655453.\u001b[0m\n",
      "\u001b[32m[I 2021-05-13 04:04:15,863]\u001b[0m Trial 10 finished with value: 0.6143340397202182 and parameters: {'criterion': 'gini', 'max_depth': 5, 'min_samples_split': 100, 'min_samples_leaf': 24}. Best is trial 6 with value: 0.6229607329655453.\u001b[0m\n",
      "\u001b[32m[I 2021-05-13 04:04:15,988]\u001b[0m Trial 11 finished with value: 0.6131408267042351 and parameters: {'criterion': 'gini', 'max_depth': 8, 'min_samples_split': 89, 'min_samples_leaf': 37}. Best is trial 6 with value: 0.6229607329655453.\u001b[0m\n",
      "\u001b[32m[I 2021-05-13 04:04:16,086]\u001b[0m Trial 12 finished with value: 0.6033900959118818 and parameters: {'criterion': 'gini', 'max_depth': 3, 'min_samples_split': 59, 'min_samples_leaf': 33}. Best is trial 6 with value: 0.6229607329655453.\u001b[0m\n",
      "\u001b[32m[I 2021-05-13 04:04:16,201]\u001b[0m Trial 13 finished with value: 0.6144791441444495 and parameters: {'criterion': 'gini', 'max_depth': 7, 'min_samples_split': 74, 'min_samples_leaf': 74}. Best is trial 6 with value: 0.6229607329655453.\u001b[0m\n",
      "\u001b[32m[I 2021-05-13 04:04:16,322]\u001b[0m Trial 14 finished with value: 0.6135000507883509 and parameters: {'criterion': 'gini', 'max_depth': 5, 'min_samples_split': 2, 'min_samples_leaf': 16}. Best is trial 6 with value: 0.6229607329655453.\u001b[0m\n",
      "\u001b[32m[I 2021-05-13 04:04:16,446]\u001b[0m Trial 15 finished with value: 0.6219754373748453 and parameters: {'criterion': 'gini', 'max_depth': 9, 'min_samples_split': 45, 'min_samples_leaf': 45}. Best is trial 6 with value: 0.6229607329655453.\u001b[0m\n",
      "\u001b[32m[I 2021-05-13 04:04:16,581]\u001b[0m Trial 16 finished with value: 0.6113209098566481 and parameters: {'criterion': 'gini', 'max_depth': 9, 'min_samples_split': 45, 'min_samples_leaf': 62}. Best is trial 6 with value: 0.6229607329655453.\u001b[0m\n",
      "\u001b[32m[I 2021-05-13 04:04:16,809]\u001b[0m Trial 17 finished with value: 0.61341547237009 and parameters: {'criterion': 'entropy', 'max_depth': 12, 'min_samples_split': 72, 'min_samples_leaf': 24}. Best is trial 6 with value: 0.6229607329655453.\u001b[0m\n",
      "\u001b[32m[I 2021-05-13 04:04:16,929]\u001b[0m Trial 18 finished with value: 0.6217877179373277 and parameters: {'criterion': 'gini', 'max_depth': 6, 'min_samples_split': 91, 'min_samples_leaf': 47}. Best is trial 6 with value: 0.6229607329655453.\u001b[0m\n",
      "\u001b[32m[I 2021-05-13 04:04:17,040]\u001b[0m Trial 19 finished with value: 0.6107567314996919 and parameters: {'criterion': 'gini', 'max_depth': 9, 'min_samples_split': 57, 'min_samples_leaf': 71}. Best is trial 6 with value: 0.6229607329655453.\u001b[0m\n",
      "\u001b[32m[I 2021-05-13 04:04:17,159]\u001b[0m Trial 20 finished with value: 0.6214907354611071 and parameters: {'criterion': 'gini', 'max_depth': 6, 'min_samples_split': 41, 'min_samples_leaf': 33}. Best is trial 6 with value: 0.6229607329655453.\u001b[0m\n",
      "\u001b[32m[I 2021-05-13 04:04:17,275]\u001b[0m Trial 21 finished with value: 0.6216370841334882 and parameters: {'criterion': 'gini', 'max_depth': 6, 'min_samples_split': 100, 'min_samples_leaf': 49}. Best is trial 6 with value: 0.6229607329655453.\u001b[0m\n",
      "\u001b[32m[I 2021-05-13 04:04:17,378]\u001b[0m Trial 22 finished with value: 0.6095562532639016 and parameters: {'criterion': 'gini', 'max_depth': 4, 'min_samples_split': 80, 'min_samples_leaf': 43}. Best is trial 6 with value: 0.6229607329655453.\u001b[0m\n",
      "\u001b[32m[I 2021-05-13 04:04:17,499]\u001b[0m Trial 23 finished with value: 0.618083488505232 and parameters: {'criterion': 'gini', 'max_depth': 8, 'min_samples_split': 90, 'min_samples_leaf': 57}. Best is trial 6 with value: 0.6229607329655453.\u001b[0m\n",
      "\u001b[32m[I 2021-05-13 04:04:17,606]\u001b[0m Trial 24 finished with value: 0.6129430804257374 and parameters: {'criterion': 'gini', 'max_depth': 5, 'min_samples_split': 66, 'min_samples_leaf': 45}. Best is trial 6 with value: 0.6229607329655453.\u001b[0m\n",
      "\u001b[32m[I 2021-05-13 04:04:17,727]\u001b[0m Trial 25 finished with value: 0.6174120777186798 and parameters: {'criterion': 'gini', 'max_depth': 7, 'min_samples_split': 87, 'min_samples_leaf': 24}. Best is trial 6 with value: 0.6229607329655453.\u001b[0m\n",
      "\u001b[32m[I 2021-05-13 04:04:17,841]\u001b[0m Trial 26 finished with value: 0.6229343125082435 and parameters: {'criterion': 'gini', 'max_depth': 6, 'min_samples_split': 48, 'min_samples_leaf': 56}. Best is trial 6 with value: 0.6229607329655453.\u001b[0m\n",
      "\u001b[32m[I 2021-05-13 04:04:18,009]\u001b[0m Trial 27 finished with value: 0.6135803401049656 and parameters: {'criterion': 'entropy', 'max_depth': 10, 'min_samples_split': 48, 'min_samples_leaf': 78}. Best is trial 6 with value: 0.6229607329655453.\u001b[0m\n",
      "\u001b[32m[I 2021-05-13 04:04:18,110]\u001b[0m Trial 28 finished with value: 0.6110459249718105 and parameters: {'criterion': 'gini', 'max_depth': 4, 'min_samples_split': 34, 'min_samples_leaf': 57}. Best is trial 6 with value: 0.6229607329655453.\u001b[0m\n",
      "\u001b[32m[I 2021-05-13 04:04:18,226]\u001b[0m Trial 29 finished with value: 0.6204146261738293 and parameters: {'criterion': 'gini', 'max_depth': 7, 'min_samples_split': 53, 'min_samples_leaf': 53}. Best is trial 6 with value: 0.6229607329655453.\u001b[0m\n",
      "\u001b[32m[I 2021-05-13 04:04:18,349]\u001b[0m Trial 30 finished with value: 0.6179816332491325 and parameters: {'criterion': 'gini', 'max_depth': 8, 'min_samples_split': 32, 'min_samples_leaf': 65}. Best is trial 6 with value: 0.6229607329655453.\u001b[0m\n",
      "\u001b[32m[I 2021-05-13 04:04:18,463]\u001b[0m Trial 31 finished with value: 0.6194431566500026 and parameters: {'criterion': 'gini', 'max_depth': 6, 'min_samples_split': 50, 'min_samples_leaf': 39}. Best is trial 6 with value: 0.6229607329655453.\u001b[0m\n",
      "\u001b[32m[I 2021-05-13 04:04:18,583]\u001b[0m Trial 32 finished with value: 0.6221687028140017 and parameters: {'criterion': 'gini', 'max_depth': 6, 'min_samples_split': 65, 'min_samples_leaf': 49}. Best is trial 6 with value: 0.6229607329655453.\u001b[0m\n",
      "\u001b[32m[I 2021-05-13 04:04:18,688]\u001b[0m Trial 33 finished with value: 0.6117336777422095 and parameters: {'criterion': 'gini', 'max_depth': 5, 'min_samples_split': 67, 'min_samples_leaf': 50}. Best is trial 6 with value: 0.6229607329655453.\u001b[0m\n"
     ]
    },
    {
     "name": "stderr",
     "output_type": "stream",
     "text": [
      "\u001b[32m[I 2021-05-13 04:04:18,810]\u001b[0m Trial 34 finished with value: 0.6142726848265364 and parameters: {'criterion': 'gini', 'max_depth': 7, 'min_samples_split': 65, 'min_samples_leaf': 59}. Best is trial 6 with value: 0.6229607329655453.\u001b[0m\n",
      "\u001b[32m[I 2021-05-13 04:04:18,944]\u001b[0m Trial 35 finished with value: 0.6117853630951107 and parameters: {'criterion': 'gini', 'max_depth': 9, 'min_samples_split': 12, 'min_samples_leaf': 36}. Best is trial 6 with value: 0.6229607329655453.\u001b[0m\n",
      "\u001b[32m[I 2021-05-13 04:04:19,057]\u001b[0m Trial 36 finished with value: 0.6208315958937064 and parameters: {'criterion': 'gini', 'max_depth': 6, 'min_samples_split': 62, 'min_samples_leaf': 29}. Best is trial 6 with value: 0.6229607329655453.\u001b[0m\n",
      "\u001b[32m[I 2021-05-13 04:04:19,231]\u001b[0m Trial 37 finished with value: 0.6135393075270302 and parameters: {'criterion': 'entropy', 'max_depth': 8, 'min_samples_split': 55, 'min_samples_leaf': 69}. Best is trial 6 with value: 0.6229607329655453.\u001b[0m\n",
      "\u001b[32m[I 2021-05-13 04:04:19,365]\u001b[0m Trial 38 finished with value: 0.6196857498985129 and parameters: {'criterion': 'gini', 'max_depth': 10, 'min_samples_split': 82, 'min_samples_leaf': 42}. Best is trial 6 with value: 0.6229607329655453.\u001b[0m\n",
      "\u001b[32m[I 2021-05-13 04:04:19,470]\u001b[0m Trial 39 finished with value: 0.6209345121816392 and parameters: {'criterion': 'gini', 'max_depth': 5, 'min_samples_split': 44, 'min_samples_leaf': 63}. Best is trial 6 with value: 0.6229607329655453.\u001b[0m\n",
      "\u001b[32m[I 2021-05-13 04:04:19,590]\u001b[0m Trial 40 finished with value: 0.6019470656487482 and parameters: {'criterion': 'entropy', 'max_depth': 3, 'min_samples_split': 31, 'min_samples_leaf': 82}. Best is trial 6 with value: 0.6229607329655453.\u001b[0m\n",
      "\u001b[32m[I 2021-05-13 04:04:19,705]\u001b[0m Trial 41 finished with value: 0.6216540024156265 and parameters: {'criterion': 'gini', 'max_depth': 6, 'min_samples_split': 95, 'min_samples_leaf': 48}. Best is trial 6 with value: 0.6229607329655453.\u001b[0m\n",
      "\u001b[32m[I 2021-05-13 04:04:19,820]\u001b[0m Trial 42 finished with value: 0.6203777326117559 and parameters: {'criterion': 'gini', 'max_depth': 7, 'min_samples_split': 82, 'min_samples_leaf': 53}. Best is trial 6 with value: 0.6229607329655453.\u001b[0m\n",
      "\u001b[32m[I 2021-05-13 04:04:19,934]\u001b[0m Trial 43 finished with value: 0.6227920012095762 and parameters: {'criterion': 'gini', 'max_depth': 6, 'min_samples_split': 69, 'min_samples_leaf': 46}. Best is trial 6 with value: 0.6229607329655453.\u001b[0m\n",
      "\u001b[32m[I 2021-05-13 04:04:20,035]\u001b[0m Trial 44 finished with value: 0.6110332428098478 and parameters: {'criterion': 'gini', 'max_depth': 4, 'min_samples_split': 70, 'min_samples_leaf': 53}. Best is trial 6 with value: 0.6229607329655453.\u001b[0m\n",
      "\u001b[32m[I 2021-05-13 04:04:20,140]\u001b[0m Trial 45 finished with value: 0.6142677032961034 and parameters: {'criterion': 'gini', 'max_depth': 5, 'min_samples_split': 79, 'min_samples_leaf': 43}. Best is trial 6 with value: 0.6229607329655453.\u001b[0m\n",
      "\u001b[32m[I 2021-05-13 04:04:20,249]\u001b[0m Trial 46 finished with value: 0.6192917605701209 and parameters: {'criterion': 'gini', 'max_depth': 6, 'min_samples_split': 63, 'min_samples_leaf': 39}. Best is trial 6 with value: 0.6229607329655453.\u001b[0m\n",
      "\u001b[32m[I 2021-05-13 04:04:20,384]\u001b[0m Trial 47 finished with value: 0.6107300972365955 and parameters: {'criterion': 'gini', 'max_depth': 8, 'min_samples_split': 59, 'min_samples_leaf': 31}. Best is trial 6 with value: 0.6229607329655453.\u001b[0m\n",
      "\u001b[32m[I 2021-05-13 04:04:20,509]\u001b[0m Trial 48 finished with value: 0.6090711059946067 and parameters: {'criterion': 'gini', 'max_depth': 11, 'min_samples_split': 70, 'min_samples_leaf': 60}. Best is trial 6 with value: 0.6229607329655453.\u001b[0m\n",
      "\u001b[32m[I 2021-05-13 04:04:20,622]\u001b[0m Trial 49 finished with value: 0.6155173208591731 and parameters: {'criterion': 'gini', 'max_depth': 5, 'min_samples_split': 39, 'min_samples_leaf': 53}. Best is trial 6 with value: 0.6229607329655453.\u001b[0m\n",
      "\u001b[32m[I 2021-05-13 04:04:20,748]\u001b[0m Trial 50 finished with value: 0.621062732576201 and parameters: {'criterion': 'gini', 'max_depth': 7, 'min_samples_split': 76, 'min_samples_leaf': 46}. Best is trial 6 with value: 0.6229607329655453.\u001b[0m\n",
      "\u001b[32m[I 2021-05-13 04:04:20,857]\u001b[0m Trial 51 finished with value: 0.6217845959807153 and parameters: {'criterion': 'gini', 'max_depth': 6, 'min_samples_split': 86, 'min_samples_leaf': 48}. Best is trial 6 with value: 0.6229607329655453.\u001b[0m\n",
      "\u001b[32m[I 2021-05-13 04:04:20,976]\u001b[0m Trial 52 finished with value: 0.6189631792496334 and parameters: {'criterion': 'gini', 'max_depth': 6, 'min_samples_split': 96, 'min_samples_leaf': 40}. Best is trial 6 with value: 0.6229607329655453.\u001b[0m\n",
      "\u001b[32m[I 2021-05-13 04:04:21,095]\u001b[0m Trial 53 finished with value: 0.6206879055975829 and parameters: {'criterion': 'gini', 'max_depth': 7, 'min_samples_split': 51, 'min_samples_leaf': 45}. Best is trial 6 with value: 0.6229607329655453.\u001b[0m\n",
      "\u001b[32m[I 2021-05-13 04:04:21,215]\u001b[0m Trial 54 finished with value: 0.6229343125082435 and parameters: {'criterion': 'gini', 'max_depth': 6, 'min_samples_split': 75, 'min_samples_leaf': 56}. Best is trial 6 with value: 0.6229607329655453.\u001b[0m\n",
      "\u001b[32m[I 2021-05-13 04:04:21,315]\u001b[0m Trial 55 finished with value: 0.6110212494704458 and parameters: {'criterion': 'gini', 'max_depth': 4, 'min_samples_split': 74, 'min_samples_leaf': 69}. Best is trial 6 with value: 0.6229607329655453.\u001b[0m\n",
      "\u001b[32m[I 2021-05-13 04:04:21,428]\u001b[0m Trial 56 finished with value: 0.6158902903509069 and parameters: {'criterion': 'gini', 'max_depth': 5, 'min_samples_split': 57, 'min_samples_leaf': 55}. Best is trial 6 with value: 0.6229607329655453.\u001b[0m\n",
      "\u001b[32m[I 2021-05-13 04:04:21,540]\u001b[0m Trial 57 finished with value: 0.6189704828657303 and parameters: {'criterion': 'gini', 'max_depth': 6, 'min_samples_split': 69, 'min_samples_leaf': 36}. Best is trial 6 with value: 0.6229607329655453.\u001b[0m\n",
      "\u001b[32m[I 2021-05-13 04:04:21,708]\u001b[0m Trial 58 finished with value: 0.6138992061056366 and parameters: {'criterion': 'entropy', 'max_depth': 8, 'min_samples_split': 46, 'min_samples_leaf': 64}. Best is trial 6 with value: 0.6229607329655453.\u001b[0m\n",
      "\u001b[32m[I 2021-05-13 04:04:21,823]\u001b[0m Trial 59 finished with value: 0.6151265626458517 and parameters: {'criterion': 'gini', 'max_depth': 7, 'min_samples_split': 62, 'min_samples_leaf': 58}. Best is trial 6 with value: 0.6229607329655453.\u001b[0m\n",
      "\u001b[32m[I 2021-05-13 04:04:21,957]\u001b[0m Trial 60 finished with value: 0.6227845131383576 and parameters: {'criterion': 'gini', 'max_depth': 6, 'min_samples_split': 54, 'min_samples_leaf': 2}. Best is trial 6 with value: 0.6229607329655453.\u001b[0m\n",
      "\u001b[32m[I 2021-05-13 04:04:22,063]\u001b[0m Trial 61 finished with value: 0.6156081710587721 and parameters: {'criterion': 'gini', 'max_depth': 5, 'min_samples_split': 54, 'min_samples_leaf': 19}. Best is trial 6 with value: 0.6229607329655453.\u001b[0m\n",
      "\u001b[32m[I 2021-05-13 04:04:22,185]\u001b[0m Trial 62 finished with value: 0.6260525801784519 and parameters: {'criterion': 'gini', 'max_depth': 6, 'min_samples_split': 42, 'min_samples_leaf': 10}. Best is trial 62 with value: 0.6260525801784519.\u001b[0m\n",
      "\u001b[32m[I 2021-05-13 04:04:22,309]\u001b[0m Trial 63 finished with value: 0.622960709929107 and parameters: {'criterion': 'gini', 'max_depth': 6, 'min_samples_split': 42, 'min_samples_leaf': 3}. Best is trial 62 with value: 0.6260525801784519.\u001b[0m\n",
      "\u001b[32m[I 2021-05-13 04:04:22,430]\u001b[0m Trial 64 finished with value: 0.6239102886692838 and parameters: {'criterion': 'gini', 'max_depth': 6, 'min_samples_split': 41, 'min_samples_leaf': 1}. Best is trial 62 with value: 0.6260525801784519.\u001b[0m\n",
      "\u001b[32m[I 2021-05-13 04:04:22,544]\u001b[0m Trial 65 finished with value: 0.6114610750367857 and parameters: {'criterion': 'gini', 'max_depth': 5, 'min_samples_split': 26, 'min_samples_leaf': 8}. Best is trial 62 with value: 0.6260525801784519.\u001b[0m\n",
      "\u001b[32m[I 2021-05-13 04:04:22,669]\u001b[0m Trial 66 finished with value: 0.6166174886859868 and parameters: {'criterion': 'gini', 'max_depth': 7, 'min_samples_split': 41, 'min_samples_leaf': 3}. Best is trial 62 with value: 0.6260525801784519.\u001b[0m\n",
      "\u001b[32m[I 2021-05-13 04:04:22,789]\u001b[0m Trial 67 finished with value: 0.6243687200478888 and parameters: {'criterion': 'gini', 'max_depth': 6, 'min_samples_split': 43, 'min_samples_leaf': 10}. Best is trial 62 with value: 0.6260525801784519.\u001b[0m\n"
     ]
    },
    {
     "name": "stderr",
     "output_type": "stream",
     "text": [
      "\u001b[32m[I 2021-05-13 04:04:22,910]\u001b[0m Trial 68 finished with value: 0.6125207015504817 and parameters: {'criterion': 'gini', 'max_depth': 5, 'min_samples_split': 36, 'min_samples_leaf': 10}. Best is trial 62 with value: 0.6260525801784519.\u001b[0m\n",
      "\u001b[32m[I 2021-05-13 04:04:23,026]\u001b[0m Trial 69 finished with value: 0.6294230619605782 and parameters: {'criterion': 'gini', 'max_depth': 6, 'min_samples_split': 43, 'min_samples_leaf': 14}. Best is trial 69 with value: 0.6294230619605782.\u001b[0m\n",
      "\u001b[32m[I 2021-05-13 04:04:23,119]\u001b[0m Trial 70 finished with value: 0.6119509231051745 and parameters: {'criterion': 'gini', 'max_depth': 4, 'min_samples_split': 30, 'min_samples_leaf': 12}. Best is trial 69 with value: 0.6294230619605782.\u001b[0m\n",
      "\u001b[32m[I 2021-05-13 04:04:23,247]\u001b[0m Trial 71 finished with value: 0.6217125771494624 and parameters: {'criterion': 'gini', 'max_depth': 6, 'min_samples_split': 42, 'min_samples_leaf': 5}. Best is trial 69 with value: 0.6294230619605782.\u001b[0m\n",
      "\u001b[32m[I 2021-05-13 04:04:23,376]\u001b[0m Trial 72 finished with value: 0.6240273446555634 and parameters: {'criterion': 'gini', 'max_depth': 7, 'min_samples_split': 47, 'min_samples_leaf': 15}. Best is trial 69 with value: 0.6294230619605782.\u001b[0m\n",
      "\u001b[32m[I 2021-05-13 04:04:23,504]\u001b[0m Trial 73 finished with value: 0.6243452513099578 and parameters: {'criterion': 'gini', 'max_depth': 7, 'min_samples_split': 37, 'min_samples_leaf': 15}. Best is trial 69 with value: 0.6294230619605782.\u001b[0m\n",
      "\u001b[32m[I 2021-05-13 04:04:23,632]\u001b[0m Trial 74 finished with value: 0.6214942652217785 and parameters: {'criterion': 'gini', 'max_depth': 7, 'min_samples_split': 36, 'min_samples_leaf': 14}. Best is trial 69 with value: 0.6294230619605782.\u001b[0m\n",
      "\u001b[32m[I 2021-05-13 04:04:23,763]\u001b[0m Trial 75 finished with value: 0.6077369370232408 and parameters: {'criterion': 'gini', 'max_depth': 8, 'min_samples_split': 39, 'min_samples_leaf': 19}. Best is trial 69 with value: 0.6294230619605782.\u001b[0m\n",
      "\u001b[32m[I 2021-05-13 04:04:23,892]\u001b[0m Trial 76 finished with value: 0.6163299373689898 and parameters: {'criterion': 'gini', 'max_depth': 7, 'min_samples_split': 28, 'min_samples_leaf': 18}. Best is trial 69 with value: 0.6294230619605782.\u001b[0m\n",
      "\u001b[32m[I 2021-05-13 04:04:24,018]\u001b[0m Trial 77 finished with value: 0.6209927360096488 and parameters: {'criterion': 'gini', 'max_depth': 7, 'min_samples_split': 21, 'min_samples_leaf': 7}. Best is trial 69 with value: 0.6294230619605782.\u001b[0m\n",
      "\u001b[32m[I 2021-05-13 04:04:24,144]\u001b[0m Trial 78 finished with value: 0.6208520480202331 and parameters: {'criterion': 'gini', 'max_depth': 7, 'min_samples_split': 49, 'min_samples_leaf': 1}. Best is trial 69 with value: 0.6294230619605782.\u001b[0m\n",
      "\u001b[32m[I 2021-05-13 04:04:24,281]\u001b[0m Trial 79 finished with value: 0.6141730193643705 and parameters: {'criterion': 'gini', 'max_depth': 8, 'min_samples_split': 43, 'min_samples_leaf': 25}. Best is trial 69 with value: 0.6294230619605782.\u001b[0m\n",
      "\u001b[32m[I 2021-05-13 04:04:24,465]\u001b[0m Trial 80 finished with value: 0.617746052914833 and parameters: {'criterion': 'entropy', 'max_depth': 6, 'min_samples_split': 35, 'min_samples_leaf': 22}. Best is trial 69 with value: 0.6294230619605782.\u001b[0m\n",
      "\u001b[32m[I 2021-05-13 04:04:24,595]\u001b[0m Trial 81 finished with value: 0.6282636329180756 and parameters: {'criterion': 'gini', 'max_depth': 6, 'min_samples_split': 46, 'min_samples_leaf': 15}. Best is trial 69 with value: 0.6294230619605782.\u001b[0m\n",
      "\u001b[32m[I 2021-05-13 04:04:24,728]\u001b[0m Trial 82 finished with value: 0.628192657431453 and parameters: {'criterion': 'gini', 'max_depth': 6, 'min_samples_split': 38, 'min_samples_leaf': 15}. Best is trial 69 with value: 0.6294230619605782.\u001b[0m\n",
      "\u001b[32m[I 2021-05-13 04:04:24,848]\u001b[0m Trial 83 finished with value: 0.6304369577752019 and parameters: {'criterion': 'gini', 'max_depth': 6, 'min_samples_split': 46, 'min_samples_leaf': 14}. Best is trial 83 with value: 0.6304369577752019.\u001b[0m\n",
      "\u001b[32m[I 2021-05-13 04:04:24,976]\u001b[0m Trial 84 finished with value: 0.6282636329180756 and parameters: {'criterion': 'gini', 'max_depth': 6, 'min_samples_split': 46, 'min_samples_leaf': 15}. Best is trial 83 with value: 0.6304369577752019.\u001b[0m\n",
      "\u001b[32m[I 2021-05-13 04:04:25,106]\u001b[0m Trial 85 finished with value: 0.6263792605770663 and parameters: {'criterion': 'gini', 'max_depth': 7, 'min_samples_split': 45, 'min_samples_leaf': 15}. Best is trial 83 with value: 0.6304369577752019.\u001b[0m\n",
      "\u001b[32m[I 2021-05-13 04:04:25,220]\u001b[0m Trial 86 finished with value: 0.6259887419874467 and parameters: {'criterion': 'gini', 'max_depth': 6, 'min_samples_split': 51, 'min_samples_leaf': 12}. Best is trial 83 with value: 0.6304369577752019.\u001b[0m\n",
      "\u001b[32m[I 2021-05-13 04:04:25,329]\u001b[0m Trial 87 finished with value: 0.6149194575764051 and parameters: {'criterion': 'gini', 'max_depth': 5, 'min_samples_split': 51, 'min_samples_leaf': 11}. Best is trial 83 with value: 0.6304369577752019.\u001b[0m\n",
      "\u001b[32m[I 2021-05-13 04:04:25,455]\u001b[0m Trial 88 finished with value: 0.6273755779865396 and parameters: {'criterion': 'gini', 'max_depth': 6, 'min_samples_split': 47, 'min_samples_leaf': 21}. Best is trial 83 with value: 0.6304369577752019.\u001b[0m\n",
      "\u001b[32m[I 2021-05-13 04:04:25,575]\u001b[0m Trial 89 finished with value: 0.6127402975016526 and parameters: {'criterion': 'gini', 'max_depth': 5, 'min_samples_split': 45, 'min_samples_leaf': 27}. Best is trial 83 with value: 0.6304369577752019.\u001b[0m\n",
      "\u001b[32m[I 2021-05-13 04:04:25,691]\u001b[0m Trial 90 finished with value: 0.6267636304745237 and parameters: {'criterion': 'gini', 'max_depth': 6, 'min_samples_split': 52, 'min_samples_leaf': 21}. Best is trial 83 with value: 0.6304369577752019.\u001b[0m\n",
      "\u001b[32m[I 2021-05-13 04:04:25,815]\u001b[0m Trial 91 finished with value: 0.6270693097053778 and parameters: {'criterion': 'gini', 'max_depth': 6, 'min_samples_split': 52, 'min_samples_leaf': 17}. Best is trial 83 with value: 0.6304369577752019.\u001b[0m\n",
      "\u001b[32m[I 2021-05-13 04:04:25,942]\u001b[0m Trial 92 finished with value: 0.6275587567447378 and parameters: {'criterion': 'gini', 'max_depth': 6, 'min_samples_split': 48, 'min_samples_leaf': 21}. Best is trial 83 with value: 0.6304369577752019.\u001b[0m\n",
      "\u001b[32m[I 2021-05-13 04:04:26,054]\u001b[0m Trial 93 finished with value: 0.6139626892937422 and parameters: {'criterion': 'gini', 'max_depth': 5, 'min_samples_split': 57, 'min_samples_leaf': 22}. Best is trial 83 with value: 0.6304369577752019.\u001b[0m\n",
      "\u001b[32m[I 2021-05-13 04:04:26,174]\u001b[0m Trial 94 finished with value: 0.6268811829579878 and parameters: {'criterion': 'gini', 'max_depth': 6, 'min_samples_split': 48, 'min_samples_leaf': 16}. Best is trial 83 with value: 0.6304369577752019.\u001b[0m\n",
      "\u001b[32m[I 2021-05-13 04:04:26,299]\u001b[0m Trial 95 finished with value: 0.6267636304745237 and parameters: {'criterion': 'gini', 'max_depth': 6, 'min_samples_split': 52, 'min_samples_leaf': 21}. Best is trial 83 with value: 0.6304369577752019.\u001b[0m\n",
      "\u001b[32m[I 2021-05-13 04:04:26,416]\u001b[0m Trial 96 finished with value: 0.6137044151126664 and parameters: {'criterion': 'gini', 'max_depth': 5, 'min_samples_split': 48, 'min_samples_leaf': 26}. Best is trial 83 with value: 0.6304369577752019.\u001b[0m\n",
      "\u001b[32m[I 2021-05-13 04:04:26,546]\u001b[0m Trial 97 finished with value: 0.6279701778284277 and parameters: {'criterion': 'gini', 'max_depth': 6, 'min_samples_split': 49, 'min_samples_leaf': 17}. Best is trial 83 with value: 0.6304369577752019.\u001b[0m\n",
      "\u001b[32m[I 2021-05-13 04:04:26,660]\u001b[0m Trial 98 finished with value: 0.6160444460217899 and parameters: {'criterion': 'gini', 'max_depth': 5, 'min_samples_split': 56, 'min_samples_leaf': 17}. Best is trial 83 with value: 0.6304369577752019.\u001b[0m\n",
      "\u001b[32m[I 2021-05-13 04:04:26,785]\u001b[0m Trial 99 finished with value: 0.6245740241914349 and parameters: {'criterion': 'gini', 'max_depth': 6, 'min_samples_split': 39, 'min_samples_leaf': 7}. Best is trial 83 with value: 0.6304369577752019.\u001b[0m\n"
     ]
    },
    {
     "data": {
      "text/plain": [
       "FrozenTrial(number=83, values=[0.6304369577752019], datetime_start=datetime.datetime(2021, 5, 13, 4, 4, 24, 729260), datetime_complete=datetime.datetime(2021, 5, 13, 4, 4, 24, 848502), params={'criterion': 'gini', 'max_depth': 6, 'min_samples_split': 46, 'min_samples_leaf': 14}, distributions={'criterion': CategoricalDistribution(choices=('gini', 'entropy')), 'max_depth': IntUniformDistribution(high=12, low=2, step=1), 'min_samples_split': IntUniformDistribution(high=100, low=1, step=1), 'min_samples_leaf': IntUniformDistribution(high=100, low=1, step=1)}, user_attrs={}, system_attrs={}, intermediate_values={}, trial_id=83, state=TrialState.COMPLETE, value=None)"
      ]
     },
     "execution_count": 74,
     "metadata": {},
     "output_type": "execute_result"
    }
   ],
   "source": [
    "dt_study = optuna.create_study(direction='maximize')\n",
    "dt_study.optimize(dt_objective, n_trials=100)\n",
    "dt_study.best_trial"
   ]
  },
  {
   "cell_type": "code",
   "execution_count": 75,
   "metadata": {
    "ExecuteTime": {
     "end_time": "2021-05-13T01:05:11.124733Z",
     "start_time": "2021-05-13T01:05:11.115990Z"
    }
   },
   "outputs": [
    {
     "name": "stdout",
     "output_type": "stream",
     "text": [
      "Decision Tree\n",
      "best score = 0.6304369577752019\n",
      "best params = {'criterion': 'gini', 'max_depth': 6, 'min_samples_split': 46, 'min_samples_leaf': 14}\n"
     ]
    }
   ],
   "source": [
    "print('Decision Tree')\n",
    "print(f'best score = {dt_study.best_trial.values[0]}')\n",
    "print(f'best params = {dt_study.best_trial.params}')"
   ]
  },
  {
   "cell_type": "code",
   "execution_count": 96,
   "metadata": {
    "ExecuteTime": {
     "end_time": "2021-05-13T01:38:34.274346Z",
     "start_time": "2021-05-13T01:38:34.264357Z"
    }
   },
   "outputs": [],
   "source": [
    "def rf_objective(trial):\n",
    "    n_estimators = trial.suggest_int('n_estimators', 10, 800)\n",
    "    criterion = trial.suggest_categorical('criterion', ['gini', 'entropy'])\n",
    "    max_depth = trial.suggest_int('max_depth', 2, 30)\n",
    "    min_samples_split = trial.suggest_int('min_samples_split', 1, 100)\n",
    "    min_samples_leaf = trial.suggest_int('min_samples_leaf', 1, 50)\n",
    "    \n",
    "    rf_clf = RandomForestClassifier(n_estimators=n_estimators, criterion=criterion,\n",
    "                                    max_depth=max_depth, min_samples_split=min_samples_split,\n",
    "                                    min_samples_leaf=min_samples_leaf, n_jobs=3)\n",
    "    score = cross_val_score(rf_clf, X_rf, y, n_jobs=3, scoring='roc_auc').mean()\n",
    "    return score"
   ]
  },
  {
   "cell_type": "code",
   "execution_count": 97,
   "metadata": {
    "ExecuteTime": {
     "end_time": "2021-05-13T01:55:26.703418Z",
     "start_time": "2021-05-13T01:38:35.086830Z"
    }
   },
   "outputs": [
    {
     "name": "stderr",
     "output_type": "stream",
     "text": [
      "\u001b[32m[I 2021-05-13 04:38:35,088]\u001b[0m A new study created in memory with name: no-name-d550b37f-19fc-4312-841f-31342f2829fe\u001b[0m\n",
      "\u001b[32m[I 2021-05-13 04:38:42,180]\u001b[0m Trial 0 finished with value: 0.7203514913905654 and parameters: {'n_estimators': 299, 'criterion': 'gini', 'max_depth': 3, 'min_samples_split': 13, 'min_samples_leaf': 33}. Best is trial 0 with value: 0.7203514913905654.\u001b[0m\n",
      "\u001b[32m[I 2021-05-13 04:38:43,293]\u001b[0m Trial 1 finished with value: 0.6650177964248869 and parameters: {'n_estimators': 16, 'criterion': 'gini', 'max_depth': 21, 'min_samples_split': 99, 'min_samples_leaf': 33}. Best is trial 0 with value: 0.7203514913905654.\u001b[0m\n",
      "\u001b[32m[I 2021-05-13 04:39:01,381]\u001b[0m Trial 2 finished with value: 0.7423255012809101 and parameters: {'n_estimators': 340, 'criterion': 'entropy', 'max_depth': 9, 'min_samples_split': 43, 'min_samples_leaf': 43}. Best is trial 2 with value: 0.7423255012809101.\u001b[0m\n",
      "\u001b[32m[I 2021-05-13 04:39:16,222]\u001b[0m Trial 3 finished with value: 0.7415687566619015 and parameters: {'n_estimators': 460, 'criterion': 'gini', 'max_depth': 30, 'min_samples_split': 35, 'min_samples_leaf': 38}. Best is trial 2 with value: 0.7423255012809101.\u001b[0m\n",
      "\u001b[32m[I 2021-05-13 04:39:29,908]\u001b[0m Trial 4 finished with value: 0.7433755046272207 and parameters: {'n_estimators': 149, 'criterion': 'entropy', 'max_depth': 26, 'min_samples_split': 10, 'min_samples_leaf': 7}. Best is trial 4 with value: 0.7433755046272207.\u001b[0m\n",
      "\u001b[32m[I 2021-05-13 04:39:49,546]\u001b[0m Trial 5 finished with value: 0.7423747811742052 and parameters: {'n_estimators': 317, 'criterion': 'entropy', 'max_depth': 24, 'min_samples_split': 83, 'min_samples_leaf': 25}. Best is trial 4 with value: 0.7433755046272207.\u001b[0m\n",
      "\u001b[32m[I 2021-05-13 04:39:58,403]\u001b[0m Trial 6 finished with value: 0.7085643827651931 and parameters: {'n_estimators': 368, 'criterion': 'entropy', 'max_depth': 2, 'min_samples_split': 93, 'min_samples_leaf': 23}. Best is trial 4 with value: 0.7433755046272207.\u001b[0m\n",
      "\u001b[32m[I 2021-05-13 04:40:22,078]\u001b[0m Trial 7 finished with value: 0.7444929956552508 and parameters: {'n_estimators': 343, 'criterion': 'entropy', 'max_depth': 20, 'min_samples_split': 83, 'min_samples_leaf': 14}. Best is trial 7 with value: 0.7444929956552508.\u001b[0m\n",
      "\u001b[32m[I 2021-05-13 04:40:36,841]\u001b[0m Trial 8 finished with value: 0.7203735467349903 and parameters: {'n_estimators': 468, 'criterion': 'entropy', 'max_depth': 3, 'min_samples_split': 22, 'min_samples_leaf': 46}. Best is trial 7 with value: 0.7444929956552508.\u001b[0m\n",
      "\u001b[32m[I 2021-05-13 04:41:20,088]\u001b[0m Trial 9 finished with value: 0.7448051104568865 and parameters: {'n_estimators': 781, 'criterion': 'entropy', 'max_depth': 13, 'min_samples_split': 82, 'min_samples_leaf': 38}. Best is trial 9 with value: 0.7448051104568865.\u001b[0m\n",
      "\u001b[32m[I 2021-05-13 04:42:01,152]\u001b[0m Trial 10 finished with value: 0.7414080538876805 and parameters: {'n_estimators': 800, 'criterion': 'entropy', 'max_depth': 13, 'min_samples_split': 63, 'min_samples_leaf': 50}. Best is trial 9 with value: 0.7448051104568865.\u001b[0m\n",
      "\u001b[32m[I 2021-05-13 04:42:52,219]\u001b[0m Trial 11 finished with value: 0.7494861172532707 and parameters: {'n_estimators': 705, 'criterion': 'entropy', 'max_depth': 17, 'min_samples_split': 68, 'min_samples_leaf': 11}. Best is trial 11 with value: 0.7494861172532707.\u001b[0m\n",
      "\u001b[32m[I 2021-05-13 04:43:54,817]\u001b[0m Trial 12 finished with value: 0.7504067456049774 and parameters: {'n_estimators': 774, 'criterion': 'entropy', 'max_depth': 13, 'min_samples_split': 62, 'min_samples_leaf': 3}. Best is trial 12 with value: 0.7504067456049774.\u001b[0m\n",
      "\u001b[32m[I 2021-05-13 04:44:49,494]\u001b[0m Trial 13 finished with value: 0.7538021071010341 and parameters: {'n_estimators': 650, 'criterion': 'entropy', 'max_depth': 16, 'min_samples_split': 61, 'min_samples_leaf': 2}. Best is trial 13 with value: 0.7538021071010341.\u001b[0m\n",
      "\u001b[32m[I 2021-05-13 04:45:35,593]\u001b[0m Trial 14 finished with value: 0.7494739065786474 and parameters: {'n_estimators': 620, 'criterion': 'entropy', 'max_depth': 9, 'min_samples_split': 58, 'min_samples_leaf': 1}. Best is trial 13 with value: 0.7538021071010341.\u001b[0m\n",
      "\u001b[32m[I 2021-05-13 04:46:20,238]\u001b[0m Trial 15 finished with value: 0.7484199804932021 and parameters: {'n_estimators': 597, 'criterion': 'entropy', 'max_depth': 9, 'min_samples_split': 49, 'min_samples_leaf': 2}. Best is trial 13 with value: 0.7538021071010341.\u001b[0m\n",
      "\u001b[32m[I 2021-05-13 04:47:06,794]\u001b[0m Trial 16 finished with value: 0.7499725404988264 and parameters: {'n_estimators': 658, 'criterion': 'entropy', 'max_depth': 16, 'min_samples_split': 73, 'min_samples_leaf': 14}. Best is trial 13 with value: 0.7538021071010341.\u001b[0m\n",
      "\u001b[32m[I 2021-05-13 04:47:35,144]\u001b[0m Trial 17 finished with value: 0.7474217938665928 and parameters: {'n_estimators': 737, 'criterion': 'gini', 'max_depth': 13, 'min_samples_split': 35, 'min_samples_leaf': 19}. Best is trial 13 with value: 0.7538021071010341.\u001b[0m\n",
      "\u001b[32m[I 2021-05-13 04:48:21,337]\u001b[0m Trial 18 finished with value: 0.7541941080432153 and parameters: {'n_estimators': 562, 'criterion': 'entropy', 'max_depth': 19, 'min_samples_split': 55, 'min_samples_leaf': 5}. Best is trial 18 with value: 0.7541941080432153.\u001b[0m\n",
      "\u001b[32m[I 2021-05-13 04:49:04,863]\u001b[0m Trial 19 finished with value: 0.7509463921386239 and parameters: {'n_estimators': 548, 'criterion': 'entropy', 'max_depth': 20, 'min_samples_split': 50, 'min_samples_leaf': 8}. Best is trial 18 with value: 0.7541941080432153.\u001b[0m\n",
      "\u001b[32m[I 2021-05-13 04:49:50,849]\u001b[0m Trial 20 finished with value: 0.7504253978874718 and parameters: {'n_estimators': 519, 'criterion': 'entropy', 'max_depth': 26, 'min_samples_split': 33, 'min_samples_leaf': 5}. Best is trial 18 with value: 0.7541941080432153.\u001b[0m\n",
      "\u001b[32m[I 2021-05-13 04:50:34,282]\u001b[0m Trial 21 finished with value: 0.7551024771230638 and parameters: {'n_estimators': 557, 'criterion': 'entropy', 'max_depth': 20, 'min_samples_split': 50, 'min_samples_leaf': 9}. Best is trial 21 with value: 0.7551024771230638.\u001b[0m\n",
      "\u001b[32m[I 2021-05-13 04:51:13,592]\u001b[0m Trial 22 finished with value: 0.748156372810695 and parameters: {'n_estimators': 561, 'criterion': 'entropy', 'max_depth': 18, 'min_samples_split': 55, 'min_samples_leaf': 17}. Best is trial 21 with value: 0.7551024771230638.\u001b[0m\n",
      "\u001b[32m[I 2021-05-13 04:52:14,254]\u001b[0m Trial 23 finished with value: 0.7536926714509906 and parameters: {'n_estimators': 671, 'criterion': 'entropy', 'max_depth': 23, 'min_samples_split': 44, 'min_samples_leaf': 1}. Best is trial 21 with value: 0.7551024771230638.\u001b[0m\n",
      "\u001b[32m[I 2021-05-13 04:52:48,088]\u001b[0m Trial 24 finished with value: 0.7461159433092828 and parameters: {'n_estimators': 457, 'criterion': 'entropy', 'max_depth': 19, 'min_samples_split': 70, 'min_samples_leaf': 10}. Best is trial 21 with value: 0.7551024771230638.\u001b[0m\n",
      "\u001b[32m[I 2021-05-13 04:53:43,686]\u001b[0m Trial 25 finished with value: 0.7541891412549008 and parameters: {'n_estimators': 616, 'criterion': 'entropy', 'max_depth': 15, 'min_samples_split': 25, 'min_samples_leaf': 5}. Best is trial 21 with value: 0.7551024771230638.\u001b[0m\n",
      "\u001b[32m[I 2021-05-13 04:54:24,860]\u001b[0m Trial 26 finished with value: 0.7465002873988504 and parameters: {'n_estimators': 517, 'criterion': 'entropy', 'max_depth': 22, 'min_samples_split': 23, 'min_samples_leaf': 13}. Best is trial 21 with value: 0.7551024771230638.\u001b[0m\n",
      "\u001b[32m[I 2021-05-13 04:54:34,776]\u001b[0m Trial 27 finished with value: 0.7424020741144839 and parameters: {'n_estimators': 245, 'criterion': 'gini', 'max_depth': 26, 'min_samples_split': 2, 'min_samples_leaf': 19}. Best is trial 21 with value: 0.7551024771230638.\u001b[0m\n",
      "\u001b[32m[I 2021-05-13 04:55:09,942]\u001b[0m Trial 28 finished with value: 0.7479402976647341 and parameters: {'n_estimators': 418, 'criterion': 'entropy', 'max_depth': 11, 'min_samples_split': 27, 'min_samples_leaf': 6}. Best is trial 21 with value: 0.7551024771230638.\u001b[0m\n",
      "\u001b[32m[I 2021-05-13 04:55:26,691]\u001b[0m Trial 29 finished with value: 0.7352642373228921 and parameters: {'n_estimators': 584, 'criterion': 'gini', 'max_depth': 5, 'min_samples_split': 14, 'min_samples_leaf': 9}. Best is trial 21 with value: 0.7551024771230638.\u001b[0m\n"
     ]
    },
    {
     "data": {
      "text/plain": [
       "FrozenTrial(number=21, values=[0.7551024771230638], datetime_start=datetime.datetime(2021, 5, 13, 4, 49, 50, 851043), datetime_complete=datetime.datetime(2021, 5, 13, 4, 50, 34, 281422), params={'n_estimators': 557, 'criterion': 'entropy', 'max_depth': 20, 'min_samples_split': 50, 'min_samples_leaf': 9}, distributions={'n_estimators': IntUniformDistribution(high=800, low=10, step=1), 'criterion': CategoricalDistribution(choices=('gini', 'entropy')), 'max_depth': IntUniformDistribution(high=30, low=2, step=1), 'min_samples_split': IntUniformDistribution(high=100, low=1, step=1), 'min_samples_leaf': IntUniformDistribution(high=50, low=1, step=1)}, user_attrs={}, system_attrs={}, intermediate_values={}, trial_id=21, state=TrialState.COMPLETE, value=None)"
      ]
     },
     "execution_count": 97,
     "metadata": {},
     "output_type": "execute_result"
    }
   ],
   "source": [
    "rf_study = optuna.create_study(direction='maximize')\n",
    "rf_study.optimize(rf_objective, n_trials=30)\n",
    "rf_study.best_trial"
   ]
  },
  {
   "cell_type": "code",
   "execution_count": 98,
   "metadata": {
    "ExecuteTime": {
     "end_time": "2021-05-13T01:55:27.460593Z",
     "start_time": "2021-05-13T01:55:27.455494Z"
    }
   },
   "outputs": [
    {
     "name": "stdout",
     "output_type": "stream",
     "text": [
      "Random Forest\n",
      "best score = 0.7551024771230638\n",
      "best params = {'n_estimators': 557, 'criterion': 'entropy', 'max_depth': 20, 'min_samples_split': 50, 'min_samples_leaf': 9}\n"
     ]
    }
   ],
   "source": [
    "print('Random Forest')\n",
    "print(f'best score = {rf_study.best_trial.values[0]}')\n",
    "print(f'best params = {rf_study.best_trial.params}')"
   ]
  },
  {
   "cell_type": "markdown",
   "metadata": {},
   "source": [
    "Однако возникает вопрос. Да, 50 признаков лучше показали себя на модели, на которой мы эти признаки отбирали. Но что будет после настройки гиперпараметров модели для каждого из набора признаков? Быть может, изначальный набор гиперпараметров не давал 100 признакам, которые мы отбросили, \"раскрыть свой потенциал\". Давайте это проверим!"
   ]
  },
  {
   "cell_type": "code",
   "execution_count": 100,
   "metadata": {
    "ExecuteTime": {
     "end_time": "2021-05-13T01:57:07.757143Z",
     "start_time": "2021-05-13T01:57:07.714463Z"
    }
   },
   "outputs": [
    {
     "data": {
      "text/html": [
       "<div>\n",
       "<style scoped>\n",
       "    .dataframe tbody tr th:only-of-type {\n",
       "        vertical-align: middle;\n",
       "    }\n",
       "\n",
       "    .dataframe tbody tr th {\n",
       "        vertical-align: top;\n",
       "    }\n",
       "\n",
       "    .dataframe thead th {\n",
       "        text-align: right;\n",
       "    }\n",
       "</style>\n",
       "<table border=\"1\" class=\"dataframe\">\n",
       "  <thead>\n",
       "    <tr style=\"text-align: right;\">\n",
       "      <th></th>\n",
       "      <th>A_358</th>\n",
       "      <th>A_133</th>\n",
       "      <th>A_449</th>\n",
       "      <th>A_150</th>\n",
       "      <th>A_394</th>\n",
       "      <th>A_385</th>\n",
       "      <th>A_173</th>\n",
       "      <th>A_395</th>\n",
       "      <th>A_121</th>\n",
       "      <th>A_388</th>\n",
       "      <th>...</th>\n",
       "      <th>A_001</th>\n",
       "      <th>A_332</th>\n",
       "      <th>A_491</th>\n",
       "      <th>A_100</th>\n",
       "      <th>A_200</th>\n",
       "      <th>A_049</th>\n",
       "      <th>A_006</th>\n",
       "      <th>A_058</th>\n",
       "      <th>A_015</th>\n",
       "      <th>A_448</th>\n",
       "    </tr>\n",
       "  </thead>\n",
       "  <tbody>\n",
       "    <tr>\n",
       "      <th>0</th>\n",
       "      <td>0.591261</td>\n",
       "      <td>0.496058</td>\n",
       "      <td>0.517415</td>\n",
       "      <td>0.744134</td>\n",
       "      <td>0.367188</td>\n",
       "      <td>0.576838</td>\n",
       "      <td>0.640585</td>\n",
       "      <td>0.547420</td>\n",
       "      <td>0.365878</td>\n",
       "      <td>0.449215</td>\n",
       "      <td>...</td>\n",
       "      <td>0.632869</td>\n",
       "      <td>0.638994</td>\n",
       "      <td>0.573073</td>\n",
       "      <td>0.316746</td>\n",
       "      <td>0.409684</td>\n",
       "      <td>0.475130</td>\n",
       "      <td>0.397140</td>\n",
       "      <td>0.645539</td>\n",
       "      <td>0.573725</td>\n",
       "      <td>0.537350</td>\n",
       "    </tr>\n",
       "    <tr>\n",
       "      <th>1</th>\n",
       "      <td>0.519088</td>\n",
       "      <td>0.582850</td>\n",
       "      <td>0.431115</td>\n",
       "      <td>0.574902</td>\n",
       "      <td>0.521194</td>\n",
       "      <td>0.613056</td>\n",
       "      <td>0.700559</td>\n",
       "      <td>0.729999</td>\n",
       "      <td>0.388468</td>\n",
       "      <td>0.794306</td>\n",
       "      <td>...</td>\n",
       "      <td>0.652486</td>\n",
       "      <td>0.541815</td>\n",
       "      <td>0.576801</td>\n",
       "      <td>0.604696</td>\n",
       "      <td>0.591391</td>\n",
       "      <td>0.519199</td>\n",
       "      <td>0.623618</td>\n",
       "      <td>0.834689</td>\n",
       "      <td>0.587243</td>\n",
       "      <td>0.424362</td>\n",
       "    </tr>\n",
       "    <tr>\n",
       "      <th>2</th>\n",
       "      <td>0.588222</td>\n",
       "      <td>0.783633</td>\n",
       "      <td>0.492830</td>\n",
       "      <td>0.438781</td>\n",
       "      <td>0.446660</td>\n",
       "      <td>0.374023</td>\n",
       "      <td>0.530311</td>\n",
       "      <td>0.453997</td>\n",
       "      <td>0.862363</td>\n",
       "      <td>0.552203</td>\n",
       "      <td>...</td>\n",
       "      <td>0.443987</td>\n",
       "      <td>0.650213</td>\n",
       "      <td>0.708310</td>\n",
       "      <td>0.441056</td>\n",
       "      <td>0.701514</td>\n",
       "      <td>0.713088</td>\n",
       "      <td>0.788731</td>\n",
       "      <td>0.458036</td>\n",
       "      <td>0.350978</td>\n",
       "      <td>0.578259</td>\n",
       "    </tr>\n",
       "    <tr>\n",
       "      <th>3</th>\n",
       "      <td>0.546976</td>\n",
       "      <td>0.337422</td>\n",
       "      <td>0.656895</td>\n",
       "      <td>0.704922</td>\n",
       "      <td>0.578146</td>\n",
       "      <td>0.824329</td>\n",
       "      <td>0.617346</td>\n",
       "      <td>0.552406</td>\n",
       "      <td>0.639833</td>\n",
       "      <td>0.626508</td>\n",
       "      <td>...</td>\n",
       "      <td>0.634596</td>\n",
       "      <td>0.588749</td>\n",
       "      <td>0.398744</td>\n",
       "      <td>0.570442</td>\n",
       "      <td>0.390101</td>\n",
       "      <td>0.690016</td>\n",
       "      <td>0.476977</td>\n",
       "      <td>0.658680</td>\n",
       "      <td>0.530478</td>\n",
       "      <td>0.409995</td>\n",
       "    </tr>\n",
       "    <tr>\n",
       "      <th>4</th>\n",
       "      <td>0.453254</td>\n",
       "      <td>0.641685</td>\n",
       "      <td>0.717618</td>\n",
       "      <td>0.631068</td>\n",
       "      <td>0.612269</td>\n",
       "      <td>0.846681</td>\n",
       "      <td>0.530538</td>\n",
       "      <td>0.653509</td>\n",
       "      <td>0.653476</td>\n",
       "      <td>0.650282</td>\n",
       "      <td>...</td>\n",
       "      <td>0.469214</td>\n",
       "      <td>0.337859</td>\n",
       "      <td>0.414918</td>\n",
       "      <td>0.674605</td>\n",
       "      <td>0.635593</td>\n",
       "      <td>0.517221</td>\n",
       "      <td>0.634027</td>\n",
       "      <td>0.622231</td>\n",
       "      <td>0.632299</td>\n",
       "      <td>0.352115</td>\n",
       "    </tr>\n",
       "  </tbody>\n",
       "</table>\n",
       "<p>5 rows × 150 columns</p>\n",
       "</div>"
      ],
      "text/plain": [
       "      A_358     A_133     A_449     A_150     A_394     A_385     A_173  \\\n",
       "0  0.591261  0.496058  0.517415  0.744134  0.367188  0.576838  0.640585   \n",
       "1  0.519088  0.582850  0.431115  0.574902  0.521194  0.613056  0.700559   \n",
       "2  0.588222  0.783633  0.492830  0.438781  0.446660  0.374023  0.530311   \n",
       "3  0.546976  0.337422  0.656895  0.704922  0.578146  0.824329  0.617346   \n",
       "4  0.453254  0.641685  0.717618  0.631068  0.612269  0.846681  0.530538   \n",
       "\n",
       "      A_395     A_121     A_388  ...     A_001     A_332     A_491     A_100  \\\n",
       "0  0.547420  0.365878  0.449215  ...  0.632869  0.638994  0.573073  0.316746   \n",
       "1  0.729999  0.388468  0.794306  ...  0.652486  0.541815  0.576801  0.604696   \n",
       "2  0.453997  0.862363  0.552203  ...  0.443987  0.650213  0.708310  0.441056   \n",
       "3  0.552406  0.639833  0.626508  ...  0.634596  0.588749  0.398744  0.570442   \n",
       "4  0.653509  0.653476  0.650282  ...  0.469214  0.337859  0.414918  0.674605   \n",
       "\n",
       "      A_200     A_049     A_006     A_058     A_015     A_448  \n",
       "0  0.409684  0.475130  0.397140  0.645539  0.573725  0.537350  \n",
       "1  0.591391  0.519199  0.623618  0.834689  0.587243  0.424362  \n",
       "2  0.701514  0.713088  0.788731  0.458036  0.350978  0.578259  \n",
       "3  0.390101  0.690016  0.476977  0.658680  0.530478  0.409995  \n",
       "4  0.635593  0.517221  0.634027  0.622231  0.632299  0.352115  \n",
       "\n",
       "[5 rows x 150 columns]"
      ]
     },
     "execution_count": 100,
     "metadata": {},
     "output_type": "execute_result"
    }
   ],
   "source": [
    "X_rf_extended = rf_afs.transform(X_full)\n",
    "X_rf_extended.head()"
   ]
  },
  {
   "cell_type": "code",
   "execution_count": 101,
   "metadata": {
    "ExecuteTime": {
     "end_time": "2021-05-13T02:13:06.729926Z",
     "start_time": "2021-05-13T01:57:11.179792Z"
    }
   },
   "outputs": [
    {
     "name": "stderr",
     "output_type": "stream",
     "text": [
      "\u001b[32m[I 2021-05-13 04:57:11,183]\u001b[0m A new study created in memory with name: no-name-fd9b56b6-292b-4bc5-b585-390ff0eb118f\u001b[0m\n",
      "\u001b[32m[I 2021-05-13 04:57:40,941]\u001b[0m Trial 0 finished with value: 0.7352315547509415 and parameters: {'n_estimators': 669, 'criterion': 'entropy', 'max_depth': 5, 'min_samples_split': 96, 'min_samples_leaf': 38}. Best is trial 0 with value: 0.7352315547509415.\u001b[0m\n",
      "\u001b[32m[I 2021-05-13 04:58:03,935]\u001b[0m Trial 1 finished with value: 0.7434320531628985 and parameters: {'n_estimators': 733, 'criterion': 'gini', 'max_depth': 28, 'min_samples_split': 15, 'min_samples_leaf': 44}. Best is trial 1 with value: 0.7434320531628985.\u001b[0m\n",
      "\u001b[32m[I 2021-05-13 04:58:08,196]\u001b[0m Trial 2 finished with value: 0.7159913964502811 and parameters: {'n_estimators': 208, 'criterion': 'gini', 'max_depth': 3, 'min_samples_split': 19, 'min_samples_leaf': 21}. Best is trial 1 with value: 0.7434320531628985.\u001b[0m\n",
      "\u001b[32m[I 2021-05-13 04:58:18,377]\u001b[0m Trial 3 finished with value: 0.7366047990744959 and parameters: {'n_estimators': 310, 'criterion': 'gini', 'max_depth': 9, 'min_samples_split': 88, 'min_samples_leaf': 28}. Best is trial 1 with value: 0.7434320531628985.\u001b[0m\n",
      "\u001b[32m[I 2021-05-13 04:58:33,587]\u001b[0m Trial 4 finished with value: 0.7491117527931743 and parameters: {'n_estimators': 361, 'criterion': 'gini', 'max_depth': 16, 'min_samples_split': 67, 'min_samples_leaf': 2}. Best is trial 4 with value: 0.7491117527931743.\u001b[0m\n",
      "\u001b[33m[W 2021-05-13 04:58:34,820]\u001b[0m Trial 5 failed, because the objective function returned nan.\u001b[0m\n",
      "\u001b[32m[I 2021-05-13 04:58:46,335]\u001b[0m Trial 6 finished with value: 0.728148353599148 and parameters: {'n_estimators': 509, 'criterion': 'gini', 'max_depth': 4, 'min_samples_split': 25, 'min_samples_leaf': 33}. Best is trial 4 with value: 0.7491117527931743.\u001b[0m\n",
      "\u001b[32m[I 2021-05-13 04:58:47,983]\u001b[0m Trial 7 finished with value: 0.7057984075352002 and parameters: {'n_estimators': 31, 'criterion': 'gini', 'max_depth': 20, 'min_samples_split': 85, 'min_samples_leaf': 28}. Best is trial 4 with value: 0.7491117527931743.\u001b[0m\n",
      "\u001b[32m[I 2021-05-13 04:58:50,389]\u001b[0m Trial 8 finished with value: 0.7184228648395891 and parameters: {'n_estimators': 54, 'criterion': 'gini', 'max_depth': 27, 'min_samples_split': 77, 'min_samples_leaf': 28}. Best is trial 4 with value: 0.7491117527931743.\u001b[0m\n",
      "\u001b[32m[I 2021-05-13 04:59:13,655]\u001b[0m Trial 9 finished with value: 0.7453718804047978 and parameters: {'n_estimators': 295, 'criterion': 'entropy', 'max_depth': 28, 'min_samples_split': 40, 'min_samples_leaf': 11}. Best is trial 4 with value: 0.7491117527931743.\u001b[0m\n",
      "\u001b[32m[I 2021-05-13 04:59:39,173]\u001b[0m Trial 10 finished with value: 0.740029426009613 and parameters: {'n_estimators': 509, 'criterion': 'entropy', 'max_depth': 6, 'min_samples_split': 62, 'min_samples_leaf': 34}. Best is trial 4 with value: 0.7491117527931743.\u001b[0m\n",
      "\u001b[32m[I 2021-05-13 04:59:59,862]\u001b[0m Trial 11 finished with value: 0.7470046012051484 and parameters: {'n_estimators': 482, 'criterion': 'gini', 'max_depth': 16, 'min_samples_split': 55, 'min_samples_leaf': 3}. Best is trial 4 with value: 0.7491117527931743.\u001b[0m\n",
      "\u001b[32m[I 2021-05-13 05:00:19,649]\u001b[0m Trial 12 finished with value: 0.7489812225707777 and parameters: {'n_estimators': 476, 'criterion': 'gini', 'max_depth': 15, 'min_samples_split': 56, 'min_samples_leaf': 5}. Best is trial 4 with value: 0.7491117527931743.\u001b[0m\n",
      "\u001b[32m[I 2021-05-13 05:00:45,152]\u001b[0m Trial 13 finished with value: 0.7531604362260352 and parameters: {'n_estimators': 618, 'criterion': 'gini', 'max_depth': 13, 'min_samples_split': 67, 'min_samples_leaf': 2}. Best is trial 13 with value: 0.7531604362260352.\u001b[0m\n",
      "\u001b[32m[I 2021-05-13 05:01:08,096]\u001b[0m Trial 14 finished with value: 0.7479939971416144 and parameters: {'n_estimators': 632, 'criterion': 'gini', 'max_depth': 12, 'min_samples_split': 75, 'min_samples_leaf': 13}. Best is trial 13 with value: 0.7531604362260352.\u001b[0m\n",
      "\u001b[32m[I 2021-05-13 05:01:40,198]\u001b[0m Trial 15 finished with value: 0.7519731564769572 and parameters: {'n_estimators': 799, 'criterion': 'gini', 'max_depth': 21, 'min_samples_split': 36, 'min_samples_leaf': 12}. Best is trial 13 with value: 0.7531604362260352.\u001b[0m\n",
      "\u001b[32m[I 2021-05-13 05:02:10,774]\u001b[0m Trial 16 finished with value: 0.7553252069914966 and parameters: {'n_estimators': 797, 'criterion': 'gini', 'max_depth': 22, 'min_samples_split': 38, 'min_samples_leaf': 16}. Best is trial 16 with value: 0.7553252069914966.\u001b[0m\n",
      "\u001b[32m[I 2021-05-13 05:02:40,464]\u001b[0m Trial 17 finished with value: 0.7514919163598864 and parameters: {'n_estimators': 798, 'criterion': 'gini', 'max_depth': 22, 'min_samples_split': 42, 'min_samples_leaf': 19}. Best is trial 16 with value: 0.7553252069914966.\u001b[0m\n",
      "\u001b[32m[I 2021-05-13 05:03:40,085]\u001b[0m Trial 18 finished with value: 0.7573236025628416 and parameters: {'n_estimators': 634, 'criterion': 'entropy', 'max_depth': 24, 'min_samples_split': 2, 'min_samples_leaf': 7}. Best is trial 18 with value: 0.7573236025628416.\u001b[0m\n",
      "\u001b[32m[I 2021-05-13 05:04:33,221]\u001b[0m Trial 19 finished with value: 0.7498541610008849 and parameters: {'n_estimators': 720, 'criterion': 'entropy', 'max_depth': 24, 'min_samples_split': 2, 'min_samples_leaf': 19}. Best is trial 18 with value: 0.7573236025628416.\u001b[0m\n",
      "\u001b[32m[I 2021-05-13 05:05:23,955]\u001b[0m Trial 20 finished with value: 0.7516204652348912 and parameters: {'n_estimators': 582, 'criterion': 'entropy', 'max_depth': 25, 'min_samples_split': 2, 'min_samples_leaf': 9}. Best is trial 18 with value: 0.7573236025628416.\u001b[0m\n",
      "\u001b[32m[I 2021-05-13 05:06:23,942]\u001b[0m Trial 21 finished with value: 0.7535718255749361 and parameters: {'n_estimators': 789, 'criterion': 'entropy', 'max_depth': 30, 'min_samples_split': 11, 'min_samples_leaf': 16}. Best is trial 18 with value: 0.7573236025628416.\u001b[0m\n",
      "\u001b[32m[I 2021-05-13 05:07:24,982]\u001b[0m Trial 22 finished with value: 0.7519690198619069 and parameters: {'n_estimators': 791, 'criterion': 'entropy', 'max_depth': 30, 'min_samples_split': 9, 'min_samples_leaf': 16}. Best is trial 18 with value: 0.7573236025628416.\u001b[0m\n",
      "\u001b[32m[I 2021-05-13 05:08:12,584]\u001b[0m Trial 23 finished with value: 0.7495850277052721 and parameters: {'n_estimators': 705, 'criterion': 'entropy', 'max_depth': 18, 'min_samples_split': 30, 'min_samples_leaf': 23}. Best is trial 18 with value: 0.7573236025628416.\u001b[0m\n",
      "\u001b[32m[I 2021-05-13 05:09:24,030]\u001b[0m Trial 24 finished with value: 0.7590719922547027 and parameters: {'n_estimators': 756, 'criterion': 'entropy', 'max_depth': 24, 'min_samples_split': 11, 'min_samples_leaf': 7}. Best is trial 24 with value: 0.7590719922547027.\u001b[0m\n",
      "\u001b[32m[I 2021-05-13 05:10:18,665]\u001b[0m Trial 25 finished with value: 0.7521274405962681 and parameters: {'n_estimators': 594, 'criterion': 'entropy', 'max_depth': 25, 'min_samples_split': 22, 'min_samples_leaf': 7}. Best is trial 24 with value: 0.7590719922547027.\u001b[0m\n",
      "\u001b[33m[W 2021-05-13 05:10:20,216]\u001b[0m Trial 26 failed, because the objective function returned nan.\u001b[0m\n",
      "\u001b[32m[I 2021-05-13 05:11:28,318]\u001b[0m Trial 27 finished with value: 0.754769322683918 and parameters: {'n_estimators': 737, 'criterion': 'entropy', 'max_depth': 22, 'min_samples_split': 2, 'min_samples_leaf': 7}. Best is trial 24 with value: 0.7590719922547027.\u001b[0m\n",
      "\u001b[32m[I 2021-05-13 05:12:18,338]\u001b[0m Trial 28 finished with value: 0.7502307446122664 and parameters: {'n_estimators': 664, 'criterion': 'entropy', 'max_depth': 19, 'min_samples_split': 49, 'min_samples_leaf': 15}. Best is trial 24 with value: 0.7590719922547027.\u001b[0m\n",
      "\u001b[32m[I 2021-05-13 05:13:06,718]\u001b[0m Trial 29 finished with value: 0.7537699647818104 and parameters: {'n_estimators': 570, 'criterion': 'entropy', 'max_depth': 24, 'min_samples_split': 32, 'min_samples_leaf': 9}. Best is trial 24 with value: 0.7590719922547027.\u001b[0m\n"
     ]
    },
    {
     "data": {
      "text/plain": [
       "FrozenTrial(number=24, values=[0.7590719922547027], datetime_start=datetime.datetime(2021, 5, 13, 5, 8, 12, 587190), datetime_complete=datetime.datetime(2021, 5, 13, 5, 9, 24, 28933), params={'n_estimators': 756, 'criterion': 'entropy', 'max_depth': 24, 'min_samples_split': 11, 'min_samples_leaf': 7}, distributions={'n_estimators': IntUniformDistribution(high=800, low=10, step=1), 'criterion': CategoricalDistribution(choices=('gini', 'entropy')), 'max_depth': IntUniformDistribution(high=30, low=2, step=1), 'min_samples_split': IntUniformDistribution(high=100, low=1, step=1), 'min_samples_leaf': IntUniformDistribution(high=50, low=1, step=1)}, user_attrs={}, system_attrs={}, intermediate_values={}, trial_id=24, state=TrialState.COMPLETE, value=None)"
      ]
     },
     "execution_count": 101,
     "metadata": {},
     "output_type": "execute_result"
    }
   ],
   "source": [
    "rf_study_extended = optuna.create_study(direction='maximize')\n",
    "rf_study_extended.optimize(rf_objective, n_trials=30)\n",
    "rf_study_extended.best_trial"
   ]
  },
  {
   "cell_type": "markdown",
   "metadata": {},
   "source": [
    "Действительно, наш вывод про количество признаков был слегка поспешным! Отсюда получаем не менее важный вывод о том, что отбор признаков и настройка гиперпараметров для модели плотно связаны между собой, и для достижения лучшего результата требуется смотреть на процесс шире (например, проделать эти процедуры поочередно несколько раз). "
   ]
  },
  {
   "cell_type": "code",
   "execution_count": 102,
   "metadata": {
    "ExecuteTime": {
     "end_time": "2021-05-13T02:54:36.935579Z",
     "start_time": "2021-05-13T02:54:36.928684Z"
    }
   },
   "outputs": [],
   "source": [
    "rf_study = rf_study_extended"
   ]
  },
  {
   "cell_type": "markdown",
   "metadata": {},
   "source": [
    "Теперь займемся перестановочной оценкой влияния отобранных признаков."
   ]
  },
  {
   "cell_type": "code",
   "execution_count": 103,
   "metadata": {
    "ExecuteTime": {
     "end_time": "2021-05-13T02:55:06.539860Z",
     "start_time": "2021-05-13T02:54:45.856444Z"
    }
   },
   "outputs": [
    {
     "data": {
      "text/plain": [
       "RandomForestClassifier(criterion='entropy', max_depth=24, min_samples_leaf=7,\n",
       "                       min_samples_split=11, n_estimators=756, n_jobs=3)"
      ]
     },
     "execution_count": 103,
     "metadata": {},
     "output_type": "execute_result"
    }
   ],
   "source": [
    "knn = KNeighborsClassifier(n_jobs=3, **knn_study.best_trial.params)\n",
    "knn.fit(X_knn, y)\n",
    "dt = DecisionTreeClassifier(**dt_study.best_trial.params)\n",
    "dt.fit(X_dt, y)\n",
    "rf = RandomForestClassifier(n_jobs=3, **rf_study.best_trial.params)\n",
    "rf.fit(X_rf, y)"
   ]
  },
  {
   "cell_type": "code",
   "execution_count": 98,
   "metadata": {
    "ExecuteTime": {
     "end_time": "2021-05-12T21:31:04.680832Z",
     "start_time": "2021-05-12T21:19:22.723884Z"
    }
   },
   "outputs": [
    {
     "data": {
      "text/plain": [
       "{'importances_mean': array([0., 0., 0., 0., 0., 0., 0., 0., 0., 0., 0., 0., 0., 0., 0., 0., 0.,\n",
       "        0., 0., 0., 0., 0., 0., 0., 0., 0., 0., 0., 0., 0., 0., 0., 0., 0.,\n",
       "        0., 0., 0., 0., 0., 0., 0., 0., 0., 0., 0., 0., 0., 0., 0., 0., 0.,\n",
       "        0., 0., 0., 0., 0., 0., 0., 0., 0., 0., 0., 0., 0., 0., 0., 0., 0.,\n",
       "        0., 0., 0., 0., 0., 0., 0., 0., 0., 0., 0., 0., 0., 0., 0., 0., 0.,\n",
       "        0., 0., 0., 0., 0., 0., 0., 0., 0., 0., 0., 0., 0., 0., 0., 0., 0.,\n",
       "        0., 0., 0., 0., 0., 0., 0., 0., 0., 0., 0., 0., 0., 0., 0., 0., 0.,\n",
       "        0., 0., 0., 0., 0., 0., 0., 0., 0., 0., 0., 0., 0., 0., 0., 0., 0.,\n",
       "        0., 0., 0., 0., 0., 0., 0., 0., 0., 0., 0., 0., 0., 0., 0., 0., 0.,\n",
       "        0., 0., 0., 0., 0., 0., 0., 0., 0., 0., 0., 0., 0., 0., 0., 0., 0.,\n",
       "        0., 0., 0., 0., 0., 0., 0., 0., 0., 0., 0., 0., 0., 0., 0., 0., 0.,\n",
       "        0., 0., 0., 0., 0., 0., 0., 0., 0., 0., 0., 0., 0., 0., 0., 0., 0.,\n",
       "        0., 0., 0., 0., 0., 0., 0., 0., 0., 0., 0., 0., 0., 0., 0., 0., 0.,\n",
       "        0., 0., 0., 0., 0., 0., 0., 0., 0., 0., 0., 0., 0., 0., 0., 0., 0.,\n",
       "        0., 0., 0., 0., 0., 0., 0., 0., 0., 0., 0., 0., 0., 0., 0., 0., 0.,\n",
       "        0., 0., 0., 0., 0., 0., 0., 0., 0., 0., 0., 0., 0., 0., 0., 0., 0.,\n",
       "        0., 0., 0., 0., 0., 0., 0., 0., 0., 0., 0., 0., 0.]),\n",
       " 'importances_std': array([0., 0., 0., 0., 0., 0., 0., 0., 0., 0., 0., 0., 0., 0., 0., 0., 0.,\n",
       "        0., 0., 0., 0., 0., 0., 0., 0., 0., 0., 0., 0., 0., 0., 0., 0., 0.,\n",
       "        0., 0., 0., 0., 0., 0., 0., 0., 0., 0., 0., 0., 0., 0., 0., 0., 0.,\n",
       "        0., 0., 0., 0., 0., 0., 0., 0., 0., 0., 0., 0., 0., 0., 0., 0., 0.,\n",
       "        0., 0., 0., 0., 0., 0., 0., 0., 0., 0., 0., 0., 0., 0., 0., 0., 0.,\n",
       "        0., 0., 0., 0., 0., 0., 0., 0., 0., 0., 0., 0., 0., 0., 0., 0., 0.,\n",
       "        0., 0., 0., 0., 0., 0., 0., 0., 0., 0., 0., 0., 0., 0., 0., 0., 0.,\n",
       "        0., 0., 0., 0., 0., 0., 0., 0., 0., 0., 0., 0., 0., 0., 0., 0., 0.,\n",
       "        0., 0., 0., 0., 0., 0., 0., 0., 0., 0., 0., 0., 0., 0., 0., 0., 0.,\n",
       "        0., 0., 0., 0., 0., 0., 0., 0., 0., 0., 0., 0., 0., 0., 0., 0., 0.,\n",
       "        0., 0., 0., 0., 0., 0., 0., 0., 0., 0., 0., 0., 0., 0., 0., 0., 0.,\n",
       "        0., 0., 0., 0., 0., 0., 0., 0., 0., 0., 0., 0., 0., 0., 0., 0., 0.,\n",
       "        0., 0., 0., 0., 0., 0., 0., 0., 0., 0., 0., 0., 0., 0., 0., 0., 0.,\n",
       "        0., 0., 0., 0., 0., 0., 0., 0., 0., 0., 0., 0., 0., 0., 0., 0., 0.,\n",
       "        0., 0., 0., 0., 0., 0., 0., 0., 0., 0., 0., 0., 0., 0., 0., 0., 0.,\n",
       "        0., 0., 0., 0., 0., 0., 0., 0., 0., 0., 0., 0., 0., 0., 0., 0., 0.,\n",
       "        0., 0., 0., 0., 0., 0., 0., 0., 0., 0., 0., 0., 0.]),\n",
       " 'importances': array([[0.],\n",
       "        [0.],\n",
       "        [0.],\n",
       "        [0.],\n",
       "        [0.],\n",
       "        [0.],\n",
       "        [0.],\n",
       "        [0.],\n",
       "        [0.],\n",
       "        [0.],\n",
       "        [0.],\n",
       "        [0.],\n",
       "        [0.],\n",
       "        [0.],\n",
       "        [0.],\n",
       "        [0.],\n",
       "        [0.],\n",
       "        [0.],\n",
       "        [0.],\n",
       "        [0.],\n",
       "        [0.],\n",
       "        [0.],\n",
       "        [0.],\n",
       "        [0.],\n",
       "        [0.],\n",
       "        [0.],\n",
       "        [0.],\n",
       "        [0.],\n",
       "        [0.],\n",
       "        [0.],\n",
       "        [0.],\n",
       "        [0.],\n",
       "        [0.],\n",
       "        [0.],\n",
       "        [0.],\n",
       "        [0.],\n",
       "        [0.],\n",
       "        [0.],\n",
       "        [0.],\n",
       "        [0.],\n",
       "        [0.],\n",
       "        [0.],\n",
       "        [0.],\n",
       "        [0.],\n",
       "        [0.],\n",
       "        [0.],\n",
       "        [0.],\n",
       "        [0.],\n",
       "        [0.],\n",
       "        [0.],\n",
       "        [0.],\n",
       "        [0.],\n",
       "        [0.],\n",
       "        [0.],\n",
       "        [0.],\n",
       "        [0.],\n",
       "        [0.],\n",
       "        [0.],\n",
       "        [0.],\n",
       "        [0.],\n",
       "        [0.],\n",
       "        [0.],\n",
       "        [0.],\n",
       "        [0.],\n",
       "        [0.],\n",
       "        [0.],\n",
       "        [0.],\n",
       "        [0.],\n",
       "        [0.],\n",
       "        [0.],\n",
       "        [0.],\n",
       "        [0.],\n",
       "        [0.],\n",
       "        [0.],\n",
       "        [0.],\n",
       "        [0.],\n",
       "        [0.],\n",
       "        [0.],\n",
       "        [0.],\n",
       "        [0.],\n",
       "        [0.],\n",
       "        [0.],\n",
       "        [0.],\n",
       "        [0.],\n",
       "        [0.],\n",
       "        [0.],\n",
       "        [0.],\n",
       "        [0.],\n",
       "        [0.],\n",
       "        [0.],\n",
       "        [0.],\n",
       "        [0.],\n",
       "        [0.],\n",
       "        [0.],\n",
       "        [0.],\n",
       "        [0.],\n",
       "        [0.],\n",
       "        [0.],\n",
       "        [0.],\n",
       "        [0.],\n",
       "        [0.],\n",
       "        [0.],\n",
       "        [0.],\n",
       "        [0.],\n",
       "        [0.],\n",
       "        [0.],\n",
       "        [0.],\n",
       "        [0.],\n",
       "        [0.],\n",
       "        [0.],\n",
       "        [0.],\n",
       "        [0.],\n",
       "        [0.],\n",
       "        [0.],\n",
       "        [0.],\n",
       "        [0.],\n",
       "        [0.],\n",
       "        [0.],\n",
       "        [0.],\n",
       "        [0.],\n",
       "        [0.],\n",
       "        [0.],\n",
       "        [0.],\n",
       "        [0.],\n",
       "        [0.],\n",
       "        [0.],\n",
       "        [0.],\n",
       "        [0.],\n",
       "        [0.],\n",
       "        [0.],\n",
       "        [0.],\n",
       "        [0.],\n",
       "        [0.],\n",
       "        [0.],\n",
       "        [0.],\n",
       "        [0.],\n",
       "        [0.],\n",
       "        [0.],\n",
       "        [0.],\n",
       "        [0.],\n",
       "        [0.],\n",
       "        [0.],\n",
       "        [0.],\n",
       "        [0.],\n",
       "        [0.],\n",
       "        [0.],\n",
       "        [0.],\n",
       "        [0.],\n",
       "        [0.],\n",
       "        [0.],\n",
       "        [0.],\n",
       "        [0.],\n",
       "        [0.],\n",
       "        [0.],\n",
       "        [0.],\n",
       "        [0.],\n",
       "        [0.],\n",
       "        [0.],\n",
       "        [0.],\n",
       "        [0.],\n",
       "        [0.],\n",
       "        [0.],\n",
       "        [0.],\n",
       "        [0.],\n",
       "        [0.],\n",
       "        [0.],\n",
       "        [0.],\n",
       "        [0.],\n",
       "        [0.],\n",
       "        [0.],\n",
       "        [0.],\n",
       "        [0.],\n",
       "        [0.],\n",
       "        [0.],\n",
       "        [0.],\n",
       "        [0.],\n",
       "        [0.],\n",
       "        [0.],\n",
       "        [0.],\n",
       "        [0.],\n",
       "        [0.],\n",
       "        [0.],\n",
       "        [0.],\n",
       "        [0.],\n",
       "        [0.],\n",
       "        [0.],\n",
       "        [0.],\n",
       "        [0.],\n",
       "        [0.],\n",
       "        [0.],\n",
       "        [0.],\n",
       "        [0.],\n",
       "        [0.],\n",
       "        [0.],\n",
       "        [0.],\n",
       "        [0.],\n",
       "        [0.],\n",
       "        [0.],\n",
       "        [0.],\n",
       "        [0.],\n",
       "        [0.],\n",
       "        [0.],\n",
       "        [0.],\n",
       "        [0.],\n",
       "        [0.],\n",
       "        [0.],\n",
       "        [0.],\n",
       "        [0.],\n",
       "        [0.],\n",
       "        [0.],\n",
       "        [0.],\n",
       "        [0.],\n",
       "        [0.],\n",
       "        [0.],\n",
       "        [0.],\n",
       "        [0.],\n",
       "        [0.],\n",
       "        [0.],\n",
       "        [0.],\n",
       "        [0.],\n",
       "        [0.],\n",
       "        [0.],\n",
       "        [0.],\n",
       "        [0.],\n",
       "        [0.],\n",
       "        [0.],\n",
       "        [0.],\n",
       "        [0.],\n",
       "        [0.],\n",
       "        [0.],\n",
       "        [0.],\n",
       "        [0.],\n",
       "        [0.],\n",
       "        [0.],\n",
       "        [0.],\n",
       "        [0.],\n",
       "        [0.],\n",
       "        [0.],\n",
       "        [0.],\n",
       "        [0.],\n",
       "        [0.],\n",
       "        [0.],\n",
       "        [0.],\n",
       "        [0.],\n",
       "        [0.],\n",
       "        [0.],\n",
       "        [0.],\n",
       "        [0.],\n",
       "        [0.],\n",
       "        [0.],\n",
       "        [0.],\n",
       "        [0.],\n",
       "        [0.],\n",
       "        [0.],\n",
       "        [0.],\n",
       "        [0.],\n",
       "        [0.],\n",
       "        [0.],\n",
       "        [0.],\n",
       "        [0.],\n",
       "        [0.],\n",
       "        [0.],\n",
       "        [0.],\n",
       "        [0.],\n",
       "        [0.],\n",
       "        [0.],\n",
       "        [0.],\n",
       "        [0.],\n",
       "        [0.],\n",
       "        [0.],\n",
       "        [0.],\n",
       "        [0.],\n",
       "        [0.],\n",
       "        [0.],\n",
       "        [0.],\n",
       "        [0.],\n",
       "        [0.],\n",
       "        [0.],\n",
       "        [0.],\n",
       "        [0.],\n",
       "        [0.],\n",
       "        [0.],\n",
       "        [0.],\n",
       "        [0.],\n",
       "        [0.]])}"
      ]
     },
     "execution_count": 98,
     "metadata": {},
     "output_type": "execute_result"
    }
   ],
   "source": [
    "knn_permutaion_results = permutation_importance(knn, X_knn, y, n_jobs=3,\n",
    "                                                n_repeats=1, scoring='roc_auc', random_state=227)\n",
    "knn_permutaion_results"
   ]
  },
  {
   "cell_type": "code",
   "execution_count": 105,
   "metadata": {
    "ExecuteTime": {
     "end_time": "2021-05-13T02:56:28.379328Z",
     "start_time": "2021-05-13T02:56:26.900121Z"
    }
   },
   "outputs": [
    {
     "data": {
      "text/plain": [
       "{'importances_mean': array([0.06131745, 0.09006943, 0.05312249, 0.03556732, 0.01887395,\n",
       "        0.0398497 , 0.01134788, 0.01745479, 0.00716671, 0.00118594,\n",
       "        0.        , 0.03621644, 0.00562302, 0.010191  , 0.01159272]),\n",
       " 'importances_std': array([0.00461005, 0.00536711, 0.00425839, 0.00072814, 0.00181431,\n",
       "        0.00320345, 0.00171544, 0.00144547, 0.0008038 , 0.00037364,\n",
       "        0.        , 0.00398583, 0.00055041, 0.0031357 , 0.00075107]),\n",
       " 'importances': array([[0.06990154, 0.0609031 , 0.05716576, 0.061192  , 0.05742486],\n",
       "        [0.0933426 , 0.09126242, 0.07962829, 0.09464201, 0.09147184],\n",
       "        [0.05085372, 0.05197143, 0.05984834, 0.05556184, 0.04737709],\n",
       "        [0.03587569, 0.03556646, 0.03450061, 0.0366985 , 0.03519531],\n",
       "        [0.01595274, 0.01892353, 0.02102866, 0.018003  , 0.02046183],\n",
       "        [0.03475278, 0.03837496, 0.04210006, 0.04410273, 0.03991799],\n",
       "        [0.01401371, 0.0097822 , 0.01236383, 0.0093191 , 0.01126055],\n",
       "        [0.01704192, 0.01488977, 0.01777936, 0.018592  , 0.01897089],\n",
       "        [0.00754758, 0.00763202, 0.00588903, 0.00662635, 0.00813855],\n",
       "        [0.0011273 , 0.00164134, 0.00150088, 0.00108964, 0.00057052],\n",
       "        [0.        , 0.        , 0.        , 0.        , 0.        ],\n",
       "        [0.03153305, 0.04002184, 0.03202919, 0.03623332, 0.04126477],\n",
       "        [0.00527807, 0.00661053, 0.00577513, 0.00542778, 0.00502359],\n",
       "        [0.00615783, 0.01182149, 0.00711128, 0.01124034, 0.01462409],\n",
       "        [0.01193284, 0.0111842 , 0.01217219, 0.01031946, 0.01235493]])}"
      ]
     },
     "execution_count": 105,
     "metadata": {},
     "output_type": "execute_result"
    }
   ],
   "source": [
    "dt_permutaion_results = permutation_importance(dt, X_dt, y, n_jobs=3, scoring='roc_auc',\n",
    "                                               n_repeats=5, random_state=228)\n",
    "dt_permutaion_results"
   ]
  },
  {
   "cell_type": "code",
   "execution_count": 106,
   "metadata": {
    "ExecuteTime": {
     "end_time": "2021-05-13T02:57:48.490095Z",
     "start_time": "2021-05-13T02:56:36.984263Z"
    }
   },
   "outputs": [
    {
     "data": {
      "text/plain": [
       "{'importances_mean': array([6.46879247e-06, 4.62056605e-07, 0.00000000e+00, 2.31028302e-07,\n",
       "        0.00000000e+00, 0.00000000e+00, 0.00000000e+00, 0.00000000e+00,\n",
       "        0.00000000e+00, 0.00000000e+00, 0.00000000e+00, 0.00000000e+00,\n",
       "        0.00000000e+00, 0.00000000e+00, 0.00000000e+00, 0.00000000e+00,\n",
       "        0.00000000e+00, 0.00000000e+00, 0.00000000e+00, 0.00000000e+00,\n",
       "        0.00000000e+00, 0.00000000e+00, 0.00000000e+00, 0.00000000e+00,\n",
       "        0.00000000e+00, 0.00000000e+00, 0.00000000e+00, 0.00000000e+00,\n",
       "        0.00000000e+00, 0.00000000e+00, 0.00000000e+00, 0.00000000e+00,\n",
       "        0.00000000e+00, 0.00000000e+00, 0.00000000e+00, 0.00000000e+00,\n",
       "        0.00000000e+00, 0.00000000e+00, 0.00000000e+00, 0.00000000e+00,\n",
       "        0.00000000e+00, 0.00000000e+00, 0.00000000e+00, 0.00000000e+00,\n",
       "        0.00000000e+00, 0.00000000e+00, 0.00000000e+00, 0.00000000e+00,\n",
       "        0.00000000e+00, 0.00000000e+00, 0.00000000e+00, 0.00000000e+00,\n",
       "        0.00000000e+00, 0.00000000e+00, 0.00000000e+00, 0.00000000e+00,\n",
       "        0.00000000e+00, 0.00000000e+00, 0.00000000e+00, 0.00000000e+00,\n",
       "        0.00000000e+00, 0.00000000e+00, 0.00000000e+00, 0.00000000e+00,\n",
       "        0.00000000e+00, 0.00000000e+00, 0.00000000e+00, 0.00000000e+00,\n",
       "        0.00000000e+00, 0.00000000e+00, 0.00000000e+00, 0.00000000e+00,\n",
       "        0.00000000e+00, 0.00000000e+00, 0.00000000e+00, 0.00000000e+00,\n",
       "        0.00000000e+00, 0.00000000e+00, 0.00000000e+00, 0.00000000e+00,\n",
       "        0.00000000e+00, 0.00000000e+00, 0.00000000e+00, 0.00000000e+00,\n",
       "        0.00000000e+00, 0.00000000e+00, 0.00000000e+00, 0.00000000e+00,\n",
       "        0.00000000e+00, 0.00000000e+00, 0.00000000e+00, 0.00000000e+00,\n",
       "        0.00000000e+00, 0.00000000e+00, 0.00000000e+00, 0.00000000e+00,\n",
       "        0.00000000e+00, 0.00000000e+00, 0.00000000e+00, 0.00000000e+00,\n",
       "        0.00000000e+00, 0.00000000e+00, 0.00000000e+00, 0.00000000e+00,\n",
       "        0.00000000e+00, 0.00000000e+00, 0.00000000e+00, 0.00000000e+00,\n",
       "        0.00000000e+00, 0.00000000e+00, 0.00000000e+00, 0.00000000e+00,\n",
       "        0.00000000e+00, 0.00000000e+00, 0.00000000e+00, 0.00000000e+00,\n",
       "        0.00000000e+00, 0.00000000e+00, 0.00000000e+00, 0.00000000e+00,\n",
       "        0.00000000e+00, 0.00000000e+00, 0.00000000e+00, 0.00000000e+00,\n",
       "        0.00000000e+00, 0.00000000e+00, 0.00000000e+00, 0.00000000e+00,\n",
       "        0.00000000e+00, 0.00000000e+00, 0.00000000e+00, 0.00000000e+00,\n",
       "        0.00000000e+00, 0.00000000e+00, 0.00000000e+00, 0.00000000e+00,\n",
       "        0.00000000e+00, 0.00000000e+00, 0.00000000e+00, 0.00000000e+00,\n",
       "        0.00000000e+00, 0.00000000e+00, 0.00000000e+00, 0.00000000e+00,\n",
       "        0.00000000e+00, 0.00000000e+00, 0.00000000e+00, 0.00000000e+00,\n",
       "        0.00000000e+00, 0.00000000e+00]),\n",
       " 'importances_std': array([0., 0., 0., 0., 0., 0., 0., 0., 0., 0., 0., 0., 0., 0., 0., 0., 0.,\n",
       "        0., 0., 0., 0., 0., 0., 0., 0., 0., 0., 0., 0., 0., 0., 0., 0., 0.,\n",
       "        0., 0., 0., 0., 0., 0., 0., 0., 0., 0., 0., 0., 0., 0., 0., 0., 0.,\n",
       "        0., 0., 0., 0., 0., 0., 0., 0., 0., 0., 0., 0., 0., 0., 0., 0., 0.,\n",
       "        0., 0., 0., 0., 0., 0., 0., 0., 0., 0., 0., 0., 0., 0., 0., 0., 0.,\n",
       "        0., 0., 0., 0., 0., 0., 0., 0., 0., 0., 0., 0., 0., 0., 0., 0., 0.,\n",
       "        0., 0., 0., 0., 0., 0., 0., 0., 0., 0., 0., 0., 0., 0., 0., 0., 0.,\n",
       "        0., 0., 0., 0., 0., 0., 0., 0., 0., 0., 0., 0., 0., 0., 0., 0., 0.,\n",
       "        0., 0., 0., 0., 0., 0., 0., 0., 0., 0., 0., 0., 0., 0.]),\n",
       " 'importances': array([[6.46879247e-06],\n",
       "        [4.62056605e-07],\n",
       "        [0.00000000e+00],\n",
       "        [2.31028302e-07],\n",
       "        [0.00000000e+00],\n",
       "        [0.00000000e+00],\n",
       "        [0.00000000e+00],\n",
       "        [0.00000000e+00],\n",
       "        [0.00000000e+00],\n",
       "        [0.00000000e+00],\n",
       "        [0.00000000e+00],\n",
       "        [0.00000000e+00],\n",
       "        [0.00000000e+00],\n",
       "        [0.00000000e+00],\n",
       "        [0.00000000e+00],\n",
       "        [0.00000000e+00],\n",
       "        [0.00000000e+00],\n",
       "        [0.00000000e+00],\n",
       "        [0.00000000e+00],\n",
       "        [0.00000000e+00],\n",
       "        [0.00000000e+00],\n",
       "        [0.00000000e+00],\n",
       "        [0.00000000e+00],\n",
       "        [0.00000000e+00],\n",
       "        [0.00000000e+00],\n",
       "        [0.00000000e+00],\n",
       "        [0.00000000e+00],\n",
       "        [0.00000000e+00],\n",
       "        [0.00000000e+00],\n",
       "        [0.00000000e+00],\n",
       "        [0.00000000e+00],\n",
       "        [0.00000000e+00],\n",
       "        [0.00000000e+00],\n",
       "        [0.00000000e+00],\n",
       "        [0.00000000e+00],\n",
       "        [0.00000000e+00],\n",
       "        [0.00000000e+00],\n",
       "        [0.00000000e+00],\n",
       "        [0.00000000e+00],\n",
       "        [0.00000000e+00],\n",
       "        [0.00000000e+00],\n",
       "        [0.00000000e+00],\n",
       "        [0.00000000e+00],\n",
       "        [0.00000000e+00],\n",
       "        [0.00000000e+00],\n",
       "        [0.00000000e+00],\n",
       "        [0.00000000e+00],\n",
       "        [0.00000000e+00],\n",
       "        [0.00000000e+00],\n",
       "        [0.00000000e+00],\n",
       "        [0.00000000e+00],\n",
       "        [0.00000000e+00],\n",
       "        [0.00000000e+00],\n",
       "        [0.00000000e+00],\n",
       "        [0.00000000e+00],\n",
       "        [0.00000000e+00],\n",
       "        [0.00000000e+00],\n",
       "        [0.00000000e+00],\n",
       "        [0.00000000e+00],\n",
       "        [0.00000000e+00],\n",
       "        [0.00000000e+00],\n",
       "        [0.00000000e+00],\n",
       "        [0.00000000e+00],\n",
       "        [0.00000000e+00],\n",
       "        [0.00000000e+00],\n",
       "        [0.00000000e+00],\n",
       "        [0.00000000e+00],\n",
       "        [0.00000000e+00],\n",
       "        [0.00000000e+00],\n",
       "        [0.00000000e+00],\n",
       "        [0.00000000e+00],\n",
       "        [0.00000000e+00],\n",
       "        [0.00000000e+00],\n",
       "        [0.00000000e+00],\n",
       "        [0.00000000e+00],\n",
       "        [0.00000000e+00],\n",
       "        [0.00000000e+00],\n",
       "        [0.00000000e+00],\n",
       "        [0.00000000e+00],\n",
       "        [0.00000000e+00],\n",
       "        [0.00000000e+00],\n",
       "        [0.00000000e+00],\n",
       "        [0.00000000e+00],\n",
       "        [0.00000000e+00],\n",
       "        [0.00000000e+00],\n",
       "        [0.00000000e+00],\n",
       "        [0.00000000e+00],\n",
       "        [0.00000000e+00],\n",
       "        [0.00000000e+00],\n",
       "        [0.00000000e+00],\n",
       "        [0.00000000e+00],\n",
       "        [0.00000000e+00],\n",
       "        [0.00000000e+00],\n",
       "        [0.00000000e+00],\n",
       "        [0.00000000e+00],\n",
       "        [0.00000000e+00],\n",
       "        [0.00000000e+00],\n",
       "        [0.00000000e+00],\n",
       "        [0.00000000e+00],\n",
       "        [0.00000000e+00],\n",
       "        [0.00000000e+00],\n",
       "        [0.00000000e+00],\n",
       "        [0.00000000e+00],\n",
       "        [0.00000000e+00],\n",
       "        [0.00000000e+00],\n",
       "        [0.00000000e+00],\n",
       "        [0.00000000e+00],\n",
       "        [0.00000000e+00],\n",
       "        [0.00000000e+00],\n",
       "        [0.00000000e+00],\n",
       "        [0.00000000e+00],\n",
       "        [0.00000000e+00],\n",
       "        [0.00000000e+00],\n",
       "        [0.00000000e+00],\n",
       "        [0.00000000e+00],\n",
       "        [0.00000000e+00],\n",
       "        [0.00000000e+00],\n",
       "        [0.00000000e+00],\n",
       "        [0.00000000e+00],\n",
       "        [0.00000000e+00],\n",
       "        [0.00000000e+00],\n",
       "        [0.00000000e+00],\n",
       "        [0.00000000e+00],\n",
       "        [0.00000000e+00],\n",
       "        [0.00000000e+00],\n",
       "        [0.00000000e+00],\n",
       "        [0.00000000e+00],\n",
       "        [0.00000000e+00],\n",
       "        [0.00000000e+00],\n",
       "        [0.00000000e+00],\n",
       "        [0.00000000e+00],\n",
       "        [0.00000000e+00],\n",
       "        [0.00000000e+00],\n",
       "        [0.00000000e+00],\n",
       "        [0.00000000e+00],\n",
       "        [0.00000000e+00],\n",
       "        [0.00000000e+00],\n",
       "        [0.00000000e+00],\n",
       "        [0.00000000e+00],\n",
       "        [0.00000000e+00],\n",
       "        [0.00000000e+00],\n",
       "        [0.00000000e+00],\n",
       "        [0.00000000e+00],\n",
       "        [0.00000000e+00],\n",
       "        [0.00000000e+00],\n",
       "        [0.00000000e+00],\n",
       "        [0.00000000e+00],\n",
       "        [0.00000000e+00],\n",
       "        [0.00000000e+00],\n",
       "        [0.00000000e+00]])}"
      ]
     },
     "execution_count": 106,
     "metadata": {},
     "output_type": "execute_result"
    }
   ],
   "source": [
    "rf_permutaion_results = permutation_importance(rf, X_rf, y, n_jobs=3, scoring='roc_auc',\n",
    "                                               n_repeats=1, random_state=228)\n",
    "rf_permutaion_results"
   ]
  },
  {
   "cell_type": "markdown",
   "metadata": {},
   "source": [
    "**Задание 6** (1.5 балл)\n",
    "    При помощи библиотеки shap, отранжируйте признаки по степени их влияния для предсказаний модели из предыдущего пункта.\n",
    "    Сопадает ли ранжирование по shap с ранжированием на основе перестановочных оценок? \n",
    "\n",
    "    Обучите классификатор RandomForest на всех признаках\n",
    "    \n",
    "    Попробуйте выкинуть хвост из \"не влияющих\" признаков.\n",
    "    \n",
    "    Что произойдет с качеством?\n",
    "    \n",
    "    Как пересекаются множества \"выкинутых\" факторов и факторов, которые не были добавлены в прошлом задании?\n",
    "    \n",
    "    "
   ]
  },
  {
   "cell_type": "code",
   "execution_count": 127,
   "metadata": {
    "ExecuteTime": {
     "end_time": "2021-05-13T04:55:44.887167Z",
     "start_time": "2021-05-13T04:46:01.888849Z"
    }
   },
   "outputs": [
    {
     "data": {
      "text/plain": [
       "[array([[ 0.00216145,  0.02503812,  0.00119781, ...,  0.00049124,\n",
       "          0.00201943, -0.00048139],\n",
       "        [ 0.02658219,  0.00862265,  0.00162356, ..., -0.0015466 ,\n",
       "          0.00148516, -0.00067475],\n",
       "        [ 0.00223913, -0.02816339,  0.0004046 , ...,  0.00336655,\n",
       "          0.00654077,  0.00038082],\n",
       "        ...,\n",
       "        [ 0.02121321, -0.01284797, -0.00060273, ...,  0.00179278,\n",
       "         -0.00533337,  0.00155015],\n",
       "        [ 0.01677724, -0.01919922, -0.00034554, ..., -0.00198485,\n",
       "         -0.00505698,  0.00347608],\n",
       "        [ 0.01494201, -0.02603144,  0.00016466, ..., -0.00219978,\n",
       "          0.0002176 ,  0.00167717]]),\n",
       " array([[-0.00216145, -0.02503812, -0.00119781, ..., -0.00049124,\n",
       "         -0.00201943,  0.00048139],\n",
       "        [-0.02658219, -0.00862265, -0.00162356, ...,  0.0015466 ,\n",
       "         -0.00148516,  0.00067475],\n",
       "        [-0.00223913,  0.02816339, -0.0004046 , ..., -0.00336655,\n",
       "         -0.00654077, -0.00038082],\n",
       "        ...,\n",
       "        [-0.02121321,  0.01284797,  0.00060273, ..., -0.00179278,\n",
       "          0.00533337, -0.00155015],\n",
       "        [-0.01677724,  0.01919922,  0.00034554, ...,  0.00198485,\n",
       "          0.00505698, -0.00347608],\n",
       "        [-0.01494201,  0.02603144, -0.00016466, ...,  0.00219978,\n",
       "         -0.0002176 , -0.00167717]])]"
      ]
     },
     "execution_count": 127,
     "metadata": {},
     "output_type": "execute_result"
    }
   ],
   "source": [
    "rf_explainer = shap.Explainer(rf)\n",
    "rf_shap_values = rf_explainer.shap_values(X_rf)\n",
    "rf_shap_values"
   ]
  },
  {
   "cell_type": "code",
   "execution_count": 139,
   "metadata": {
    "ExecuteTime": {
     "end_time": "2021-05-13T05:13:57.492901Z",
     "start_time": "2021-05-13T05:13:56.817240Z"
    }
   },
   "outputs": [
    {
     "data": {
      "image/png": "[encoded data removed]",
      "text/plain": [
       "<Figure size 1152x576 with 2 Axes>"
      ]
     },
     "metadata": {
      "needs_background": "light"
     },
     "output_type": "display_data"
    }
   ],
   "source": [
    "shap.summary_plot(rf_shap_values[0], X_rf, max_display=10, plot_type='dot', plot_size=(16, 8))"
   ]
  },
  {
   "cell_type": "code",
   "execution_count": 166,
   "metadata": {
    "ExecuteTime": {
     "end_time": "2021-05-15T08:35:10.900503Z",
     "start_time": "2021-05-15T08:35:10.859075Z"
    }
   },
   "outputs": [
    {
     "data": {
      "text/html": [
       "<div>\n",
       "<style scoped>\n",
       "    .dataframe tbody tr th:only-of-type {\n",
       "        vertical-align: middle;\n",
       "    }\n",
       "\n",
       "    .dataframe tbody tr th {\n",
       "        vertical-align: top;\n",
       "    }\n",
       "\n",
       "    .dataframe thead th {\n",
       "        text-align: right;\n",
       "    }\n",
       "</style>\n",
       "<table border=\"1\" class=\"dataframe\">\n",
       "  <thead>\n",
       "    <tr style=\"text-align: right;\">\n",
       "      <th></th>\n",
       "      <th>column_name</th>\n",
       "      <th>shap_importance</th>\n",
       "    </tr>\n",
       "  </thead>\n",
       "  <tbody>\n",
       "    <tr>\n",
       "      <th>0</th>\n",
       "      <td>A_358</td>\n",
       "      <td>0.0248559</td>\n",
       "    </tr>\n",
       "    <tr>\n",
       "      <th>3</th>\n",
       "      <td>A_150</td>\n",
       "      <td>0.0189287</td>\n",
       "    </tr>\n",
       "    <tr>\n",
       "      <th>1</th>\n",
       "      <td>A_133</td>\n",
       "      <td>0.0180962</td>\n",
       "    </tr>\n",
       "    <tr>\n",
       "      <th>6</th>\n",
       "      <td>A_173</td>\n",
       "      <td>0.0149259</td>\n",
       "    </tr>\n",
       "    <tr>\n",
       "      <th>104</th>\n",
       "      <td>A_068</td>\n",
       "      <td>0.0105715</td>\n",
       "    </tr>\n",
       "    <tr>\n",
       "      <th>...</th>\n",
       "      <td>...</td>\n",
       "      <td>...</td>\n",
       "    </tr>\n",
       "    <tr>\n",
       "      <th>75</th>\n",
       "      <td>A_366</td>\n",
       "      <td>0.000681426</td>\n",
       "    </tr>\n",
       "    <tr>\n",
       "      <th>72</th>\n",
       "      <td>A_196</td>\n",
       "      <td>0.00067045</td>\n",
       "    </tr>\n",
       "    <tr>\n",
       "      <th>114</th>\n",
       "      <td>A_310</td>\n",
       "      <td>0.000650914</td>\n",
       "    </tr>\n",
       "    <tr>\n",
       "      <th>18</th>\n",
       "      <td>A_251</td>\n",
       "      <td>0.000642825</td>\n",
       "    </tr>\n",
       "    <tr>\n",
       "      <th>138</th>\n",
       "      <td>A_384</td>\n",
       "      <td>0.000628323</td>\n",
       "    </tr>\n",
       "  </tbody>\n",
       "</table>\n",
       "<p>150 rows × 2 columns</p>\n",
       "</div>"
      ],
      "text/plain": [
       "    column_name shap_importance\n",
       "0         A_358       0.0248559\n",
       "3         A_150       0.0189287\n",
       "1         A_133       0.0180962\n",
       "6         A_173       0.0149259\n",
       "104       A_068       0.0105715\n",
       "..          ...             ...\n",
       "75        A_366     0.000681426\n",
       "72        A_196      0.00067045\n",
       "114       A_310     0.000650914\n",
       "18        A_251     0.000642825\n",
       "138       A_384     0.000628323\n",
       "\n",
       "[150 rows x 2 columns]"
      ]
     },
     "execution_count": 166,
     "metadata": {},
     "output_type": "execute_result"
    }
   ],
   "source": [
    "rf_shap_sum = np.abs(rf_shap_values[0]).mean(axis=0)\n",
    "rf_importance_df = pd.DataFrame([X_rf.columns.tolist(), rf_shap_sum.tolist()]).T\n",
    "rf_importance_df.columns = ['column_name', 'shap_importance']\n",
    "rf_importance_df = rf_importance_df.sort_values('shap_importance', ascending=False)\n",
    "rf_importance_df"
   ]
  },
  {
   "cell_type": "markdown",
   "metadata": {},
   "source": [
    "Теперь обучим случайный лес на всех признаках, настроив гиперпараметры."
   ]
  },
  {
   "cell_type": "code",
   "execution_count": 112,
   "metadata": {
    "ExecuteTime": {
     "end_time": "2021-05-13T03:41:09.918664Z",
     "start_time": "2021-05-13T03:41:09.910280Z"
    }
   },
   "outputs": [],
   "source": [
    "def rf_full_objective(trial):\n",
    "    n_estimators = trial.suggest_int('n_estimators', 10, 800)\n",
    "    criterion = trial.suggest_categorical('criterion', ['gini', 'entropy'])\n",
    "    max_depth = trial.suggest_int('max_depth', 2, 100)\n",
    "    min_samples_split = trial.suggest_int('min_samples_split', 1, 100)\n",
    "    min_samples_leaf = trial.suggest_int('min_samples_leaf', 1, 50)\n",
    "    \n",
    "    rf_clf = RandomForestClassifier(n_estimators=n_estimators, criterion=criterion,\n",
    "                                    max_depth=max_depth, min_samples_split=min_samples_split,\n",
    "                                    min_samples_leaf=min_samples_leaf, n_jobs=3)\n",
    "    score = cross_val_score(rf_clf, X_full, y, n_jobs=3, scoring='roc_auc').mean()\n",
    "    return score\n"
   ]
  },
  {
   "cell_type": "code",
   "execution_count": 113,
   "metadata": {
    "ExecuteTime": {
     "end_time": "2021-05-13T04:18:55.435390Z",
     "start_time": "2021-05-13T03:41:10.661772Z"
    }
   },
   "outputs": [
    {
     "name": "stderr",
     "output_type": "stream",
     "text": [
      "\u001b[32m[I 2021-05-13 06:41:10,663]\u001b[0m A new study created in memory with name: no-name-e43857eb-0f51-47a1-b0d9-28d26bea7b5a\u001b[0m\n",
      "\u001b[32m[I 2021-05-13 06:43:21,013]\u001b[0m Trial 0 finished with value: 0.7757871066512976 and parameters: {'n_estimators': 793, 'criterion': 'entropy', 'max_depth': 30, 'min_samples_split': 18, 'min_samples_leaf': 12}. Best is trial 0 with value: 0.7757871066512976.\u001b[0m\n",
      "\u001b[32m[I 2021-05-13 06:44:06,625]\u001b[0m Trial 1 finished with value: 0.753768362842787 and parameters: {'n_estimators': 446, 'criterion': 'entropy', 'max_depth': 28, 'min_samples_split': 15, 'min_samples_leaf': 37}. Best is trial 0 with value: 0.7757871066512976.\u001b[0m\n",
      "\u001b[32m[I 2021-05-13 06:44:48,465]\u001b[0m Trial 2 finished with value: 0.7624400782539293 and parameters: {'n_estimators': 762, 'criterion': 'gini', 'max_depth': 42, 'min_samples_split': 87, 'min_samples_leaf': 43}. Best is trial 0 with value: 0.7757871066512976.\u001b[0m\n",
      "\u001b[32m[I 2021-05-13 06:44:58,324]\u001b[0m Trial 3 finished with value: 0.7337113693388877 and parameters: {'n_estimators': 92, 'criterion': 'entropy', 'max_depth': 74, 'min_samples_split': 80, 'min_samples_leaf': 37}. Best is trial 0 with value: 0.7757871066512976.\u001b[0m\n",
      "\u001b[32m[I 2021-05-13 06:45:00,686]\u001b[0m Trial 4 finished with value: 0.6455331507188561 and parameters: {'n_estimators': 18, 'criterion': 'entropy', 'max_depth': 16, 'min_samples_split': 37, 'min_samples_leaf': 44}. Best is trial 0 with value: 0.7757871066512976.\u001b[0m\n",
      "\u001b[32m[I 2021-05-13 06:45:04,949]\u001b[0m Trial 5 finished with value: 0.7034451527388448 and parameters: {'n_estimators': 56, 'criterion': 'gini', 'max_depth': 12, 'min_samples_split': 87, 'min_samples_leaf': 11}. Best is trial 0 with value: 0.7757871066512976.\u001b[0m\n",
      "\u001b[32m[I 2021-05-13 06:46:47,759]\u001b[0m Trial 6 finished with value: 0.766044343875438 and parameters: {'n_estimators': 538, 'criterion': 'entropy', 'max_depth': 73, 'min_samples_split': 13, 'min_samples_leaf': 1}. Best is trial 0 with value: 0.7757871066512976.\u001b[0m\n",
      "\u001b[32m[I 2021-05-13 06:47:07,628]\u001b[0m Trial 7 finished with value: 0.7597489530564896 and parameters: {'n_estimators': 313, 'criterion': 'gini', 'max_depth': 73, 'min_samples_split': 10, 'min_samples_leaf': 31}. Best is trial 0 with value: 0.7757871066512976.\u001b[0m\n",
      "\u001b[32m[I 2021-05-13 06:49:15,710]\u001b[0m Trial 8 finished with value: 0.770769438608057 and parameters: {'n_estimators': 756, 'criterion': 'entropy', 'max_depth': 57, 'min_samples_split': 64, 'min_samples_leaf': 1}. Best is trial 0 with value: 0.7757871066512976.\u001b[0m\n",
      "\u001b[32m[I 2021-05-13 06:49:47,739]\u001b[0m Trial 9 finished with value: 0.7621941428085698 and parameters: {'n_estimators': 421, 'criterion': 'gini', 'max_depth': 47, 'min_samples_split': 28, 'min_samples_leaf': 11}. Best is trial 0 with value: 0.7757871066512976.\u001b[0m\n",
      "\u001b[32m[I 2021-05-13 06:50:31,475]\u001b[0m Trial 10 finished with value: 0.7446748899291668 and parameters: {'n_estimators': 626, 'criterion': 'entropy', 'max_depth': 4, 'min_samples_split': 50, 'min_samples_leaf': 18}. Best is trial 0 with value: 0.7757871066512976.\u001b[0m\n",
      "\u001b[32m[I 2021-05-13 06:52:33,490]\u001b[0m Trial 11 finished with value: 0.7718686535631052 and parameters: {'n_estimators': 785, 'criterion': 'entropy', 'max_depth': 97, 'min_samples_split': 66, 'min_samples_leaf': 2}. Best is trial 0 with value: 0.7757871066512976.\u001b[0m\n",
      "\u001b[32m[I 2021-05-13 06:54:24,778]\u001b[0m Trial 12 finished with value: 0.7698757097239796 and parameters: {'n_estimators': 781, 'criterion': 'entropy', 'max_depth': 100, 'min_samples_split': 64, 'min_samples_leaf': 9}. Best is trial 0 with value: 0.7757871066512976.\u001b[0m\n",
      "\u001b[32m[I 2021-05-13 06:55:43,202]\u001b[0m Trial 13 finished with value: 0.7641683939086878 and parameters: {'n_estimators': 643, 'criterion': 'entropy', 'max_depth': 99, 'min_samples_split': 68, 'min_samples_leaf': 22}. Best is trial 0 with value: 0.7757871066512976.\u001b[0m\n",
      "\u001b[32m[I 2021-05-13 06:56:22,812]\u001b[0m Trial 14 finished with value: 0.753262331624773 and parameters: {'n_estimators': 253, 'criterion': 'entropy', 'max_depth': 36, 'min_samples_split': 46, 'min_samples_leaf': 5}. Best is trial 0 with value: 0.7757871066512976.\u001b[0m\n",
      "\u001b[32m[I 2021-05-13 06:57:53,869]\u001b[0m Trial 15 finished with value: 0.7684672042900541 and parameters: {'n_estimators': 667, 'criterion': 'entropy', 'max_depth': 59, 'min_samples_split': 28, 'min_samples_leaf': 17}. Best is trial 0 with value: 0.7757871066512976.\u001b[0m\n",
      "\u001b[32m[I 2021-05-13 06:59:47,310]\u001b[0m Trial 16 finished with value: 0.7691731023175863 and parameters: {'n_estimators': 792, 'criterion': 'entropy', 'max_depth': 28, 'min_samples_split': 98, 'min_samples_leaf': 1}. Best is trial 0 with value: 0.7757871066512976.\u001b[0m\n",
      "\u001b[32m[I 2021-05-13 07:00:55,414]\u001b[0m Trial 17 finished with value: 0.7648304270116736 and parameters: {'n_estimators': 552, 'criterion': 'entropy', 'max_depth': 87, 'min_samples_split': 74, 'min_samples_leaf': 17}. Best is trial 0 with value: 0.7757871066512976.\u001b[0m\n",
      "\u001b[32m[I 2021-05-13 07:02:39,060]\u001b[0m Trial 18 finished with value: 0.7695450527098816 and parameters: {'n_estimators': 702, 'criterion': 'entropy', 'max_depth': 24, 'min_samples_split': 59, 'min_samples_leaf': 7}. Best is trial 0 with value: 0.7757871066512976.\u001b[0m\n",
      "\u001b[32m[I 2021-05-13 07:03:08,965]\u001b[0m Trial 19 finished with value: 0.7321447706426362 and parameters: {'n_estimators': 551, 'criterion': 'entropy', 'max_depth': 3, 'min_samples_split': 4, 'min_samples_leaf': 25}. Best is trial 0 with value: 0.7757871066512976.\u001b[0m\n",
      "\u001b[32m[I 2021-05-13 07:03:21,027]\u001b[0m Trial 20 finished with value: 0.7370358722401311 and parameters: {'n_estimators': 165, 'criterion': 'gini', 'max_depth': 59, 'min_samples_split': 43, 'min_samples_leaf': 14}. Best is trial 0 with value: 0.7757871066512976.\u001b[0m\n",
      "\u001b[32m[I 2021-05-13 07:05:29,097]\u001b[0m Trial 21 finished with value: 0.7714078699167278 and parameters: {'n_estimators': 799, 'criterion': 'entropy', 'max_depth': 58, 'min_samples_split': 60, 'min_samples_leaf': 1}. Best is trial 0 with value: 0.7757871066512976.\u001b[0m\n",
      "\u001b[32m[I 2021-05-13 07:07:23,064]\u001b[0m Trial 22 finished with value: 0.7734384932548187 and parameters: {'n_estimators': 699, 'criterion': 'entropy', 'max_depth': 38, 'min_samples_split': 56, 'min_samples_leaf': 4}. Best is trial 0 with value: 0.7757871066512976.\u001b[0m\n",
      "\u001b[32m[I 2021-05-13 07:09:23,855]\u001b[0m Trial 23 finished with value: 0.7680196386040096 and parameters: {'n_estimators': 711, 'criterion': 'entropy', 'max_depth': 34, 'min_samples_split': 54, 'min_samples_leaf': 5}. Best is trial 0 with value: 0.7757871066512976.\u001b[0m\n",
      "\u001b[32m[I 2021-05-13 07:11:10,491]\u001b[0m Trial 24 finished with value: 0.7668406980522554 and parameters: {'n_estimators': 606, 'criterion': 'entropy', 'max_depth': 18, 'min_samples_split': 35, 'min_samples_leaf': 5}. Best is trial 0 with value: 0.7757871066512976.\u001b[0m\n",
      "\u001b[32m[I 2021-05-13 07:12:56,751]\u001b[0m Trial 25 finished with value: 0.7660391966021893 and parameters: {'n_estimators': 714, 'criterion': 'entropy', 'max_depth': 41, 'min_samples_split': 22, 'min_samples_leaf': 13}. Best is trial 0 with value: 0.7757871066512976.\u001b[0m\n",
      "\u001b[32m[I 2021-05-13 07:14:10,559]\u001b[0m Trial 26 finished with value: 0.7712584541424392 and parameters: {'n_estimators': 496, 'criterion': 'entropy', 'max_depth': 49, 'min_samples_split': 53, 'min_samples_leaf': 8}. Best is trial 0 with value: 0.7757871066512976.\u001b[0m\n",
      "\u001b[32m[I 2021-05-13 07:15:38,887]\u001b[0m Trial 27 finished with value: 0.7679249902904368 and parameters: {'n_estimators': 737, 'criterion': 'entropy', 'max_depth': 38, 'min_samples_split': 75, 'min_samples_leaf': 21}. Best is trial 0 with value: 0.7757871066512976.\u001b[0m\n",
      "\u001b[32m[I 2021-05-13 07:17:27,680]\u001b[0m Trial 28 finished with value: 0.7705831239758852 and parameters: {'n_estimators': 673, 'criterion': 'entropy', 'max_depth': 24, 'min_samples_split': 42, 'min_samples_leaf': 4}. Best is trial 0 with value: 0.7757871066512976.\u001b[0m\n",
      "\u001b[32m[I 2021-05-13 07:18:55,419]\u001b[0m Trial 29 finished with value: 0.7690807299333235 and parameters: {'n_estimators': 789, 'criterion': 'entropy', 'max_depth': 31, 'min_samples_split': 2, 'min_samples_leaf': 30}. Best is trial 0 with value: 0.7757871066512976.\u001b[0m\n"
     ]
    },
    {
     "data": {
      "text/plain": [
       "FrozenTrial(number=0, values=[0.7757871066512976], datetime_start=datetime.datetime(2021, 5, 13, 6, 41, 10, 664713), datetime_complete=datetime.datetime(2021, 5, 13, 6, 43, 21, 12251), params={'n_estimators': 793, 'criterion': 'entropy', 'max_depth': 30, 'min_samples_split': 18, 'min_samples_leaf': 12}, distributions={'n_estimators': IntUniformDistribution(high=800, low=10, step=1), 'criterion': CategoricalDistribution(choices=('gini', 'entropy')), 'max_depth': IntUniformDistribution(high=100, low=2, step=1), 'min_samples_split': IntUniformDistribution(high=100, low=1, step=1), 'min_samples_leaf': IntUniformDistribution(high=50, low=1, step=1)}, user_attrs={}, system_attrs={}, intermediate_values={}, trial_id=0, state=TrialState.COMPLETE, value=None)"
      ]
     },
     "execution_count": 113,
     "metadata": {},
     "output_type": "execute_result"
    }
   ],
   "source": [
    "rf_full_study = optuna.create_study(direction='maximize')\n",
    "rf_full_study.optimize(rf_full_objective, n_trials=30)\n",
    "rf_full_study.best_trial"
   ]
  },
  {
   "cell_type": "code",
   "execution_count": 150,
   "metadata": {
    "ExecuteTime": {
     "end_time": "2021-05-13T05:56:38.139037Z",
     "start_time": "2021-05-13T05:56:02.730664Z"
    }
   },
   "outputs": [
    {
     "data": {
      "text/plain": [
       "RandomForestClassifier(criterion='entropy', max_depth=30, min_samples_leaf=12,\n",
       "                       min_samples_split=18, n_estimators=793, n_jobs=3)"
      ]
     },
     "execution_count": 150,
     "metadata": {},
     "output_type": "execute_result"
    }
   ],
   "source": [
    "rf_full = RandomForestClassifier(n_jobs=3, **rf_full_study.best_params)\n",
    "rf_full.fit(X_full, y)"
   ]
  },
  {
   "cell_type": "code",
   "execution_count": 151,
   "metadata": {
    "ExecuteTime": {
     "end_time": "2021-05-13T06:03:12.858019Z",
     "start_time": "2021-05-13T05:57:33.564222Z"
    }
   },
   "outputs": [],
   "source": [
    "rf_full_explainer = shap.Explainer(rf_full)\n",
    "rf_full_shap_values = rf_full_explainer.shap_values(X_full)"
   ]
  },
  {
   "cell_type": "code",
   "execution_count": 152,
   "metadata": {
    "ExecuteTime": {
     "end_time": "2021-05-13T12:08:17.691467Z",
     "start_time": "2021-05-13T12:08:16.828360Z"
    }
   },
   "outputs": [
    {
     "data": {
      "image/png": "[encoded data removed]",
      "text/plain": [
       "<Figure size 1152x576 with 2 Axes>"
      ]
     },
     "metadata": {
      "needs_background": "light"
     },
     "output_type": "display_data"
    }
   ],
   "source": [
    "shap.summary_plot(rf_full_shap_values[0], X_full, max_display=10, plot_type='dot', plot_size=(16, 8))"
   ]
  },
  {
   "cell_type": "code",
   "execution_count": 167,
   "metadata": {
    "ExecuteTime": {
     "end_time": "2021-05-15T08:57:56.420731Z",
     "start_time": "2021-05-15T08:57:56.347303Z"
    }
   },
   "outputs": [
    {
     "data": {
      "text/html": [
       "<div>\n",
       "<style scoped>\n",
       "    .dataframe tbody tr th:only-of-type {\n",
       "        vertical-align: middle;\n",
       "    }\n",
       "\n",
       "    .dataframe tbody tr th {\n",
       "        vertical-align: top;\n",
       "    }\n",
       "\n",
       "    .dataframe thead th {\n",
       "        text-align: right;\n",
       "    }\n",
       "</style>\n",
       "<table border=\"1\" class=\"dataframe\">\n",
       "  <thead>\n",
       "    <tr style=\"text-align: right;\">\n",
       "      <th></th>\n",
       "      <th>column_name</th>\n",
       "      <th>shap_importance</th>\n",
       "    </tr>\n",
       "  </thead>\n",
       "  <tbody>\n",
       "    <tr>\n",
       "      <th>358</th>\n",
       "      <td>A_358</td>\n",
       "      <td>0.0134774</td>\n",
       "    </tr>\n",
       "    <tr>\n",
       "      <th>150</th>\n",
       "      <td>A_150</td>\n",
       "      <td>0.0110211</td>\n",
       "    </tr>\n",
       "    <tr>\n",
       "      <th>133</th>\n",
       "      <td>A_133</td>\n",
       "      <td>0.00990109</td>\n",
       "    </tr>\n",
       "    <tr>\n",
       "      <th>173</th>\n",
       "      <td>A_173</td>\n",
       "      <td>0.0089882</td>\n",
       "    </tr>\n",
       "    <tr>\n",
       "      <th>388</th>\n",
       "      <td>A_388</td>\n",
       "      <td>0.00546077</td>\n",
       "    </tr>\n",
       "    <tr>\n",
       "      <th>...</th>\n",
       "      <td>...</td>\n",
       "      <td>...</td>\n",
       "    </tr>\n",
       "    <tr>\n",
       "      <th>460</th>\n",
       "      <td>A_460</td>\n",
       "      <td>0.000186247</td>\n",
       "    </tr>\n",
       "    <tr>\n",
       "      <th>120</th>\n",
       "      <td>A_120</td>\n",
       "      <td>0.000185481</td>\n",
       "    </tr>\n",
       "    <tr>\n",
       "      <th>246</th>\n",
       "      <td>A_246</td>\n",
       "      <td>0.000184741</td>\n",
       "    </tr>\n",
       "    <tr>\n",
       "      <th>496</th>\n",
       "      <td>A_496</td>\n",
       "      <td>0.000178086</td>\n",
       "    </tr>\n",
       "    <tr>\n",
       "      <th>342</th>\n",
       "      <td>A_342</td>\n",
       "      <td>0.000173219</td>\n",
       "    </tr>\n",
       "  </tbody>\n",
       "</table>\n",
       "<p>512 rows × 2 columns</p>\n",
       "</div>"
      ],
      "text/plain": [
       "    column_name shap_importance\n",
       "358       A_358       0.0134774\n",
       "150       A_150       0.0110211\n",
       "133       A_133      0.00990109\n",
       "173       A_173       0.0089882\n",
       "388       A_388      0.00546077\n",
       "..          ...             ...\n",
       "460       A_460     0.000186247\n",
       "120       A_120     0.000185481\n",
       "246       A_246     0.000184741\n",
       "496       A_496     0.000178086\n",
       "342       A_342     0.000173219\n",
       "\n",
       "[512 rows x 2 columns]"
      ]
     },
     "execution_count": 167,
     "metadata": {},
     "output_type": "execute_result"
    }
   ],
   "source": [
    "rf_full_shap_sum = np.abs(rf_full_shap_values[0]).mean(axis=0)\n",
    "rf_full_importance_df = pd.DataFrame([X_full.columns.tolist(), rf_full_shap_sum.tolist()]).T\n",
    "rf_full_importance_df.columns = ['column_name', 'shap_importance']\n",
    "rf_full_importance_df = rf_full_importance_df.sort_values('shap_importance', ascending=False)\n",
    "rf_full_importance_df"
   ]
  },
  {
   "cell_type": "markdown",
   "metadata": {},
   "source": [
    "Для сравнения множества признаков с множеством из предыдущего задания отберем так же 150 наиболее важных, согласно shap_values"
   ]
  },
  {
   "cell_type": "code",
   "execution_count": 171,
   "metadata": {
    "ExecuteTime": {
     "end_time": "2021-05-15T09:03:37.034191Z",
     "start_time": "2021-05-15T09:03:36.999208Z"
    }
   },
   "outputs": [
    {
     "data": {
      "text/html": [
       "<div>\n",
       "<style scoped>\n",
       "    .dataframe tbody tr th:only-of-type {\n",
       "        vertical-align: middle;\n",
       "    }\n",
       "\n",
       "    .dataframe tbody tr th {\n",
       "        vertical-align: top;\n",
       "    }\n",
       "\n",
       "    .dataframe thead th {\n",
       "        text-align: right;\n",
       "    }\n",
       "</style>\n",
       "<table border=\"1\" class=\"dataframe\">\n",
       "  <thead>\n",
       "    <tr style=\"text-align: right;\">\n",
       "      <th></th>\n",
       "      <th>A_358</th>\n",
       "      <th>A_150</th>\n",
       "      <th>A_133</th>\n",
       "      <th>A_173</th>\n",
       "      <th>A_388</th>\n",
       "      <th>A_295</th>\n",
       "      <th>A_068</th>\n",
       "      <th>A_159</th>\n",
       "      <th>A_395</th>\n",
       "      <th>A_505</th>\n",
       "      <th>...</th>\n",
       "      <th>A_056</th>\n",
       "      <th>A_417</th>\n",
       "      <th>A_399</th>\n",
       "      <th>A_168</th>\n",
       "      <th>A_398</th>\n",
       "      <th>A_372</th>\n",
       "      <th>A_206</th>\n",
       "      <th>A_304</th>\n",
       "      <th>A_267</th>\n",
       "      <th>A_227</th>\n",
       "    </tr>\n",
       "  </thead>\n",
       "  <tbody>\n",
       "    <tr>\n",
       "      <th>0</th>\n",
       "      <td>0.591261</td>\n",
       "      <td>0.744134</td>\n",
       "      <td>0.496058</td>\n",
       "      <td>0.640585</td>\n",
       "      <td>0.449215</td>\n",
       "      <td>0.547391</td>\n",
       "      <td>0.654991</td>\n",
       "      <td>0.810844</td>\n",
       "      <td>0.547420</td>\n",
       "      <td>0.435012</td>\n",
       "      <td>...</td>\n",
       "      <td>0.745386</td>\n",
       "      <td>0.660571</td>\n",
       "      <td>0.733987</td>\n",
       "      <td>0.889239</td>\n",
       "      <td>0.642675</td>\n",
       "      <td>0.406965</td>\n",
       "      <td>0.366992</td>\n",
       "      <td>0.609063</td>\n",
       "      <td>0.395418</td>\n",
       "      <td>0.573808</td>\n",
       "    </tr>\n",
       "    <tr>\n",
       "      <th>1</th>\n",
       "      <td>0.519088</td>\n",
       "      <td>0.574902</td>\n",
       "      <td>0.582850</td>\n",
       "      <td>0.700559</td>\n",
       "      <td>0.794306</td>\n",
       "      <td>0.478361</td>\n",
       "      <td>0.595276</td>\n",
       "      <td>0.562802</td>\n",
       "      <td>0.729999</td>\n",
       "      <td>0.556442</td>\n",
       "      <td>...</td>\n",
       "      <td>0.485291</td>\n",
       "      <td>0.711827</td>\n",
       "      <td>0.643460</td>\n",
       "      <td>0.800513</td>\n",
       "      <td>0.691561</td>\n",
       "      <td>0.546789</td>\n",
       "      <td>0.296814</td>\n",
       "      <td>0.712919</td>\n",
       "      <td>0.520261</td>\n",
       "      <td>0.593439</td>\n",
       "    </tr>\n",
       "    <tr>\n",
       "      <th>2</th>\n",
       "      <td>0.588222</td>\n",
       "      <td>0.438781</td>\n",
       "      <td>0.783633</td>\n",
       "      <td>0.530311</td>\n",
       "      <td>0.552203</td>\n",
       "      <td>0.476223</td>\n",
       "      <td>0.596451</td>\n",
       "      <td>0.394079</td>\n",
       "      <td>0.453997</td>\n",
       "      <td>0.641601</td>\n",
       "      <td>...</td>\n",
       "      <td>0.592846</td>\n",
       "      <td>0.632571</td>\n",
       "      <td>0.645016</td>\n",
       "      <td>0.493342</td>\n",
       "      <td>0.596698</td>\n",
       "      <td>0.676262</td>\n",
       "      <td>0.544344</td>\n",
       "      <td>0.729216</td>\n",
       "      <td>0.565727</td>\n",
       "      <td>0.365689</td>\n",
       "    </tr>\n",
       "    <tr>\n",
       "      <th>3</th>\n",
       "      <td>0.546976</td>\n",
       "      <td>0.704922</td>\n",
       "      <td>0.337422</td>\n",
       "      <td>0.617346</td>\n",
       "      <td>0.626508</td>\n",
       "      <td>0.698364</td>\n",
       "      <td>0.648654</td>\n",
       "      <td>0.621937</td>\n",
       "      <td>0.552406</td>\n",
       "      <td>0.683112</td>\n",
       "      <td>...</td>\n",
       "      <td>0.616044</td>\n",
       "      <td>0.441342</td>\n",
       "      <td>0.575513</td>\n",
       "      <td>0.343417</td>\n",
       "      <td>0.591991</td>\n",
       "      <td>0.709392</td>\n",
       "      <td>0.561573</td>\n",
       "      <td>0.477420</td>\n",
       "      <td>0.398454</td>\n",
       "      <td>0.579881</td>\n",
       "    </tr>\n",
       "    <tr>\n",
       "      <th>4</th>\n",
       "      <td>0.453254</td>\n",
       "      <td>0.631068</td>\n",
       "      <td>0.641685</td>\n",
       "      <td>0.530538</td>\n",
       "      <td>0.650282</td>\n",
       "      <td>0.630812</td>\n",
       "      <td>0.592623</td>\n",
       "      <td>0.469864</td>\n",
       "      <td>0.653509</td>\n",
       "      <td>0.725146</td>\n",
       "      <td>...</td>\n",
       "      <td>0.432282</td>\n",
       "      <td>0.466212</td>\n",
       "      <td>0.275044</td>\n",
       "      <td>0.552641</td>\n",
       "      <td>0.560996</td>\n",
       "      <td>0.407625</td>\n",
       "      <td>0.600089</td>\n",
       "      <td>0.309326</td>\n",
       "      <td>0.683037</td>\n",
       "      <td>0.562503</td>\n",
       "    </tr>\n",
       "    <tr>\n",
       "      <th>...</th>\n",
       "      <td>...</td>\n",
       "      <td>...</td>\n",
       "      <td>...</td>\n",
       "      <td>...</td>\n",
       "      <td>...</td>\n",
       "      <td>...</td>\n",
       "      <td>...</td>\n",
       "      <td>...</td>\n",
       "      <td>...</td>\n",
       "      <td>...</td>\n",
       "      <td>...</td>\n",
       "      <td>...</td>\n",
       "      <td>...</td>\n",
       "      <td>...</td>\n",
       "      <td>...</td>\n",
       "      <td>...</td>\n",
       "      <td>...</td>\n",
       "      <td>...</td>\n",
       "      <td>...</td>\n",
       "      <td>...</td>\n",
       "      <td>...</td>\n",
       "    </tr>\n",
       "    <tr>\n",
       "      <th>4156</th>\n",
       "      <td>0.346998</td>\n",
       "      <td>0.682406</td>\n",
       "      <td>0.757333</td>\n",
       "      <td>0.543014</td>\n",
       "      <td>0.541818</td>\n",
       "      <td>0.651720</td>\n",
       "      <td>0.731584</td>\n",
       "      <td>0.654163</td>\n",
       "      <td>0.695487</td>\n",
       "      <td>0.743528</td>\n",
       "      <td>...</td>\n",
       "      <td>0.882210</td>\n",
       "      <td>0.921689</td>\n",
       "      <td>0.425771</td>\n",
       "      <td>0.460239</td>\n",
       "      <td>0.667662</td>\n",
       "      <td>0.649535</td>\n",
       "      <td>0.671070</td>\n",
       "      <td>0.707451</td>\n",
       "      <td>0.441914</td>\n",
       "      <td>0.604443</td>\n",
       "    </tr>\n",
       "    <tr>\n",
       "      <th>4157</th>\n",
       "      <td>0.565258</td>\n",
       "      <td>0.645101</td>\n",
       "      <td>0.519942</td>\n",
       "      <td>0.736025</td>\n",
       "      <td>0.742848</td>\n",
       "      <td>0.645852</td>\n",
       "      <td>0.723924</td>\n",
       "      <td>0.493368</td>\n",
       "      <td>0.455476</td>\n",
       "      <td>0.529520</td>\n",
       "      <td>...</td>\n",
       "      <td>0.510615</td>\n",
       "      <td>0.531807</td>\n",
       "      <td>0.621289</td>\n",
       "      <td>0.232246</td>\n",
       "      <td>0.712102</td>\n",
       "      <td>0.723046</td>\n",
       "      <td>0.515198</td>\n",
       "      <td>0.498570</td>\n",
       "      <td>0.440671</td>\n",
       "      <td>0.806225</td>\n",
       "    </tr>\n",
       "    <tr>\n",
       "      <th>4158</th>\n",
       "      <td>0.348371</td>\n",
       "      <td>0.541598</td>\n",
       "      <td>0.589804</td>\n",
       "      <td>0.696409</td>\n",
       "      <td>0.415180</td>\n",
       "      <td>0.571605</td>\n",
       "      <td>0.629417</td>\n",
       "      <td>0.871393</td>\n",
       "      <td>0.585099</td>\n",
       "      <td>0.616331</td>\n",
       "      <td>...</td>\n",
       "      <td>0.771409</td>\n",
       "      <td>0.562588</td>\n",
       "      <td>0.546724</td>\n",
       "      <td>0.540201</td>\n",
       "      <td>0.893150</td>\n",
       "      <td>0.490580</td>\n",
       "      <td>0.625685</td>\n",
       "      <td>0.689613</td>\n",
       "      <td>0.717632</td>\n",
       "      <td>0.604387</td>\n",
       "    </tr>\n",
       "    <tr>\n",
       "      <th>4159</th>\n",
       "      <td>0.500692</td>\n",
       "      <td>0.577835</td>\n",
       "      <td>0.605979</td>\n",
       "      <td>0.614561</td>\n",
       "      <td>0.460771</td>\n",
       "      <td>0.639211</td>\n",
       "      <td>0.424401</td>\n",
       "      <td>0.684064</td>\n",
       "      <td>0.516506</td>\n",
       "      <td>0.451451</td>\n",
       "      <td>...</td>\n",
       "      <td>0.766846</td>\n",
       "      <td>0.427083</td>\n",
       "      <td>0.511662</td>\n",
       "      <td>0.651804</td>\n",
       "      <td>0.604675</td>\n",
       "      <td>0.513684</td>\n",
       "      <td>0.568388</td>\n",
       "      <td>0.658127</td>\n",
       "      <td>0.564197</td>\n",
       "      <td>0.451313</td>\n",
       "    </tr>\n",
       "    <tr>\n",
       "      <th>4160</th>\n",
       "      <td>0.499744</td>\n",
       "      <td>0.585061</td>\n",
       "      <td>0.639897</td>\n",
       "      <td>0.630717</td>\n",
       "      <td>0.445847</td>\n",
       "      <td>0.418699</td>\n",
       "      <td>0.615001</td>\n",
       "      <td>0.405790</td>\n",
       "      <td>0.443578</td>\n",
       "      <td>0.550240</td>\n",
       "      <td>...</td>\n",
       "      <td>0.576978</td>\n",
       "      <td>0.898783</td>\n",
       "      <td>0.789406</td>\n",
       "      <td>0.501153</td>\n",
       "      <td>0.618698</td>\n",
       "      <td>0.608184</td>\n",
       "      <td>0.594395</td>\n",
       "      <td>0.712763</td>\n",
       "      <td>0.768330</td>\n",
       "      <td>0.605750</td>\n",
       "    </tr>\n",
       "  </tbody>\n",
       "</table>\n",
       "<p>4161 rows × 150 columns</p>\n",
       "</div>"
      ],
      "text/plain": [
       "         A_358     A_150     A_133     A_173     A_388     A_295     A_068  \\\n",
       "0     0.591261  0.744134  0.496058  0.640585  0.449215  0.547391  0.654991   \n",
       "1     0.519088  0.574902  0.582850  0.700559  0.794306  0.478361  0.595276   \n",
       "2     0.588222  0.438781  0.783633  0.530311  0.552203  0.476223  0.596451   \n",
       "3     0.546976  0.704922  0.337422  0.617346  0.626508  0.698364  0.648654   \n",
       "4     0.453254  0.631068  0.641685  0.530538  0.650282  0.630812  0.592623   \n",
       "...        ...       ...       ...       ...       ...       ...       ...   \n",
       "4156  0.346998  0.682406  0.757333  0.543014  0.541818  0.651720  0.731584   \n",
       "4157  0.565258  0.645101  0.519942  0.736025  0.742848  0.645852  0.723924   \n",
       "4158  0.348371  0.541598  0.589804  0.696409  0.415180  0.571605  0.629417   \n",
       "4159  0.500692  0.577835  0.605979  0.614561  0.460771  0.639211  0.424401   \n",
       "4160  0.499744  0.585061  0.639897  0.630717  0.445847  0.418699  0.615001   \n",
       "\n",
       "         A_159     A_395     A_505  ...     A_056     A_417     A_399  \\\n",
       "0     0.810844  0.547420  0.435012  ...  0.745386  0.660571  0.733987   \n",
       "1     0.562802  0.729999  0.556442  ...  0.485291  0.711827  0.643460   \n",
       "2     0.394079  0.453997  0.641601  ...  0.592846  0.632571  0.645016   \n",
       "3     0.621937  0.552406  0.683112  ...  0.616044  0.441342  0.575513   \n",
       "4     0.469864  0.653509  0.725146  ...  0.432282  0.466212  0.275044   \n",
       "...        ...       ...       ...  ...       ...       ...       ...   \n",
       "4156  0.654163  0.695487  0.743528  ...  0.882210  0.921689  0.425771   \n",
       "4157  0.493368  0.455476  0.529520  ...  0.510615  0.531807  0.621289   \n",
       "4158  0.871393  0.585099  0.616331  ...  0.771409  0.562588  0.546724   \n",
       "4159  0.684064  0.516506  0.451451  ...  0.766846  0.427083  0.511662   \n",
       "4160  0.405790  0.443578  0.550240  ...  0.576978  0.898783  0.789406   \n",
       "\n",
       "         A_168     A_398     A_372     A_206     A_304     A_267     A_227  \n",
       "0     0.889239  0.642675  0.406965  0.366992  0.609063  0.395418  0.573808  \n",
       "1     0.800513  0.691561  0.546789  0.296814  0.712919  0.520261  0.593439  \n",
       "2     0.493342  0.596698  0.676262  0.544344  0.729216  0.565727  0.365689  \n",
       "3     0.343417  0.591991  0.709392  0.561573  0.477420  0.398454  0.579881  \n",
       "4     0.552641  0.560996  0.407625  0.600089  0.309326  0.683037  0.562503  \n",
       "...        ...       ...       ...       ...       ...       ...       ...  \n",
       "4156  0.460239  0.667662  0.649535  0.671070  0.707451  0.441914  0.604443  \n",
       "4157  0.232246  0.712102  0.723046  0.515198  0.498570  0.440671  0.806225  \n",
       "4158  0.540201  0.893150  0.490580  0.625685  0.689613  0.717632  0.604387  \n",
       "4159  0.651804  0.604675  0.513684  0.568388  0.658127  0.564197  0.451313  \n",
       "4160  0.501153  0.618698  0.608184  0.594395  0.712763  0.768330  0.605750  \n",
       "\n",
       "[4161 rows x 150 columns]"
      ]
     },
     "execution_count": 171,
     "metadata": {},
     "output_type": "execute_result"
    }
   ],
   "source": [
    "shap_150f = rf_full_importance_df['column_name'][:150].values\n",
    "X_rf_shap_150f = X_full[shap_150f]\n",
    "X_rf_shap_150f"
   ]
  },
  {
   "cell_type": "code",
   "execution_count": 173,
   "metadata": {
    "ExecuteTime": {
     "end_time": "2021-05-15T09:06:26.875752Z",
     "start_time": "2021-05-15T09:05:19.218084Z"
    }
   },
   "outputs": [
    {
     "data": {
      "text/plain": [
       "0.7856590168288303"
      ]
     },
     "execution_count": 173,
     "metadata": {},
     "output_type": "execute_result"
    }
   ],
   "source": [
    "rf_shap_150f_score = cross_val_score(rf_full, X_rf_shap_150f, y, scoring='roc_auc', n_jobs=3).mean()\n",
    "rf_shap_150f_score"
   ]
  },
  {
   "cell_type": "markdown",
   "metadata": {},
   "source": [
    "Видим, что даже без подбора гиперпараметров качество улучшилось! Попробуем теперь их подобрать."
   ]
  },
  {
   "cell_type": "code",
   "execution_count": 174,
   "metadata": {
    "ExecuteTime": {
     "end_time": "2021-05-15T09:11:30.334788Z",
     "start_time": "2021-05-15T09:11:30.327963Z"
    }
   },
   "outputs": [],
   "source": [
    "def rf_shap_150f_objective(trial):\n",
    "    n_estimators = trial.suggest_int('n_estimators', 10, 800)\n",
    "    criterion = trial.suggest_categorical('criterion', ['gini', 'entropy'])\n",
    "    max_depth = trial.suggest_int('max_depth', 2, 50)\n",
    "    min_samples_split = trial.suggest_int('min_samples_split', 1, 100)\n",
    "    min_samples_leaf = trial.suggest_int('min_samples_leaf', 1, 50)\n",
    "    \n",
    "    rf_clf = RandomForestClassifier(n_estimators=n_estimators, criterion=criterion,\n",
    "                                    max_depth=max_depth, min_samples_split=min_samples_split,\n",
    "                                    min_samples_leaf=min_samples_leaf, n_jobs=3)\n",
    "    score = cross_val_score(rf_clf, X_rf_shap_150f, y, n_jobs=3, scoring='roc_auc').mean()\n",
    "    return score\n"
   ]
  },
  {
   "cell_type": "code",
   "execution_count": 175,
   "metadata": {
    "ExecuteTime": {
     "end_time": "2021-05-15T09:39:12.677456Z",
     "start_time": "2021-05-15T09:16:51.338429Z"
    }
   },
   "outputs": [
    {
     "name": "stderr",
     "output_type": "stream",
     "text": [
      "\u001b[32m[I 2021-05-15 12:16:51,340]\u001b[0m A new study created in memory with name: no-name-a9169ba5-bae0-4a03-9700-b56c9dd97dad\u001b[0m\n",
      "\u001b[32m[I 2021-05-15 12:17:42,975]\u001b[0m Trial 0 finished with value: 0.7707351651094289 and parameters: {'n_estimators': 780, 'criterion': 'entropy', 'max_depth': 17, 'min_samples_split': 87, 'min_samples_leaf': 32}. Best is trial 0 with value: 0.7707351651094289.\u001b[0m\n",
      "\u001b[32m[I 2021-05-15 12:17:51,410]\u001b[0m Trial 1 finished with value: 0.7694092781332965 and parameters: {'n_estimators': 199, 'criterion': 'gini', 'max_depth': 22, 'min_samples_split': 72, 'min_samples_leaf': 7}. Best is trial 0 with value: 0.7707351651094289.\u001b[0m\n",
      "\u001b[32m[I 2021-05-15 12:18:09,061]\u001b[0m Trial 2 finished with value: 0.774740755951149 and parameters: {'n_estimators': 489, 'criterion': 'gini', 'max_depth': 25, 'min_samples_split': 68, 'min_samples_leaf': 25}. Best is trial 2 with value: 0.774740755951149.\u001b[0m\n",
      "\u001b[32m[I 2021-05-15 12:18:38,441]\u001b[0m Trial 3 finished with value: 0.776546741226378 and parameters: {'n_estimators': 400, 'criterion': 'entropy', 'max_depth': 49, 'min_samples_split': 46, 'min_samples_leaf': 19}. Best is trial 3 with value: 0.776546741226378.\u001b[0m\n",
      "\u001b[32m[I 2021-05-15 12:18:56,360]\u001b[0m Trial 4 finished with value: 0.774208383756387 and parameters: {'n_estimators': 465, 'criterion': 'gini', 'max_depth': 26, 'min_samples_split': 76, 'min_samples_leaf': 25}. Best is trial 3 with value: 0.776546741226378.\u001b[0m\n",
      "\u001b[32m[I 2021-05-15 12:19:07,976]\u001b[0m Trial 5 finished with value: 0.7663001927826991 and parameters: {'n_estimators': 197, 'criterion': 'entropy', 'max_depth': 44, 'min_samples_split': 50, 'min_samples_leaf': 39}. Best is trial 3 with value: 0.776546741226378.\u001b[0m\n",
      "\u001b[32m[I 2021-05-15 12:19:37,225]\u001b[0m Trial 6 finished with value: 0.7706318048216129 and parameters: {'n_estimators': 409, 'criterion': 'entropy', 'max_depth': 21, 'min_samples_split': 79, 'min_samples_leaf': 24}. Best is trial 3 with value: 0.776546741226378.\u001b[0m\n",
      "\u001b[32m[I 2021-05-15 12:19:43,889]\u001b[0m Trial 7 finished with value: 0.7696976635403198 and parameters: {'n_estimators': 183, 'criterion': 'gini', 'max_depth': 43, 'min_samples_split': 21, 'min_samples_leaf': 29}. Best is trial 3 with value: 0.776546741226378.\u001b[0m\n",
      "\u001b[32m[I 2021-05-15 12:20:14,066]\u001b[0m Trial 8 finished with value: 0.7762628801571276 and parameters: {'n_estimators': 756, 'criterion': 'gini', 'max_depth': 49, 'min_samples_split': 97, 'min_samples_leaf': 5}. Best is trial 3 with value: 0.776546741226378.\u001b[0m\n",
      "\u001b[32m[I 2021-05-15 12:20:16,792]\u001b[0m Trial 9 finished with value: 0.7212792239140355 and parameters: {'n_estimators': 41, 'criterion': 'entropy', 'max_depth': 16, 'min_samples_split': 92, 'min_samples_leaf': 45}. Best is trial 3 with value: 0.776546741226378.\u001b[0m\n",
      "\u001b[32m[I 2021-05-15 12:21:02,789]\u001b[0m Trial 10 finished with value: 0.7828528056729601 and parameters: {'n_estimators': 572, 'criterion': 'entropy', 'max_depth': 36, 'min_samples_split': 26, 'min_samples_leaf': 14}. Best is trial 10 with value: 0.7828528056729601.\u001b[0m\n",
      "\u001b[32m[I 2021-05-15 12:21:54,047]\u001b[0m Trial 11 finished with value: 0.7833431193084671 and parameters: {'n_estimators': 620, 'criterion': 'entropy', 'max_depth': 36, 'min_samples_split': 24, 'min_samples_leaf': 14}. Best is trial 11 with value: 0.7833431193084671.\u001b[0m\n",
      "\u001b[32m[I 2021-05-15 12:22:48,888]\u001b[0m Trial 12 finished with value: 0.782308608549551 and parameters: {'n_estimators': 630, 'criterion': 'entropy', 'max_depth': 35, 'min_samples_split': 4, 'min_samples_leaf': 13}. Best is trial 11 with value: 0.7833431193084671.\u001b[0m\n",
      "\u001b[32m[I 2021-05-15 12:23:09,894]\u001b[0m Trial 13 finished with value: 0.7307231793898488 and parameters: {'n_estimators': 602, 'criterion': 'entropy', 'max_depth': 3, 'min_samples_split': 25, 'min_samples_leaf': 14}. Best is trial 11 with value: 0.7833431193084671.\u001b[0m\n",
      "\u001b[32m[I 2021-05-15 12:24:01,137]\u001b[0m Trial 14 finished with value: 0.7837283865651828 and parameters: {'n_estimators': 636, 'criterion': 'entropy', 'max_depth': 34, 'min_samples_split': 27, 'min_samples_leaf': 14}. Best is trial 14 with value: 0.7837283865651828.\u001b[0m\n",
      "\u001b[32m[I 2021-05-15 12:25:21,358]\u001b[0m Trial 15 finished with value: 0.7893790872030756 and parameters: {'n_estimators': 737, 'criterion': 'entropy', 'max_depth': 32, 'min_samples_split': 3, 'min_samples_leaf': 2}. Best is trial 15 with value: 0.7893790872030756.\u001b[0m\n",
      "\u001b[33m[W 2021-05-15 12:25:23,065]\u001b[0m Trial 16 failed, because the objective function returned nan.\u001b[0m\n",
      "\u001b[32m[I 2021-05-15 12:26:43,619]\u001b[0m Trial 17 finished with value: 0.7847412369081707 and parameters: {'n_estimators': 721, 'criterion': 'entropy', 'max_depth': 29, 'min_samples_split': 4, 'min_samples_leaf': 1}. Best is trial 15 with value: 0.7893790872030756.\u001b[0m\n",
      "\u001b[32m[I 2021-05-15 12:28:05,748]\u001b[0m Trial 18 finished with value: 0.7872732106630409 and parameters: {'n_estimators': 729, 'criterion': 'entropy', 'max_depth': 30, 'min_samples_split': 7, 'min_samples_leaf': 1}. Best is trial 15 with value: 0.7893790872030756.\u001b[0m\n",
      "\u001b[32m[I 2021-05-15 12:28:52,918]\u001b[0m Trial 19 finished with value: 0.7673146064914482 and parameters: {'n_estimators': 715, 'criterion': 'entropy', 'max_depth': 6, 'min_samples_split': 11, 'min_samples_leaf': 2}. Best is trial 15 with value: 0.7893790872030756.\u001b[0m\n",
      "\u001b[32m[I 2021-05-15 12:30:00,545]\u001b[0m Trial 20 finished with value: 0.7835750168645828 and parameters: {'n_estimators': 793, 'criterion': 'entropy', 'max_depth': 11, 'min_samples_split': 38, 'min_samples_leaf': 7}. Best is trial 15 with value: 0.7893790872030756.\u001b[0m\n",
      "\u001b[32m[I 2021-05-15 12:31:01,687]\u001b[0m Trial 21 finished with value: 0.7827783485921571 and parameters: {'n_estimators': 520, 'criterion': 'entropy', 'max_depth': 31, 'min_samples_split': 10, 'min_samples_leaf': 1}. Best is trial 15 with value: 0.7893790872030756.\u001b[0m\n",
      "\u001b[32m[I 2021-05-15 12:32:18,124]\u001b[0m Trial 22 finished with value: 0.7906031265162177 and parameters: {'n_estimators': 698, 'criterion': 'entropy', 'max_depth': 30, 'min_samples_split': 2, 'min_samples_leaf': 2}. Best is trial 22 with value: 0.7906031265162177.\u001b[0m\n",
      "\u001b[32m[I 2021-05-15 12:33:19,572]\u001b[0m Trial 23 finished with value: 0.783093355339967 and parameters: {'n_estimators': 672, 'criterion': 'entropy', 'max_depth': 41, 'min_samples_split': 2, 'min_samples_leaf': 9}. Best is trial 22 with value: 0.7906031265162177.\u001b[0m\n",
      "\u001b[32m[I 2021-05-15 12:34:36,884]\u001b[0m Trial 24 finished with value: 0.786918973825894 and parameters: {'n_estimators': 705, 'criterion': 'entropy', 'max_depth': 31, 'min_samples_split': 14, 'min_samples_leaf': 1}. Best is trial 22 with value: 0.7906031265162177.\u001b[0m\n",
      "\u001b[32m[I 2021-05-15 12:35:55,828]\u001b[0m Trial 25 finished with value: 0.7858288092025846 and parameters: {'n_estimators': 760, 'criterion': 'entropy', 'max_depth': 39, 'min_samples_split': 2, 'min_samples_leaf': 4}. Best is trial 22 with value: 0.7906031265162177.\u001b[0m\n",
      "\u001b[32m[I 2021-05-15 12:36:36,737]\u001b[0m Trial 26 finished with value: 0.7769127230942308 and parameters: {'n_estimators': 554, 'criterion': 'entropy', 'max_depth': 24, 'min_samples_split': 12, 'min_samples_leaf': 20}. Best is trial 22 with value: 0.7906031265162177.\u001b[0m\n",
      "\u001b[32m[I 2021-05-15 12:37:00,693]\u001b[0m Trial 27 finished with value: 0.775929608535671 and parameters: {'n_estimators': 295, 'criterion': 'entropy', 'max_depth': 28, 'min_samples_split': 62, 'min_samples_leaf': 10}. Best is trial 22 with value: 0.7906031265162177.\u001b[0m\n",
      "\u001b[32m[I 2021-05-15 12:38:16,993]\u001b[0m Trial 28 finished with value: 0.7873363762494852 and parameters: {'n_estimators': 800, 'criterion': 'entropy', 'max_depth': 32, 'min_samples_split': 33, 'min_samples_leaf': 4}. Best is trial 22 with value: 0.7906031265162177.\u001b[0m\n",
      "\u001b[32m[I 2021-05-15 12:39:12,664]\u001b[0m Trial 29 finished with value: 0.779851154810806 and parameters: {'n_estimators': 792, 'criterion': 'entropy', 'max_depth': 38, 'min_samples_split': 34, 'min_samples_leaf': 19}. Best is trial 22 with value: 0.7906031265162177.\u001b[0m\n"
     ]
    },
    {
     "data": {
      "text/plain": [
       "FrozenTrial(number=22, values=[0.7906031265162177], datetime_start=datetime.datetime(2021, 5, 15, 12, 31, 1, 690075), datetime_complete=datetime.datetime(2021, 5, 15, 12, 32, 18, 122729), params={'n_estimators': 698, 'criterion': 'entropy', 'max_depth': 30, 'min_samples_split': 2, 'min_samples_leaf': 2}, distributions={'n_estimators': IntUniformDistribution(high=800, low=10, step=1), 'criterion': CategoricalDistribution(choices=('gini', 'entropy')), 'max_depth': IntUniformDistribution(high=50, low=2, step=1), 'min_samples_split': IntUniformDistribution(high=100, low=1, step=1), 'min_samples_leaf': IntUniformDistribution(high=50, low=1, step=1)}, user_attrs={}, system_attrs={}, intermediate_values={}, trial_id=22, state=TrialState.COMPLETE, value=None)"
      ]
     },
     "execution_count": 175,
     "metadata": {},
     "output_type": "execute_result"
    }
   ],
   "source": [
    "rf_shap_150f_study = optuna.create_study(direction='maximize')\n",
    "rf_shap_150f_study.optimize(rf_shap_150f_objective, n_trials=30)\n",
    "rf_shap_150f_study.best_trial"
   ]
  },
  {
   "cell_type": "markdown",
   "metadata": {},
   "source": [
    "Даже взяв количество признаков \"наугад\", получаем существенное улучшение качества, что свидетельствует о хорошей работе shap'а (явно выигрышной, относительно способа ранжирования из предыдущего задания)"
   ]
  },
  {
   "cell_type": "markdown",
   "metadata": {},
   "source": [
    "Теперь сравним множества отобранных shap'ом признаков с множеством из предыдущего задания."
   ]
  },
  {
   "cell_type": "code",
   "execution_count": 190,
   "metadata": {
    "ExecuteTime": {
     "end_time": "2021-05-15T09:49:13.503933Z",
     "start_time": "2021-05-15T09:49:13.475325Z"
    }
   },
   "outputs": [
    {
     "data": {
      "text/plain": [
       "False    82\n",
       "True     68\n",
       "dtype: int64"
      ]
     },
     "execution_count": 190,
     "metadata": {},
     "output_type": "execute_result"
    }
   ],
   "source": [
    "rf_afs_features = X_rf.columns\n",
    "rf_shap_features = X_rf_shap_150f.columns\n",
    "pd.Series(np.in1d(rf_afs_features, rf_shap_features)).value_counts()"
   ]
  },
  {
   "cell_type": "markdown",
   "metadata": {},
   "source": [
    "Видим, что множества не совпадают даже на половину, что свидетельствует о различном подходе к ранжированию признаков "
   ]
  },
  {
   "cell_type": "markdown",
   "metadata": {},
   "source": [
    "**Задание 7** (0.5 балл)\n",
    "    Сравните модели из заданий 3,4,5"
   ]
  },
  {
   "cell_type": "markdown",
   "metadata": {},
   "source": [
    "* *KNN*.\n",
    "Показал себя лучше всех с точки зрения качества и достаточно хорошо с точки зрения скорости обучения и подбора признаков. Feature Selector отобрал для него много признаков, засчет чего модель стала довольно устойчивой к отклонениям в каждом из них (что видно по перестановочному тесту). Параметром, дающим ключевой прирост, как и ожидалось, оказалось количество соседей.\n",
    "* *Decision Tree*.\n",
    "По результатам вполне очевидно, что дерево решений сильно проигрывает остальным моделям. Немного улучшает ситуацию предварительное ограничение глубины дерева (во избежание переобучения): это подняло скор на 0.045, а также позволило взять меньше признаков, из-за чего они стали достаточно важны для модели. Однако даже с учетом этого, дерево находится далеко от других алгоритмов в терминах качества. Единственным преимуществом данной модели оказалась относительно высокая скорость работы с ней на всех этапах.\n",
    "* *Random Forest*.\n",
    "Случайный лес оказался неплох в качестве, однако его низкая скорость обучения доставила некторые сложности при отборе признаков и настройке гиперпараметров. Идея ограничения глубины деревьев здесь тоже приносит плоды (+0.015 к скору). Ключевым параметром ожидаемо оказался размер леса."
   ]
  },
  {
   "cell_type": "markdown",
   "metadata": {},
   "source": [
    "**Задание 8** (2 балл)\n",
    "    Постройте линейный ансамбль из лучших моделей."
   ]
  },
  {
   "cell_type": "markdown",
   "metadata": {},
   "source": [
    "Поскольку лучший результат давали модели логистической регрессии c L2-регуляризацией, случайного леса и KNN, построим их смесь. Начнем с обучения KNN по признакам, отобранным для случайного леса в предыдущем задании."
   ]
  },
  {
   "cell_type": "code",
   "execution_count": 495,
   "metadata": {
    "ExecuteTime": {
     "end_time": "2021-05-15T14:41:57.128644Z",
     "start_time": "2021-05-15T14:41:57.108982Z"
    }
   },
   "outputs": [],
   "source": [
    "def knn_full_objective(trial):\n",
    "    n_neighbors = trial.suggest_int('n_neighbors', 1, 500)\n",
    "    weights = trial.suggest_categorical('weights', ['uniform', 'distance'])\n",
    "    p = trial.suggest_categorical('p', [1, 2])\n",
    "    leaf_size = trial.suggest_int('leaf_size', 1, 100)\n",
    "    \n",
    "    knn_clf = KNeighborsClassifier(n_neighbors=n_neighbors, weights=weights, p=p,\n",
    "                                   leaf_size=leaf_size, n_jobs=3)\n",
    "    score = cross_val_score(knn_clf, X_full[rf_shap_features], y, n_jobs=3, scoring='roc_auc').mean()\n",
    "    return score\n"
   ]
  },
  {
   "cell_type": "code",
   "execution_count": 496,
   "metadata": {
    "ExecuteTime": {
     "end_time": "2021-05-15T14:42:38.946895Z",
     "start_time": "2021-05-15T14:42:06.361885Z"
    }
   },
   "outputs": [
    {
     "name": "stderr",
     "output_type": "stream",
     "text": [
      "\u001b[32m[I 2021-05-15 17:42:06,365]\u001b[0m A new study created in memory with name: no-name-77eb610c-e266-41d5-a57f-a5b1d3a447b4\u001b[0m\n",
      "\u001b[32m[I 2021-05-15 17:42:08,545]\u001b[0m Trial 0 finished with value: 0.7843698040827692 and parameters: {'n_neighbors': 113, 'weights': 'distance', 'p': 1, 'leaf_size': 46}. Best is trial 0 with value: 0.7843698040827692.\u001b[0m\n",
      "\u001b[32m[I 2021-05-15 17:42:09,210]\u001b[0m Trial 1 finished with value: 0.7979254616174993 and parameters: {'n_neighbors': 439, 'weights': 'distance', 'p': 2, 'leaf_size': 19}. Best is trial 1 with value: 0.7979254616174993.\u001b[0m\n",
      "\u001b[32m[I 2021-05-15 17:42:09,884]\u001b[0m Trial 2 finished with value: 0.7628052677771608 and parameters: {'n_neighbors': 50, 'weights': 'uniform', 'p': 2, 'leaf_size': 43}. Best is trial 1 with value: 0.7979254616174993.\u001b[0m\n",
      "\u001b[32m[I 2021-05-15 17:42:10,986]\u001b[0m Trial 3 finished with value: 0.774718881592523 and parameters: {'n_neighbors': 67, 'weights': 'distance', 'p': 1, 'leaf_size': 99}. Best is trial 1 with value: 0.7979254616174993.\u001b[0m\n",
      "\u001b[32m[I 2021-05-15 17:42:11,532]\u001b[0m Trial 4 finished with value: 0.7872475508289275 and parameters: {'n_neighbors': 90, 'weights': 'distance', 'p': 2, 'leaf_size': 39}. Best is trial 1 with value: 0.7979254616174993.\u001b[0m\n",
      "\u001b[32m[I 2021-05-15 17:42:12,164]\u001b[0m Trial 5 finished with value: 0.7963508827771497 and parameters: {'n_neighbors': 374, 'weights': 'uniform', 'p': 2, 'leaf_size': 69}. Best is trial 1 with value: 0.7979254616174993.\u001b[0m\n",
      "\u001b[32m[I 2021-05-15 17:42:12,841]\u001b[0m Trial 6 finished with value: 0.7769209323405323 and parameters: {'n_neighbors': 74, 'weights': 'uniform', 'p': 2, 'leaf_size': 22}. Best is trial 1 with value: 0.7979254616174993.\u001b[0m\n",
      "\u001b[32m[I 2021-05-15 17:42:13,511]\u001b[0m Trial 7 finished with value: 0.7924242281559724 and parameters: {'n_neighbors': 225, 'weights': 'distance', 'p': 2, 'leaf_size': 75}. Best is trial 1 with value: 0.7979254616174993.\u001b[0m\n",
      "\u001b[32m[I 2021-05-15 17:42:14,208]\u001b[0m Trial 8 finished with value: 0.7846815150271598 and parameters: {'n_neighbors': 89, 'weights': 'uniform', 'p': 2, 'leaf_size': 100}. Best is trial 1 with value: 0.7979254616174993.\u001b[0m\n",
      "\u001b[32m[I 2021-05-15 17:42:14,877]\u001b[0m Trial 9 finished with value: 0.7922763927768457 and parameters: {'n_neighbors': 173, 'weights': 'distance', 'p': 2, 'leaf_size': 77}. Best is trial 1 with value: 0.7979254616174993.\u001b[0m\n",
      "\u001b[32m[I 2021-05-15 17:42:16,120]\u001b[0m Trial 10 finished with value: 0.8005178230294854 and parameters: {'n_neighbors': 494, 'weights': 'distance', 'p': 1, 'leaf_size': 1}. Best is trial 10 with value: 0.8005178230294854.\u001b[0m\n",
      "\u001b[32m[I 2021-05-15 17:42:17,389]\u001b[0m Trial 11 finished with value: 0.800730279881926 and parameters: {'n_neighbors': 474, 'weights': 'distance', 'p': 1, 'leaf_size': 3}. Best is trial 11 with value: 0.800730279881926.\u001b[0m\n",
      "\u001b[32m[I 2021-05-15 17:42:18,667]\u001b[0m Trial 12 finished with value: 0.8005916528005941 and parameters: {'n_neighbors': 500, 'weights': 'distance', 'p': 1, 'leaf_size': 1}. Best is trial 11 with value: 0.800730279881926.\u001b[0m\n",
      "\u001b[32m[I 2021-05-15 17:42:19,924]\u001b[0m Trial 13 finished with value: 0.7993298614966656 and parameters: {'n_neighbors': 328, 'weights': 'distance', 'p': 1, 'leaf_size': 2}. Best is trial 11 with value: 0.800730279881926.\u001b[0m\n",
      "\u001b[32m[I 2021-05-15 17:42:21,268]\u001b[0m Trial 14 finished with value: 0.8005916528005941 and parameters: {'n_neighbors': 500, 'weights': 'distance', 'p': 1, 'leaf_size': 16}. Best is trial 11 with value: 0.800730279881926.\u001b[0m\n",
      "\u001b[32m[I 2021-05-15 17:42:22,420]\u001b[0m Trial 15 finished with value: 0.799821519473129 and parameters: {'n_neighbors': 410, 'weights': 'distance', 'p': 1, 'leaf_size': 2}. Best is trial 11 with value: 0.800730279881926.\u001b[0m\n",
      "\u001b[32m[I 2021-05-15 17:42:23,437]\u001b[0m Trial 16 finished with value: 0.7982548080222106 and parameters: {'n_neighbors': 297, 'weights': 'distance', 'p': 1, 'leaf_size': 29}. Best is trial 11 with value: 0.800730279881926.\u001b[0m\n",
      "\u001b[32m[I 2021-05-15 17:42:24,549]\u001b[0m Trial 17 finished with value: 0.8017744257688773 and parameters: {'n_neighbors': 460, 'weights': 'distance', 'p': 1, 'leaf_size': 15}. Best is trial 17 with value: 0.8017744257688773.\u001b[0m\n",
      "\u001b[32m[I 2021-05-15 17:42:25,808]\u001b[0m Trial 18 finished with value: 0.8009649318534408 and parameters: {'n_neighbors': 441, 'weights': 'distance', 'p': 1, 'leaf_size': 12}. Best is trial 17 with value: 0.8017744257688773.\u001b[0m\n",
      "\u001b[32m[I 2021-05-15 17:42:27,010]\u001b[0m Trial 19 finished with value: 0.7991316951829924 and parameters: {'n_neighbors': 355, 'weights': 'distance', 'p': 1, 'leaf_size': 56}. Best is trial 17 with value: 0.8017744257688773.\u001b[0m\n",
      "\u001b[32m[I 2021-05-15 17:42:28,123]\u001b[0m Trial 20 finished with value: 0.7983797760516813 and parameters: {'n_neighbors': 429, 'weights': 'uniform', 'p': 1, 'leaf_size': 12}. Best is trial 17 with value: 0.8017744257688773.\u001b[0m\n",
      "\u001b[32m[I 2021-05-15 17:42:29,356]\u001b[0m Trial 21 finished with value: 0.8015131530108665 and parameters: {'n_neighbors': 459, 'weights': 'distance', 'p': 1, 'leaf_size': 31}. Best is trial 17 with value: 0.8017744257688773.\u001b[0m\n",
      "\u001b[32m[I 2021-05-15 17:42:30,559]\u001b[0m Trial 22 finished with value: 0.8005274160047451 and parameters: {'n_neighbors': 399, 'weights': 'distance', 'p': 1, 'leaf_size': 33}. Best is trial 17 with value: 0.8017744257688773.\u001b[0m\n",
      "\u001b[32m[I 2021-05-15 17:42:31,658]\u001b[0m Trial 23 finished with value: 0.7984594069549024 and parameters: {'n_neighbors': 300, 'weights': 'distance', 'p': 1, 'leaf_size': 27}. Best is trial 17 with value: 0.8017744257688773.\u001b[0m\n",
      "\u001b[32m[I 2021-05-15 17:42:32,893]\u001b[0m Trial 24 finished with value: 0.8012010758542237 and parameters: {'n_neighbors': 456, 'weights': 'distance', 'p': 1, 'leaf_size': 13}. Best is trial 17 with value: 0.8017744257688773.\u001b[0m\n",
      "\u001b[32m[I 2021-05-15 17:42:34,169]\u001b[0m Trial 25 finished with value: 0.8016550120453825 and parameters: {'n_neighbors': 464, 'weights': 'distance', 'p': 1, 'leaf_size': 54}. Best is trial 17 with value: 0.8017744257688773.\u001b[0m\n",
      "\u001b[32m[I 2021-05-15 17:42:35,430]\u001b[0m Trial 26 finished with value: 0.8013501759835627 and parameters: {'n_neighbors': 383, 'weights': 'distance', 'p': 1, 'leaf_size': 57}. Best is trial 17 with value: 0.8017744257688773.\u001b[0m\n",
      "\u001b[32m[I 2021-05-15 17:42:36,670]\u001b[0m Trial 27 finished with value: 0.7060169846874513 and parameters: {'n_neighbors': 9, 'weights': 'distance', 'p': 1, 'leaf_size': 54}. Best is trial 17 with value: 0.8017744257688773.\u001b[0m\n",
      "\u001b[32m[I 2021-05-15 17:42:37,913]\u001b[0m Trial 28 finished with value: 0.801794929628052 and parameters: {'n_neighbors': 467, 'weights': 'distance', 'p': 1, 'leaf_size': 65}. Best is trial 28 with value: 0.801794929628052.\u001b[0m\n",
      "\u001b[32m[I 2021-05-15 17:42:38,939]\u001b[0m Trial 29 finished with value: 0.7984679717483765 and parameters: {'n_neighbors': 248, 'weights': 'distance', 'p': 1, 'leaf_size': 64}. Best is trial 28 with value: 0.801794929628052.\u001b[0m\n"
     ]
    },
    {
     "data": {
      "text/plain": [
       "FrozenTrial(number=28, values=[0.801794929628052], datetime_start=datetime.datetime(2021, 5, 15, 17, 42, 36, 673718), datetime_complete=datetime.datetime(2021, 5, 15, 17, 42, 37, 911594), params={'n_neighbors': 467, 'weights': 'distance', 'p': 1, 'leaf_size': 65}, distributions={'n_neighbors': IntUniformDistribution(high=500, low=1, step=1), 'weights': CategoricalDistribution(choices=('uniform', 'distance')), 'p': CategoricalDistribution(choices=(1, 2)), 'leaf_size': IntUniformDistribution(high=100, low=1, step=1)}, user_attrs={}, system_attrs={}, intermediate_values={}, trial_id=28, state=TrialState.COMPLETE, value=None)"
      ]
     },
     "execution_count": 496,
     "metadata": {},
     "output_type": "execute_result"
    }
   ],
   "source": [
    "knn_full_study = optuna.create_study(direction='maximize')\n",
    "knn_full_study.optimize(knn_full_objective, n_trials=30)\n",
    "knn_full_study.best_trial"
   ]
  },
  {
   "cell_type": "code",
   "execution_count": 500,
   "metadata": {
    "ExecuteTime": {
     "end_time": "2021-05-15T14:43:12.324795Z",
     "start_time": "2021-05-15T14:43:12.318671Z"
    }
   },
   "outputs": [],
   "source": [
    "knn_full = KNeighborsClassifier(n_jobs=3, **knn_full_study.best_trial.params)"
   ]
  },
  {
   "cell_type": "markdown",
   "metadata": {},
   "source": [
    "Реализуем обертку над произвольным классификатором, позволяющую обучать его на некотором признаковом наборе поданой выборки. Это будет удобно для блендинга классификаторов, работающих на разных наборах фичей."
   ]
  },
  {
   "cell_type": "code",
   "execution_count": 501,
   "metadata": {
    "ExecuteTime": {
     "end_time": "2021-05-15T14:43:14.427723Z",
     "start_time": "2021-05-15T14:43:14.420308Z"
    }
   },
   "outputs": [],
   "source": [
    "class ClassifierWrapper(BaseEstimator, ClassifierMixin):\n",
    "    def __init__(self, clf, columns):\n",
    "        self.clf = clf\n",
    "        self.columns = columns\n",
    "        self.classes_ = [0, 1]\n",
    "        \n",
    "    def fit(self, X, y):\n",
    "        self.clf.fit(X[self.columns], y)\n",
    "        \n",
    "    def predict(self, X):\n",
    "        return self.clf.predict(X[self.columns])\n",
    "    \n",
    "    def predict_proba(self, X):\n",
    "        return self.clf.predict_proba(X[self.columns])\n",
    "    \n",
    "    def decision_function(self, X):\n",
    "        return self.clf.predict_proba(X[self.columns])[:, 1]\n"
   ]
  },
  {
   "cell_type": "code",
   "execution_count": 502,
   "metadata": {
    "ExecuteTime": {
     "end_time": "2021-05-15T14:43:16.480877Z",
     "start_time": "2021-05-15T14:43:16.162322Z"
    }
   },
   "outputs": [],
   "source": [
    "log_reg_210f = ClassifierWrapper(log_reg_l2, GetNBestLogRegFeatures(log_reg_l2, X_full, y, 210)[:, 1])\n",
    "rf_shap_150f = ClassifierWrapper(RandomForestClassifier(n_jobs=3, **rf_shap_150f_study.best_trial.params,\n",
    "                                                        random_state=228),\n",
    "                                 columns=rf_shap_features)\n",
    "knn_shap_150f = ClassifierWrapper(knn_full, columns=rf_shap_features)"
   ]
  },
  {
   "cell_type": "code",
   "execution_count": 503,
   "metadata": {
    "ExecuteTime": {
     "end_time": "2021-05-15T14:43:20.308428Z",
     "start_time": "2021-05-15T14:43:20.303726Z"
    }
   },
   "outputs": [],
   "source": [
    "estimators_ = [('log_reg', log_reg_210f), ('rf', rf_shap_150f), ('knn', knn_shap_150f)]\n",
    "stacker = StackingClassifier(estimators=estimators_, final_estimator=LogisticRegression())"
   ]
  },
  {
   "cell_type": "code",
   "execution_count": 504,
   "metadata": {
    "ExecuteTime": {
     "end_time": "2021-05-15T14:49:38.949307Z",
     "start_time": "2021-05-15T14:43:24.085466Z"
    }
   },
   "outputs": [
    {
     "data": {
      "text/plain": [
       "0.8289306620665542"
      ]
     },
     "execution_count": 504,
     "metadata": {},
     "output_type": "execute_result"
    }
   ],
   "source": [
    "cross_val_score(stacker, X_full, y, scoring='roc_auc', n_jobs=3).mean()"
   ]
  },
  {
   "cell_type": "markdown",
   "metadata": {},
   "source": [
    "**Задание 9** (2 балл)\n",
    "    Постройте ансамбль из лучших моделей при помощи какой-либо реализации GBDT, например -- lightgbm или catboost"
   ]
  },
  {
   "cell_type": "code",
   "execution_count": 516,
   "metadata": {
    "ExecuteTime": {
     "end_time": "2021-05-15T15:06:49.630017Z",
     "start_time": "2021-05-15T15:06:49.626262Z"
    }
   },
   "outputs": [],
   "source": [
    "gbdt_stacker = StackingClassifier(estimators=estimators_,\n",
    "                                   final_estimator=CatBoostClassifier(iterations=1000, verbose=True))"
   ]
  },
  {
   "cell_type": "code",
   "execution_count": 520,
   "metadata": {
    "ExecuteTime": {
     "end_time": "2021-05-15T15:22:11.881408Z",
     "start_time": "2021-05-15T15:15:47.886287Z"
    }
   },
   "outputs": [
    {
     "data": {
      "text/plain": [
       "0.8218610871933734"
      ]
     },
     "execution_count": 520,
     "metadata": {},
     "output_type": "execute_result"
    }
   ],
   "source": [
    "cross_val_score(gbdt_stacker, X_full, y, scoring='roc_auc', n_jobs=3).mean()"
   ]
  },
  {
   "cell_type": "code",
   "execution_count": 518,
   "metadata": {
    "ExecuteTime": {
     "end_time": "2021-05-15T15:15:44.219423Z",
     "start_time": "2021-05-15T15:13:45.431465Z"
    }
   },
   "outputs": [
    {
     "name": "stdout",
     "output_type": "stream",
     "text": [
      "Learning rate set to 0.018938\n",
      "0:\tlearn: 0.6855980\ttotal: 61.3ms\tremaining: 1m 1s\n",
      "1:\tlearn: 0.6786009\ttotal: 69.5ms\tremaining: 34.7s\n",
      "2:\tlearn: 0.6716037\ttotal: 77.1ms\tremaining: 25.6s\n",
      "3:\tlearn: 0.6654448\ttotal: 82ms\tremaining: 20.4s\n",
      "4:\tlearn: 0.6590741\ttotal: 85.7ms\tremaining: 17.1s\n",
      "5:\tlearn: 0.6529273\ttotal: 88.5ms\tremaining: 14.7s\n",
      "6:\tlearn: 0.6473616\ttotal: 91.4ms\tremaining: 13s\n",
      "7:\tlearn: 0.6420072\ttotal: 94ms\tremaining: 11.7s\n",
      "8:\tlearn: 0.6365167\ttotal: 96.4ms\tremaining: 10.6s\n",
      "9:\tlearn: 0.6312927\ttotal: 98.6ms\tremaining: 9.76s\n",
      "10:\tlearn: 0.6263574\ttotal: 101ms\tremaining: 9.06s\n",
      "11:\tlearn: 0.6215826\ttotal: 103ms\tremaining: 8.48s\n",
      "12:\tlearn: 0.6171232\ttotal: 105ms\tremaining: 7.99s\n",
      "13:\tlearn: 0.6125308\ttotal: 107ms\tremaining: 7.57s\n",
      "14:\tlearn: 0.6083253\ttotal: 110ms\tremaining: 7.2s\n",
      "15:\tlearn: 0.6041624\ttotal: 112ms\tremaining: 6.88s\n",
      "16:\tlearn: 0.6004494\ttotal: 114ms\tremaining: 6.59s\n",
      "17:\tlearn: 0.5967484\ttotal: 116ms\tremaining: 6.34s\n",
      "18:\tlearn: 0.5932448\ttotal: 118ms\tremaining: 6.12s\n",
      "19:\tlearn: 0.5898043\ttotal: 121ms\tremaining: 5.93s\n",
      "20:\tlearn: 0.5867341\ttotal: 123ms\tremaining: 5.75s\n",
      "21:\tlearn: 0.5835372\ttotal: 126ms\tremaining: 5.59s\n",
      "22:\tlearn: 0.5805022\ttotal: 128ms\tremaining: 5.43s\n",
      "23:\tlearn: 0.5775695\ttotal: 130ms\tremaining: 5.29s\n",
      "24:\tlearn: 0.5745812\ttotal: 132ms\tremaining: 5.16s\n",
      "25:\tlearn: 0.5717618\ttotal: 135ms\tremaining: 5.04s\n",
      "26:\tlearn: 0.5691385\ttotal: 137ms\tremaining: 4.93s\n",
      "27:\tlearn: 0.5668762\ttotal: 139ms\tremaining: 4.82s\n",
      "28:\tlearn: 0.5644120\ttotal: 142ms\tremaining: 4.74s\n",
      "29:\tlearn: 0.5621428\ttotal: 144ms\tremaining: 4.65s\n",
      "30:\tlearn: 0.5599197\ttotal: 146ms\tremaining: 4.56s\n",
      "31:\tlearn: 0.5578142\ttotal: 148ms\tremaining: 4.48s\n",
      "32:\tlearn: 0.5556603\ttotal: 150ms\tremaining: 4.41s\n",
      "33:\tlearn: 0.5536733\ttotal: 152ms\tremaining: 4.33s\n",
      "34:\tlearn: 0.5516891\ttotal: 154ms\tremaining: 4.26s\n",
      "35:\tlearn: 0.5499322\ttotal: 156ms\tremaining: 4.19s\n",
      "36:\tlearn: 0.5481727\ttotal: 159ms\tremaining: 4.13s\n",
      "37:\tlearn: 0.5464682\ttotal: 161ms\tremaining: 4.07s\n",
      "38:\tlearn: 0.5448724\ttotal: 163ms\tremaining: 4.01s\n",
      "39:\tlearn: 0.5432160\ttotal: 165ms\tremaining: 3.96s\n",
      "40:\tlearn: 0.5418007\ttotal: 167ms\tremaining: 3.91s\n",
      "41:\tlearn: 0.5404635\ttotal: 169ms\tremaining: 3.86s\n",
      "42:\tlearn: 0.5390739\ttotal: 171ms\tremaining: 3.82s\n",
      "43:\tlearn: 0.5378982\ttotal: 174ms\tremaining: 3.77s\n",
      "44:\tlearn: 0.5365072\ttotal: 176ms\tremaining: 3.73s\n",
      "45:\tlearn: 0.5353139\ttotal: 178ms\tremaining: 3.7s\n",
      "46:\tlearn: 0.5341321\ttotal: 180ms\tremaining: 3.66s\n",
      "47:\tlearn: 0.5330150\ttotal: 183ms\tremaining: 3.62s\n",
      "48:\tlearn: 0.5318585\ttotal: 185ms\tremaining: 3.59s\n",
      "49:\tlearn: 0.5306504\ttotal: 187ms\tremaining: 3.55s\n",
      "50:\tlearn: 0.5295510\ttotal: 189ms\tremaining: 3.52s\n",
      "51:\tlearn: 0.5284818\ttotal: 191ms\tremaining: 3.49s\n",
      "52:\tlearn: 0.5275747\ttotal: 194ms\tremaining: 3.46s\n",
      "53:\tlearn: 0.5266179\ttotal: 197ms\tremaining: 3.44s\n",
      "54:\tlearn: 0.5256560\ttotal: 199ms\tremaining: 3.43s\n",
      "55:\tlearn: 0.5248184\ttotal: 202ms\tremaining: 3.41s\n",
      "56:\tlearn: 0.5239549\ttotal: 205ms\tremaining: 3.4s\n",
      "57:\tlearn: 0.5230463\ttotal: 208ms\tremaining: 3.38s\n",
      "58:\tlearn: 0.5223082\ttotal: 211ms\tremaining: 3.37s\n",
      "59:\tlearn: 0.5216310\ttotal: 213ms\tremaining: 3.34s\n",
      "60:\tlearn: 0.5208430\ttotal: 216ms\tremaining: 3.33s\n",
      "61:\tlearn: 0.5201446\ttotal: 219ms\tremaining: 3.31s\n",
      "62:\tlearn: 0.5193896\ttotal: 221ms\tremaining: 3.29s\n",
      "63:\tlearn: 0.5188284\ttotal: 224ms\tremaining: 3.28s\n",
      "64:\tlearn: 0.5181913\ttotal: 227ms\tremaining: 3.26s\n",
      "65:\tlearn: 0.5176116\ttotal: 229ms\tremaining: 3.24s\n",
      "66:\tlearn: 0.5170073\ttotal: 231ms\tremaining: 3.22s\n",
      "67:\tlearn: 0.5163259\ttotal: 234ms\tremaining: 3.2s\n",
      "68:\tlearn: 0.5157487\ttotal: 237ms\tremaining: 3.19s\n",
      "69:\tlearn: 0.5152169\ttotal: 240ms\tremaining: 3.18s\n",
      "70:\tlearn: 0.5146565\ttotal: 242ms\tremaining: 3.17s\n",
      "71:\tlearn: 0.5141434\ttotal: 245ms\tremaining: 3.15s\n",
      "72:\tlearn: 0.5136590\ttotal: 247ms\tremaining: 3.14s\n",
      "73:\tlearn: 0.5131806\ttotal: 249ms\tremaining: 3.12s\n",
      "74:\tlearn: 0.5126712\ttotal: 252ms\tremaining: 3.1s\n",
      "75:\tlearn: 0.5123113\ttotal: 254ms\tremaining: 3.09s\n",
      "76:\tlearn: 0.5118069\ttotal: 256ms\tremaining: 3.07s\n",
      "77:\tlearn: 0.5114110\ttotal: 259ms\tremaining: 3.06s\n",
      "78:\tlearn: 0.5110211\ttotal: 261ms\tremaining: 3.04s\n",
      "79:\tlearn: 0.5106424\ttotal: 263ms\tremaining: 3.03s\n",
      "80:\tlearn: 0.5101968\ttotal: 266ms\tremaining: 3.02s\n",
      "81:\tlearn: 0.5098723\ttotal: 268ms\tremaining: 3s\n",
      "82:\tlearn: 0.5095162\ttotal: 271ms\tremaining: 2.99s\n",
      "83:\tlearn: 0.5091649\ttotal: 273ms\tremaining: 2.98s\n",
      "84:\tlearn: 0.5088838\ttotal: 275ms\tremaining: 2.96s\n",
      "85:\tlearn: 0.5085812\ttotal: 278ms\tremaining: 2.95s\n",
      "86:\tlearn: 0.5082447\ttotal: 280ms\tremaining: 2.94s\n",
      "87:\tlearn: 0.5079124\ttotal: 283ms\tremaining: 2.93s\n",
      "88:\tlearn: 0.5075722\ttotal: 285ms\tremaining: 2.92s\n",
      "89:\tlearn: 0.5072202\ttotal: 287ms\tremaining: 2.9s\n",
      "90:\tlearn: 0.5068921\ttotal: 289ms\tremaining: 2.89s\n",
      "91:\tlearn: 0.5066363\ttotal: 292ms\tremaining: 2.88s\n",
      "92:\tlearn: 0.5063302\ttotal: 294ms\tremaining: 2.87s\n",
      "93:\tlearn: 0.5060250\ttotal: 296ms\tremaining: 2.85s\n",
      "94:\tlearn: 0.5057246\ttotal: 298ms\tremaining: 2.84s\n",
      "95:\tlearn: 0.5055199\ttotal: 301ms\tremaining: 2.83s\n",
      "96:\tlearn: 0.5052833\ttotal: 303ms\tremaining: 2.82s\n",
      "97:\tlearn: 0.5050570\ttotal: 305ms\tremaining: 2.81s\n",
      "98:\tlearn: 0.5048197\ttotal: 307ms\tremaining: 2.79s\n",
      "99:\tlearn: 0.5045746\ttotal: 309ms\tremaining: 2.78s\n",
      "100:\tlearn: 0.5043475\ttotal: 312ms\tremaining: 2.77s\n",
      "101:\tlearn: 0.5041348\ttotal: 314ms\tremaining: 2.77s\n",
      "102:\tlearn: 0.5039163\ttotal: 316ms\tremaining: 2.75s\n",
      "103:\tlearn: 0.5036543\ttotal: 319ms\tremaining: 2.74s\n",
      "104:\tlearn: 0.5034656\ttotal: 321ms\tremaining: 2.73s\n",
      "105:\tlearn: 0.5032948\ttotal: 323ms\tremaining: 2.72s\n",
      "106:\tlearn: 0.5030836\ttotal: 325ms\tremaining: 2.71s\n",
      "107:\tlearn: 0.5029161\ttotal: 327ms\tremaining: 2.7s\n",
      "108:\tlearn: 0.5027466\ttotal: 329ms\tremaining: 2.69s\n",
      "109:\tlearn: 0.5026219\ttotal: 332ms\tremaining: 2.68s\n",
      "110:\tlearn: 0.5024053\ttotal: 334ms\tremaining: 2.67s\n",
      "111:\tlearn: 0.5021576\ttotal: 336ms\tremaining: 2.66s\n",
      "112:\tlearn: 0.5019658\ttotal: 338ms\tremaining: 2.65s\n",
      "113:\tlearn: 0.5018137\ttotal: 341ms\tremaining: 2.65s\n",
      "114:\tlearn: 0.5016045\ttotal: 343ms\tremaining: 2.64s\n",
      "115:\tlearn: 0.5014281\ttotal: 345ms\tremaining: 2.63s\n",
      "116:\tlearn: 0.5012946\ttotal: 347ms\tremaining: 2.62s\n",
      "117:\tlearn: 0.5010284\ttotal: 349ms\tremaining: 2.61s\n",
      "118:\tlearn: 0.5008539\ttotal: 351ms\tremaining: 2.6s\n",
      "119:\tlearn: 0.5007130\ttotal: 354ms\tremaining: 2.59s\n",
      "120:\tlearn: 0.5005134\ttotal: 356ms\tremaining: 2.58s\n",
      "121:\tlearn: 0.5003366\ttotal: 358ms\tremaining: 2.58s\n",
      "122:\tlearn: 0.5002022\ttotal: 360ms\tremaining: 2.57s\n",
      "123:\tlearn: 0.4999847\ttotal: 363ms\tremaining: 2.56s\n",
      "124:\tlearn: 0.4998684\ttotal: 365ms\tremaining: 2.56s\n",
      "125:\tlearn: 0.4997049\ttotal: 367ms\tremaining: 2.55s\n",
      "126:\tlearn: 0.4994826\ttotal: 370ms\tremaining: 2.54s\n",
      "127:\tlearn: 0.4993794\ttotal: 372ms\tremaining: 2.53s\n",
      "128:\tlearn: 0.4992687\ttotal: 374ms\tremaining: 2.53s\n",
      "129:\tlearn: 0.4991744\ttotal: 377ms\tremaining: 2.52s\n",
      "130:\tlearn: 0.4988926\ttotal: 379ms\tremaining: 2.51s\n",
      "131:\tlearn: 0.4987352\ttotal: 381ms\tremaining: 2.51s\n",
      "132:\tlearn: 0.4986010\ttotal: 383ms\tremaining: 2.5s\n",
      "133:\tlearn: 0.4984523\ttotal: 386ms\tremaining: 2.49s\n",
      "134:\tlearn: 0.4982925\ttotal: 389ms\tremaining: 2.49s\n",
      "135:\tlearn: 0.4981495\ttotal: 392ms\tremaining: 2.49s\n",
      "136:\tlearn: 0.4979857\ttotal: 394ms\tremaining: 2.48s\n",
      "137:\tlearn: 0.4978480\ttotal: 397ms\tremaining: 2.48s\n",
      "138:\tlearn: 0.4977171\ttotal: 400ms\tremaining: 2.48s\n",
      "139:\tlearn: 0.4976042\ttotal: 403ms\tremaining: 2.47s\n",
      "140:\tlearn: 0.4974587\ttotal: 405ms\tremaining: 2.47s\n",
      "141:\tlearn: 0.4973448\ttotal: 408ms\tremaining: 2.46s\n",
      "142:\tlearn: 0.4972391\ttotal: 411ms\tremaining: 2.46s\n",
      "143:\tlearn: 0.4971465\ttotal: 414ms\tremaining: 2.46s\n",
      "144:\tlearn: 0.4970850\ttotal: 416ms\tremaining: 2.46s\n",
      "145:\tlearn: 0.4969993\ttotal: 419ms\tremaining: 2.45s\n",
      "146:\tlearn: 0.4968692\ttotal: 421ms\tremaining: 2.44s\n",
      "147:\tlearn: 0.4967782\ttotal: 424ms\tremaining: 2.44s\n",
      "148:\tlearn: 0.4966732\ttotal: 427ms\tremaining: 2.44s\n",
      "149:\tlearn: 0.4965137\ttotal: 429ms\tremaining: 2.43s\n",
      "150:\tlearn: 0.4964076\ttotal: 432ms\tremaining: 2.43s\n",
      "151:\tlearn: 0.4963156\ttotal: 435ms\tremaining: 2.42s\n",
      "152:\tlearn: 0.4962270\ttotal: 437ms\tremaining: 2.42s\n",
      "153:\tlearn: 0.4961093\ttotal: 440ms\tremaining: 2.42s\n",
      "154:\tlearn: 0.4959701\ttotal: 443ms\tremaining: 2.41s\n",
      "155:\tlearn: 0.4958624\ttotal: 445ms\tremaining: 2.41s\n",
      "156:\tlearn: 0.4956764\ttotal: 447ms\tremaining: 2.4s\n",
      "157:\tlearn: 0.4955148\ttotal: 450ms\tremaining: 2.4s\n",
      "158:\tlearn: 0.4953215\ttotal: 452ms\tremaining: 2.39s\n",
      "159:\tlearn: 0.4951955\ttotal: 454ms\tremaining: 2.38s\n",
      "160:\tlearn: 0.4950986\ttotal: 457ms\tremaining: 2.38s\n",
      "161:\tlearn: 0.4949555\ttotal: 459ms\tremaining: 2.38s\n",
      "162:\tlearn: 0.4947976\ttotal: 462ms\tremaining: 2.37s\n",
      "163:\tlearn: 0.4946942\ttotal: 464ms\tremaining: 2.36s\n",
      "164:\tlearn: 0.4945649\ttotal: 466ms\tremaining: 2.36s\n",
      "165:\tlearn: 0.4944355\ttotal: 469ms\tremaining: 2.35s\n",
      "166:\tlearn: 0.4943101\ttotal: 471ms\tremaining: 2.35s\n",
      "167:\tlearn: 0.4941608\ttotal: 473ms\tremaining: 2.34s\n",
      "168:\tlearn: 0.4940890\ttotal: 476ms\tremaining: 2.34s\n",
      "169:\tlearn: 0.4939583\ttotal: 478ms\tremaining: 2.33s\n",
      "170:\tlearn: 0.4938460\ttotal: 480ms\tremaining: 2.33s\n",
      "171:\tlearn: 0.4937176\ttotal: 483ms\tremaining: 2.32s\n",
      "172:\tlearn: 0.4936486\ttotal: 485ms\tremaining: 2.32s\n",
      "173:\tlearn: 0.4935767\ttotal: 487ms\tremaining: 2.31s\n",
      "174:\tlearn: 0.4934896\ttotal: 490ms\tremaining: 2.31s\n",
      "175:\tlearn: 0.4933890\ttotal: 492ms\tremaining: 2.3s\n",
      "176:\tlearn: 0.4933311\ttotal: 494ms\tremaining: 2.3s\n",
      "177:\tlearn: 0.4932276\ttotal: 498ms\tremaining: 2.3s\n",
      "178:\tlearn: 0.4931469\ttotal: 500ms\tremaining: 2.29s\n",
      "179:\tlearn: 0.4930379\ttotal: 502ms\tremaining: 2.29s\n",
      "180:\tlearn: 0.4929654\ttotal: 505ms\tremaining: 2.28s\n",
      "181:\tlearn: 0.4929048\ttotal: 507ms\tremaining: 2.28s\n",
      "182:\tlearn: 0.4928263\ttotal: 509ms\tremaining: 2.27s\n",
      "183:\tlearn: 0.4926844\ttotal: 511ms\tremaining: 2.27s\n",
      "184:\tlearn: 0.4925421\ttotal: 513ms\tremaining: 2.26s\n",
      "185:\tlearn: 0.4923600\ttotal: 515ms\tremaining: 2.25s\n",
      "186:\tlearn: 0.4923092\ttotal: 518ms\tremaining: 2.25s\n",
      "187:\tlearn: 0.4922003\ttotal: 520ms\tremaining: 2.24s\n",
      "188:\tlearn: 0.4921432\ttotal: 522ms\tremaining: 2.24s\n",
      "189:\tlearn: 0.4920422\ttotal: 524ms\tremaining: 2.23s\n",
      "190:\tlearn: 0.4918977\ttotal: 526ms\tremaining: 2.23s\n",
      "191:\tlearn: 0.4918649\ttotal: 528ms\tremaining: 2.22s\n",
      "192:\tlearn: 0.4917424\ttotal: 531ms\tremaining: 2.22s\n",
      "193:\tlearn: 0.4916589\ttotal: 533ms\tremaining: 2.21s\n",
      "194:\tlearn: 0.4915303\ttotal: 535ms\tremaining: 2.21s\n",
      "195:\tlearn: 0.4914303\ttotal: 537ms\tremaining: 2.2s\n",
      "196:\tlearn: 0.4913617\ttotal: 540ms\tremaining: 2.2s\n",
      "197:\tlearn: 0.4912940\ttotal: 542ms\tremaining: 2.19s\n",
      "198:\tlearn: 0.4912249\ttotal: 544ms\tremaining: 2.19s\n",
      "199:\tlearn: 0.4911298\ttotal: 547ms\tremaining: 2.19s\n",
      "200:\tlearn: 0.4909904\ttotal: 549ms\tremaining: 2.18s\n",
      "201:\tlearn: 0.4909290\ttotal: 552ms\tremaining: 2.18s\n",
      "202:\tlearn: 0.4908177\ttotal: 554ms\tremaining: 2.17s\n",
      "203:\tlearn: 0.4907273\ttotal: 556ms\tremaining: 2.17s\n",
      "204:\tlearn: 0.4906248\ttotal: 558ms\tremaining: 2.17s\n",
      "205:\tlearn: 0.4905648\ttotal: 561ms\tremaining: 2.16s\n",
      "206:\tlearn: 0.4904629\ttotal: 563ms\tremaining: 2.16s\n",
      "207:\tlearn: 0.4903559\ttotal: 565ms\tremaining: 2.15s\n",
      "208:\tlearn: 0.4902744\ttotal: 568ms\tremaining: 2.15s\n",
      "209:\tlearn: 0.4901576\ttotal: 570ms\tremaining: 2.14s\n",
      "210:\tlearn: 0.4900423\ttotal: 572ms\tremaining: 2.14s\n",
      "211:\tlearn: 0.4899379\ttotal: 575ms\tremaining: 2.13s\n",
      "212:\tlearn: 0.4898302\ttotal: 577ms\tremaining: 2.13s\n",
      "213:\tlearn: 0.4897450\ttotal: 579ms\tremaining: 2.13s\n",
      "214:\tlearn: 0.4897008\ttotal: 581ms\tremaining: 2.12s\n"
     ]
    },
    {
     "name": "stdout",
     "output_type": "stream",
     "text": [
      "215:\tlearn: 0.4896190\ttotal: 584ms\tremaining: 2.12s\n",
      "216:\tlearn: 0.4895752\ttotal: 587ms\tremaining: 2.12s\n",
      "217:\tlearn: 0.4894830\ttotal: 589ms\tremaining: 2.11s\n",
      "218:\tlearn: 0.4893263\ttotal: 591ms\tremaining: 2.11s\n",
      "219:\tlearn: 0.4891663\ttotal: 594ms\tremaining: 2.1s\n",
      "220:\tlearn: 0.4890844\ttotal: 596ms\tremaining: 2.1s\n",
      "221:\tlearn: 0.4890119\ttotal: 599ms\tremaining: 2.1s\n",
      "222:\tlearn: 0.4889868\ttotal: 602ms\tremaining: 2.1s\n",
      "223:\tlearn: 0.4888909\ttotal: 604ms\tremaining: 2.09s\n",
      "224:\tlearn: 0.4888779\ttotal: 606ms\tremaining: 2.09s\n",
      "225:\tlearn: 0.4887615\ttotal: 609ms\tremaining: 2.08s\n",
      "226:\tlearn: 0.4886812\ttotal: 611ms\tremaining: 2.08s\n",
      "227:\tlearn: 0.4885755\ttotal: 613ms\tremaining: 2.08s\n",
      "228:\tlearn: 0.4885045\ttotal: 616ms\tremaining: 2.07s\n",
      "229:\tlearn: 0.4884658\ttotal: 618ms\tremaining: 2.07s\n",
      "230:\tlearn: 0.4884073\ttotal: 621ms\tremaining: 2.07s\n",
      "231:\tlearn: 0.4883570\ttotal: 624ms\tremaining: 2.07s\n",
      "232:\tlearn: 0.4881985\ttotal: 627ms\tremaining: 2.06s\n",
      "233:\tlearn: 0.4880994\ttotal: 629ms\tremaining: 2.06s\n",
      "234:\tlearn: 0.4880251\ttotal: 631ms\tremaining: 2.06s\n",
      "235:\tlearn: 0.4879176\ttotal: 634ms\tremaining: 2.05s\n",
      "236:\tlearn: 0.4878723\ttotal: 636ms\tremaining: 2.05s\n",
      "237:\tlearn: 0.4877432\ttotal: 639ms\tremaining: 2.04s\n",
      "238:\tlearn: 0.4876829\ttotal: 641ms\tremaining: 2.04s\n",
      "239:\tlearn: 0.4875705\ttotal: 644ms\tremaining: 2.04s\n",
      "240:\tlearn: 0.4875012\ttotal: 646ms\tremaining: 2.03s\n",
      "241:\tlearn: 0.4873942\ttotal: 648ms\tremaining: 2.03s\n",
      "242:\tlearn: 0.4873318\ttotal: 651ms\tremaining: 2.03s\n",
      "243:\tlearn: 0.4872485\ttotal: 653ms\tremaining: 2.02s\n",
      "244:\tlearn: 0.4871277\ttotal: 656ms\tremaining: 2.02s\n",
      "245:\tlearn: 0.4870407\ttotal: 658ms\tremaining: 2.02s\n",
      "246:\tlearn: 0.4869727\ttotal: 660ms\tremaining: 2.01s\n",
      "247:\tlearn: 0.4869071\ttotal: 663ms\tremaining: 2.01s\n",
      "248:\tlearn: 0.4868209\ttotal: 665ms\tremaining: 2.01s\n",
      "249:\tlearn: 0.4867624\ttotal: 668ms\tremaining: 2s\n",
      "250:\tlearn: 0.4866988\ttotal: 670ms\tremaining: 2s\n",
      "251:\tlearn: 0.4865373\ttotal: 672ms\tremaining: 2s\n",
      "252:\tlearn: 0.4864507\ttotal: 675ms\tremaining: 1.99s\n",
      "253:\tlearn: 0.4863560\ttotal: 677ms\tremaining: 1.99s\n",
      "254:\tlearn: 0.4862692\ttotal: 680ms\tremaining: 1.99s\n",
      "255:\tlearn: 0.4862020\ttotal: 682ms\tremaining: 1.98s\n",
      "256:\tlearn: 0.4861323\ttotal: 684ms\tremaining: 1.98s\n",
      "257:\tlearn: 0.4860657\ttotal: 687ms\tremaining: 1.97s\n",
      "258:\tlearn: 0.4859577\ttotal: 689ms\tremaining: 1.97s\n",
      "259:\tlearn: 0.4858113\ttotal: 691ms\tremaining: 1.97s\n",
      "260:\tlearn: 0.4857486\ttotal: 694ms\tremaining: 1.96s\n",
      "261:\tlearn: 0.4856828\ttotal: 696ms\tremaining: 1.96s\n",
      "262:\tlearn: 0.4855671\ttotal: 698ms\tremaining: 1.96s\n",
      "263:\tlearn: 0.4854665\ttotal: 700ms\tremaining: 1.95s\n",
      "264:\tlearn: 0.4854134\ttotal: 703ms\tremaining: 1.95s\n",
      "265:\tlearn: 0.4853569\ttotal: 705ms\tremaining: 1.95s\n",
      "266:\tlearn: 0.4853176\ttotal: 707ms\tremaining: 1.94s\n",
      "267:\tlearn: 0.4852378\ttotal: 709ms\tremaining: 1.94s\n",
      "268:\tlearn: 0.4851918\ttotal: 712ms\tremaining: 1.93s\n",
      "269:\tlearn: 0.4850857\ttotal: 714ms\tremaining: 1.93s\n",
      "270:\tlearn: 0.4850322\ttotal: 716ms\tremaining: 1.93s\n",
      "271:\tlearn: 0.4849382\ttotal: 719ms\tremaining: 1.92s\n",
      "272:\tlearn: 0.4848356\ttotal: 721ms\tremaining: 1.92s\n",
      "273:\tlearn: 0.4847972\ttotal: 723ms\tremaining: 1.92s\n",
      "274:\tlearn: 0.4847128\ttotal: 726ms\tremaining: 1.91s\n",
      "275:\tlearn: 0.4846679\ttotal: 728ms\tremaining: 1.91s\n",
      "276:\tlearn: 0.4846138\ttotal: 730ms\tremaining: 1.91s\n",
      "277:\tlearn: 0.4845890\ttotal: 732ms\tremaining: 1.9s\n",
      "278:\tlearn: 0.4845324\ttotal: 735ms\tremaining: 1.9s\n",
      "279:\tlearn: 0.4844692\ttotal: 737ms\tremaining: 1.89s\n",
      "280:\tlearn: 0.4843896\ttotal: 739ms\tremaining: 1.89s\n",
      "281:\tlearn: 0.4842961\ttotal: 741ms\tremaining: 1.89s\n",
      "282:\tlearn: 0.4842603\ttotal: 744ms\tremaining: 1.88s\n",
      "283:\tlearn: 0.4841663\ttotal: 746ms\tremaining: 1.88s\n",
      "284:\tlearn: 0.4840524\ttotal: 748ms\tremaining: 1.88s\n",
      "285:\tlearn: 0.4839718\ttotal: 751ms\tremaining: 1.87s\n",
      "286:\tlearn: 0.4839326\ttotal: 753ms\tremaining: 1.87s\n",
      "287:\tlearn: 0.4837859\ttotal: 755ms\tremaining: 1.87s\n",
      "288:\tlearn: 0.4837033\ttotal: 757ms\tremaining: 1.86s\n",
      "289:\tlearn: 0.4836376\ttotal: 760ms\tremaining: 1.86s\n",
      "290:\tlearn: 0.4836000\ttotal: 762ms\tremaining: 1.86s\n",
      "291:\tlearn: 0.4835355\ttotal: 764ms\tremaining: 1.85s\n",
      "292:\tlearn: 0.4834838\ttotal: 766ms\tremaining: 1.85s\n",
      "293:\tlearn: 0.4833927\ttotal: 769ms\tremaining: 1.85s\n",
      "294:\tlearn: 0.4833412\ttotal: 771ms\tremaining: 1.84s\n",
      "295:\tlearn: 0.4832130\ttotal: 773ms\tremaining: 1.84s\n",
      "296:\tlearn: 0.4831541\ttotal: 776ms\tremaining: 1.83s\n",
      "297:\tlearn: 0.4831098\ttotal: 778ms\tremaining: 1.83s\n",
      "298:\tlearn: 0.4830269\ttotal: 781ms\tremaining: 1.83s\n",
      "299:\tlearn: 0.4829745\ttotal: 783ms\tremaining: 1.83s\n",
      "300:\tlearn: 0.4829323\ttotal: 785ms\tremaining: 1.82s\n",
      "301:\tlearn: 0.4828723\ttotal: 788ms\tremaining: 1.82s\n",
      "302:\tlearn: 0.4827933\ttotal: 790ms\tremaining: 1.82s\n",
      "303:\tlearn: 0.4827578\ttotal: 792ms\tremaining: 1.81s\n",
      "304:\tlearn: 0.4826952\ttotal: 795ms\tremaining: 1.81s\n",
      "305:\tlearn: 0.4826351\ttotal: 797ms\tremaining: 1.81s\n",
      "306:\tlearn: 0.4825628\ttotal: 799ms\tremaining: 1.8s\n",
      "307:\tlearn: 0.4825054\ttotal: 802ms\tremaining: 1.8s\n",
      "308:\tlearn: 0.4824292\ttotal: 804ms\tremaining: 1.8s\n",
      "309:\tlearn: 0.4823727\ttotal: 807ms\tremaining: 1.8s\n",
      "310:\tlearn: 0.4822628\ttotal: 810ms\tremaining: 1.79s\n",
      "311:\tlearn: 0.4821874\ttotal: 812ms\tremaining: 1.79s\n",
      "312:\tlearn: 0.4821086\ttotal: 815ms\tremaining: 1.79s\n",
      "313:\tlearn: 0.4820124\ttotal: 817ms\tremaining: 1.78s\n",
      "314:\tlearn: 0.4819531\ttotal: 819ms\tremaining: 1.78s\n",
      "315:\tlearn: 0.4818715\ttotal: 822ms\tremaining: 1.78s\n",
      "316:\tlearn: 0.4817854\ttotal: 824ms\tremaining: 1.77s\n",
      "317:\tlearn: 0.4817294\ttotal: 827ms\tremaining: 1.77s\n",
      "318:\tlearn: 0.4816595\ttotal: 830ms\tremaining: 1.77s\n",
      "319:\tlearn: 0.4815857\ttotal: 832ms\tremaining: 1.77s\n",
      "320:\tlearn: 0.4814979\ttotal: 835ms\tremaining: 1.76s\n",
      "321:\tlearn: 0.4814437\ttotal: 837ms\tremaining: 1.76s\n",
      "322:\tlearn: 0.4813771\ttotal: 840ms\tremaining: 1.76s\n",
      "323:\tlearn: 0.4812510\ttotal: 842ms\tremaining: 1.76s\n",
      "324:\tlearn: 0.4811795\ttotal: 845ms\tremaining: 1.75s\n",
      "325:\tlearn: 0.4811702\ttotal: 847ms\tremaining: 1.75s\n",
      "326:\tlearn: 0.4810763\ttotal: 849ms\tremaining: 1.75s\n",
      "327:\tlearn: 0.4809721\ttotal: 852ms\tremaining: 1.74s\n",
      "328:\tlearn: 0.4808997\ttotal: 854ms\tremaining: 1.74s\n",
      "329:\tlearn: 0.4808336\ttotal: 856ms\tremaining: 1.74s\n",
      "330:\tlearn: 0.4807661\ttotal: 859ms\tremaining: 1.74s\n",
      "331:\tlearn: 0.4806697\ttotal: 861ms\tremaining: 1.73s\n",
      "332:\tlearn: 0.4806013\ttotal: 863ms\tremaining: 1.73s\n",
      "333:\tlearn: 0.4805403\ttotal: 866ms\tremaining: 1.73s\n",
      "334:\tlearn: 0.4804762\ttotal: 868ms\tremaining: 1.72s\n",
      "335:\tlearn: 0.4803682\ttotal: 870ms\tremaining: 1.72s\n",
      "336:\tlearn: 0.4803386\ttotal: 873ms\tremaining: 1.72s\n",
      "337:\tlearn: 0.4802632\ttotal: 875ms\tremaining: 1.71s\n",
      "338:\tlearn: 0.4802189\ttotal: 877ms\tremaining: 1.71s\n",
      "339:\tlearn: 0.4801772\ttotal: 879ms\tremaining: 1.71s\n",
      "340:\tlearn: 0.4801334\ttotal: 882ms\tremaining: 1.7s\n",
      "341:\tlearn: 0.4801029\ttotal: 884ms\tremaining: 1.7s\n",
      "342:\tlearn: 0.4800460\ttotal: 887ms\tremaining: 1.7s\n",
      "343:\tlearn: 0.4799663\ttotal: 889ms\tremaining: 1.7s\n",
      "344:\tlearn: 0.4798883\ttotal: 891ms\tremaining: 1.69s\n",
      "345:\tlearn: 0.4798187\ttotal: 894ms\tremaining: 1.69s\n",
      "346:\tlearn: 0.4797687\ttotal: 896ms\tremaining: 1.69s\n",
      "347:\tlearn: 0.4796421\ttotal: 898ms\tremaining: 1.68s\n",
      "348:\tlearn: 0.4795790\ttotal: 900ms\tremaining: 1.68s\n",
      "349:\tlearn: 0.4795393\ttotal: 903ms\tremaining: 1.68s\n",
      "350:\tlearn: 0.4794683\ttotal: 905ms\tremaining: 1.67s\n",
      "351:\tlearn: 0.4794410\ttotal: 907ms\tremaining: 1.67s\n",
      "352:\tlearn: 0.4792903\ttotal: 909ms\tremaining: 1.67s\n",
      "353:\tlearn: 0.4791679\ttotal: 912ms\tremaining: 1.66s\n",
      "354:\tlearn: 0.4791195\ttotal: 914ms\tremaining: 1.66s\n",
      "355:\tlearn: 0.4790303\ttotal: 916ms\tremaining: 1.66s\n",
      "356:\tlearn: 0.4789716\ttotal: 918ms\tremaining: 1.65s\n",
      "357:\tlearn: 0.4788234\ttotal: 921ms\tremaining: 1.65s\n",
      "358:\tlearn: 0.4787761\ttotal: 923ms\tremaining: 1.65s\n",
      "359:\tlearn: 0.4787568\ttotal: 925ms\tremaining: 1.64s\n",
      "360:\tlearn: 0.4786950\ttotal: 927ms\tremaining: 1.64s\n",
      "361:\tlearn: 0.4786132\ttotal: 930ms\tremaining: 1.64s\n",
      "362:\tlearn: 0.4785574\ttotal: 932ms\tremaining: 1.64s\n",
      "363:\tlearn: 0.4784835\ttotal: 934ms\tremaining: 1.63s\n",
      "364:\tlearn: 0.4783422\ttotal: 936ms\tremaining: 1.63s\n",
      "365:\tlearn: 0.4782154\ttotal: 939ms\tremaining: 1.63s\n",
      "366:\tlearn: 0.4781431\ttotal: 941ms\tremaining: 1.62s\n",
      "367:\tlearn: 0.4780208\ttotal: 943ms\tremaining: 1.62s\n",
      "368:\tlearn: 0.4779493\ttotal: 945ms\tremaining: 1.62s\n",
      "369:\tlearn: 0.4778579\ttotal: 948ms\tremaining: 1.61s\n",
      "370:\tlearn: 0.4777991\ttotal: 950ms\tremaining: 1.61s\n",
      "371:\tlearn: 0.4777366\ttotal: 952ms\tremaining: 1.61s\n",
      "372:\tlearn: 0.4776945\ttotal: 954ms\tremaining: 1.6s\n",
      "373:\tlearn: 0.4775985\ttotal: 957ms\tremaining: 1.6s\n",
      "374:\tlearn: 0.4775185\ttotal: 959ms\tremaining: 1.6s\n",
      "375:\tlearn: 0.4774871\ttotal: 961ms\tremaining: 1.59s\n",
      "376:\tlearn: 0.4774416\ttotal: 963ms\tremaining: 1.59s\n",
      "377:\tlearn: 0.4774241\ttotal: 965ms\tremaining: 1.59s\n",
      "378:\tlearn: 0.4774074\ttotal: 968ms\tremaining: 1.58s\n",
      "379:\tlearn: 0.4773073\ttotal: 970ms\tremaining: 1.58s\n"
     ]
    },
    {
     "name": "stdout",
     "output_type": "stream",
     "text": [
      "380:\tlearn: 0.4772340\ttotal: 972ms\tremaining: 1.58s\n",
      "381:\tlearn: 0.4771901\ttotal: 974ms\tremaining: 1.58s\n",
      "382:\tlearn: 0.4771634\ttotal: 977ms\tremaining: 1.57s\n",
      "383:\tlearn: 0.4770800\ttotal: 979ms\tremaining: 1.57s\n",
      "384:\tlearn: 0.4770495\ttotal: 981ms\tremaining: 1.57s\n",
      "385:\tlearn: 0.4769638\ttotal: 984ms\tremaining: 1.56s\n",
      "386:\tlearn: 0.4768913\ttotal: 986ms\tremaining: 1.56s\n",
      "387:\tlearn: 0.4768080\ttotal: 988ms\tremaining: 1.56s\n",
      "388:\tlearn: 0.4767343\ttotal: 991ms\tremaining: 1.56s\n",
      "389:\tlearn: 0.4766234\ttotal: 994ms\tremaining: 1.55s\n",
      "390:\tlearn: 0.4765573\ttotal: 996ms\tremaining: 1.55s\n",
      "391:\tlearn: 0.4764962\ttotal: 1000ms\tremaining: 1.55s\n",
      "392:\tlearn: 0.4764363\ttotal: 1s\tremaining: 1.55s\n",
      "393:\tlearn: 0.4763536\ttotal: 1s\tremaining: 1.54s\n",
      "394:\tlearn: 0.4762941\ttotal: 1.01s\tremaining: 1.54s\n",
      "395:\tlearn: 0.4761976\ttotal: 1.01s\tremaining: 1.54s\n",
      "396:\tlearn: 0.4761701\ttotal: 1.01s\tremaining: 1.54s\n",
      "397:\tlearn: 0.4760886\ttotal: 1.01s\tremaining: 1.53s\n",
      "398:\tlearn: 0.4760069\ttotal: 1.02s\tremaining: 1.53s\n",
      "399:\tlearn: 0.4759048\ttotal: 1.02s\tremaining: 1.53s\n",
      "400:\tlearn: 0.4758433\ttotal: 1.02s\tremaining: 1.53s\n",
      "401:\tlearn: 0.4757533\ttotal: 1.02s\tremaining: 1.52s\n",
      "402:\tlearn: 0.4756607\ttotal: 1.03s\tremaining: 1.52s\n",
      "403:\tlearn: 0.4755480\ttotal: 1.03s\tremaining: 1.52s\n",
      "404:\tlearn: 0.4754792\ttotal: 1.03s\tremaining: 1.51s\n",
      "405:\tlearn: 0.4753763\ttotal: 1.03s\tremaining: 1.51s\n",
      "406:\tlearn: 0.4753416\ttotal: 1.04s\tremaining: 1.51s\n",
      "407:\tlearn: 0.4752828\ttotal: 1.04s\tremaining: 1.51s\n",
      "408:\tlearn: 0.4751129\ttotal: 1.04s\tremaining: 1.5s\n",
      "409:\tlearn: 0.4750557\ttotal: 1.04s\tremaining: 1.5s\n",
      "410:\tlearn: 0.4749502\ttotal: 1.04s\tremaining: 1.5s\n",
      "411:\tlearn: 0.4748454\ttotal: 1.05s\tremaining: 1.5s\n",
      "412:\tlearn: 0.4748124\ttotal: 1.05s\tremaining: 1.49s\n",
      "413:\tlearn: 0.4747159\ttotal: 1.05s\tremaining: 1.49s\n",
      "414:\tlearn: 0.4746392\ttotal: 1.05s\tremaining: 1.49s\n",
      "415:\tlearn: 0.4745071\ttotal: 1.06s\tremaining: 1.48s\n",
      "416:\tlearn: 0.4744281\ttotal: 1.06s\tremaining: 1.48s\n",
      "417:\tlearn: 0.4743707\ttotal: 1.06s\tremaining: 1.48s\n",
      "418:\tlearn: 0.4743025\ttotal: 1.06s\tremaining: 1.48s\n",
      "419:\tlearn: 0.4742003\ttotal: 1.07s\tremaining: 1.47s\n",
      "420:\tlearn: 0.4741433\ttotal: 1.07s\tremaining: 1.47s\n",
      "421:\tlearn: 0.4740764\ttotal: 1.07s\tremaining: 1.47s\n",
      "422:\tlearn: 0.4740113\ttotal: 1.07s\tremaining: 1.46s\n",
      "423:\tlearn: 0.4739640\ttotal: 1.07s\tremaining: 1.46s\n",
      "424:\tlearn: 0.4738862\ttotal: 1.08s\tremaining: 1.46s\n",
      "425:\tlearn: 0.4738027\ttotal: 1.08s\tremaining: 1.45s\n",
      "426:\tlearn: 0.4737379\ttotal: 1.08s\tremaining: 1.45s\n",
      "427:\tlearn: 0.4736157\ttotal: 1.08s\tremaining: 1.45s\n",
      "428:\tlearn: 0.4735794\ttotal: 1.08s\tremaining: 1.45s\n",
      "429:\tlearn: 0.4734780\ttotal: 1.09s\tremaining: 1.44s\n",
      "430:\tlearn: 0.4734072\ttotal: 1.09s\tremaining: 1.44s\n",
      "431:\tlearn: 0.4733642\ttotal: 1.09s\tremaining: 1.44s\n",
      "432:\tlearn: 0.4732504\ttotal: 1.09s\tremaining: 1.43s\n",
      "433:\tlearn: 0.4731870\ttotal: 1.1s\tremaining: 1.43s\n",
      "434:\tlearn: 0.4731422\ttotal: 1.1s\tremaining: 1.43s\n",
      "435:\tlearn: 0.4730712\ttotal: 1.1s\tremaining: 1.43s\n",
      "436:\tlearn: 0.4729858\ttotal: 1.1s\tremaining: 1.42s\n",
      "437:\tlearn: 0.4728888\ttotal: 1.11s\tremaining: 1.42s\n",
      "438:\tlearn: 0.4727860\ttotal: 1.11s\tremaining: 1.42s\n",
      "439:\tlearn: 0.4726927\ttotal: 1.11s\tremaining: 1.41s\n",
      "440:\tlearn: 0.4725867\ttotal: 1.11s\tremaining: 1.41s\n",
      "441:\tlearn: 0.4724923\ttotal: 1.11s\tremaining: 1.41s\n",
      "442:\tlearn: 0.4724009\ttotal: 1.12s\tremaining: 1.41s\n",
      "443:\tlearn: 0.4723311\ttotal: 1.12s\tremaining: 1.4s\n",
      "444:\tlearn: 0.4722588\ttotal: 1.12s\tremaining: 1.4s\n",
      "445:\tlearn: 0.4722400\ttotal: 1.12s\tremaining: 1.4s\n",
      "446:\tlearn: 0.4721666\ttotal: 1.13s\tremaining: 1.39s\n",
      "447:\tlearn: 0.4720275\ttotal: 1.13s\tremaining: 1.39s\n",
      "448:\tlearn: 0.4718830\ttotal: 1.13s\tremaining: 1.39s\n",
      "449:\tlearn: 0.4717954\ttotal: 1.13s\tremaining: 1.38s\n",
      "450:\tlearn: 0.4717216\ttotal: 1.14s\tremaining: 1.38s\n",
      "451:\tlearn: 0.4716655\ttotal: 1.14s\tremaining: 1.38s\n",
      "452:\tlearn: 0.4715326\ttotal: 1.14s\tremaining: 1.38s\n",
      "453:\tlearn: 0.4714195\ttotal: 1.14s\tremaining: 1.37s\n",
      "454:\tlearn: 0.4713259\ttotal: 1.14s\tremaining: 1.37s\n",
      "455:\tlearn: 0.4712230\ttotal: 1.15s\tremaining: 1.37s\n",
      "456:\tlearn: 0.4710910\ttotal: 1.15s\tremaining: 1.36s\n",
      "457:\tlearn: 0.4709935\ttotal: 1.15s\tremaining: 1.36s\n",
      "458:\tlearn: 0.4709159\ttotal: 1.15s\tremaining: 1.36s\n",
      "459:\tlearn: 0.4707541\ttotal: 1.16s\tremaining: 1.36s\n",
      "460:\tlearn: 0.4706614\ttotal: 1.16s\tremaining: 1.35s\n",
      "461:\tlearn: 0.4705941\ttotal: 1.16s\tremaining: 1.35s\n",
      "462:\tlearn: 0.4704377\ttotal: 1.16s\tremaining: 1.35s\n",
      "463:\tlearn: 0.4703407\ttotal: 1.16s\tremaining: 1.34s\n",
      "464:\tlearn: 0.4702568\ttotal: 1.17s\tremaining: 1.34s\n",
      "465:\tlearn: 0.4701484\ttotal: 1.17s\tremaining: 1.34s\n",
      "466:\tlearn: 0.4700244\ttotal: 1.17s\tremaining: 1.34s\n",
      "467:\tlearn: 0.4699892\ttotal: 1.17s\tremaining: 1.33s\n",
      "468:\tlearn: 0.4698841\ttotal: 1.18s\tremaining: 1.33s\n",
      "469:\tlearn: 0.4697742\ttotal: 1.18s\tremaining: 1.33s\n",
      "470:\tlearn: 0.4696433\ttotal: 1.18s\tremaining: 1.33s\n",
      "471:\tlearn: 0.4695511\ttotal: 1.18s\tremaining: 1.32s\n",
      "472:\tlearn: 0.4694230\ttotal: 1.19s\tremaining: 1.32s\n",
      "473:\tlearn: 0.4693387\ttotal: 1.19s\tremaining: 1.32s\n",
      "474:\tlearn: 0.4692873\ttotal: 1.19s\tremaining: 1.32s\n",
      "475:\tlearn: 0.4691838\ttotal: 1.2s\tremaining: 1.31s\n",
      "476:\tlearn: 0.4690843\ttotal: 1.2s\tremaining: 1.31s\n",
      "477:\tlearn: 0.4690324\ttotal: 1.2s\tremaining: 1.31s\n",
      "478:\tlearn: 0.4689517\ttotal: 1.2s\tremaining: 1.31s\n",
      "479:\tlearn: 0.4688893\ttotal: 1.21s\tremaining: 1.3s\n",
      "480:\tlearn: 0.4687359\ttotal: 1.21s\tremaining: 1.3s\n",
      "481:\tlearn: 0.4686473\ttotal: 1.21s\tremaining: 1.3s\n",
      "482:\tlearn: 0.4686242\ttotal: 1.21s\tremaining: 1.3s\n",
      "483:\tlearn: 0.4684883\ttotal: 1.22s\tremaining: 1.29s\n",
      "484:\tlearn: 0.4683220\ttotal: 1.22s\tremaining: 1.29s\n",
      "485:\tlearn: 0.4682067\ttotal: 1.22s\tremaining: 1.29s\n",
      "486:\tlearn: 0.4680604\ttotal: 1.22s\tremaining: 1.29s\n",
      "487:\tlearn: 0.4679209\ttotal: 1.23s\tremaining: 1.28s\n",
      "488:\tlearn: 0.4678025\ttotal: 1.23s\tremaining: 1.28s\n",
      "489:\tlearn: 0.4677589\ttotal: 1.23s\tremaining: 1.28s\n",
      "490:\tlearn: 0.4676752\ttotal: 1.23s\tremaining: 1.28s\n",
      "491:\tlearn: 0.4675349\ttotal: 1.24s\tremaining: 1.27s\n",
      "492:\tlearn: 0.4675085\ttotal: 1.24s\tremaining: 1.27s\n",
      "493:\tlearn: 0.4673797\ttotal: 1.24s\tremaining: 1.27s\n",
      "494:\tlearn: 0.4673351\ttotal: 1.24s\tremaining: 1.27s\n",
      "495:\tlearn: 0.4672248\ttotal: 1.24s\tremaining: 1.26s\n",
      "496:\tlearn: 0.4671509\ttotal: 1.25s\tremaining: 1.26s\n",
      "497:\tlearn: 0.4671003\ttotal: 1.25s\tremaining: 1.26s\n",
      "498:\tlearn: 0.4670429\ttotal: 1.25s\tremaining: 1.26s\n",
      "499:\tlearn: 0.4669705\ttotal: 1.25s\tremaining: 1.25s\n",
      "500:\tlearn: 0.4668871\ttotal: 1.26s\tremaining: 1.25s\n",
      "501:\tlearn: 0.4667592\ttotal: 1.26s\tremaining: 1.25s\n",
      "502:\tlearn: 0.4666378\ttotal: 1.26s\tremaining: 1.25s\n",
      "503:\tlearn: 0.4665847\ttotal: 1.26s\tremaining: 1.24s\n",
      "504:\tlearn: 0.4665019\ttotal: 1.27s\tremaining: 1.24s\n",
      "505:\tlearn: 0.4664908\ttotal: 1.27s\tremaining: 1.24s\n",
      "506:\tlearn: 0.4663641\ttotal: 1.27s\tremaining: 1.24s\n",
      "507:\tlearn: 0.4662648\ttotal: 1.27s\tremaining: 1.23s\n",
      "508:\tlearn: 0.4661715\ttotal: 1.27s\tremaining: 1.23s\n",
      "509:\tlearn: 0.4661024\ttotal: 1.28s\tremaining: 1.23s\n",
      "510:\tlearn: 0.4660154\ttotal: 1.28s\tremaining: 1.23s\n",
      "511:\tlearn: 0.4659248\ttotal: 1.28s\tremaining: 1.22s\n",
      "512:\tlearn: 0.4658307\ttotal: 1.28s\tremaining: 1.22s\n",
      "513:\tlearn: 0.4658036\ttotal: 1.29s\tremaining: 1.22s\n",
      "514:\tlearn: 0.4656783\ttotal: 1.29s\tremaining: 1.21s\n",
      "515:\tlearn: 0.4656089\ttotal: 1.29s\tremaining: 1.21s\n",
      "516:\tlearn: 0.4655470\ttotal: 1.29s\tremaining: 1.21s\n",
      "517:\tlearn: 0.4654247\ttotal: 1.3s\tremaining: 1.21s\n",
      "518:\tlearn: 0.4653438\ttotal: 1.3s\tremaining: 1.2s\n",
      "519:\tlearn: 0.4651662\ttotal: 1.3s\tremaining: 1.2s\n",
      "520:\tlearn: 0.4651070\ttotal: 1.3s\tremaining: 1.2s\n",
      "521:\tlearn: 0.4649642\ttotal: 1.31s\tremaining: 1.2s\n",
      "522:\tlearn: 0.4648762\ttotal: 1.31s\tremaining: 1.19s\n",
      "523:\tlearn: 0.4648329\ttotal: 1.31s\tremaining: 1.19s\n",
      "524:\tlearn: 0.4647668\ttotal: 1.31s\tremaining: 1.19s\n",
      "525:\tlearn: 0.4646694\ttotal: 1.32s\tremaining: 1.19s\n",
      "526:\tlearn: 0.4645181\ttotal: 1.32s\tremaining: 1.18s\n",
      "527:\tlearn: 0.4643987\ttotal: 1.32s\tremaining: 1.18s\n",
      "528:\tlearn: 0.4643633\ttotal: 1.32s\tremaining: 1.18s\n",
      "529:\tlearn: 0.4643016\ttotal: 1.32s\tremaining: 1.18s\n",
      "530:\tlearn: 0.4642027\ttotal: 1.33s\tremaining: 1.17s\n",
      "531:\tlearn: 0.4641325\ttotal: 1.33s\tremaining: 1.17s\n",
      "532:\tlearn: 0.4640277\ttotal: 1.33s\tremaining: 1.17s\n",
      "533:\tlearn: 0.4639068\ttotal: 1.33s\tremaining: 1.16s\n",
      "534:\tlearn: 0.4638422\ttotal: 1.34s\tremaining: 1.16s\n",
      "535:\tlearn: 0.4637399\ttotal: 1.34s\tremaining: 1.16s\n",
      "536:\tlearn: 0.4635468\ttotal: 1.34s\tremaining: 1.16s\n",
      "537:\tlearn: 0.4634686\ttotal: 1.34s\tremaining: 1.15s\n",
      "538:\tlearn: 0.4633871\ttotal: 1.34s\tremaining: 1.15s\n",
      "539:\tlearn: 0.4633383\ttotal: 1.35s\tremaining: 1.15s\n",
      "540:\tlearn: 0.4632177\ttotal: 1.35s\tremaining: 1.14s\n",
      "541:\tlearn: 0.4631324\ttotal: 1.35s\tremaining: 1.14s\n",
      "542:\tlearn: 0.4630116\ttotal: 1.35s\tremaining: 1.14s\n",
      "543:\tlearn: 0.4629221\ttotal: 1.36s\tremaining: 1.14s\n",
      "544:\tlearn: 0.4628433\ttotal: 1.36s\tremaining: 1.13s\n"
     ]
    },
    {
     "name": "stdout",
     "output_type": "stream",
     "text": [
      "545:\tlearn: 0.4627158\ttotal: 1.36s\tremaining: 1.13s\n",
      "546:\tlearn: 0.4626867\ttotal: 1.36s\tremaining: 1.13s\n",
      "547:\tlearn: 0.4626099\ttotal: 1.36s\tremaining: 1.13s\n",
      "548:\tlearn: 0.4624530\ttotal: 1.37s\tremaining: 1.12s\n",
      "549:\tlearn: 0.4623250\ttotal: 1.37s\tremaining: 1.12s\n",
      "550:\tlearn: 0.4621416\ttotal: 1.37s\tremaining: 1.12s\n",
      "551:\tlearn: 0.4619614\ttotal: 1.38s\tremaining: 1.12s\n",
      "552:\tlearn: 0.4618759\ttotal: 1.38s\tremaining: 1.11s\n",
      "553:\tlearn: 0.4618283\ttotal: 1.38s\tremaining: 1.11s\n",
      "554:\tlearn: 0.4617529\ttotal: 1.38s\tremaining: 1.11s\n",
      "555:\tlearn: 0.4616800\ttotal: 1.39s\tremaining: 1.11s\n",
      "556:\tlearn: 0.4615487\ttotal: 1.39s\tremaining: 1.1s\n",
      "557:\tlearn: 0.4614886\ttotal: 1.39s\tremaining: 1.1s\n",
      "558:\tlearn: 0.4613470\ttotal: 1.39s\tremaining: 1.1s\n",
      "559:\tlearn: 0.4613079\ttotal: 1.4s\tremaining: 1.1s\n",
      "560:\tlearn: 0.4611866\ttotal: 1.4s\tremaining: 1.09s\n",
      "561:\tlearn: 0.4610682\ttotal: 1.4s\tremaining: 1.09s\n",
      "562:\tlearn: 0.4609753\ttotal: 1.4s\tremaining: 1.09s\n",
      "563:\tlearn: 0.4609000\ttotal: 1.41s\tremaining: 1.09s\n",
      "564:\tlearn: 0.4608414\ttotal: 1.41s\tremaining: 1.08s\n",
      "565:\tlearn: 0.4608180\ttotal: 1.41s\tremaining: 1.08s\n",
      "566:\tlearn: 0.4607159\ttotal: 1.41s\tremaining: 1.08s\n",
      "567:\tlearn: 0.4606116\ttotal: 1.42s\tremaining: 1.08s\n",
      "568:\tlearn: 0.4604770\ttotal: 1.42s\tremaining: 1.07s\n",
      "569:\tlearn: 0.4603638\ttotal: 1.42s\tremaining: 1.07s\n",
      "570:\tlearn: 0.4602236\ttotal: 1.42s\tremaining: 1.07s\n",
      "571:\tlearn: 0.4600648\ttotal: 1.43s\tremaining: 1.07s\n",
      "572:\tlearn: 0.4600333\ttotal: 1.43s\tremaining: 1.06s\n",
      "573:\tlearn: 0.4599032\ttotal: 1.43s\tremaining: 1.06s\n",
      "574:\tlearn: 0.4598103\ttotal: 1.43s\tremaining: 1.06s\n",
      "575:\tlearn: 0.4596794\ttotal: 1.43s\tremaining: 1.06s\n",
      "576:\tlearn: 0.4596133\ttotal: 1.44s\tremaining: 1.05s\n",
      "577:\tlearn: 0.4595346\ttotal: 1.44s\tremaining: 1.05s\n",
      "578:\tlearn: 0.4593791\ttotal: 1.44s\tremaining: 1.05s\n",
      "579:\tlearn: 0.4593458\ttotal: 1.44s\tremaining: 1.04s\n",
      "580:\tlearn: 0.4592358\ttotal: 1.45s\tremaining: 1.04s\n",
      "581:\tlearn: 0.4590980\ttotal: 1.45s\tremaining: 1.04s\n",
      "582:\tlearn: 0.4589649\ttotal: 1.45s\tremaining: 1.04s\n",
      "583:\tlearn: 0.4589284\ttotal: 1.45s\tremaining: 1.03s\n",
      "584:\tlearn: 0.4588332\ttotal: 1.46s\tremaining: 1.03s\n",
      "585:\tlearn: 0.4587855\ttotal: 1.46s\tremaining: 1.03s\n",
      "586:\tlearn: 0.4587140\ttotal: 1.46s\tremaining: 1.03s\n",
      "587:\tlearn: 0.4586091\ttotal: 1.46s\tremaining: 1.02s\n",
      "588:\tlearn: 0.4584681\ttotal: 1.46s\tremaining: 1.02s\n",
      "589:\tlearn: 0.4584069\ttotal: 1.47s\tremaining: 1.02s\n",
      "590:\tlearn: 0.4582656\ttotal: 1.47s\tremaining: 1.02s\n",
      "591:\tlearn: 0.4581439\ttotal: 1.47s\tremaining: 1.01s\n",
      "592:\tlearn: 0.4581225\ttotal: 1.47s\tremaining: 1.01s\n",
      "593:\tlearn: 0.4580656\ttotal: 1.48s\tremaining: 1.01s\n",
      "594:\tlearn: 0.4579719\ttotal: 1.48s\tremaining: 1.01s\n",
      "595:\tlearn: 0.4578430\ttotal: 1.48s\tremaining: 1s\n",
      "596:\tlearn: 0.4578018\ttotal: 1.48s\tremaining: 1s\n",
      "597:\tlearn: 0.4576110\ttotal: 1.48s\tremaining: 998ms\n",
      "598:\tlearn: 0.4574885\ttotal: 1.49s\tremaining: 995ms\n",
      "599:\tlearn: 0.4574347\ttotal: 1.49s\tremaining: 992ms\n",
      "600:\tlearn: 0.4573602\ttotal: 1.49s\tremaining: 990ms\n",
      "601:\tlearn: 0.4571819\ttotal: 1.49s\tremaining: 987ms\n",
      "602:\tlearn: 0.4570686\ttotal: 1.49s\tremaining: 984ms\n",
      "603:\tlearn: 0.4569550\ttotal: 1.5s\tremaining: 982ms\n",
      "604:\tlearn: 0.4568511\ttotal: 1.5s\tremaining: 979ms\n",
      "605:\tlearn: 0.4567211\ttotal: 1.5s\tremaining: 976ms\n",
      "606:\tlearn: 0.4566727\ttotal: 1.5s\tremaining: 973ms\n",
      "607:\tlearn: 0.4566261\ttotal: 1.5s\tremaining: 971ms\n",
      "608:\tlearn: 0.4565372\ttotal: 1.51s\tremaining: 968ms\n",
      "609:\tlearn: 0.4564420\ttotal: 1.51s\tremaining: 965ms\n",
      "610:\tlearn: 0.4563321\ttotal: 1.51s\tremaining: 963ms\n",
      "611:\tlearn: 0.4562776\ttotal: 1.51s\tremaining: 960ms\n",
      "612:\tlearn: 0.4561565\ttotal: 1.52s\tremaining: 958ms\n",
      "613:\tlearn: 0.4560424\ttotal: 1.52s\tremaining: 955ms\n",
      "614:\tlearn: 0.4559338\ttotal: 1.52s\tremaining: 953ms\n",
      "615:\tlearn: 0.4558514\ttotal: 1.52s\tremaining: 950ms\n",
      "616:\tlearn: 0.4557458\ttotal: 1.53s\tremaining: 947ms\n",
      "617:\tlearn: 0.4557238\ttotal: 1.53s\tremaining: 945ms\n",
      "618:\tlearn: 0.4556599\ttotal: 1.53s\tremaining: 942ms\n",
      "619:\tlearn: 0.4555776\ttotal: 1.53s\tremaining: 939ms\n",
      "620:\tlearn: 0.4555452\ttotal: 1.53s\tremaining: 937ms\n",
      "621:\tlearn: 0.4554918\ttotal: 1.54s\tremaining: 934ms\n",
      "622:\tlearn: 0.4553753\ttotal: 1.54s\tremaining: 931ms\n",
      "623:\tlearn: 0.4553120\ttotal: 1.54s\tremaining: 929ms\n",
      "624:\tlearn: 0.4552600\ttotal: 1.54s\tremaining: 926ms\n",
      "625:\tlearn: 0.4551282\ttotal: 1.54s\tremaining: 923ms\n",
      "626:\tlearn: 0.4550417\ttotal: 1.55s\tremaining: 920ms\n",
      "627:\tlearn: 0.4549516\ttotal: 1.55s\tremaining: 918ms\n",
      "628:\tlearn: 0.4548120\ttotal: 1.55s\tremaining: 915ms\n",
      "629:\tlearn: 0.4547017\ttotal: 1.55s\tremaining: 912ms\n",
      "630:\tlearn: 0.4546008\ttotal: 1.55s\tremaining: 910ms\n",
      "631:\tlearn: 0.4544908\ttotal: 1.56s\tremaining: 907ms\n",
      "632:\tlearn: 0.4544330\ttotal: 1.56s\tremaining: 905ms\n",
      "633:\tlearn: 0.4543521\ttotal: 1.56s\tremaining: 902ms\n",
      "634:\tlearn: 0.4542811\ttotal: 1.56s\tremaining: 900ms\n",
      "635:\tlearn: 0.4542079\ttotal: 1.57s\tremaining: 898ms\n",
      "636:\tlearn: 0.4541537\ttotal: 1.57s\tremaining: 895ms\n",
      "637:\tlearn: 0.4540931\ttotal: 1.57s\tremaining: 893ms\n",
      "638:\tlearn: 0.4540309\ttotal: 1.57s\tremaining: 890ms\n",
      "639:\tlearn: 0.4539796\ttotal: 1.58s\tremaining: 888ms\n",
      "640:\tlearn: 0.4538714\ttotal: 1.58s\tremaining: 885ms\n",
      "641:\tlearn: 0.4538033\ttotal: 1.58s\tremaining: 883ms\n",
      "642:\tlearn: 0.4537719\ttotal: 1.59s\tremaining: 881ms\n",
      "643:\tlearn: 0.4536568\ttotal: 1.59s\tremaining: 879ms\n",
      "644:\tlearn: 0.4535628\ttotal: 1.59s\tremaining: 876ms\n",
      "645:\tlearn: 0.4535345\ttotal: 1.59s\tremaining: 874ms\n",
      "646:\tlearn: 0.4534121\ttotal: 1.6s\tremaining: 871ms\n",
      "647:\tlearn: 0.4533244\ttotal: 1.6s\tremaining: 869ms\n",
      "648:\tlearn: 0.4532087\ttotal: 1.6s\tremaining: 867ms\n",
      "649:\tlearn: 0.4531653\ttotal: 1.6s\tremaining: 865ms\n",
      "650:\tlearn: 0.4531130\ttotal: 1.61s\tremaining: 862ms\n",
      "651:\tlearn: 0.4530144\ttotal: 1.61s\tremaining: 860ms\n",
      "652:\tlearn: 0.4529372\ttotal: 1.61s\tremaining: 857ms\n",
      "653:\tlearn: 0.4529111\ttotal: 1.61s\tremaining: 855ms\n",
      "654:\tlearn: 0.4528716\ttotal: 1.62s\tremaining: 852ms\n",
      "655:\tlearn: 0.4527774\ttotal: 1.62s\tremaining: 850ms\n",
      "656:\tlearn: 0.4527556\ttotal: 1.62s\tremaining: 847ms\n",
      "657:\tlearn: 0.4526549\ttotal: 1.62s\tremaining: 845ms\n",
      "658:\tlearn: 0.4525923\ttotal: 1.63s\tremaining: 842ms\n",
      "659:\tlearn: 0.4524942\ttotal: 1.63s\tremaining: 839ms\n",
      "660:\tlearn: 0.4523418\ttotal: 1.63s\tremaining: 837ms\n",
      "661:\tlearn: 0.4523093\ttotal: 1.63s\tremaining: 834ms\n",
      "662:\tlearn: 0.4522230\ttotal: 1.64s\tremaining: 832ms\n",
      "663:\tlearn: 0.4521888\ttotal: 1.64s\tremaining: 829ms\n",
      "664:\tlearn: 0.4520918\ttotal: 1.64s\tremaining: 826ms\n",
      "665:\tlearn: 0.4519647\ttotal: 1.64s\tremaining: 824ms\n",
      "666:\tlearn: 0.4518455\ttotal: 1.65s\tremaining: 821ms\n",
      "667:\tlearn: 0.4517186\ttotal: 1.65s\tremaining: 819ms\n",
      "668:\tlearn: 0.4515899\ttotal: 1.65s\tremaining: 816ms\n",
      "669:\tlearn: 0.4514634\ttotal: 1.65s\tremaining: 814ms\n",
      "670:\tlearn: 0.4513930\ttotal: 1.65s\tremaining: 811ms\n",
      "671:\tlearn: 0.4512324\ttotal: 1.66s\tremaining: 809ms\n",
      "672:\tlearn: 0.4511241\ttotal: 1.66s\tremaining: 806ms\n",
      "673:\tlearn: 0.4510646\ttotal: 1.66s\tremaining: 803ms\n",
      "674:\tlearn: 0.4510181\ttotal: 1.66s\tremaining: 801ms\n",
      "675:\tlearn: 0.4509692\ttotal: 1.67s\tremaining: 798ms\n",
      "676:\tlearn: 0.4508625\ttotal: 1.67s\tremaining: 796ms\n",
      "677:\tlearn: 0.4507967\ttotal: 1.67s\tremaining: 793ms\n",
      "678:\tlearn: 0.4506999\ttotal: 1.67s\tremaining: 791ms\n",
      "679:\tlearn: 0.4505665\ttotal: 1.68s\tremaining: 788ms\n",
      "680:\tlearn: 0.4504645\ttotal: 1.68s\tremaining: 786ms\n",
      "681:\tlearn: 0.4504206\ttotal: 1.68s\tremaining: 783ms\n",
      "682:\tlearn: 0.4503731\ttotal: 1.68s\tremaining: 781ms\n",
      "683:\tlearn: 0.4502892\ttotal: 1.68s\tremaining: 778ms\n",
      "684:\tlearn: 0.4501827\ttotal: 1.69s\tremaining: 776ms\n",
      "685:\tlearn: 0.4501258\ttotal: 1.69s\tremaining: 773ms\n",
      "686:\tlearn: 0.4500725\ttotal: 1.69s\tremaining: 770ms\n",
      "687:\tlearn: 0.4500092\ttotal: 1.69s\tremaining: 768ms\n",
      "688:\tlearn: 0.4499270\ttotal: 1.7s\tremaining: 765ms\n",
      "689:\tlearn: 0.4498916\ttotal: 1.7s\tremaining: 763ms\n",
      "690:\tlearn: 0.4498153\ttotal: 1.7s\tremaining: 760ms\n",
      "691:\tlearn: 0.4497372\ttotal: 1.7s\tremaining: 757ms\n",
      "692:\tlearn: 0.4496017\ttotal: 1.7s\tremaining: 755ms\n",
      "693:\tlearn: 0.4494872\ttotal: 1.71s\tremaining: 752ms\n",
      "694:\tlearn: 0.4493935\ttotal: 1.71s\tremaining: 750ms\n",
      "695:\tlearn: 0.4492746\ttotal: 1.71s\tremaining: 747ms\n",
      "696:\tlearn: 0.4492067\ttotal: 1.71s\tremaining: 744ms\n",
      "697:\tlearn: 0.4491819\ttotal: 1.71s\tremaining: 742ms\n",
      "698:\tlearn: 0.4489950\ttotal: 1.72s\tremaining: 739ms\n",
      "699:\tlearn: 0.4488633\ttotal: 1.72s\tremaining: 737ms\n",
      "700:\tlearn: 0.4487136\ttotal: 1.72s\tremaining: 734ms\n",
      "701:\tlearn: 0.4486263\ttotal: 1.72s\tremaining: 731ms\n",
      "702:\tlearn: 0.4485680\ttotal: 1.73s\tremaining: 729ms\n",
      "703:\tlearn: 0.4485472\ttotal: 1.73s\tremaining: 726ms\n",
      "704:\tlearn: 0.4484025\ttotal: 1.73s\tremaining: 724ms\n",
      "705:\tlearn: 0.4483276\ttotal: 1.73s\tremaining: 721ms\n",
      "706:\tlearn: 0.4482989\ttotal: 1.73s\tremaining: 718ms\n",
      "707:\tlearn: 0.4482316\ttotal: 1.74s\tremaining: 716ms\n",
      "708:\tlearn: 0.4482079\ttotal: 1.74s\tremaining: 713ms\n",
      "709:\tlearn: 0.4481484\ttotal: 1.74s\tremaining: 711ms\n",
      "710:\tlearn: 0.4480884\ttotal: 1.74s\tremaining: 708ms\n",
      "711:\tlearn: 0.4480029\ttotal: 1.74s\tremaining: 705ms\n",
      "712:\tlearn: 0.4479014\ttotal: 1.75s\tremaining: 703ms\n",
      "713:\tlearn: 0.4478558\ttotal: 1.75s\tremaining: 700ms\n"
     ]
    },
    {
     "name": "stdout",
     "output_type": "stream",
     "text": [
      "714:\tlearn: 0.4477624\ttotal: 1.75s\tremaining: 698ms\n",
      "715:\tlearn: 0.4477210\ttotal: 1.75s\tremaining: 695ms\n",
      "716:\tlearn: 0.4475826\ttotal: 1.75s\tremaining: 693ms\n",
      "717:\tlearn: 0.4474940\ttotal: 1.76s\tremaining: 690ms\n",
      "718:\tlearn: 0.4473195\ttotal: 1.76s\tremaining: 688ms\n",
      "719:\tlearn: 0.4473033\ttotal: 1.76s\tremaining: 686ms\n",
      "720:\tlearn: 0.4472742\ttotal: 1.77s\tremaining: 684ms\n",
      "721:\tlearn: 0.4472538\ttotal: 1.77s\tremaining: 681ms\n",
      "722:\tlearn: 0.4472068\ttotal: 1.77s\tremaining: 679ms\n",
      "723:\tlearn: 0.4471379\ttotal: 1.77s\tremaining: 677ms\n",
      "724:\tlearn: 0.4470895\ttotal: 1.78s\tremaining: 674ms\n",
      "725:\tlearn: 0.4469639\ttotal: 1.78s\tremaining: 672ms\n",
      "726:\tlearn: 0.4468555\ttotal: 1.78s\tremaining: 670ms\n",
      "727:\tlearn: 0.4468106\ttotal: 1.78s\tremaining: 667ms\n",
      "728:\tlearn: 0.4467552\ttotal: 1.79s\tremaining: 665ms\n",
      "729:\tlearn: 0.4466382\ttotal: 1.79s\tremaining: 662ms\n",
      "730:\tlearn: 0.4465600\ttotal: 1.79s\tremaining: 660ms\n",
      "731:\tlearn: 0.4464997\ttotal: 1.79s\tremaining: 657ms\n",
      "732:\tlearn: 0.4464511\ttotal: 1.8s\tremaining: 655ms\n",
      "733:\tlearn: 0.4463650\ttotal: 1.8s\tremaining: 653ms\n",
      "734:\tlearn: 0.4462638\ttotal: 1.8s\tremaining: 650ms\n",
      "735:\tlearn: 0.4461984\ttotal: 1.8s\tremaining: 648ms\n",
      "736:\tlearn: 0.4460767\ttotal: 1.81s\tremaining: 645ms\n",
      "737:\tlearn: 0.4459774\ttotal: 1.81s\tremaining: 643ms\n",
      "738:\tlearn: 0.4458840\ttotal: 1.81s\tremaining: 640ms\n",
      "739:\tlearn: 0.4457895\ttotal: 1.81s\tremaining: 638ms\n",
      "740:\tlearn: 0.4456859\ttotal: 1.82s\tremaining: 635ms\n",
      "741:\tlearn: 0.4456013\ttotal: 1.82s\tremaining: 633ms\n",
      "742:\tlearn: 0.4455580\ttotal: 1.82s\tremaining: 630ms\n",
      "743:\tlearn: 0.4454629\ttotal: 1.82s\tremaining: 628ms\n",
      "744:\tlearn: 0.4453556\ttotal: 1.83s\tremaining: 625ms\n",
      "745:\tlearn: 0.4452733\ttotal: 1.83s\tremaining: 623ms\n",
      "746:\tlearn: 0.4452056\ttotal: 1.83s\tremaining: 620ms\n",
      "747:\tlearn: 0.4450745\ttotal: 1.83s\tremaining: 618ms\n",
      "748:\tlearn: 0.4449393\ttotal: 1.83s\tremaining: 615ms\n",
      "749:\tlearn: 0.4448025\ttotal: 1.84s\tremaining: 613ms\n",
      "750:\tlearn: 0.4447354\ttotal: 1.84s\tremaining: 610ms\n",
      "751:\tlearn: 0.4446121\ttotal: 1.84s\tremaining: 608ms\n",
      "752:\tlearn: 0.4445229\ttotal: 1.84s\tremaining: 605ms\n",
      "753:\tlearn: 0.4445008\ttotal: 1.85s\tremaining: 603ms\n",
      "754:\tlearn: 0.4443352\ttotal: 1.85s\tremaining: 600ms\n",
      "755:\tlearn: 0.4442929\ttotal: 1.85s\tremaining: 598ms\n",
      "756:\tlearn: 0.4441774\ttotal: 1.85s\tremaining: 595ms\n",
      "757:\tlearn: 0.4441460\ttotal: 1.86s\tremaining: 593ms\n",
      "758:\tlearn: 0.4440942\ttotal: 1.86s\tremaining: 590ms\n",
      "759:\tlearn: 0.4440035\ttotal: 1.86s\tremaining: 588ms\n",
      "760:\tlearn: 0.4438953\ttotal: 1.86s\tremaining: 586ms\n",
      "761:\tlearn: 0.4438143\ttotal: 1.87s\tremaining: 583ms\n",
      "762:\tlearn: 0.4436973\ttotal: 1.87s\tremaining: 581ms\n",
      "763:\tlearn: 0.4435774\ttotal: 1.87s\tremaining: 578ms\n",
      "764:\tlearn: 0.4435263\ttotal: 1.87s\tremaining: 576ms\n",
      "765:\tlearn: 0.4434195\ttotal: 1.88s\tremaining: 573ms\n",
      "766:\tlearn: 0.4433342\ttotal: 1.88s\tremaining: 571ms\n",
      "767:\tlearn: 0.4432770\ttotal: 1.88s\tremaining: 568ms\n",
      "768:\tlearn: 0.4431972\ttotal: 1.88s\tremaining: 566ms\n",
      "769:\tlearn: 0.4430710\ttotal: 1.88s\tremaining: 563ms\n",
      "770:\tlearn: 0.4430356\ttotal: 1.89s\tremaining: 561ms\n",
      "771:\tlearn: 0.4429265\ttotal: 1.89s\tremaining: 558ms\n",
      "772:\tlearn: 0.4428627\ttotal: 1.89s\tremaining: 556ms\n",
      "773:\tlearn: 0.4427655\ttotal: 1.89s\tremaining: 553ms\n",
      "774:\tlearn: 0.4427091\ttotal: 1.9s\tremaining: 551ms\n",
      "775:\tlearn: 0.4426231\ttotal: 1.9s\tremaining: 548ms\n",
      "776:\tlearn: 0.4425091\ttotal: 1.9s\tremaining: 546ms\n",
      "777:\tlearn: 0.4424702\ttotal: 1.9s\tremaining: 543ms\n",
      "778:\tlearn: 0.4423284\ttotal: 1.91s\tremaining: 541ms\n",
      "779:\tlearn: 0.4423052\ttotal: 1.91s\tremaining: 538ms\n",
      "780:\tlearn: 0.4421355\ttotal: 1.91s\tremaining: 536ms\n",
      "781:\tlearn: 0.4420130\ttotal: 1.91s\tremaining: 533ms\n",
      "782:\tlearn: 0.4419372\ttotal: 1.92s\tremaining: 531ms\n",
      "783:\tlearn: 0.4418657\ttotal: 1.92s\tremaining: 528ms\n",
      "784:\tlearn: 0.4417911\ttotal: 1.92s\tremaining: 526ms\n",
      "785:\tlearn: 0.4416754\ttotal: 1.92s\tremaining: 523ms\n",
      "786:\tlearn: 0.4415558\ttotal: 1.93s\tremaining: 521ms\n",
      "787:\tlearn: 0.4415262\ttotal: 1.93s\tremaining: 519ms\n",
      "788:\tlearn: 0.4414340\ttotal: 1.93s\tremaining: 516ms\n",
      "789:\tlearn: 0.4413794\ttotal: 1.93s\tremaining: 514ms\n",
      "790:\tlearn: 0.4413072\ttotal: 1.93s\tremaining: 511ms\n",
      "791:\tlearn: 0.4412661\ttotal: 1.94s\tremaining: 509ms\n",
      "792:\tlearn: 0.4412395\ttotal: 1.94s\tremaining: 506ms\n",
      "793:\tlearn: 0.4411446\ttotal: 1.94s\tremaining: 504ms\n",
      "794:\tlearn: 0.4410929\ttotal: 1.94s\tremaining: 501ms\n",
      "795:\tlearn: 0.4409829\ttotal: 1.95s\tremaining: 499ms\n",
      "796:\tlearn: 0.4408926\ttotal: 1.95s\tremaining: 496ms\n",
      "797:\tlearn: 0.4408286\ttotal: 1.95s\tremaining: 494ms\n",
      "798:\tlearn: 0.4406484\ttotal: 1.95s\tremaining: 492ms\n",
      "799:\tlearn: 0.4404958\ttotal: 1.96s\tremaining: 489ms\n",
      "800:\tlearn: 0.4403523\ttotal: 1.96s\tremaining: 487ms\n",
      "801:\tlearn: 0.4402554\ttotal: 1.96s\tremaining: 484ms\n",
      "802:\tlearn: 0.4402305\ttotal: 1.96s\tremaining: 482ms\n",
      "803:\tlearn: 0.4401634\ttotal: 1.97s\tremaining: 479ms\n",
      "804:\tlearn: 0.4401169\ttotal: 1.97s\tremaining: 477ms\n",
      "805:\tlearn: 0.4400839\ttotal: 1.97s\tremaining: 475ms\n",
      "806:\tlearn: 0.4399910\ttotal: 1.97s\tremaining: 472ms\n",
      "807:\tlearn: 0.4399725\ttotal: 1.98s\tremaining: 470ms\n",
      "808:\tlearn: 0.4399125\ttotal: 1.98s\tremaining: 467ms\n",
      "809:\tlearn: 0.4398160\ttotal: 1.98s\tremaining: 465ms\n",
      "810:\tlearn: 0.4396914\ttotal: 1.98s\tremaining: 462ms\n",
      "811:\tlearn: 0.4395905\ttotal: 1.99s\tremaining: 460ms\n",
      "812:\tlearn: 0.4395055\ttotal: 1.99s\tremaining: 458ms\n",
      "813:\tlearn: 0.4394394\ttotal: 1.99s\tremaining: 455ms\n",
      "814:\tlearn: 0.4393590\ttotal: 1.99s\tremaining: 453ms\n",
      "815:\tlearn: 0.4392664\ttotal: 2s\tremaining: 450ms\n",
      "816:\tlearn: 0.4391794\ttotal: 2s\tremaining: 448ms\n",
      "817:\tlearn: 0.4390887\ttotal: 2s\tremaining: 445ms\n",
      "818:\tlearn: 0.4390769\ttotal: 2s\tremaining: 443ms\n",
      "819:\tlearn: 0.4389948\ttotal: 2.01s\tremaining: 440ms\n",
      "820:\tlearn: 0.4389897\ttotal: 2.01s\tremaining: 438ms\n",
      "821:\tlearn: 0.4389332\ttotal: 2.01s\tremaining: 435ms\n",
      "822:\tlearn: 0.4388430\ttotal: 2.01s\tremaining: 433ms\n",
      "823:\tlearn: 0.4387074\ttotal: 2.01s\tremaining: 430ms\n",
      "824:\tlearn: 0.4385498\ttotal: 2.02s\tremaining: 428ms\n",
      "825:\tlearn: 0.4384995\ttotal: 2.02s\tremaining: 425ms\n",
      "826:\tlearn: 0.4384121\ttotal: 2.02s\tremaining: 423ms\n",
      "827:\tlearn: 0.4383335\ttotal: 2.02s\tremaining: 420ms\n",
      "828:\tlearn: 0.4382517\ttotal: 2.03s\tremaining: 418ms\n",
      "829:\tlearn: 0.4381950\ttotal: 2.03s\tremaining: 416ms\n",
      "830:\tlearn: 0.4381190\ttotal: 2.03s\tremaining: 413ms\n",
      "831:\tlearn: 0.4380203\ttotal: 2.03s\tremaining: 411ms\n",
      "832:\tlearn: 0.4379379\ttotal: 2.04s\tremaining: 408ms\n",
      "833:\tlearn: 0.4378235\ttotal: 2.04s\tremaining: 406ms\n",
      "834:\tlearn: 0.4376788\ttotal: 2.04s\tremaining: 403ms\n",
      "835:\tlearn: 0.4375704\ttotal: 2.04s\tremaining: 401ms\n",
      "836:\tlearn: 0.4375072\ttotal: 2.04s\tremaining: 398ms\n",
      "837:\tlearn: 0.4374156\ttotal: 2.05s\tremaining: 396ms\n",
      "838:\tlearn: 0.4373198\ttotal: 2.05s\tremaining: 393ms\n",
      "839:\tlearn: 0.4372190\ttotal: 2.05s\tremaining: 391ms\n",
      "840:\tlearn: 0.4371060\ttotal: 2.05s\tremaining: 388ms\n",
      "841:\tlearn: 0.4370406\ttotal: 2.06s\tremaining: 386ms\n",
      "842:\tlearn: 0.4369402\ttotal: 2.06s\tremaining: 384ms\n",
      "843:\tlearn: 0.4368775\ttotal: 2.06s\tremaining: 381ms\n",
      "844:\tlearn: 0.4368429\ttotal: 2.06s\tremaining: 379ms\n",
      "845:\tlearn: 0.4367408\ttotal: 2.07s\tremaining: 376ms\n",
      "846:\tlearn: 0.4366374\ttotal: 2.07s\tremaining: 374ms\n",
      "847:\tlearn: 0.4365411\ttotal: 2.07s\tremaining: 371ms\n",
      "848:\tlearn: 0.4364892\ttotal: 2.07s\tremaining: 369ms\n",
      "849:\tlearn: 0.4364450\ttotal: 2.08s\tremaining: 366ms\n",
      "850:\tlearn: 0.4363340\ttotal: 2.08s\tremaining: 364ms\n",
      "851:\tlearn: 0.4363021\ttotal: 2.08s\tremaining: 362ms\n",
      "852:\tlearn: 0.4362546\ttotal: 2.08s\tremaining: 359ms\n",
      "853:\tlearn: 0.4362081\ttotal: 2.08s\tremaining: 357ms\n",
      "854:\tlearn: 0.4360801\ttotal: 2.09s\tremaining: 354ms\n",
      "855:\tlearn: 0.4360060\ttotal: 2.09s\tremaining: 352ms\n",
      "856:\tlearn: 0.4359496\ttotal: 2.09s\tremaining: 349ms\n",
      "857:\tlearn: 0.4359056\ttotal: 2.1s\tremaining: 347ms\n",
      "858:\tlearn: 0.4358464\ttotal: 2.1s\tremaining: 344ms\n",
      "859:\tlearn: 0.4358160\ttotal: 2.1s\tremaining: 342ms\n",
      "860:\tlearn: 0.4357586\ttotal: 2.1s\tremaining: 339ms\n",
      "861:\tlearn: 0.4357079\ttotal: 2.1s\tremaining: 337ms\n",
      "862:\tlearn: 0.4356408\ttotal: 2.11s\tremaining: 335ms\n",
      "863:\tlearn: 0.4356007\ttotal: 2.11s\tremaining: 332ms\n",
      "864:\tlearn: 0.4355162\ttotal: 2.11s\tremaining: 330ms\n",
      "865:\tlearn: 0.4354650\ttotal: 2.11s\tremaining: 327ms\n",
      "866:\tlearn: 0.4353907\ttotal: 2.12s\tremaining: 325ms\n",
      "867:\tlearn: 0.4353118\ttotal: 2.12s\tremaining: 322ms\n",
      "868:\tlearn: 0.4351956\ttotal: 2.12s\tremaining: 320ms\n",
      "869:\tlearn: 0.4350961\ttotal: 2.12s\tremaining: 317ms\n",
      "870:\tlearn: 0.4350149\ttotal: 2.12s\tremaining: 315ms\n",
      "871:\tlearn: 0.4348616\ttotal: 2.13s\tremaining: 312ms\n",
      "872:\tlearn: 0.4348613\ttotal: 2.13s\tremaining: 310ms\n",
      "873:\tlearn: 0.4347320\ttotal: 2.13s\tremaining: 307ms\n",
      "874:\tlearn: 0.4345981\ttotal: 2.13s\tremaining: 305ms\n",
      "875:\tlearn: 0.4345284\ttotal: 2.13s\tremaining: 302ms\n"
     ]
    },
    {
     "name": "stdout",
     "output_type": "stream",
     "text": [
      "876:\tlearn: 0.4344417\ttotal: 2.14s\tremaining: 300ms\n",
      "877:\tlearn: 0.4343764\ttotal: 2.14s\tremaining: 298ms\n",
      "878:\tlearn: 0.4342577\ttotal: 2.14s\tremaining: 295ms\n",
      "879:\tlearn: 0.4341657\ttotal: 2.15s\tremaining: 293ms\n",
      "880:\tlearn: 0.4340728\ttotal: 2.15s\tremaining: 290ms\n",
      "881:\tlearn: 0.4339909\ttotal: 2.15s\tremaining: 288ms\n",
      "882:\tlearn: 0.4339411\ttotal: 2.15s\tremaining: 285ms\n",
      "883:\tlearn: 0.4338304\ttotal: 2.16s\tremaining: 283ms\n",
      "884:\tlearn: 0.4337589\ttotal: 2.16s\tremaining: 281ms\n",
      "885:\tlearn: 0.4336994\ttotal: 2.16s\tremaining: 278ms\n",
      "886:\tlearn: 0.4336659\ttotal: 2.16s\tremaining: 276ms\n",
      "887:\tlearn: 0.4336507\ttotal: 2.17s\tremaining: 273ms\n",
      "888:\tlearn: 0.4335615\ttotal: 2.17s\tremaining: 271ms\n",
      "889:\tlearn: 0.4335415\ttotal: 2.17s\tremaining: 268ms\n",
      "890:\tlearn: 0.4334139\ttotal: 2.17s\tremaining: 266ms\n",
      "891:\tlearn: 0.4333841\ttotal: 2.18s\tremaining: 264ms\n",
      "892:\tlearn: 0.4332605\ttotal: 2.18s\tremaining: 261ms\n",
      "893:\tlearn: 0.4331844\ttotal: 2.18s\tremaining: 259ms\n",
      "894:\tlearn: 0.4331372\ttotal: 2.19s\tremaining: 256ms\n",
      "895:\tlearn: 0.4330561\ttotal: 2.19s\tremaining: 254ms\n",
      "896:\tlearn: 0.4330058\ttotal: 2.19s\tremaining: 252ms\n",
      "897:\tlearn: 0.4329572\ttotal: 2.19s\tremaining: 249ms\n",
      "898:\tlearn: 0.4328992\ttotal: 2.19s\tremaining: 247ms\n",
      "899:\tlearn: 0.4328046\ttotal: 2.2s\tremaining: 244ms\n",
      "900:\tlearn: 0.4327476\ttotal: 2.2s\tremaining: 242ms\n",
      "901:\tlearn: 0.4326165\ttotal: 2.2s\tremaining: 239ms\n",
      "902:\tlearn: 0.4325730\ttotal: 2.2s\tremaining: 237ms\n",
      "903:\tlearn: 0.4325330\ttotal: 2.21s\tremaining: 234ms\n",
      "904:\tlearn: 0.4324618\ttotal: 2.21s\tremaining: 232ms\n",
      "905:\tlearn: 0.4324384\ttotal: 2.21s\tremaining: 229ms\n",
      "906:\tlearn: 0.4323770\ttotal: 2.21s\tremaining: 227ms\n",
      "907:\tlearn: 0.4322614\ttotal: 2.22s\tremaining: 225ms\n",
      "908:\tlearn: 0.4321934\ttotal: 2.22s\tremaining: 222ms\n",
      "909:\tlearn: 0.4321160\ttotal: 2.22s\tremaining: 220ms\n",
      "910:\tlearn: 0.4319880\ttotal: 2.22s\tremaining: 217ms\n",
      "911:\tlearn: 0.4319047\ttotal: 2.23s\tremaining: 215ms\n",
      "912:\tlearn: 0.4317934\ttotal: 2.23s\tremaining: 212ms\n",
      "913:\tlearn: 0.4317301\ttotal: 2.23s\tremaining: 210ms\n",
      "914:\tlearn: 0.4316805\ttotal: 2.23s\tremaining: 207ms\n",
      "915:\tlearn: 0.4316151\ttotal: 2.23s\tremaining: 205ms\n",
      "916:\tlearn: 0.4315784\ttotal: 2.24s\tremaining: 203ms\n",
      "917:\tlearn: 0.4314493\ttotal: 2.24s\tremaining: 200ms\n",
      "918:\tlearn: 0.4313603\ttotal: 2.24s\tremaining: 198ms\n",
      "919:\tlearn: 0.4311943\ttotal: 2.25s\tremaining: 195ms\n",
      "920:\tlearn: 0.4310617\ttotal: 2.25s\tremaining: 193ms\n",
      "921:\tlearn: 0.4310416\ttotal: 2.25s\tremaining: 190ms\n",
      "922:\tlearn: 0.4310139\ttotal: 2.25s\tremaining: 188ms\n",
      "923:\tlearn: 0.4309323\ttotal: 2.25s\tremaining: 185ms\n",
      "924:\tlearn: 0.4308611\ttotal: 2.26s\tremaining: 183ms\n",
      "925:\tlearn: 0.4308143\ttotal: 2.26s\tremaining: 181ms\n",
      "926:\tlearn: 0.4307448\ttotal: 2.26s\tremaining: 178ms\n",
      "927:\tlearn: 0.4305912\ttotal: 2.26s\tremaining: 176ms\n",
      "928:\tlearn: 0.4305712\ttotal: 2.27s\tremaining: 173ms\n",
      "929:\tlearn: 0.4304746\ttotal: 2.27s\tremaining: 171ms\n",
      "930:\tlearn: 0.4304093\ttotal: 2.27s\tremaining: 168ms\n",
      "931:\tlearn: 0.4303649\ttotal: 2.27s\tremaining: 166ms\n",
      "932:\tlearn: 0.4302900\ttotal: 2.28s\tremaining: 163ms\n",
      "933:\tlearn: 0.4301768\ttotal: 2.28s\tremaining: 161ms\n",
      "934:\tlearn: 0.4300650\ttotal: 2.28s\tremaining: 159ms\n",
      "935:\tlearn: 0.4300282\ttotal: 2.28s\tremaining: 156ms\n",
      "936:\tlearn: 0.4299688\ttotal: 2.29s\tremaining: 154ms\n",
      "937:\tlearn: 0.4298640\ttotal: 2.29s\tremaining: 151ms\n",
      "938:\tlearn: 0.4298293\ttotal: 2.29s\tremaining: 149ms\n",
      "939:\tlearn: 0.4297875\ttotal: 2.29s\tremaining: 146ms\n",
      "940:\tlearn: 0.4297002\ttotal: 2.29s\tremaining: 144ms\n",
      "941:\tlearn: 0.4295938\ttotal: 2.3s\tremaining: 141ms\n",
      "942:\tlearn: 0.4295358\ttotal: 2.3s\tremaining: 139ms\n",
      "943:\tlearn: 0.4294532\ttotal: 2.3s\tremaining: 136ms\n",
      "944:\tlearn: 0.4294305\ttotal: 2.3s\tremaining: 134ms\n",
      "945:\tlearn: 0.4293506\ttotal: 2.31s\tremaining: 132ms\n",
      "946:\tlearn: 0.4292816\ttotal: 2.31s\tremaining: 129ms\n",
      "947:\tlearn: 0.4291820\ttotal: 2.31s\tremaining: 127ms\n",
      "948:\tlearn: 0.4290764\ttotal: 2.31s\tremaining: 124ms\n",
      "949:\tlearn: 0.4290145\ttotal: 2.31s\tremaining: 122ms\n",
      "950:\tlearn: 0.4289969\ttotal: 2.31s\tremaining: 119ms\n",
      "951:\tlearn: 0.4289729\ttotal: 2.32s\tremaining: 117ms\n",
      "952:\tlearn: 0.4289417\ttotal: 2.32s\tremaining: 114ms\n",
      "953:\tlearn: 0.4288931\ttotal: 2.32s\tremaining: 112ms\n",
      "954:\tlearn: 0.4288359\ttotal: 2.32s\tremaining: 110ms\n",
      "955:\tlearn: 0.4287885\ttotal: 2.33s\tremaining: 107ms\n",
      "956:\tlearn: 0.4286909\ttotal: 2.33s\tremaining: 105ms\n",
      "957:\tlearn: 0.4285810\ttotal: 2.33s\tremaining: 102ms\n",
      "958:\tlearn: 0.4284902\ttotal: 2.33s\tremaining: 99.8ms\n",
      "959:\tlearn: 0.4283955\ttotal: 2.34s\tremaining: 97.4ms\n",
      "960:\tlearn: 0.4282859\ttotal: 2.34s\tremaining: 95ms\n",
      "961:\tlearn: 0.4282145\ttotal: 2.34s\tremaining: 92.6ms\n",
      "962:\tlearn: 0.4281798\ttotal: 2.35s\tremaining: 90.2ms\n",
      "963:\tlearn: 0.4281156\ttotal: 2.35s\tremaining: 87.8ms\n",
      "964:\tlearn: 0.4279417\ttotal: 2.35s\tremaining: 85.3ms\n",
      "965:\tlearn: 0.4278628\ttotal: 2.35s\tremaining: 82.9ms\n",
      "966:\tlearn: 0.4278112\ttotal: 2.36s\tremaining: 80.5ms\n",
      "967:\tlearn: 0.4277841\ttotal: 2.36s\tremaining: 78ms\n",
      "968:\tlearn: 0.4277511\ttotal: 2.36s\tremaining: 75.6ms\n",
      "969:\tlearn: 0.4276705\ttotal: 2.36s\tremaining: 73.1ms\n",
      "970:\tlearn: 0.4276144\ttotal: 2.37s\tremaining: 70.7ms\n",
      "971:\tlearn: 0.4275772\ttotal: 2.37s\tremaining: 68.3ms\n",
      "972:\tlearn: 0.4275535\ttotal: 2.37s\tremaining: 65.9ms\n",
      "973:\tlearn: 0.4274310\ttotal: 2.38s\tremaining: 63.4ms\n",
      "974:\tlearn: 0.4272845\ttotal: 2.38s\tremaining: 61ms\n",
      "975:\tlearn: 0.4272463\ttotal: 2.38s\tremaining: 58.5ms\n",
      "976:\tlearn: 0.4271698\ttotal: 2.38s\tremaining: 56.1ms\n",
      "977:\tlearn: 0.4270903\ttotal: 2.38s\tremaining: 53.7ms\n",
      "978:\tlearn: 0.4269994\ttotal: 2.39s\tremaining: 51.2ms\n",
      "979:\tlearn: 0.4269992\ttotal: 2.39s\tremaining: 48.8ms\n",
      "980:\tlearn: 0.4268968\ttotal: 2.39s\tremaining: 46.3ms\n",
      "981:\tlearn: 0.4268252\ttotal: 2.39s\tremaining: 43.9ms\n",
      "982:\tlearn: 0.4267747\ttotal: 2.4s\tremaining: 41.5ms\n",
      "983:\tlearn: 0.4267108\ttotal: 2.4s\tremaining: 39ms\n",
      "984:\tlearn: 0.4266749\ttotal: 2.4s\tremaining: 36.6ms\n",
      "985:\tlearn: 0.4266448\ttotal: 2.4s\tremaining: 34.1ms\n",
      "986:\tlearn: 0.4265701\ttotal: 2.41s\tremaining: 31.7ms\n",
      "987:\tlearn: 0.4265236\ttotal: 2.41s\tremaining: 29.3ms\n",
      "988:\tlearn: 0.4264888\ttotal: 2.41s\tremaining: 26.8ms\n",
      "989:\tlearn: 0.4264685\ttotal: 2.41s\tremaining: 24.4ms\n",
      "990:\tlearn: 0.4264208\ttotal: 2.42s\tremaining: 21.9ms\n",
      "991:\tlearn: 0.4263437\ttotal: 2.42s\tremaining: 19.5ms\n",
      "992:\tlearn: 0.4262100\ttotal: 2.42s\tremaining: 17.1ms\n",
      "993:\tlearn: 0.4261853\ttotal: 2.42s\tremaining: 14.6ms\n",
      "994:\tlearn: 0.4260886\ttotal: 2.42s\tremaining: 12.2ms\n",
      "995:\tlearn: 0.4260230\ttotal: 2.43s\tremaining: 9.75ms\n",
      "996:\tlearn: 0.4259559\ttotal: 2.43s\tremaining: 7.31ms\n",
      "997:\tlearn: 0.4259122\ttotal: 2.43s\tremaining: 4.87ms\n",
      "998:\tlearn: 0.4258267\ttotal: 2.43s\tremaining: 2.44ms\n",
      "999:\tlearn: 0.4257157\ttotal: 2.44s\tremaining: 0us\n"
     ]
    },
    {
     "data": {
      "text/plain": [
       "StackingClassifier(estimators=[('log_reg',\n",
       "                                ClassifierWrapper(clf=LogisticRegression(max_iter=500,\n",
       "                                                                         solver='liblinear'),\n",
       "                                                  columns=array(['A_173', 'A_150', 'A_068', 'A_358', 'A_394', 'A_133', 'A_316',\n",
       "       'A_203', 'A_351', 'A_295', 'A_137', 'A_344', 'A_159', 'A_008',\n",
       "       'A_355', 'A_248', 'A_335', 'A_233', 'A_071', 'A_413', 'A_395',\n",
       "       'A_377', 'A_385', 'A_090', 'A_487', 'A_031', 'A_392', 'A_...\n",
       "                                ClassifierWrapper(clf=KNeighborsClassifier(leaf_size=65,\n",
       "                                                                           n_jobs=3,\n",
       "                                                                           n_neighbors=467,\n",
       "                                                                           p=1,\n",
       "                                                                           weights='distance'),\n",
       "                                                  columns=Index(['A_358', 'A_150', 'A_133', 'A_173', 'A_388', 'A_295', 'A_068', 'A_159',\n",
       "       'A_395', 'A_505',\n",
       "       ...\n",
       "       'A_056', 'A_417', 'A_399', 'A_168', 'A_398', 'A_372', 'A_206', 'A_304',\n",
       "       'A_267', 'A_227'],\n",
       "      dtype='object', length=150)))],\n",
       "                   final_estimator=<catboost.core.CatBoostClassifier object at 0x7f4d50f00c18>)"
      ]
     },
     "execution_count": 518,
     "metadata": {},
     "output_type": "execute_result"
    }
   ],
   "source": [
    "gbdt_stacker.fit(X_full, y)"
   ]
  },
  {
   "cell_type": "markdown",
   "metadata": {},
   "source": [
    "**Задание 10** (0.5 балл)\n",
    "    Сделайте вывод, помогло ли ансамблирование победить лучшие модели. В чем могут быть причины?"
   ]
  },
  {
   "cell_type": "markdown",
   "metadata": {},
   "source": [
    "Ансамблирование действительно помогло победить лучшие модели. Это обяъясняется тем, что все взятые модели имеют разную природу, и ансамблирование позволяет консолидировать их сильные стороны и объеденить в одно предсказание."
   ]
  }
 ],
 "metadata": {
  "kernelspec": {
   "display_name": "Python 3",
   "language": "python",
   "name": "python3"
  },
  "language_info": {
   "codemirror_mode": {
    "name": "ipython",
    "version": 3
   },
   "file_extension": ".py",
   "mimetype": "text/x-python",
   "name": "python",
   "nbconvert_exporter": "python",
   "pygments_lexer": "ipython3",
   "version": "3.6.9"
  },
  "varInspector": {
   "cols": {
    "lenName": 16,
    "lenType": 16,
    "lenVar": 40
   },
   "kernels_config": {
    "python": {
     "delete_cmd_postfix": "",
     "delete_cmd_prefix": "del ",
     "library": "var_list.py",
     "varRefreshCmd": "print(var_dic_list())"
    },
    "r": {
     "delete_cmd_postfix": ") ",
     "delete_cmd_prefix": "rm(",
     "library": "var_list.r",
     "varRefreshCmd": "cat(var_dic_list()) "
    }
   },
   "types_to_exclude": [
    "module",
    "function",
    "builtin_function_or_method",
    "instance",
    "_Feature"
   ],
   "window_display": false
  }
 },
 "nbformat": 4,
 "nbformat_minor": 2
}
